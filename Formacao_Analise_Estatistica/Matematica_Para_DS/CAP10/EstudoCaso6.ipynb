{
 "cells": [
  {
   "cell_type": "markdown",
   "metadata": {},
   "source": [
    "# <font color='blue'>Data Science Academy</font>\n",
    "# <font color='blue'>Matemática Para Data Science</font>\n",
    "\n",
    "## <font color='blue'>Estudo de Caso 6</font>\n",
    "\n",
    "## <font color='blue'>Usando Cálculo e Limite de Funções em Data Science com Linguagem Python</font>"
   ]
  },
  {
   "cell_type": "markdown",
   "metadata": {},
   "source": [
    "![DSA](imagens/EC6.png)"
   ]
  },
  {
   "cell_type": "code",
   "execution_count": null,
   "metadata": {},
   "outputs": [],
   "source": [
    "# Versão da Linguagem Python\n",
    "# Você pode usar a versão indicada nos vídeos ou a versão abaixo!\n",
    "from platform import python_version\n",
    "print('Versão da Linguagem Python Usada Neste Jupyter Notebook:', python_version())"
   ]
  },
  {
   "cell_type": "code",
   "execution_count": null,
   "metadata": {},
   "outputs": [],
   "source": [
    "# Para atualizar um pacote, execute o comando abaixo no terminal ou prompt de comando:\n",
    "# pip install -U nome_pacote\n",
    "\n",
    "# Para instalar a versão exata de um pacote, execute o comando abaixo no terminal ou prompt de comando:\n",
    "# !pip install nome_pacote==versão_desejada\n",
    "\n",
    "# Depois de instalar ou atualizar o pacote, reinicie o jupyter notebook.\n",
    "\n",
    "# Instala o pacote watermark. \n",
    "# Esse pacote é usado para gravar as versões de outros pacotes usados neste jupyter notebook.\n",
    "# !pip install -q -U watermark"
   ]
  },
  {
   "cell_type": "code",
   "execution_count": null,
   "metadata": {},
   "outputs": [],
   "source": [
    "import numpy as np\n",
    "import matplotlib.pyplot as plt"
   ]
  },
  {
   "cell_type": "code",
   "execution_count": null,
   "metadata": {},
   "outputs": [],
   "source": [
    "# Versões dos pacotes usados neste jupyter notebook\n",
    "%reload_ext watermark\n",
    "%watermark -a \"Data Science Academy\" --iversions"
   ]
  },
  {
   "cell_type": "markdown",
   "metadata": {},
   "source": [
    "O gradiente é um conceito central no treinamento de modelos de aprendizado de máquina, especialmente em algoritmos de aprendizado supervisionado baseados em otimização, como as redes neurais. O gradiente é um vetor que representa a direção e a magnitude das mudanças nos parâmetros de um modelo que resultam na maior taxa de aumento de uma função de erro ou de custo. Em outras palavras, o gradiente indica a direção em que os parâmetros do modelo devem ser ajustados para minimizar o erro na previsão do modelo.\n",
    "\n",
    "No contexto do aprendizado de máquina, a função de custo (também chamada de função de perda ou função de erro) mede a diferença entre as previsões do modelo e os valores reais observados nos dados de treinamento. O objetivo é ajustar os parâmetros do modelo de forma a minimizar a função de custo.\n",
    "\n",
    "O gradiente é calculado usando o cálculo diferencial, que envolve o cálculo das derivadas parciais da função de custo em relação a cada um dos parâmetros do modelo. O vetor gradiente é formado pelas derivadas parciais de todos os parâmetros e aponta na direção de maior aumento da função de custo.\n",
    "\n",
    "No treinamento de modelos de aprendizado de máquina, um algoritmo de otimização, como o Gradiente Descendente, é frequentemente usado para ajustar os parâmetros do modelo. O Gradiente Descendente atualiza os parâmetros do modelo iterativamente, movendo-se na direção oposta ao gradiente, com o objetivo de encontrar o mínimo local ou global da função de custo. O tamanho da etapa tomada em cada iteração é determinado por um parâmetro chamado taxa de aprendizado.\n",
    "\n",
    "O uso do gradiente no treinamento de modelos de aprendizado de máquina permite encontrar uma solução eficiente e, muitas vezes, mais precisa para problemas de otimização complexos e não lineares, que são comuns em aplicações práticas de aprendizado de máquina.\n",
    "\n",
    "Vejamos um exemplo de como isso funciona.\n",
    "\n",
    "Um bom exemplo é a análise da taxa de convergência de um algoritmo de otimização. Vamos considerar o exemplo de uma sequência de perdas geradas durante o treinamento de um modelo de regressão linear usando o Gradiente Descendente.\n",
    "\n",
    "Neste exemplo, definimos uma função de perda simples (x - 3) ** 2 e seu gradiente 2 * (x - 3). Implementamos o algoritmo de Gradiente Descendente para minimizar a função de perda. Durante o treinamento, registramos a sequência das perdas.\n",
    "\n",
    "Embora não estejamos calculando explicitamente um limite neste exemplo, a análise dos limites é relevante para entender a taxa de convergência do algoritmo de otimização. Quando o algoritmo converge, a sequência das perdas se aproxima do mínimo da função de perda e a taxa de convergência pode ser avaliada usando o conceito de limites.\n",
    "\n",
    "Neste caso, podemos ver que o Gradiente Descendente converge rapidamente para o mínimo da função de perda e a taxa de convergência é influenciada pela taxa de aprendizado escolhida (0,1 neste exemplo)."
   ]
  },
  {
   "cell_type": "code",
   "execution_count": null,
   "metadata": {},
   "outputs": [],
   "source": [
    "# Função de erro - Esta é a função que desejamos otimizar: (x - 3) ** 2\n"
   ]
  },
  {
   "cell_type": "code",
   "execution_count": null,
   "metadata": {},
   "outputs": [],
   "source": [
    "# Função de cálculo do gradiente - Usada para otimizar a função de erro\n"
   ]
  },
  {
   "cell_type": "code",
   "execution_count": null,
   "metadata": {},
   "outputs": [],
   "source": [
    "# # Função de cálculo do gradiente descendente\n",
    "\n",
    "    \n",
    "    # Inicializa x = 10\n",
    "    \n",
    "    # Lista de erros\n",
    "    \n",
    "\n",
    "    # Loop pelo número de iterações\n",
    "    "
   ]
  },
  {
   "cell_type": "code",
   "execution_count": null,
   "metadata": {},
   "outputs": [],
   "source": [
    "# Hiperparâmetros\n"
   ]
  },
  {
   "cell_type": "code",
   "execution_count": null,
   "metadata": {},
   "outputs": [],
   "source": [
    "# Calcula os erros através do gradiente descente\n"
   ]
  },
  {
   "cell_type": "code",
   "execution_count": null,
   "metadata": {},
   "outputs": [],
   "source": []
  },
  {
   "cell_type": "markdown",
   "metadata": {},
   "source": [
    "## Compreendendo o Limite de Uma Função Graficamente em Python"
   ]
  },
  {
   "cell_type": "markdown",
   "metadata": {},
   "source": [
    "f(x) = (x^2 - 1) / (x - 1)"
   ]
  },
  {
   "cell_type": "markdown",
   "metadata": {},
   "source": [
    "Essa função tem uma descontinuidade em x = 1, pois o denominador se torna zero nesse ponto. Vamos calcular o limite da função quando x se aproxima de 1 e plotar o gráfico da função para visualizar o comportamento do limite."
   ]
  },
  {
   "cell_type": "code",
   "execution_count": null,
   "metadata": {},
   "outputs": [],
   "source": [
    "# Imports\n",
    "\n",
    "\n",
    "# Função de exemplo\n",
    "\n",
    "\n",
    "# Dados fictícios\n",
    "\n",
    "\n",
    "# Removemos o ponto de descontinuidade x = 1\n",
    "\n",
    "\n",
    "\n",
    "\n",
    "# Destacamos o ponto onde x se aproxima de 1\n",
    "\n",
    "\n"
   ]
  },
  {
   "cell_type": "markdown",
   "metadata": {},
   "source": [
    "Neste exemplo, a função f(x) é definida e plotamos o gráfico da função no intervalo [0, 2]. Removemos o ponto de descontinuidade (x = 1) dos valores de x e y, e destacamos o limite da função quando x se aproxima de 1 (lim(x -> 1) f(x) = 2) com um ponto vermelho no gráfico.\n",
    "\n",
    "Ao observar o gráfico, podemos ver que, embora a função não esteja definida em x = 1, o limite existe e é igual a 2, pois a função se aproxima desse valor à medida que x se aproxima de 1 tanto pela esquerda quanto pela direita."
   ]
  },
  {
   "cell_type": "markdown",
   "metadata": {},
   "source": [
    "## Limites e Continuidade com Visualização em Python"
   ]
  },
  {
   "cell_type": "markdown",
   "metadata": {},
   "source": [
    "f(x) = (x^2 - 4) / (x - 2) para x ≠ 2\n",
    "\n",
    "\n",
    "f(x) = 0 para x = 2"
   ]
  },
  {
   "cell_type": "markdown",
   "metadata": {},
   "source": [
    "A função tem uma descontinuidade em x = 2, onde o denominador se torna zero. Vamos analisar o limite da função quando x se aproxima de 2 e visualizar a continuidade da função."
   ]
  },
  {
   "cell_type": "code",
   "execution_count": null,
   "metadata": {},
   "outputs": [],
   "source": [
    "# Imports\n",
    "import numpy as np\n",
    "import matplotlib.pyplot as plt\n",
    "\n",
    "# Função de exemplo\n",
    "\n",
    "\n",
    "# Dados fictícios\n",
    "\n",
    "\n",
    "\n",
    "\n",
    "# Destacamos o ponto de descontinuidade x = 2\n"
   ]
  },
  {
   "cell_type": "markdown",
   "metadata": {},
   "source": [
    "Neste exemplo, definimos a função f(x) com base na condição (x ≠ 2) e plotamos o gráfico da função no intervalo [0, 4]. A função é descontínua em x = 2 e possui um \"salto\" nesse ponto.\n",
    "\n",
    "Ao observar o gráfico, podemos ver que, embora a função não seja contínua em x = 2 (f(2) = 0), o limite existe e é igual a 4, pois a função se aproxima desse valor à medida que x se aproxima de 2 tanto pela esquerda quanto pela direita. Destacamos o valor da função em x = 2 (ponto vermelho) e o limite da função quando x se aproxima de 2 (ponto verde) no gráfico.\n",
    "\n",
    "Este exemplo ilustra como os limites podem ser usados para analisar a continuidade de uma função e como podemos visualizar a função e suas descontinuidades usando um gráfico."
   ]
  },
  {
   "cell_type": "code",
   "execution_count": null,
   "metadata": {},
   "outputs": [],
   "source": [
    "# Versões dos pacotes usados neste jupyter notebook\n",
    "%reload_ext watermark\n",
    "%watermark -a \"Data Science Academy\" --iversions"
   ]
  },
  {
   "cell_type": "markdown",
   "metadata": {},
   "source": [
    "# Fim"
   ]
  }
 ],
 "metadata": {
  "colab": {
   "authorship_tag": "ABX9TyPCf9qlTghL9GChly72vDLx",
   "include_colab_link": true,
   "mount_file_id": "1pXLpmBpTPTzHKaiOzVGc5gOVld_cVB0v",
   "provenance": []
  },
  "kernelspec": {
   "display_name": "Python 3 (ipykernel)",
   "language": "python",
   "name": "python3"
  },
  "language_info": {
   "codemirror_mode": {
    "name": "ipython",
    "version": 3
   },
   "file_extension": ".py",
   "mimetype": "text/x-python",
   "name": "python",
   "nbconvert_exporter": "python",
   "pygments_lexer": "ipython3",
   "version": "3.9.13"
  }
 },
 "nbformat": 4,
 "nbformat_minor": 1
}
