{
 "cells": [
  {
   "cell_type": "markdown",
   "metadata": {},
   "source": [
    "# <font color='blue'>Data Science Academy</font>\n",
    "# <font color='blue'>Matemática Para Data Science</font>\n",
    "\n",
    "## <font color='blue'>Principais Funções Elementares e Suas Aplicações</font>"
   ]
  },
  {
   "cell_type": "code",
   "execution_count": null,
   "metadata": {},
   "outputs": [],
   "source": [
    "# Versão da Linguagem Python\n",
    "# Você pode usar a versão indicada nos vídeos ou a versão abaixo!\n",
    "from platform import python_version\n",
    "print('Versão da Linguagem Python Usada Neste Jupyter Notebook:', python_version())"
   ]
  },
  {
   "cell_type": "code",
   "execution_count": null,
   "metadata": {},
   "outputs": [],
   "source": [
    "# Para atualizar um pacote, execute o comando abaixo no terminal ou prompt de comando:\n",
    "# pip install -U nome_pacote\n",
    "\n",
    "# Para instalar a versão exata de um pacote, execute o comando abaixo no terminal ou prompt de comando:\n",
    "# !pip install nome_pacote==versão_desejada\n",
    "\n",
    "# Depois de instalar ou atualizar o pacote, reinicie o jupyter notebook.\n",
    "\n",
    "# Instala o pacote watermark. \n",
    "# Esse pacote é usado para gravar as versões de outros pacotes usados neste jupyter notebook.\n",
    "# !pip install -q -U watermark"
   ]
  },
  {
   "cell_type": "markdown",
   "metadata": {},
   "source": [
    "## Função Quadrática\n",
    "\n",
    "A função quadrática, também conhecida como função do segundo grau, é uma função polinomial de grau 2. Ela pode ser expressa pela seguinte fórmula geral:\n",
    "\n",
    "f(x) = ax^2 + bx + c\n",
    "\n",
    "Nesta fórmula, x é a variável independente e a, b e c são constantes, com a ≠ 0 (se a = 0, a função deixa de ser quadrática e passa a ser uma função linear). A função quadrática é caracterizada por ter um gráfico chamado parábola, que pode ser voltado para cima (quando a > 0) ou para baixo (quando a < 0)."
   ]
  },
  {
   "cell_type": "code",
   "execution_count": null,
   "metadata": {},
   "outputs": [],
   "source": [
    "# Cria a função\n"
   ]
  },
  {
   "cell_type": "code",
   "execution_count": null,
   "metadata": {},
   "outputs": [],
   "source": [
    "# Coeficientes da função quadrática: ax^2 + bx + c\n"
   ]
  },
  {
   "cell_type": "code",
   "execution_count": null,
   "metadata": {},
   "outputs": [],
   "source": [
    "# Valor de x para calcular a função quadrática\n"
   ]
  },
  {
   "cell_type": "code",
   "execution_count": null,
   "metadata": {},
   "outputs": [],
   "source": [
    "# Executa a função\n"
   ]
  },
  {
   "cell_type": "code",
   "execution_count": null,
   "metadata": {},
   "outputs": [],
   "source": []
  },
  {
   "cell_type": "markdown",
   "metadata": {},
   "source": [
    "## Função Polinomial\n",
    "\n",
    "Uma função polinomial é um tipo de função matemática que pode ser representada por uma expressão polinomial, ou seja, uma soma de termos envolvendo potências inteiras e não negativas da variável independente (geralmente denotada por x). A fórmula geral de uma função polinomial de grau n é:\n",
    "\n",
    "f(x) = a_nx^n + a_(n-1)x^(n-1) + ... + a_2x^2 + a_1x + a_0\n",
    "\n",
    "Nesta fórmula, x é a variável independente, n é um número inteiro não negativo que representa o grau do polinômio e a_0, a_1, a_2, ..., a_n são constantes, chamadas de coeficientes do polinômio. O coeficiente a_n é chamado de coeficiente líder e não pode ser zero; caso contrário, o grau do polinômio seria menor."
   ]
  },
  {
   "cell_type": "code",
   "execution_count": null,
   "metadata": {},
   "outputs": [],
   "source": [
    "# Cria a função\n"
   ]
  },
  {
   "cell_type": "code",
   "execution_count": null,
   "metadata": {},
   "outputs": [],
   "source": [
    "# Coeficientes da função polinomial: a0 + a1x + a2x^2 + a3x^3 + ...\n",
    "  # Isso representa a função 3 - 2x + x^2 + 4x^3"
   ]
  },
  {
   "cell_type": "code",
   "execution_count": null,
   "metadata": {},
   "outputs": [],
   "source": [
    "# Valor de x para calcular a função polinomial\n"
   ]
  },
  {
   "cell_type": "code",
   "execution_count": null,
   "metadata": {},
   "outputs": [],
   "source": [
    "# Executa a função\n"
   ]
  },
  {
   "cell_type": "code",
   "execution_count": null,
   "metadata": {},
   "outputs": [],
   "source": []
  },
  {
   "cell_type": "markdown",
   "metadata": {},
   "source": [
    "## Função Racional\n",
    "\n",
    "Uma função racional é uma função matemática que pode ser representada por uma razão de dois polinômios. A forma geral de uma função racional é:\n",
    "\n",
    "f(x) = P(x) / Q(x)\n",
    "\n",
    "Aqui, P(x) e Q(x) são polinômios em x, e Q(x) não pode ser igual a zero (Q(x) ≠ 0) para evitar divisão por zero.\n",
    "\n",
    "As funções racionais podem ter várias características interessantes, como assíntotas verticais, horizontais ou oblíquas, pontos de inflexão, máximos e mínimos locais e regiões onde a função não está definida devido à divisão por zero.\n",
    "\n",
    "Assíntotas verticais ocorrem quando Q(x) = 0, ou seja, quando o denominador da função racional se anula. Isso significa que, à medida que x se aproxima do valor que torna Q(x) igual a zero, a função f(x) tende a infinito ou a menos infinito.\n",
    "\n",
    "Assíntotas horizontais são retas horizontais paralelas ao eixo x, para as quais a função f(x) se aproxima quando x tende a infinito ou menos infinito. \n",
    "\n",
    "Assíntotas oblíquas são retas inclinadas que a função f(x) se aproxima quando x tende a infinito ou menos infinito."
   ]
  },
  {
   "cell_type": "code",
   "execution_count": null,
   "metadata": {},
   "outputs": [],
   "source": [
    "# Cria a função racional\n"
   ]
  },
  {
   "cell_type": "code",
   "execution_count": null,
   "metadata": {},
   "outputs": [],
   "source": [
    "# Cria a função para o polinômio\n"
   ]
  },
  {
   "cell_type": "code",
   "execution_count": null,
   "metadata": {},
   "outputs": [],
   "source": [
    "# Coeficientes dos polinômios do numerador e denominador\n"
   ]
  },
  {
   "cell_type": "code",
   "execution_count": null,
   "metadata": {},
   "outputs": [],
   "source": [
    "# Funções do numerador e denominador\n"
   ]
  },
  {
   "cell_type": "code",
   "execution_count": null,
   "metadata": {},
   "outputs": [],
   "source": [
    "# Valor de x para calcular a função racional\n"
   ]
  },
  {
   "cell_type": "code",
   "execution_count": null,
   "metadata": {},
   "outputs": [],
   "source": [
    "# Executa a função\n"
   ]
  },
  {
   "cell_type": "code",
   "execution_count": null,
   "metadata": {},
   "outputs": [],
   "source": []
  },
  {
   "cell_type": "markdown",
   "metadata": {},
   "source": [
    "## Funções Trigonométricas\n",
    "\n",
    "As funções trigonométricas são funções matemáticas fundamentais que estão relacionadas aos ângulos e às proporções dos lados de triângulos retângulos. Elas desempenham um papel essencial na matemática, bem como em áreas como física, engenharia, geometria, astronomia e análise de sinais. As seis funções trigonométricas básicas são:\n",
    "\n",
    "- Seno (sin): sin(θ) = lado oposto / hipotenusa\n",
    "- Cosseno (cos): cos(θ) = lado adjacente / hipotenusa\n",
    "- Tangente (tan): tan(θ) = lado oposto / lado adjacente = sin(θ) / cos(θ)\n",
    "- Co-seno (csc ou cosec): csc(θ) = 1 / sin(θ) = hipotenusa / lado oposto\n",
    "- Secante (sec): sec(θ) = 1 / cos(θ) = hipotenusa / lado adjacente\n",
    "-  Cotangente (cot): cot(θ) = 1 / tan(θ) = lado adjacente / lado oposto = cos(θ) / sin(θ)\n",
    "\n",
    "Essas funções são definidas para todos os ângulos reais θ e possuem várias propriedades importantes, como periodicidade, simetria e identidades trigonométricas. Por exemplo, as funções seno e cosseno são periódicas, com período de 2π (em radianos) ou 360° (em graus), o que significa que seus valores se repetem a cada intervalo de 2π ou 360°.\n",
    "\n",
    "As funções trigonométricas também podem ser estendidas para um contexto mais amplo, como o plano complexo, usando a fórmula de Euler:\n",
    "\n",
    "e^(iθ) = cos(θ) + i sin(θ)\n",
    "\n",
    "Onde e é a base do logaritmo natural, i é a unidade imaginária e θ é um ângulo em radianos.\n",
    "\n",
    "As funções trigonométricas são fundamentais para resolver problemas envolvendo triângulos, analisar e modelar fenômenos periódicos (como ondas e oscilações), e em muitos outros aspectos da matemática e da ciência aplicada."
   ]
  },
  {
   "cell_type": "code",
   "execution_count": null,
   "metadata": {},
   "outputs": [],
   "source": [
    "import math\n",
    "\n",
    "# Cria a função\n",
    "\n",
    "    \n",
    "    # Converte o ângulo de graus para radianos\n",
    "   \n",
    "    \n",
    "    # Calcula a altura usando a função seno\n",
    "    "
   ]
  },
  {
   "cell_type": "code",
   "execution_count": null,
   "metadata": {},
   "outputs": [],
   "source": [
    "# Exemplo de uso das funções trigonométricas\n"
   ]
  },
  {
   "cell_type": "code",
   "execution_count": null,
   "metadata": {},
   "outputs": [],
   "source": [
    "# Executa a função\n"
   ]
  },
  {
   "cell_type": "code",
   "execution_count": null,
   "metadata": {},
   "outputs": [],
   "source": []
  },
  {
   "cell_type": "markdown",
   "metadata": {},
   "source": [
    "## Caso de Uso em Data Science"
   ]
  },
  {
   "cell_type": "markdown",
   "metadata": {},
   "source": [
    "Uma função polinomial pode ser usada em Data Science para ajustar um modelo aos dados e fazer previsões. Vamos criar um exemplo em Python usando a biblioteca scikit-learn para ajustar um modelo a um conjunto de dados fictício."
   ]
  },
  {
   "cell_type": "code",
   "execution_count": null,
   "metadata": {},
   "outputs": [],
   "source": [
    "# Imports\n",
    "import sklearn\n",
    "import numpy as np\n",
    "import matplotlib.pyplot as plt\n",
    "from sklearn.linear_model import LinearRegression\n",
    "from sklearn.preprocessing import PolynomialFeatures\n",
    "from sklearn.metrics import mean_squared_error"
   ]
  },
  {
   "cell_type": "code",
   "execution_count": null,
   "metadata": {},
   "outputs": [],
   "source": [
    "# Versões dos pacotes usados neste jupyter notebook\n",
    "%reload_ext watermark\n",
    "%watermark -a \"Data Science Academy\" --iversions"
   ]
  },
  {
   "cell_type": "code",
   "execution_count": null,
   "metadata": {},
   "outputs": [],
   "source": [
    "# Dados fictícios\n"
   ]
  },
  {
   "cell_type": "code",
   "execution_count": null,
   "metadata": {},
   "outputs": [],
   "source": []
  },
  {
   "cell_type": "code",
   "execution_count": null,
   "metadata": {},
   "outputs": [],
   "source": []
  },
  {
   "cell_type": "code",
   "execution_count": null,
   "metadata": {},
   "outputs": [],
   "source": [
    "# Transforma os recursos em uma matriz de recursos polinomiais\n"
   ]
  },
  {
   "cell_type": "code",
   "execution_count": null,
   "metadata": {},
   "outputs": [],
   "source": []
  },
  {
   "cell_type": "code",
   "execution_count": null,
   "metadata": {},
   "outputs": [],
   "source": [
    "# Ajusta o modelo de regressão linear aos recursos polinomiais\n"
   ]
  },
  {
   "cell_type": "code",
   "execution_count": null,
   "metadata": {},
   "outputs": [],
   "source": [
    "# Faz previsões usando o modelo ajustado\n"
   ]
  },
  {
   "cell_type": "code",
   "execution_count": null,
   "metadata": {},
   "outputs": [],
   "source": [
    "# Calcula o erro quadrático médio\n"
   ]
  },
  {
   "cell_type": "code",
   "execution_count": null,
   "metadata": {},
   "outputs": [],
   "source": [
    "# Plota os dados e o modelo ajustado\n"
   ]
  },
  {
   "cell_type": "markdown",
   "metadata": {},
   "source": [
    "Neste exemplo, criamos um conjunto de dados fictício (X e y) e usamos a função PolynomialFeatures do scikit-learn para transformar os recursos em uma matriz de recursos polinomiais. Em seguida, ajustamos um modelo de regressão linear aos recursos polinomiais, fazemos previsões usando o modelo ajustado e calculamos o erro quadrático médio. Por fim, plotamos os dados e o modelo ajustado."
   ]
  },
  {
   "cell_type": "markdown",
   "metadata": {},
   "source": [
    "# Fim"
   ]
  }
 ],
 "metadata": {
  "colab": {
   "authorship_tag": "ABX9TyPCf9qlTghL9GChly72vDLx",
   "include_colab_link": true,
   "mount_file_id": "1pXLpmBpTPTzHKaiOzVGc5gOVld_cVB0v",
   "provenance": []
  },
  "kernelspec": {
   "display_name": "Python 3 (ipykernel)",
   "language": "python",
   "name": "python3"
  },
  "language_info": {
   "codemirror_mode": {
    "name": "ipython",
    "version": 3
   },
   "file_extension": ".py",
   "mimetype": "text/x-python",
   "name": "python",
   "nbconvert_exporter": "python",
   "pygments_lexer": "ipython3",
   "version": "3.9.13"
  }
 },
 "nbformat": 4,
 "nbformat_minor": 1
}
