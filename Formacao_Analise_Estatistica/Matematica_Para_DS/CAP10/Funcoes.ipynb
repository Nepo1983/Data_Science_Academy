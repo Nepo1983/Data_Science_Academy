{
 "cells": [
  {
   "cell_type": "markdown",
   "metadata": {},
   "source": [
    "# <font color='blue'>Data Science Academy</font>\n",
    "# <font color='blue'>Matemática Para Data Science</font>\n",
    "\n",
    "## <font color='blue'>Principais Funções Elementares e Suas Aplicações</font>"
   ]
  },
  {
   "cell_type": "code",
   "execution_count": 1,
   "metadata": {},
   "outputs": [
    {
     "name": "stdout",
     "output_type": "stream",
     "text": [
      "Versão da Linguagem Python Usada Neste Jupyter Notebook: 3.9.18\n"
     ]
    }
   ],
   "source": [
    "# Versão da Linguagem Python\n",
    "# Você pode usar a versão indicada nos vídeos ou a versão abaixo!\n",
    "from platform import python_version\n",
    "print('Versão da Linguagem Python Usada Neste Jupyter Notebook:', python_version())"
   ]
  },
  {
   "cell_type": "code",
   "execution_count": null,
   "metadata": {},
   "outputs": [],
   "source": [
    "# Para atualizar um pacote, execute o comando abaixo no terminal ou prompt de comando:\n",
    "# pip install -U nome_pacote\n",
    "\n",
    "# Para instalar a versão exata de um pacote, execute o comando abaixo no terminal ou prompt de comando:\n",
    "# !pip install nome_pacote==versão_desejada\n",
    "\n",
    "# Depois de instalar ou atualizar o pacote, reinicie o jupyter notebook.\n",
    "\n",
    "# Instala o pacote watermark. \n",
    "# Esse pacote é usado para gravar as versões de outros pacotes usados neste jupyter notebook.\n",
    "# !pip install -q -U watermark"
   ]
  },
  {
   "cell_type": "markdown",
   "metadata": {},
   "source": [
    "## Função Quadrática\n",
    "\n",
    "A função quadrática, também conhecida como função do segundo grau, é uma função polinomial de grau 2. Ela pode ser expressa pela seguinte fórmula geral:\n",
    "\n",
    "f(x) = ax^2 + bx + c\n",
    "\n",
    "Nesta fórmula, x é a variável independente e a, b e c são constantes, com a ≠ 0 (se a = 0, a função deixa de ser quadrática e passa a ser uma função linear). A função quadrática é caracterizada por ter um gráfico chamado parábola, que pode ser voltado para cima (quando a > 0) ou para baixo (quando a < 0)."
   ]
  },
  {
   "cell_type": "code",
   "execution_count": 2,
   "metadata": {},
   "outputs": [],
   "source": [
    "# Cria a função\n",
    "def funcao_quadratica(a, b, c, x):\n",
    "    return a * x**2 + b * x + c"
   ]
  },
  {
   "cell_type": "code",
   "execution_count": 3,
   "metadata": {},
   "outputs": [],
   "source": [
    "# Coeficientes da função quadrática: ax^2 + bx + c\n",
    "a = 2\n",
    "b = -3\n",
    "c = 1"
   ]
  },
  {
   "cell_type": "code",
   "execution_count": 4,
   "metadata": {},
   "outputs": [],
   "source": [
    "# Valor de x para calcular a função quadrática\n",
    "x = 4"
   ]
  },
  {
   "cell_type": "code",
   "execution_count": 5,
   "metadata": {},
   "outputs": [],
   "source": [
    "# Executa a função\n",
    "resultado = funcao_quadratica(a, b, c, x)"
   ]
  },
  {
   "cell_type": "code",
   "execution_count": 8,
   "metadata": {},
   "outputs": [
    {
     "name": "stdout",
     "output_type": "stream",
     "text": [
      "O resultado da função quadrática 2x^2 + -3x + 1 para x = 4 é: 21\n"
     ]
    }
   ],
   "source": [
    "print(f\"O resultado da função quadrática {a}x^2 + {b}x + {c} para x = {x} é: {resultado}\")"
   ]
  },
  {
   "cell_type": "markdown",
   "metadata": {},
   "source": [
    "## Função Polinomial\n",
    "\n",
    "Uma função polinomial é um tipo de função matemática que pode ser representada por uma expressão polinomial, ou seja, uma soma de termos envolvendo potências inteiras e não negativas da variável independente (geralmente denotada por x). A fórmula geral de uma função polinomial de grau n é:\n",
    "\n",
    "f(x) = a_nx^n + a_(n-1)x^(n-1) + ... + a_2x^2 + a_1x + a_0\n",
    "\n",
    "Nesta fórmula, x é a variável independente, n é um número inteiro não negativo que representa o grau do polinômio e a_0, a_1, a_2, ..., a_n são constantes, chamadas de coeficientes do polinômio. O coeficiente a_n é chamado de coeficiente líder e não pode ser zero; caso contrário, o grau do polinômio seria menor."
   ]
  },
  {
   "cell_type": "code",
   "execution_count": 9,
   "metadata": {},
   "outputs": [],
   "source": [
    "# Cria a função\n",
    "def funcao_polinomial(coeficientes, x):\n",
    "    resultado = 0\n",
    "    for i, coeficiente in enumerate(coeficientes):\n",
    "        resultado += coeficiente * x**i\n",
    "    return resultado"
   ]
  },
  {
   "cell_type": "code",
   "execution_count": 10,
   "metadata": {},
   "outputs": [],
   "source": [
    "# Coeficientes da função polinomial: a0 + a1x + a2x^2 + a3x^3 + ...\n",
    "coeficientes = [3, -2, 1, 4]  # Isso representa a função 3 - 2x + x^2 + 4x^3"
   ]
  },
  {
   "cell_type": "code",
   "execution_count": 11,
   "metadata": {},
   "outputs": [],
   "source": [
    "# Valor de x para calcular a função polinomial\n",
    "x = 2"
   ]
  },
  {
   "cell_type": "code",
   "execution_count": 12,
   "metadata": {},
   "outputs": [],
   "source": [
    "# Executa a função\n",
    "resultado = funcao_polinomial(coeficientes, x)"
   ]
  },
  {
   "cell_type": "code",
   "execution_count": 13,
   "metadata": {},
   "outputs": [
    {
     "name": "stdout",
     "output_type": "stream",
     "text": [
      "O resultado da função polinomial para x = 2 é: 35\n"
     ]
    }
   ],
   "source": [
    "print(f\"O resultado da função polinomial para x = {x} é: {resultado}\")"
   ]
  },
  {
   "cell_type": "markdown",
   "metadata": {},
   "source": [
    "## Função Racional\n",
    "\n",
    "Uma função racional é uma função matemática que pode ser representada por uma razão de dois polinômios. A forma geral de uma função racional é:\n",
    "\n",
    "f(x) = P(x) / Q(x)\n",
    "\n",
    "Aqui, P(x) e Q(x) são polinômios em x, e Q(x) não pode ser igual a zero (Q(x) ≠ 0) para evitar divisão por zero.\n",
    "\n",
    "As funções racionais podem ter várias características interessantes, como assíntotas verticais, horizontais ou oblíquas, pontos de inflexão, máximos e mínimos locais e regiões onde a função não está definida devido à divisão por zero.\n",
    "\n",
    "Assíntotas verticais ocorrem quando Q(x) = 0, ou seja, quando o denominador da função racional se anula. Isso significa que, à medida que x se aproxima do valor que torna Q(x) igual a zero, a função f(x) tende a infinito ou a menos infinito.\n",
    "\n",
    "Assíntotas horizontais são retas horizontais paralelas ao eixo x, para as quais a função f(x) se aproxima quando x tende a infinito ou menos infinito. \n",
    "\n",
    "Assíntotas oblíquas são retas inclinadas que a função f(x) se aproxima quando x tende a infinito ou menos infinito."
   ]
  },
  {
   "cell_type": "code",
   "execution_count": 14,
   "metadata": {},
   "outputs": [],
   "source": [
    "# Cria a função racional\n",
    "def funcao_racional(numerador, denominador, x):\n",
    "    return numerador(x) / denominador(x)"
   ]
  },
  {
   "cell_type": "code",
   "execution_count": 15,
   "metadata": {},
   "outputs": [],
   "source": [
    "# Cria a função para o polinômio\n",
    "def polinomio(coeficientes, x):\n",
    "    resultado = 0\n",
    "    for i, coeficiente in enumerate(coeficientes):\n",
    "        resultado += coeficiente * x**i\n",
    "    return resultado"
   ]
  },
  {
   "cell_type": "code",
   "execution_count": 16,
   "metadata": {},
   "outputs": [],
   "source": [
    "# Coeficientes dos polinômios do numerador e denominador\n",
    "coef_numerador = [1, -2]\n",
    "coef_denominador = [1, 1]"
   ]
  },
  {
   "cell_type": "code",
   "execution_count": 17,
   "metadata": {},
   "outputs": [],
   "source": [
    "# Funções do numerador e denominador\n",
    "numerador = lambda x: polinomio(coef_numerador, x)\n",
    "denominador = lambda x: polinomio(coef_denominador, x)"
   ]
  },
  {
   "cell_type": "code",
   "execution_count": 18,
   "metadata": {},
   "outputs": [],
   "source": [
    "# Valor de x para calcular a função racional\n",
    "x = 3"
   ]
  },
  {
   "cell_type": "code",
   "execution_count": 20,
   "metadata": {},
   "outputs": [],
   "source": [
    "# Executa a função\n",
    "resultado = funcao_racional(numerador, denominador, x)"
   ]
  },
  {
   "cell_type": "code",
   "execution_count": 21,
   "metadata": {},
   "outputs": [
    {
     "name": "stdout",
     "output_type": "stream",
     "text": [
      "O resultado da função racional para x = 3 é: -1.25\n"
     ]
    }
   ],
   "source": [
    "print(f\"O resultado da função racional para x = {x} é: {resultado}\")"
   ]
  },
  {
   "cell_type": "markdown",
   "metadata": {},
   "source": [
    "## Funções Trigonométricas\n",
    "\n",
    "As funções trigonométricas são funções matemáticas fundamentais que estão relacionadas aos ângulos e às proporções dos lados de triângulos retângulos. Elas desempenham um papel essencial na matemática, bem como em áreas como física, engenharia, geometria, astronomia e análise de sinais. As seis funções trigonométricas básicas são:\n",
    "\n",
    "- Seno (sin): sin(θ) = lado oposto / hipotenusa\n",
    "- Cosseno (cos): cos(θ) = lado adjacente / hipotenusa\n",
    "- Tangente (tan): tan(θ) = lado oposto / lado adjacente = sin(θ) / cos(θ)\n",
    "- Co-seno (csc ou cosec): csc(θ) = 1 / sin(θ) = hipotenusa / lado oposto\n",
    "- Secante (sec): sec(θ) = 1 / cos(θ) = hipotenusa / lado adjacente\n",
    "-  Cotangente (cot): cot(θ) = 1 / tan(θ) = lado adjacente / lado oposto = cos(θ) / sin(θ)\n",
    "\n",
    "Essas funções são definidas para todos os ângulos reais θ e possuem várias propriedades importantes, como periodicidade, simetria e identidades trigonométricas. Por exemplo, as funções seno e cosseno são periódicas, com período de 2π (em radianos) ou 360° (em graus), o que significa que seus valores se repetem a cada intervalo de 2π ou 360°.\n",
    "\n",
    "As funções trigonométricas também podem ser estendidas para um contexto mais amplo, como o plano complexo, usando a fórmula de Euler:\n",
    "\n",
    "e^(iθ) = cos(θ) + i sin(θ)\n",
    "\n",
    "Onde e é a base do logaritmo natural, i é a unidade imaginária e θ é um ângulo em radianos.\n",
    "\n",
    "As funções trigonométricas são fundamentais para resolver problemas envolvendo triângulos, analisar e modelar fenômenos periódicos (como ondas e oscilações), e em muitos outros aspectos da matemática e da ciência aplicada."
   ]
  },
  {
   "cell_type": "code",
   "execution_count": 22,
   "metadata": {},
   "outputs": [],
   "source": [
    "import math\n",
    "\n",
    "# Cria a função\n",
    "def altura_triangulo_retangulo(base, angulo_graus):\n",
    "       \n",
    "    # Converte o ângulo de graus para radianos\n",
    "    angulo_radianos = math.radians(angulo_graus)\n",
    "    \n",
    "    # Calcula a altura usando a função seno\n",
    "    altura = base * math.sin(angulo_radianos)\n",
    "    \n",
    "    return altura "
   ]
  },
  {
   "cell_type": "code",
   "execution_count": 23,
   "metadata": {},
   "outputs": [],
   "source": [
    "# Exemplo de uso das funções trigonométricas\n",
    "base = 5\n",
    "angulo_graus = 30"
   ]
  },
  {
   "cell_type": "code",
   "execution_count": 24,
   "metadata": {},
   "outputs": [],
   "source": [
    "# Executa a função\n",
    "altura = altura_triangulo_retangulo(base, angulo_graus)"
   ]
  },
  {
   "cell_type": "code",
   "execution_count": 25,
   "metadata": {},
   "outputs": [
    {
     "name": "stdout",
     "output_type": "stream",
     "text": [
      "A altura do triângulo retângulo com base 5 e ângulo 30 graus é: 2.50\n"
     ]
    }
   ],
   "source": [
    "print(f\"A altura do triângulo retângulo com base {base} e ângulo {angulo_graus} graus é: {altura:.2f}\")"
   ]
  },
  {
   "cell_type": "markdown",
   "metadata": {},
   "source": [
    "## Caso de Uso em Data Science"
   ]
  },
  {
   "cell_type": "markdown",
   "metadata": {},
   "source": [
    "Uma função polinomial pode ser usada em Data Science para ajustar um modelo aos dados e fazer previsões. Vamos criar um exemplo em Python usando a biblioteca scikit-learn para ajustar um modelo a um conjunto de dados fictício."
   ]
  },
  {
   "cell_type": "code",
   "execution_count": 26,
   "metadata": {},
   "outputs": [],
   "source": [
    "# Imports\n",
    "import sklearn\n",
    "import numpy as np\n",
    "import matplotlib.pyplot as plt\n",
    "from sklearn.linear_model import LinearRegression\n",
    "from sklearn.preprocessing import PolynomialFeatures\n",
    "from sklearn.metrics import mean_squared_error"
   ]
  },
  {
   "cell_type": "code",
   "execution_count": 27,
   "metadata": {},
   "outputs": [
    {
     "name": "stdout",
     "output_type": "stream",
     "text": [
      "Author: Data Science Academy\n",
      "\n",
      "numpy     : 1.26.3\n",
      "sklearn   : 1.3.2\n",
      "matplotlib: 3.8.2\n",
      "\n"
     ]
    }
   ],
   "source": [
    "# Versões dos pacotes usados neste jupyter notebook\n",
    "%reload_ext watermark\n",
    "%watermark -a \"Data Science Academy\" --iversions"
   ]
  },
  {
   "cell_type": "code",
   "execution_count": 28,
   "metadata": {},
   "outputs": [],
   "source": [
    "# Dados fictícios\n",
    "X = np.array([1, 2, 3, 4, 5, 6, 7, 8, 9]).reshape(-1, 1)\n",
    "y = np.array([2, 5, 9, 16, 28, 35, 49, 62, 87])"
   ]
  },
  {
   "cell_type": "code",
   "execution_count": 29,
   "metadata": {},
   "outputs": [
    {
     "name": "stdout",
     "output_type": "stream",
     "text": [
      "[[1]\n",
      " [2]\n",
      " [3]\n",
      " [4]\n",
      " [5]\n",
      " [6]\n",
      " [7]\n",
      " [8]\n",
      " [9]]\n"
     ]
    }
   ],
   "source": [
    "print(X)"
   ]
  },
  {
   "cell_type": "code",
   "execution_count": 30,
   "metadata": {},
   "outputs": [
    {
     "name": "stdout",
     "output_type": "stream",
     "text": [
      "[ 2  5  9 16 28 35 49 62 87]\n"
     ]
    }
   ],
   "source": [
    "print(y)"
   ]
  },
  {
   "cell_type": "code",
   "execution_count": 31,
   "metadata": {},
   "outputs": [],
   "source": [
    "# Transforma os recursos em uma matriz de recursos polinomiais\n",
    "poly_features = PolynomialFeatures(degree=2)\n",
    "X_poly = poly_features.fit_transform(X)"
   ]
  },
  {
   "cell_type": "code",
   "execution_count": 32,
   "metadata": {},
   "outputs": [
    {
     "data": {
      "text/plain": [
       "array([[ 1.,  1.,  1.],\n",
       "       [ 1.,  2.,  4.],\n",
       "       [ 1.,  3.,  9.],\n",
       "       [ 1.,  4., 16.],\n",
       "       [ 1.,  5., 25.],\n",
       "       [ 1.,  6., 36.],\n",
       "       [ 1.,  7., 49.],\n",
       "       [ 1.,  8., 64.],\n",
       "       [ 1.,  9., 81.]])"
      ]
     },
     "execution_count": 32,
     "metadata": {},
     "output_type": "execute_result"
    }
   ],
   "source": [
    "X_poly"
   ]
  },
  {
   "cell_type": "code",
   "execution_count": 33,
   "metadata": {},
   "outputs": [
    {
     "data": {
      "text/html": [
       "<style>#sk-container-id-1 {color: black;}#sk-container-id-1 pre{padding: 0;}#sk-container-id-1 div.sk-toggleable {background-color: white;}#sk-container-id-1 label.sk-toggleable__label {cursor: pointer;display: block;width: 100%;margin-bottom: 0;padding: 0.3em;box-sizing: border-box;text-align: center;}#sk-container-id-1 label.sk-toggleable__label-arrow:before {content: \"▸\";float: left;margin-right: 0.25em;color: #696969;}#sk-container-id-1 label.sk-toggleable__label-arrow:hover:before {color: black;}#sk-container-id-1 div.sk-estimator:hover label.sk-toggleable__label-arrow:before {color: black;}#sk-container-id-1 div.sk-toggleable__content {max-height: 0;max-width: 0;overflow: hidden;text-align: left;background-color: #f0f8ff;}#sk-container-id-1 div.sk-toggleable__content pre {margin: 0.2em;color: black;border-radius: 0.25em;background-color: #f0f8ff;}#sk-container-id-1 input.sk-toggleable__control:checked~div.sk-toggleable__content {max-height: 200px;max-width: 100%;overflow: auto;}#sk-container-id-1 input.sk-toggleable__control:checked~label.sk-toggleable__label-arrow:before {content: \"▾\";}#sk-container-id-1 div.sk-estimator input.sk-toggleable__control:checked~label.sk-toggleable__label {background-color: #d4ebff;}#sk-container-id-1 div.sk-label input.sk-toggleable__control:checked~label.sk-toggleable__label {background-color: #d4ebff;}#sk-container-id-1 input.sk-hidden--visually {border: 0;clip: rect(1px 1px 1px 1px);clip: rect(1px, 1px, 1px, 1px);height: 1px;margin: -1px;overflow: hidden;padding: 0;position: absolute;width: 1px;}#sk-container-id-1 div.sk-estimator {font-family: monospace;background-color: #f0f8ff;border: 1px dotted black;border-radius: 0.25em;box-sizing: border-box;margin-bottom: 0.5em;}#sk-container-id-1 div.sk-estimator:hover {background-color: #d4ebff;}#sk-container-id-1 div.sk-parallel-item::after {content: \"\";width: 100%;border-bottom: 1px solid gray;flex-grow: 1;}#sk-container-id-1 div.sk-label:hover label.sk-toggleable__label {background-color: #d4ebff;}#sk-container-id-1 div.sk-serial::before {content: \"\";position: absolute;border-left: 1px solid gray;box-sizing: border-box;top: 0;bottom: 0;left: 50%;z-index: 0;}#sk-container-id-1 div.sk-serial {display: flex;flex-direction: column;align-items: center;background-color: white;padding-right: 0.2em;padding-left: 0.2em;position: relative;}#sk-container-id-1 div.sk-item {position: relative;z-index: 1;}#sk-container-id-1 div.sk-parallel {display: flex;align-items: stretch;justify-content: center;background-color: white;position: relative;}#sk-container-id-1 div.sk-item::before, #sk-container-id-1 div.sk-parallel-item::before {content: \"\";position: absolute;border-left: 1px solid gray;box-sizing: border-box;top: 0;bottom: 0;left: 50%;z-index: -1;}#sk-container-id-1 div.sk-parallel-item {display: flex;flex-direction: column;z-index: 1;position: relative;background-color: white;}#sk-container-id-1 div.sk-parallel-item:first-child::after {align-self: flex-end;width: 50%;}#sk-container-id-1 div.sk-parallel-item:last-child::after {align-self: flex-start;width: 50%;}#sk-container-id-1 div.sk-parallel-item:only-child::after {width: 0;}#sk-container-id-1 div.sk-dashed-wrapped {border: 1px dashed gray;margin: 0 0.4em 0.5em 0.4em;box-sizing: border-box;padding-bottom: 0.4em;background-color: white;}#sk-container-id-1 div.sk-label label {font-family: monospace;font-weight: bold;display: inline-block;line-height: 1.2em;}#sk-container-id-1 div.sk-label-container {text-align: center;}#sk-container-id-1 div.sk-container {/* jupyter's `normalize.less` sets `[hidden] { display: none; }` but bootstrap.min.css set `[hidden] { display: none !important; }` so we also need the `!important` here to be able to override the default hidden behavior on the sphinx rendered scikit-learn.org. See: https://github.com/scikit-learn/scikit-learn/issues/21755 */display: inline-block !important;position: relative;}#sk-container-id-1 div.sk-text-repr-fallback {display: none;}</style><div id=\"sk-container-id-1\" class=\"sk-top-container\"><div class=\"sk-text-repr-fallback\"><pre>LinearRegression()</pre><b>In a Jupyter environment, please rerun this cell to show the HTML representation or trust the notebook. <br />On GitHub, the HTML representation is unable to render, please try loading this page with nbviewer.org.</b></div><div class=\"sk-container\" hidden><div class=\"sk-item\"><div class=\"sk-estimator sk-toggleable\"><input class=\"sk-toggleable__control sk-hidden--visually\" id=\"sk-estimator-id-1\" type=\"checkbox\" checked><label for=\"sk-estimator-id-1\" class=\"sk-toggleable__label sk-toggleable__label-arrow\">LinearRegression</label><div class=\"sk-toggleable__content\"><pre>LinearRegression()</pre></div></div></div></div></div>"
      ],
      "text/plain": [
       "LinearRegression()"
      ]
     },
     "execution_count": 33,
     "metadata": {},
     "output_type": "execute_result"
    }
   ],
   "source": [
    "# Ajusta o modelo de regressão linear aos recursos polinomiais\n",
    "model = LinearRegression()\n",
    "model.fit(X_poly, y)"
   ]
  },
  {
   "cell_type": "code",
   "execution_count": 34,
   "metadata": {},
   "outputs": [],
   "source": [
    "# Faz previsões usando o modelo ajustado\n",
    "y_pred = model.predict(X_poly)"
   ]
  },
  {
   "cell_type": "code",
   "execution_count": 35,
   "metadata": {},
   "outputs": [
    {
     "name": "stdout",
     "output_type": "stream",
     "text": [
      "Erro quadrático médio: 3.9480519480519396\n"
     ]
    }
   ],
   "source": [
    "# Calcula o erro quadrático médio\n",
    "mse = mean_squared_error(y, y_pred)\n",
    "print(f\"Erro quadrático médio: {mse}\")"
   ]
  },
  {
   "cell_type": "code",
   "execution_count": 36,
   "metadata": {},
   "outputs": [
    {
     "data": {
      "image/png": "[encoded data removed]",
      "text/plain": [
       "<Figure size 640x480 with 1 Axes>"
      ]
     },
     "metadata": {},
     "output_type": "display_data"
    }
   ],
   "source": [
    "# Plota os dados e o modelo ajustado\n",
    "plt.scatter(X, y, label=\"Dados Reais\")\n",
    "plt.plot(X, y_pred, color=\"red\", label=\"Previsões do Modelo\")\n",
    "plt.xlabel(\"X\")\n",
    "plt.ylabel(\"y\")\n",
    "plt.legend()\n",
    "plt.title(\"Função Quadrática Aplicada em Data Science\")\n",
    "plt.show()\n"
   ]
  },
  {
   "cell_type": "markdown",
   "metadata": {},
   "source": [
    "Neste exemplo, criamos um conjunto de dados fictício (X e y) e usamos a função PolynomialFeatures do scikit-learn para transformar os recursos em uma matriz de recursos polinomiais. Em seguida, ajustamos um modelo de regressão linear aos recursos polinomiais, fazemos previsões usando o modelo ajustado e calculamos o erro quadrático médio. Por fim, plotamos os dados e o modelo ajustado."
   ]
  },
  {
   "cell_type": "markdown",
   "metadata": {},
   "source": [
    "# Fim"
   ]
  }
 ],
 "metadata": {
  "colab": {
   "authorship_tag": "ABX9TyPCf9qlTghL9GChly72vDLx",
   "include_colab_link": true,
   "mount_file_id": "1pXLpmBpTPTzHKaiOzVGc5gOVld_cVB0v",
   "provenance": []
  },
  "kernelspec": {
   "display_name": "Python 3 (ipykernel)",
   "language": "python",
   "name": "python3"
  },
  "language_info": {
   "codemirror_mode": {
    "name": "ipython",
    "version": 3
   },
   "file_extension": ".py",
   "mimetype": "text/x-python",
   "name": "python",
   "nbconvert_exporter": "python",
   "pygments_lexer": "ipython3",
   "version": "3.9.18"
  }
 },
 "nbformat": 4,
 "nbformat_minor": 1
}
