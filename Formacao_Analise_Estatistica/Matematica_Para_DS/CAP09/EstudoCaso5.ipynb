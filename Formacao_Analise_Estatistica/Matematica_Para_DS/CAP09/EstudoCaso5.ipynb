{
 "cells": [
  {
   "cell_type": "markdown",
   "metadata": {},
   "source": [
    "# <font color='blue'>Data Science Academy</font>\n",
    "# <font color='blue'>Matemática Para Data Science</font>\n",
    "\n",
    "## <font color='blue'>Estudo de Caso 5</font>\n",
    "### <font color='blue'>Aplicação Prática de Autovetores e Autovalores com PCA (Análise de Componentes Principais)</font>"
   ]
  },
  {
   "cell_type": "markdown",
   "metadata": {},
   "source": [
    "![DSA](imagens/EC5.png)"
   ]
  },
  {
   "cell_type": "code",
   "execution_count": 1,
   "metadata": {},
   "outputs": [
    {
     "name": "stdout",
     "output_type": "stream",
     "text": [
      "Versão da Linguagem Python Usada Neste Jupyter Notebook: 3.9.18\n"
     ]
    }
   ],
   "source": [
    "# Versão da Linguagem Python\n",
    "# Você pode usar a versão indicada nos vídeos ou a versão abaixo!\n",
    "from platform import python_version\n",
    "print('Versão da Linguagem Python Usada Neste Jupyter Notebook:', python_version())"
   ]
  },
  {
   "cell_type": "code",
   "execution_count": null,
   "metadata": {},
   "outputs": [],
   "source": [
    "# Para atualizar um pacote, execute o comando abaixo no terminal ou prompt de comando:\n",
    "# pip install -U nome_pacote\n",
    "\n",
    "# Para instalar a versão exata de um pacote, execute o comando abaixo no terminal ou prompt de comando:\n",
    "# !pip install nome_pacote==versão_desejada\n",
    "\n",
    "# Depois de instalar ou atualizar o pacote, reinicie o jupyter notebook.\n",
    "\n",
    "# Instala o pacote watermark. \n",
    "# Esse pacote é usado para gravar as versões de outros pacotes usados neste jupyter notebook.\n",
    "# !pip install -q -U watermark"
   ]
  },
  {
   "cell_type": "code",
   "execution_count": 2,
   "metadata": {
    "colab": {
     "base_uri": "https://localhost:8080/",
     "height": 242
    },
    "id": "bIF1Kp9XQD2B",
    "outputId": "89433151-f6bc-49f7-cb2e-fbc0edce8d59"
   },
   "outputs": [],
   "source": [
    "# Imports\n",
    "import numpy as np\n",
    "import matplotlib.pyplot as plt"
   ]
  },
  {
   "cell_type": "code",
   "execution_count": 3,
   "metadata": {},
   "outputs": [
    {
     "name": "stdout",
     "output_type": "stream",
     "text": [
      "Author: Data Science Academy\n",
      "\n",
      "matplotlib: 3.8.2\n",
      "numpy     : 1.26.3\n",
      "\n"
     ]
    }
   ],
   "source": [
    "# Versões dos pacotes usados neste jupyter notebook\n",
    "%reload_ext watermark\n",
    "%watermark -a \"Data Science Academy\" --iversions"
   ]
  },
  {
   "cell_type": "markdown",
   "metadata": {},
   "source": [
    "## Aplicação Prática de Autovetores e Autovalores com PCA"
   ]
  },
  {
   "cell_type": "code",
   "execution_count": 4,
   "metadata": {},
   "outputs": [],
   "source": [
    "# Gerando dados bidimensionais correlacionados\n",
    "np.random.seed(42)\n",
    "X = np.random.randn(100, 2)\n",
    "X[:, 1] = 0.8 * X[:, 0] + 0.1 * np.random.randn(100)"
   ]
  },
  {
   "cell_type": "code",
   "execution_count": 5,
   "metadata": {},
   "outputs": [
    {
     "data": {
      "text/plain": [
       "array([[ 0.64768854,  0.57422928],\n",
       "       [-0.23415337, -0.07901758],\n",
       "       [ 1.57921282,  1.36875046],\n",
       "       [-0.46947439, -0.51334645],\n",
       "       [-0.46341769, -0.46451666]])"
      ]
     },
     "execution_count": 5,
     "metadata": {},
     "output_type": "execute_result"
    }
   ],
   "source": [
    "# Amostra dos dados\n",
    "X[1:6]"
   ]
  },
  {
   "cell_type": "code",
   "execution_count": 6,
   "metadata": {},
   "outputs": [],
   "source": [
    "# Centralizando os dados (subtraindo a média)\n",
    "X_centered = X - np.mean(X, axis = 0)"
   ]
  },
  {
   "cell_type": "code",
   "execution_count": 7,
   "metadata": {},
   "outputs": [
    {
     "name": "stdout",
     "output_type": "stream",
     "text": [
      "[[ 6.12278408e-01  5.19111837e-01]\n",
      " [ 7.63252793e-01  6.60191062e-01]\n",
      " [-1.18589120e-01  6.94420306e-03]\n",
      " [ 1.69477707e+00  1.45471224e+00]\n",
      " [-3.53910131e-01 -4.27384667e-01]\n",
      " [-3.47853438e-01 -3.78554880e-01]\n",
      " [ 3.57526526e-01  3.31035122e-01]\n",
      " [-1.60935358e+00 -1.24259389e+00]\n",
      " [-8.97266866e-01 -6.72798349e-01]\n",
      " [-7.92459821e-01 -2.55184333e-01]\n",
      " [ 1.58121302e+00  1.31556984e+00]\n",
      " [ 1.83092459e-01  2.53540906e-01]\n",
      " [-4.28818470e-01 -2.54144225e-01]\n",
      " [-1.03542932e+00 -7.69693958e-01]\n",
      " [-4.85074435e-01 -4.26076098e-01]\n",
      " [-4.86142357e-01 -3.19506589e-01]\n",
      " [ 1.02067030e-01 -2.11852272e-03]\n",
      " [ 9.38109167e-01  7.20315848e-01]\n",
      " [ 3.24427850e-01  2.04516300e-01]\n",
      " [-1.21262179e+00 -9.68399647e-01]\n",
      " [ 8.54030835e-01  9.08200899e-01]\n",
      " [-8.40275999e-05 -1.93283367e-01]\n",
      " [-1.36295774e+00 -1.02822979e+00]\n",
      " [-3.45074516e-01 -4.43820825e-01]\n",
      " [ 4.59182544e-01  3.13663224e-01]\n",
      " [ 4.39648224e-01  4.54124014e-01]\n",
      " [-5.61357746e-01 -4.49147820e-01]\n",
      " [ 1.14656378e+00  8.02986919e-01]\n",
      " [-7.23653268e-01 -6.56942611e-01]\n",
      " [ 4.46827686e-01  4.18932299e-01]\n",
      " [-3.63609983e-01 -3.70414275e-01]\n",
      " [-9.90770719e-01 -7.77460342e-01]\n",
      " [ 9.28090077e-01  7.40539620e-01]\n",
      " [ 4.35541332e-02 -3.68063535e-02]\n",
      " [ 4.77200280e-01  5.89665007e-01]\n",
      " [ 4.76959860e-01  4.38470165e-01]\n",
      " [ 7.97382157e-02 -1.45213311e-01]\n",
      " [-2.50418085e+00 -1.99118887e+00]\n",
      " [ 2.02611323e-01  8.94207866e-02]\n",
      " [ 2.07325031e-01  2.44613733e-01]\n",
      " [-1.04107633e-01 -1.69027806e-01]\n",
      " [ 1.59345830e+00  1.25680337e+00]\n",
      " [-6.92929348e-01 -5.10334376e-01]\n",
      " [ 1.03096637e+00  9.04858992e-01]\n",
      " [-4.14195949e-01 -4.57876025e-01]\n",
      " [ 2.12641804e-01  1.30173694e-01]\n",
      " [-5.86488839e-01 -5.23175228e-01]\n",
      " [-2.76543898e-01 -2.93057667e-01]\n",
      " [ 4.11684532e-01  4.99403424e-01]\n",
      " [ 1.20677711e-01  1.30550715e-01]\n",
      " [-1.29980649e+00 -1.17242321e+00]\n",
      " [-2.27150262e-01 -9.64236400e-02]\n",
      " [-4.57214569e-02  1.69148829e-01]\n",
      " [ 2.00175016e+00  1.69815703e+00]\n",
      " [ 3.73114646e-01  1.40065095e-01]\n",
      " [-1.80320696e+00 -1.49747860e+00]\n",
      " [ 1.75794465e-01  2.60837061e-01]\n",
      " [-7.67967100e-02 -1.38693940e-01]\n",
      " [ 8.08524851e-02  1.02574306e-01]\n",
      " [ 1.25838707e+00  1.07768344e+00]\n",
      " [ 9.06596202e-01  6.26094289e-01]\n",
      " [ 1.51835857e+00  1.20224469e+00]\n",
      " [ 7.02421349e-01  2.31320720e-01]\n",
      " [-8.74972070e-01 -8.08906046e-01]\n",
      " [ 2.15215620e-01  1.40426055e-01]\n",
      " [-1.43509918e+00 -1.27934728e+00]\n",
      " [-9.46739459e-01 -6.00640062e-01]\n",
      " [-8.03859979e-01 -7.92591747e-01]\n",
      " [-6.67689038e-01 -5.84645304e-01]\n",
      " [ 9.29081472e-01  7.49849610e-01]\n",
      " [ 3.43024189e-01  4.12057055e-01]\n",
      " [-1.49191898e+00 -1.34361102e+00]\n",
      " [ 3.75447049e-01  4.10184389e-01]\n",
      " [-1.12138646e+00 -9.02575484e-01]\n",
      " [ 6.37505820e-01  4.05364166e-01]\n",
      " [ 3.66057105e-01  3.32566406e-01]\n",
      " [-5.64460467e-01 -4.38152029e-01]\n",
      " [ 4.08636728e-01  2.60398069e-01]\n",
      " [ 1.98133877e+00  1.58556160e+00]\n",
      " [-1.07573924e+00 -9.05612379e-01]\n",
      " [-8.59117415e-01 -6.82431823e-01]\n",
      " [ 1.27415983e+00  1.07905131e+00]\n",
      " [ 1.07894038e+00  1.01526436e+00]\n",
      " [ 9.37624415e-01  6.19828357e-01]\n",
      " [-1.29823861e-01  1.02954623e-01]\n",
      " [-7.73950175e-01 -8.20858545e-01]\n",
      " [ 3.84625454e-02  9.10190149e-03]\n",
      " [ 3.92255054e-01  3.66146139e-01]\n",
      " [ 1.28566147e-01  1.24462479e-01]\n",
      " [-1.49092578e-01 -1.88033640e-01]\n",
      " [ 7.41231603e-01  5.65683432e-01]\n",
      " [-9.55328243e-01 -8.20052313e-01]\n",
      " [-1.07898531e-01 -1.51744925e-01]\n",
      " [ 5.88801879e-01  5.49512088e-01]\n",
      " [-7.31229463e-01 -5.55771647e-01]\n",
      " [-3.30950697e-01 -3.40541143e-01]\n",
      " [ 3.29657999e-01  3.47196761e-01]\n",
      " [ 2.88745181e-01  2.55236471e-01]\n",
      " [-7.68293181e-01 -5.39837959e-01]\n",
      " [ 1.73772973e-01  1.95491637e-01]]\n"
     ]
    }
   ],
   "source": [
    "print(X_centered)"
   ]
  },
  {
   "cell_type": "code",
   "execution_count": 8,
   "metadata": {},
   "outputs": [],
   "source": [
    "# Calculando a matriz de covariância\n",
    "cov_matrix = np.cov(X_centered.T)"
   ]
  },
  {
   "cell_type": "markdown",
   "metadata": {},
   "source": [
    "A matriz de covariância é uma matriz quadrada que descreve a covariância entre cada par de variáveis em um conjunto de dados. A covariância é uma medida que indica o grau em que duas variáveis variam juntas. Se a covariância for positiva, isso significa que ambas as variáveis tendem a aumentar ou diminuir juntas; se for negativa, uma variável tende a aumentar quando a outra diminui, e vice-versa. Se a covariância for zero, as variáveis são estatisticamente independentes (embora isso não implique necessariamente independência causal).\n",
    "\n",
    "Para um conjunto de dados com n variáveis, a matriz de covariância é uma matriz n x n, onde o elemento na i-ésima linha e j-ésima coluna é a covariância entre a i-ésima variável e a j-ésima variável. A diagonal principal da matriz de covariância contém as variâncias de cada variável, que são as covariâncias de cada variável consigo mesma.\n",
    "\n",
    "A matriz de covariância é simétrica, ou seja, a covariância entre a variável i e a variável j é igual à covariância entre a variável j e a variável i. Isso acontece porque a covariância é comutativa: cov(X, Y) = cov(Y, X).\n",
    "\n",
    "A matriz de covariância é amplamente utilizada em estatística e aprendizado de máquina para analisar a estrutura de correlação entre variáveis em um conjunto de dados. \n",
    "\n",
    "PCA usa a matriz de covariância para identificar as direções de maior variância nos dados e projetar os dados nessas direções, reduzindo a dimensionalidade."
   ]
  },
  {
   "cell_type": "code",
   "execution_count": 9,
   "metadata": {},
   "outputs": [],
   "source": [
    "# Calculando autovalores e autovetores da matriz de covariância\n",
    "autovalores, autovetores = np.linalg.eig(cov_matrix)"
   ]
  },
  {
   "cell_type": "code",
   "execution_count": 10,
   "metadata": {},
   "outputs": [
    {
     "data": {
      "text/plain": [
       "array([1.22907219, 0.00686564])"
      ]
     },
     "execution_count": 10,
     "metadata": {},
     "output_type": "execute_result"
    }
   ],
   "source": [
    "autovalores"
   ]
  },
  {
   "cell_type": "code",
   "execution_count": 11,
   "metadata": {},
   "outputs": [
    {
     "data": {
      "text/plain": [
       "array([[ 0.77093473, -0.63691416],\n",
       "       [ 0.63691416,  0.77093473]])"
      ]
     },
     "execution_count": 11,
     "metadata": {},
     "output_type": "execute_result"
    }
   ],
   "source": [
    "autovetores"
   ]
  },
  {
   "cell_type": "code",
   "execution_count": 12,
   "metadata": {},
   "outputs": [],
   "source": [
    "# Ordenando autovalores e autovetores por ordem decrescente de autovalores\n",
    "idx = np.argsort(autovalores)[::-1]\n",
    "autovalores = autovalores[idx]\n",
    "autovetores = autovetores[:, idx]"
   ]
  },
  {
   "cell_type": "code",
   "execution_count": 13,
   "metadata": {},
   "outputs": [],
   "source": [
    "# Projetando os dados nos autovetores (componentes principais)\n",
    "x_pca = X_centered @ autovetores"
   ]
  },
  {
   "cell_type": "code",
   "execution_count": 14,
   "metadata": {},
   "outputs": [
    {
     "data": {
      "image/png": "[encoded data removed]",
      "text/plain": [
       "<Figure size 1000x400 with 2 Axes>"
      ]
     },
     "metadata": {},
     "output_type": "display_data"
    }
   ],
   "source": [
    "# Visualizando os dados originais e os componentes principais\n",
    "fig, axes = plt.subplots(1, 2, figsize=(10, 4))\n",
    "\n",
    "axes[0].scatter(X[:, 0], X[:, 1], alpha=0.5)\n",
    "axes[0].set_title('Dados Originais')\n",
    "axes[0].axis('equal')\n",
    "axes[0].quiver(0, 0, autovetores[0, 0], autovetores[1, 0], color='r', angles='xy', scale_units='xy', scale=3)\n",
    "axes[0].quiver(0, 0, autovetores[0, 1], autovetores[1, 1], color='r', angles='xy', scale_units='xy', scale=3)\n",
    "\n",
    "axes[1].scatter(x_pca[:, 0], x_pca[:, 1], alpha=0.5)\n",
    "axes[1].set_title('Dados após PCA')\n",
    "axes[1].axis('equal')\n",
    "\n",
    "plt.show()"
   ]
  },
  {
   "cell_type": "markdown",
   "metadata": {},
   "source": [
    "## Redução de Dimensionalidade em Machine Learning com PCA"
   ]
  },
  {
   "cell_type": "code",
   "execution_count": 15,
   "metadata": {},
   "outputs": [],
   "source": [
    "# Imports\n",
    "import sklearn\n",
    "import numpy as np\n",
    "from sklearn.decomposition import PCA\n",
    "from sklearn.preprocessing import StandardScaler"
   ]
  },
  {
   "cell_type": "code",
   "execution_count": 16,
   "metadata": {},
   "outputs": [
    {
     "name": "stdout",
     "output_type": "stream",
     "text": [
      "Author: Data Science Academy\n",
      "\n",
      "matplotlib: 3.8.2\n",
      "numpy     : 1.26.3\n",
      "sklearn   : 1.3.2\n",
      "\n"
     ]
    }
   ],
   "source": [
    "# Versões dos pacotes usados neste jupyter notebook\n",
    "%reload_ext watermark\n",
    "%watermark -a \"Data Science Academy\" --iversions"
   ]
  },
  {
   "cell_type": "code",
   "execution_count": 17,
   "metadata": {},
   "outputs": [],
   "source": [
    "# Gere um conjunto de dados com 200 observações e 5 variáveis\n",
    "np.random.seed(42)\n",
    "dados = np.random.randn(200, 5)"
   ]
  },
  {
   "cell_type": "code",
   "execution_count": 18,
   "metadata": {},
   "outputs": [
    {
     "data": {
      "text/plain": [
       "array([[-0.23413696,  1.57921282,  0.76743473, -0.46947439,  0.54256004],\n",
       "       [-0.46341769, -0.46572975,  0.24196227, -1.91328024, -1.72491783],\n",
       "       [-0.56228753, -1.01283112,  0.31424733, -0.90802408, -1.4123037 ],\n",
       "       [ 1.46564877, -0.2257763 ,  0.0675282 , -1.42474819, -0.54438272]])"
      ]
     },
     "execution_count": 18,
     "metadata": {},
     "output_type": "execute_result"
    }
   ],
   "source": [
    "dados[1:5]"
   ]
  },
  {
   "cell_type": "code",
   "execution_count": 19,
   "metadata": {},
   "outputs": [],
   "source": [
    "# Padronizando os dados (média 0, desvio padrão 1)\n",
    "scaler = StandardScaler()\n",
    "data_scaled = scaler.fit_transform(dados)"
   ]
  },
  {
   "cell_type": "code",
   "execution_count": 23,
   "metadata": {},
   "outputs": [],
   "source": [
    "# Aplicando PCA para reduzir a dimensionalidade dos dados\n",
    "pca = PCA(n_components=4)\n",
    "data_pca = pca.fit_transform(data_scaled)"
   ]
  },
  {
   "cell_type": "code",
   "execution_count": 24,
   "metadata": {},
   "outputs": [
    {
     "name": "stdout",
     "output_type": "stream",
     "text": [
      "Autovalores:\n",
      "[1.17508779 1.07187386 1.01839674 0.93396412]\n",
      "\n",
      "Autovetores (Componentes Principais):\n",
      "[[-0.12251671  0.43933549  0.61273362 -0.05886818  0.64270213]\n",
      " [ 0.78543169 -0.47225102  0.36436581 -0.11943807  0.11422843]\n",
      " [ 0.01514329 -0.03872691  0.27392193  0.94988148 -0.14478554]\n",
      " [-0.45236259 -0.72362569 -0.09449617  0.08209103  0.50602913]]\n"
     ]
    }
   ],
   "source": [
    "# Exibindo os autovalores e autovetores da matriz de covariância\n",
    "print(\"Autovalores:\")\n",
    "print(pca.explained_variance_)\n",
    "print(\"\\nAutovetores (Componentes Principais):\")\n",
    "print(pca.components_)"
   ]
  },
  {
   "cell_type": "code",
   "execution_count": 25,
   "metadata": {},
   "outputs": [
    {
     "name": "stdout",
     "output_type": "stream",
     "text": [
      "Proporção da variância explicada:\n",
      "[0.23384247 0.2133029  0.20266095 0.18585886]\n"
     ]
    }
   ],
   "source": [
    "# Exibindo a proporção da variância explicada por cada componente principal\n",
    "print(\"Proporção da variância explicada:\")\n",
    "print(pca.explained_variance_ratio_)"
   ]
  },
  {
   "cell_type": "code",
   "execution_count": 26,
   "metadata": {},
   "outputs": [
    {
     "name": "stdout",
     "output_type": "stream",
     "text": [
      "Dados Transformados:\n",
      "[[ 1.55503708 -0.53199267 -0.44319714 -0.94392   ]\n",
      " [-0.98002519 -0.02928903 -1.6167788  -0.53665955]\n",
      " [-1.02776913  0.08426755 -0.63242381  0.14052582]\n",
      " [-0.53028848  1.48774352 -1.33043338 -1.00715835]\n",
      " [-0.45590295  0.82686992 -0.45436325  0.48590942]\n",
      " [ 1.43788876 -1.16260295 -1.29953417 -0.79912052]\n",
      " [-0.8173191  -1.67846026 -1.97689113  0.55356802]\n",
      " [-1.02895966  0.37482946 -0.17354675 -1.28890338]\n",
      " [-0.58693947 -0.22270587  0.83464082 -0.32287834]]\n"
     ]
    }
   ],
   "source": [
    "# Exibindo os dados transformados\n",
    "print(\"Dados Transformados:\")\n",
    "print(data_pca[1:10])"
   ]
  },
  {
   "cell_type": "markdown",
   "metadata": {},
   "source": [
    "# Fim"
   ]
  }
 ],
 "metadata": {
  "colab": {
   "authorship_tag": "ABX9TyPCf9qlTghL9GChly72vDLx",
   "include_colab_link": true,
   "mount_file_id": "1pXLpmBpTPTzHKaiOzVGc5gOVld_cVB0v",
   "provenance": []
  },
  "kernelspec": {
   "display_name": "Python 3 (ipykernel)",
   "language": "python",
   "name": "python3"
  },
  "language_info": {
   "codemirror_mode": {
    "name": "ipython",
    "version": 3
   },
   "file_extension": ".py",
   "mimetype": "text/x-python",
   "name": "python",
   "nbconvert_exporter": "python",
   "pygments_lexer": "ipython3",
   "version": "3.9.18"
  }
 },
 "nbformat": 4,
 "nbformat_minor": 1
}
