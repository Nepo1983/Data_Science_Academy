{
 "cells": [
  {
   "cell_type": "markdown",
   "metadata": {},
   "source": [
    "# <font color='blue'>Data Science Academy</font>\n",
    "# <font color='blue'>Matemática Para Data Science</font>\n",
    "\n",
    "## <font color='blue'>Lab 4</font>\n",
    "## <font color='blue'>Sistemas de Equações Lineares em Data Science</font>"
   ]
  },
  {
   "cell_type": "markdown",
   "metadata": {},
   "source": [
    "![DSA](imagens/Lab4.png)"
   ]
  },
  {
   "cell_type": "code",
   "execution_count": 1,
   "metadata": {},
   "outputs": [
    {
     "name": "stdout",
     "output_type": "stream",
     "text": [
      "Versão da Linguagem Python Usada Neste Jupyter Notebook: 3.9.18\n"
     ]
    }
   ],
   "source": [
    "# Versão da Linguagem Python\n",
    "# Você pode usar a versão indicada nos vídeos ou a versão abaixo!\n",
    "from platform import python_version\n",
    "print('Versão da Linguagem Python Usada Neste Jupyter Notebook:', python_version())"
   ]
  },
  {
   "cell_type": "code",
   "execution_count": null,
   "metadata": {},
   "outputs": [],
   "source": [
    "# Para atualizar um pacote, execute o comando abaixo no terminal ou prompt de comando:\n",
    "# pip install -U nome_pacote\n",
    "\n",
    "# Para instalar a versão exata de um pacote, execute o comando abaixo no terminal ou prompt de comando:\n",
    "# !pip install nome_pacote==versão_desejada\n",
    "\n",
    "# Depois de instalar ou atualizar o pacote, reinicie o jupyter notebook.\n",
    "\n",
    "# Instala o pacote watermark. \n",
    "# Esse pacote é usado para gravar as versões de outros pacotes usados neste jupyter notebook.\n",
    "# !pip install -q -U watermark"
   ]
  },
  {
   "cell_type": "code",
   "execution_count": 2,
   "metadata": {
    "colab": {
     "base_uri": "https://localhost:8080/",
     "height": 242
    },
    "id": "bIF1Kp9XQD2B",
    "outputId": "89433151-f6bc-49f7-cb2e-fbc0edce8d59"
   },
   "outputs": [],
   "source": [
    "# Imports\n",
    "import numpy as np\n",
    "import matplotlib.pyplot as plt"
   ]
  },
  {
   "cell_type": "code",
   "execution_count": 3,
   "metadata": {},
   "outputs": [
    {
     "name": "stdout",
     "output_type": "stream",
     "text": [
      "Author: Data Science Academy\n",
      "\n",
      "matplotlib: 3.8.2\n",
      "numpy     : 1.26.3\n",
      "\n"
     ]
    }
   ],
   "source": [
    "# Versões dos pacotes usados neste jupyter notebook\n",
    "%reload_ext watermark\n",
    "%watermark -a \"Data Science Academy\" --iversions"
   ]
  },
  {
   "cell_type": "markdown",
   "metadata": {},
   "source": [
    "## Fórmula da Regressão Linear"
   ]
  },
  {
   "cell_type": "markdown",
   "metadata": {},
   "source": [
    "![DSA](imagens/formula.png)"
   ]
  },
  {
   "cell_type": "code",
   "execution_count": 4,
   "metadata": {},
   "outputs": [],
   "source": [
    "# Seed\n",
    "np.random.seed(0)"
   ]
  },
  {
   "cell_type": "code",
   "execution_count": 5,
   "metadata": {},
   "outputs": [],
   "source": [
    "# Gerando dados aleatórios para a regressão linear\n",
    "x = np.random.rand(100)\n",
    "y = 3 * x + 2 + np.random.randn(100)"
   ]
  },
  {
   "cell_type": "code",
   "execution_count": 6,
   "metadata": {},
   "outputs": [
    {
     "data": {
      "image/png": "[encoded data removed]",
      "text/plain": [
       "<Figure size 640x480 with 1 Axes>"
      ]
     },
     "metadata": {},
     "output_type": "display_data"
    }
   ],
   "source": [
    "# Plotando os dados de x e y\n",
    "plt.scatter(x, y)\n",
    "plt.show()"
   ]
  },
  {
   "cell_type": "markdown",
   "metadata": {},
   "source": [
    "https://numpy.org/doc/stable/reference/generated/numpy.vstack.html"
   ]
  },
  {
   "cell_type": "code",
   "execution_count": 7,
   "metadata": {},
   "outputs": [],
   "source": [
    "# Montando o sistema de equações lineares (criando os arrays)\n",
    "A = np.vstack([x, np.ones(len(x))]).T\n",
    "b = y"
   ]
  },
  {
   "cell_type": "code",
   "execution_count": 8,
   "metadata": {},
   "outputs": [
    {
     "name": "stdout",
     "output_type": "stream",
     "text": [
      "[[0.5488135  1.        ]\n",
      " [0.71518937 1.        ]\n",
      " [0.60276338 1.        ]\n",
      " [0.54488318 1.        ]\n",
      " [0.4236548  1.        ]\n",
      " [0.64589411 1.        ]\n",
      " [0.43758721 1.        ]\n",
      " [0.891773   1.        ]\n",
      " [0.96366276 1.        ]\n",
      " [0.38344152 1.        ]\n",
      " [0.79172504 1.        ]\n",
      " [0.52889492 1.        ]\n",
      " [0.56804456 1.        ]\n",
      " [0.92559664 1.        ]\n",
      " [0.07103606 1.        ]\n",
      " [0.0871293  1.        ]\n",
      " [0.0202184  1.        ]\n",
      " [0.83261985 1.        ]\n",
      " [0.77815675 1.        ]\n",
      " [0.87001215 1.        ]\n",
      " [0.97861834 1.        ]\n",
      " [0.79915856 1.        ]\n",
      " [0.46147936 1.        ]\n",
      " [0.78052918 1.        ]\n",
      " [0.11827443 1.        ]\n",
      " [0.63992102 1.        ]\n",
      " [0.14335329 1.        ]\n",
      " [0.94466892 1.        ]\n",
      " [0.52184832 1.        ]\n",
      " [0.41466194 1.        ]\n",
      " [0.26455561 1.        ]\n",
      " [0.77423369 1.        ]\n",
      " [0.45615033 1.        ]\n",
      " [0.56843395 1.        ]\n",
      " [0.0187898  1.        ]\n",
      " [0.6176355  1.        ]\n",
      " [0.61209572 1.        ]\n",
      " [0.616934   1.        ]\n",
      " [0.94374808 1.        ]\n",
      " [0.6818203  1.        ]\n",
      " [0.3595079  1.        ]\n",
      " [0.43703195 1.        ]\n",
      " [0.6976312  1.        ]\n",
      " [0.06022547 1.        ]\n",
      " [0.66676672 1.        ]\n",
      " [0.67063787 1.        ]\n",
      " [0.21038256 1.        ]\n",
      " [0.1289263  1.        ]\n",
      " [0.31542835 1.        ]\n",
      " [0.36371077 1.        ]\n",
      " [0.57019677 1.        ]\n",
      " [0.43860151 1.        ]\n",
      " [0.98837384 1.        ]\n",
      " [0.10204481 1.        ]\n",
      " [0.20887676 1.        ]\n",
      " [0.16130952 1.        ]\n",
      " [0.65310833 1.        ]\n",
      " [0.2532916  1.        ]\n",
      " [0.46631077 1.        ]\n",
      " [0.24442559 1.        ]\n",
      " [0.15896958 1.        ]\n",
      " [0.11037514 1.        ]\n",
      " [0.65632959 1.        ]\n",
      " [0.13818295 1.        ]\n",
      " [0.19658236 1.        ]\n",
      " [0.36872517 1.        ]\n",
      " [0.82099323 1.        ]\n",
      " [0.09710128 1.        ]\n",
      " [0.83794491 1.        ]\n",
      " [0.09609841 1.        ]\n",
      " [0.97645947 1.        ]\n",
      " [0.4686512  1.        ]\n",
      " [0.97676109 1.        ]\n",
      " [0.60484552 1.        ]\n",
      " [0.73926358 1.        ]\n",
      " [0.03918779 1.        ]\n",
      " [0.28280696 1.        ]\n",
      " [0.12019656 1.        ]\n",
      " [0.2961402  1.        ]\n",
      " [0.11872772 1.        ]\n",
      " [0.31798318 1.        ]\n",
      " [0.41426299 1.        ]\n",
      " [0.0641475  1.        ]\n",
      " [0.69247212 1.        ]\n",
      " [0.56660145 1.        ]\n",
      " [0.26538949 1.        ]\n",
      " [0.52324805 1.        ]\n",
      " [0.09394051 1.        ]\n",
      " [0.5759465  1.        ]\n",
      " [0.9292962  1.        ]\n",
      " [0.31856895 1.        ]\n",
      " [0.66741038 1.        ]\n",
      " [0.13179786 1.        ]\n",
      " [0.7163272  1.        ]\n",
      " [0.28940609 1.        ]\n",
      " [0.18319136 1.        ]\n",
      " [0.58651293 1.        ]\n",
      " [0.02010755 1.        ]\n",
      " [0.82894003 1.        ]\n",
      " [0.00469548 1.        ]]\n"
     ]
    }
   ],
   "source": [
    "print(A)"
   ]
  },
  {
   "cell_type": "code",
   "execution_count": 9,
   "metadata": {},
   "outputs": [
    {
     "name": "stdout",
     "output_type": "stream",
     "text": [
      "[2.48129067 5.04639459 4.27395257 2.09840586 4.75921659 5.83357152\n",
      " 4.4915412  4.49539417 3.82023566 4.20477628 3.97199817 4.80912983\n",
      " 3.91240866 5.75342895 2.56947457 2.96796107 2.07115521 6.28373003\n",
      " 4.46138235 5.01202581 6.81900572 3.04971663 2.11395309 5.31098424\n",
      " 1.18169987 5.86338425 2.01644088 4.08655194 5.48848699 4.72450061\n",
      " 4.6612258  5.22874573 2.50722531 5.6153668  1.78836603 4.65536289\n",
      " 4.78353914 3.6957919  5.44532361 4.96766757 3.45494923 2.21169507\n",
      " 4.39113176 3.50706231 3.30573229 3.86227907 2.19599413 4.23604262\n",
      " 3.61857981 3.49859415 2.94067424 3.85505373 4.29078885 2.33796499\n",
      " 1.99078419 3.16036185 4.53591579 2.55157605 3.79493903 1.64021527\n",
      " 0.98565116 2.77051712 4.13566226 3.04958029 4.97289186 4.050655\n",
      " 3.55015746 3.40832012 3.19792731 1.82671062 4.86113679 5.11929633\n",
      " 4.18552844 2.98809802 4.11933821 1.45408509 3.97505681 1.28065818\n",
      " 1.74095194 1.91836311 2.45591709 5.17232104 3.1418633  4.1649676\n",
      " 2.47436884 3.64053145 2.56952881 0.73705044 4.91586928 5.1048312\n",
      " 3.87656568 4.32095879 3.2522242  3.49795602 1.83397544 3.2311686\n",
      " 2.95612914 1.37077286 4.03128758 2.03156559]\n"
     ]
    }
   ],
   "source": [
    "print(b)"
   ]
  },
  {
   "cell_type": "markdown",
   "metadata": {},
   "source": [
    "https://numpy.org/doc/stable/reference/generated/numpy.linalg.lstsq.html"
   ]
  },
  {
   "cell_type": "code",
   "execution_count": 10,
   "metadata": {},
   "outputs": [],
   "source": [
    "# Resolvendo o sistema de equações lineares\n",
    "b, a = np.linalg.lstsq(A, b, rcond=None)[0]"
   ]
  },
  {
   "cell_type": "code",
   "execution_count": 11,
   "metadata": {},
   "outputs": [
    {
     "name": "stdout",
     "output_type": "stream",
     "text": [
      "2.9369350214020367\n"
     ]
    }
   ],
   "source": [
    "print(b)"
   ]
  },
  {
   "cell_type": "code",
   "execution_count": 12,
   "metadata": {},
   "outputs": [
    {
     "name": "stdout",
     "output_type": "stream",
     "text": [
      "2.22215107744723\n"
     ]
    }
   ],
   "source": [
    "print(a)"
   ]
  },
  {
   "cell_type": "code",
   "execution_count": 14,
   "metadata": {},
   "outputs": [
    {
     "data": {
      "image/png": "[encoded data removed]",
      "text/plain": [
       "<Figure size 640x480 with 1 Axes>"
      ]
     },
     "metadata": {},
     "output_type": "display_data"
    }
   ],
   "source": [
    "# Plotando os dados e a linha de regressão\n",
    "plt.scatter(x, y)\n",
    "plt.plot(x, a + x * b, 'r')\n",
    "plt.show()"
   ]
  },
  {
   "cell_type": "code",
   "execution_count": 15,
   "metadata": {},
   "outputs": [
    {
     "name": "stdout",
     "output_type": "stream",
     "text": [
      "4.13046390379379\n"
     ]
    }
   ],
   "source": [
    "# Prevendo y a partir de um novo valor de x\n",
    "x = 0.64976338\n",
    "y = a + x * b\n",
    "print(y)"
   ]
  },
  {
   "cell_type": "markdown",
   "metadata": {},
   "source": [
    "# Fim"
   ]
  }
 ],
 "metadata": {
  "colab": {
   "authorship_tag": "ABX9TyPCf9qlTghL9GChly72vDLx",
   "include_colab_link": true,
   "mount_file_id": "1pXLpmBpTPTzHKaiOzVGc5gOVld_cVB0v",
   "provenance": []
  },
  "kernelspec": {
   "display_name": "Python 3 (ipykernel)",
   "language": "python",
   "name": "python3"
  },
  "language_info": {
   "codemirror_mode": {
    "name": "ipython",
    "version": 3
   },
   "file_extension": ".py",
   "mimetype": "text/x-python",
   "name": "python",
   "nbconvert_exporter": "python",
   "pygments_lexer": "ipython3",
   "version": "3.9.18"
  }
 },
 "nbformat": 4,
 "nbformat_minor": 1
}
