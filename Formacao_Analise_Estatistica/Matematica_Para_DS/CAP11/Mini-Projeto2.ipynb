{
 "cells": [
  {
   "cell_type": "markdown",
   "id": "d835750b",
   "metadata": {},
   "source": [
    "# <font color='blue'>Data Science Academy</font>\n",
    "# <font color='blue'>Matemática Para Data Science</font>\n",
    "\n",
    "## <font color='blue'>Mini-Projeto 2</font>\n",
    "### <font color='blue'>Matemática do Modelo Transformer na Análise e Forecast de Séries Temporais</font>"
   ]
  },
  {
   "cell_type": "markdown",
   "id": "9facec81",
   "metadata": {},
   "source": [
    "![title](imagens/MP2.png)"
   ]
  },
  {
   "cell_type": "markdown",
   "id": "45fb8f2f",
   "metadata": {},
   "source": [
    "## Instalando e Carregando os Pacotes"
   ]
  },
  {
   "cell_type": "code",
   "execution_count": 1,
   "id": "3980f02d",
   "metadata": {},
   "outputs": [
    {
     "name": "stdout",
     "output_type": "stream",
     "text": [
      "Versão da Linguagem Python Usada Neste Jupyter Notebook: 3.9.18\n"
     ]
    }
   ],
   "source": [
    "# Versão da Linguagem Python\n",
    "from platform import python_version\n",
    "print('Versão da Linguagem Python Usada Neste Jupyter Notebook:', python_version())"
   ]
  },
  {
   "cell_type": "code",
   "execution_count": 2,
   "id": "954fa517",
   "metadata": {},
   "outputs": [],
   "source": [
    "# Para atualizar um pacote, execute o comando abaixo no terminal ou prompt de comando:\n",
    "# pip install -U nome_pacote\n",
    "\n",
    "# Para instalar a versão exata de um pacote, execute o comando abaixo no terminal ou prompt de comando:\n",
    "# !pip install nome_pacote==versão_desejada\n",
    "\n",
    "# Depois de instalar ou atualizar o pacote, reinicie o jupyter notebook.\n",
    "\n",
    "# Instala o pacote watermark. \n",
    "# Esse pacote é usado para gravar as versões de outros pacotes usados neste jupyter notebook.\n",
    "# !pip install -q -U watermark"
   ]
  },
  {
   "cell_type": "code",
   "execution_count": 3,
   "id": "3729c91b",
   "metadata": {},
   "outputs": [],
   "source": [
    "#!pip install -q torch==2.0.1"
   ]
  },
  {
   "cell_type": "code",
   "execution_count": 4,
   "id": "c1a05d15",
   "metadata": {},
   "outputs": [],
   "source": [
    "#!pip install -q transformers==4.30.2"
   ]
  },
  {
   "cell_type": "code",
   "execution_count": 5,
   "id": "0700cc27",
   "metadata": {},
   "outputs": [],
   "source": [
    "#!pip install -q datasets"
   ]
  },
  {
   "cell_type": "code",
   "execution_count": 6,
   "id": "47ffbf5b",
   "metadata": {},
   "outputs": [],
   "source": [
    "#!pip install -q evaluate"
   ]
  },
  {
   "cell_type": "code",
   "execution_count": 7,
   "id": "55391e54",
   "metadata": {},
   "outputs": [],
   "source": [
    "#!pip install -q accelerate==0.20.3"
   ]
  },
  {
   "cell_type": "code",
   "execution_count": 8,
   "id": "f3e95b78",
   "metadata": {},
   "outputs": [],
   "source": [
    "#!pip install -q gluonts==0.13.2"
   ]
  },
  {
   "cell_type": "code",
   "execution_count": 9,
   "id": "fd7e41bc",
   "metadata": {},
   "outputs": [],
   "source": [
    "#!pip install -q ujson"
   ]
  },
  {
   "cell_type": "code",
   "execution_count": 10,
   "id": "98c34e1a",
   "metadata": {},
   "outputs": [
    {
     "name": "stdout",
     "output_type": "stream",
     "text": [
      "env: TF_CPP_MIN_LOG_LEVEL=3\n"
     ]
    }
   ],
   "source": [
    "%env TF_CPP_MIN_LOG_LEVEL=3"
   ]
  },
  {
   "cell_type": "code",
   "execution_count": 11,
   "id": "31fe873d",
   "metadata": {},
   "outputs": [],
   "source": [
    "import os\n",
    "os.environ['TF_ENABLE_ONEDNN_OPTS'] = '0'"
   ]
  },
  {
   "cell_type": "code",
   "execution_count": 12,
   "id": "e5f9acb2",
   "metadata": {},
   "outputs": [],
   "source": [
    "import os\n",
    "os.environ['PYTORCH_ENABLE_MPS_FALLBACK'] = '1'"
   ]
  },
  {
   "cell_type": "code",
   "execution_count": 13,
   "id": "549f85de",
   "metadata": {},
   "outputs": [
    {
     "name": "stderr",
     "output_type": "stream",
     "text": [
      "/Users/frnepom/.pyenv/versions/3.9.18/lib/python3.9/site-packages/tqdm/auto.py:21: TqdmWarning: IProgress not found. Please update jupyter and ipywidgets. See https://ipywidgets.readthedocs.io/en/stable/user_install.html\n",
      "  from .autonotebook import tqdm as notebook_tqdm\n"
     ]
    }
   ],
   "source": [
    "# Imports\n",
    "import torch\n",
    "import transformers\n",
    "import accelerate\n",
    "import gluonts\n",
    "import pandas as pd\n",
    "import numpy as np\n",
    "from datasets import load_dataset\n",
    "import matplotlib.pyplot as plt\n",
    "import matplotlib.dates as mdates\n",
    "from functools import lru_cache\n",
    "from functools import partial\n",
    "from transformers import TimeSeriesTransformerConfig, TimeSeriesTransformerForPrediction\n",
    "from transformers import PretrainedConfig\n",
    "from typing import Optional\n",
    "from accelerate import Accelerator\n",
    "from torch.optim import AdamW\n",
    "from evaluate import load\n",
    "from typing import Iterable\n",
    "from gluonts.itertools import Cached, Cyclic\n",
    "from gluonts.dataset.loader import as_stacked_batches\n",
    "from gluonts.time_feature import get_seasonality\n",
    "from gluonts.time_feature import get_lags_for_frequency\n",
    "from gluonts.time_feature import time_features_from_frequency_str\n",
    "from gluonts.transform.sampler import InstanceSampler\n",
    "from gluonts.time_feature import (time_features_from_frequency_str, TimeFeature, get_lags_for_frequency)\n",
    "from gluonts.dataset.field_names import FieldName\n",
    "from gluonts.transform import (\n",
    "    AddAgeFeature,\n",
    "    AddObservedValuesIndicator,\n",
    "    AddTimeFeatures,\n",
    "    AsNumpyArray,\n",
    "    Chain,\n",
    "    ExpectedNumInstanceSampler,\n",
    "    InstanceSplitter,\n",
    "    RemoveFields,\n",
    "    SelectFields,\n",
    "    SetField,\n",
    "    TestSplitSampler,\n",
    "    Transformation,\n",
    "    ValidationSplitSampler,\n",
    "    VstackFeatures,\n",
    "    RenameFields,\n",
    ")"
   ]
  },
  {
   "cell_type": "code",
   "execution_count": 14,
   "id": "ab885c94",
   "metadata": {},
   "outputs": [
    {
     "name": "stdout",
     "output_type": "stream",
     "text": [
      "Author: Data Science Academy\n",
      "\n",
      "pandas      : 2.1.4\n",
      "numpy       : 1.26.3\n",
      "transformers: 4.30.2\n",
      "gluonts     : 0.13.2\n",
      "matplotlib  : 3.8.2\n",
      "torch       : 2.0.1\n",
      "accelerate  : 0.20.3\n",
      "\n"
     ]
    }
   ],
   "source": [
    "# Versões dos pacotes usados neste jupyter notebook\n",
    "%reload_ext watermark\n",
    "%watermark -a \"Data Science Academy\" --iversions"
   ]
  },
  {
   "cell_type": "markdown",
   "id": "db00f4c7",
   "metadata": {},
   "source": [
    "## Carregando os Dados de Séries Temporais"
   ]
  },
  {
   "cell_type": "markdown",
   "id": "55ca71c9",
   "metadata": {},
   "source": [
    "https://huggingface.co/datasets/monash_tsf"
   ]
  },
  {
   "cell_type": "code",
   "execution_count": 15,
   "id": "76d91411",
   "metadata": {},
   "outputs": [],
   "source": [
    "dataset = load_dataset(\"monash_tsf\", \"tourism_monthly\")"
   ]
  },
  {
   "cell_type": "code",
   "execution_count": 16,
   "id": "5d639f29",
   "metadata": {},
   "outputs": [
    {
     "data": {
      "text/plain": [
       "DatasetDict({\n",
       "    train: Dataset({\n",
       "        features: ['start', 'target', 'feat_static_cat', 'feat_dynamic_real', 'item_id'],\n",
       "        num_rows: 366\n",
       "    })\n",
       "    test: Dataset({\n",
       "        features: ['start', 'target', 'feat_static_cat', 'feat_dynamic_real', 'item_id'],\n",
       "        num_rows: 366\n",
       "    })\n",
       "    validation: Dataset({\n",
       "        features: ['start', 'target', 'feat_static_cat', 'feat_dynamic_real', 'item_id'],\n",
       "        num_rows: 366\n",
       "    })\n",
       "})"
      ]
     },
     "execution_count": 16,
     "metadata": {},
     "output_type": "execute_result"
    }
   ],
   "source": [
    "dataset"
   ]
  },
  {
   "cell_type": "code",
   "execution_count": 17,
   "id": "97700e3b",
   "metadata": {},
   "outputs": [
    {
     "data": {
      "text/plain": [
       "Dataset({\n",
       "    features: ['start', 'target', 'feat_static_cat', 'feat_dynamic_real', 'item_id'],\n",
       "    num_rows: 366\n",
       "})"
      ]
     },
     "execution_count": 17,
     "metadata": {},
     "output_type": "execute_result"
    }
   ],
   "source": [
    "dataset['train']"
   ]
  },
  {
   "cell_type": "code",
   "execution_count": 18,
   "id": "25a901c2",
   "metadata": {},
   "outputs": [
    {
     "data": {
      "text/plain": [
       "datasets.arrow_dataset.Dataset"
      ]
     },
     "execution_count": 18,
     "metadata": {},
     "output_type": "execute_result"
    }
   ],
   "source": [
    "type(dataset['train'])"
   ]
  },
  {
   "cell_type": "code",
   "execution_count": 19,
   "id": "3b0ee24b",
   "metadata": {},
   "outputs": [],
   "source": [
    "train_example = dataset['train'][0]"
   ]
  },
  {
   "cell_type": "code",
   "execution_count": 20,
   "id": "905ec08b",
   "metadata": {},
   "outputs": [
    {
     "data": {
      "text/plain": [
       "dict_keys(['start', 'target', 'feat_static_cat', 'feat_dynamic_real', 'item_id'])"
      ]
     },
     "execution_count": 20,
     "metadata": {},
     "output_type": "execute_result"
    }
   ],
   "source": [
    "train_example.keys()"
   ]
  },
  {
   "cell_type": "code",
   "execution_count": 21,
   "id": "96ec4442",
   "metadata": {},
   "outputs": [
    {
     "name": "stdout",
     "output_type": "stream",
     "text": [
      "1979-01-01 00:00:00\n",
      "[1149.8699951171875, 1053.8001708984375, 1388.8797607421875, 1783.3702392578125, 1921.025146484375, 2704.94482421875, 4184.41357421875, 4148.35400390625, 2620.72509765625, 1650.300048828125, 1115.9200439453125, 1370.6251220703125, 1096.31494140625, 978.4600219726562, 1294.68505859375, 1480.465087890625, 1748.865234375, 2216.920166015625, 4690.5185546875, 4682.8642578125, 2459.579833984375, 1484.4901123046875, 1028.985107421875, 1109.3648681640625, 960.8751220703125, 896.35009765625, 1118.6551513671875, 1619.9949951171875, 1847.994873046875, 2367.044921875, 4991.16015625, 4772.9443359375, 2894.678466796875, 1860.4801025390625, 1185.150146484375, 1313.659912109375, 1160.9150390625, 1061.5048828125, 1301.77001953125, 1794.3797607421875, 2106.455078125, 2789.034912109375, 4917.8466796875, 4994.4833984375, 3016.754150390625, 1941.505126953125, 1234.135009765625, 1378.72021484375, 1182.9749755859375, 1081.6600341796875, 1424.110107421875, 1774.5350341796875, 2115.420166015625, 2804.840087890625, 4849.498046875, 4937.47509765625, 3074.2236328125, 2063.42529296875, 1297.355224609375, 1350.710205078125, 1224.360107421875, 1165.815185546875, 1409.3299560546875, 2116.5498046875, 2357.135009765625, 2995.0703125, 5295.2119140625, 4957.90478515625, 3321.959228515625, 2221.18017578125, 1345.9000244140625, 1514.01513671875, 1239.5501708984375, 1172.159912109375, 1518.9752197265625, 1996.8751220703125, 2248.68505859375, 3053.440185546875, 5019.45361328125, 5466.7802734375, 3235.167724609375, 2157.97998046875, 1379.7252197265625, 1728.0400390625, 1350.10986328125, 1216.014892578125, 1751.3251953125, 1805.320068359375, 2570.02490234375, 3204.240234375, 5395.72021484375, 6078.82861328125, 3587.098388671875, 2285.195068359375, 1582.18994140625, 1787.4298095703125, 1554.8701171875, 1409.8648681640625, 1612.125, 2286.239990234375, 2913.755126953125, 3645.908447265625, 5956.70849609375, 6326.97509765625, 3914.66015625, 2617.675048828125, 1675.1650390625, 2139.219970703125, 1715.4898681640625, 1663.5799560546875, 2053.699951171875, 2354.929931640625, 3038.591796875, 3470.609375, 6606.18359375, 6587.63671875, 4133.78271484375, 2960.0244140625, 1762.5849609375, 2125.64013671875, 1815.9150390625, 1632.31494140625, 2210.39501953125, 2210.215087890625, 3099.269287109375, 3468.77783203125, 6482.92529296875, 6665.48486328125, 4006.36181640625, 2882.3349609375, 1775.2498779296875, 2171.64990234375, 1796.4749755859375, 1692.349853515625, 1949.78515625, 2680.630126953125, 2645.949951171875, 3414.742919921875, 5772.876953125]\n"
     ]
    }
   ],
   "source": [
    "print(train_example['start'])\n",
    "print(train_example['target'])"
   ]
  },
  {
   "cell_type": "code",
   "execution_count": 22,
   "id": "7a86c2f2",
   "metadata": {},
   "outputs": [],
   "source": [
    "validation_example = dataset['validation'][0]"
   ]
  },
  {
   "cell_type": "code",
   "execution_count": 23,
   "id": "d9e16b83",
   "metadata": {},
   "outputs": [
    {
     "data": {
      "text/plain": [
       "dict_keys(['start', 'target', 'feat_static_cat', 'feat_dynamic_real', 'item_id'])"
      ]
     },
     "execution_count": 23,
     "metadata": {},
     "output_type": "execute_result"
    }
   ],
   "source": [
    "validation_example.keys()"
   ]
  },
  {
   "cell_type": "code",
   "execution_count": 24,
   "id": "ccef1a4a",
   "metadata": {},
   "outputs": [
    {
     "name": "stdout",
     "output_type": "stream",
     "text": [
      "1979-01-01 00:00:00\n",
      "[1149.8699951171875, 1053.8001708984375, 1388.8797607421875, 1783.3702392578125, 1921.025146484375, 2704.94482421875, 4184.41357421875, 4148.35400390625, 2620.72509765625, 1650.300048828125, 1115.9200439453125, 1370.6251220703125, 1096.31494140625, 978.4600219726562, 1294.68505859375, 1480.465087890625, 1748.865234375, 2216.920166015625, 4690.5185546875, 4682.8642578125, 2459.579833984375, 1484.4901123046875, 1028.985107421875, 1109.3648681640625, 960.8751220703125, 896.35009765625, 1118.6551513671875, 1619.9949951171875, 1847.994873046875, 2367.044921875, 4991.16015625, 4772.9443359375, 2894.678466796875, 1860.4801025390625, 1185.150146484375, 1313.659912109375, 1160.9150390625, 1061.5048828125, 1301.77001953125, 1794.3797607421875, 2106.455078125, 2789.034912109375, 4917.8466796875, 4994.4833984375, 3016.754150390625, 1941.505126953125, 1234.135009765625, 1378.72021484375, 1182.9749755859375, 1081.6600341796875, 1424.110107421875, 1774.5350341796875, 2115.420166015625, 2804.840087890625, 4849.498046875, 4937.47509765625, 3074.2236328125, 2063.42529296875, 1297.355224609375, 1350.710205078125, 1224.360107421875, 1165.815185546875, 1409.3299560546875, 2116.5498046875, 2357.135009765625, 2995.0703125, 5295.2119140625, 4957.90478515625, 3321.959228515625, 2221.18017578125, 1345.9000244140625, 1514.01513671875, 1239.5501708984375, 1172.159912109375, 1518.9752197265625, 1996.8751220703125, 2248.68505859375, 3053.440185546875, 5019.45361328125, 5466.7802734375, 3235.167724609375, 2157.97998046875, 1379.7252197265625, 1728.0400390625, 1350.10986328125, 1216.014892578125, 1751.3251953125, 1805.320068359375, 2570.02490234375, 3204.240234375, 5395.72021484375, 6078.82861328125, 3587.098388671875, 2285.195068359375, 1582.18994140625, 1787.4298095703125, 1554.8701171875, 1409.8648681640625, 1612.125, 2286.239990234375, 2913.755126953125, 3645.908447265625, 5956.70849609375, 6326.97509765625, 3914.66015625, 2617.675048828125, 1675.1650390625, 2139.219970703125, 1715.4898681640625, 1663.5799560546875, 2053.699951171875, 2354.929931640625, 3038.591796875, 3470.609375, 6606.18359375, 6587.63671875, 4133.78271484375, 2960.0244140625, 1762.5849609375, 2125.64013671875, 1815.9150390625, 1632.31494140625, 2210.39501953125, 2210.215087890625, 3099.269287109375, 3468.77783203125, 6482.92529296875, 6665.48486328125, 4006.36181640625, 2882.3349609375, 1775.2498779296875, 2171.64990234375, 1796.4749755859375, 1692.349853515625, 1949.78515625, 2680.630126953125, 2645.949951171875, 3414.742919921875, 5772.876953125, 6053.7041015625, 3878.12841796875, 2806.514892578125, 1735.5382080078125, 2128.919921875, 1608.01416015625, 1441.330078125, 2068.235107421875, 2207.610107421875, 2918.409912109375, 3400.81787109375, 6048.7421875, 6483.14013671875, 4063.502685546875, 2900.22998046875, 1907.094970703125, 2338.510009765625, 1787.1650390625, 1699.6451416015625, 1979.105224609375, 2824.260009765625, 3076.5048828125, 3402.5849609375, 5985.830078125]\n"
     ]
    }
   ],
   "source": [
    "print(validation_example['start'])\n",
    "print(validation_example['target'])"
   ]
  },
  {
   "cell_type": "markdown",
   "id": "67aee17f",
   "metadata": {},
   "source": [
    "## Visualizando a Série Temporal"
   ]
  },
  {
   "cell_type": "code",
   "execution_count": 25,
   "id": "02eca39a",
   "metadata": {},
   "outputs": [],
   "source": [
    "# Frequência da série temporal (1 mês)\n",
    "freq = \"1M\""
   ]
  },
  {
   "cell_type": "code",
   "execution_count": 26,
   "id": "ae979411",
   "metadata": {},
   "outputs": [],
   "source": [
    "# Janela de previsão (24 meses)\n",
    "prediction_length = 24"
   ]
  },
  {
   "cell_type": "code",
   "execution_count": 27,
   "id": "e570d10e",
   "metadata": {},
   "outputs": [],
   "source": [
    "# Verifica se o comprimento dos dados de testes permite a janela de previsão\n",
    "assert len(train_example[\"target\"]) + prediction_length == len(validation_example[\"target\"])"
   ]
  },
  {
   "cell_type": "code",
   "execution_count": 28,
   "id": "80c3a2cb",
   "metadata": {},
   "outputs": [
    {
     "data": {
      "image/png": "[encoded data removed]",
      "text/plain": [
       "<Figure size 640x480 with 1 Axes>"
      ]
     },
     "metadata": {},
     "output_type": "display_data"
    }
   ],
   "source": [
    "# Plot\n",
    "figure, axes = plt.subplots()\n",
    "axes.plot(train_example[\"target\"], color = \"blue\")\n",
    "axes.plot(validation_example[\"target\"], color = \"red\", alpha = 0.5)\n",
    "plt.show()"
   ]
  },
  {
   "cell_type": "markdown",
   "id": "fd33d562",
   "metadata": {},
   "source": [
    "## Definição dos Atributos"
   ]
  },
  {
   "cell_type": "code",
   "execution_count": 29,
   "id": "4c88eb51",
   "metadata": {},
   "outputs": [],
   "source": [
    "# Datasets de treino e teste\n",
    "train_dataset = dataset[\"train\"]\n",
    "test_dataset = dataset[\"test\"]"
   ]
  },
  {
   "cell_type": "code",
   "execution_count": 30,
   "id": "7c44cc3d",
   "metadata": {},
   "outputs": [
    {
     "data": {
      "text/plain": [
       "datasets.arrow_dataset.Dataset"
      ]
     },
     "execution_count": 30,
     "metadata": {},
     "output_type": "execute_result"
    }
   ],
   "source": [
    "type(train_dataset)"
   ]
  },
  {
   "cell_type": "code",
   "execution_count": 31,
   "id": "8b81a827",
   "metadata": {},
   "outputs": [],
   "source": [
    "# Função para converter para um período de data\n",
    "def convert_to_pandas_period(date, freq):\n",
    "    return pd.Period(date, freq)"
   ]
  },
  {
   "cell_type": "code",
   "execution_count": 32,
   "id": "afad2aff",
   "metadata": {},
   "outputs": [],
   "source": [
    "# Função para definir o início do batch de dados\n",
    "def transform_start_field(batch, freq):\n",
    "    batch[\"start\"] = [convert_to_pandas_period(date, freq) for date in batch[\"start\"]]\n",
    "    return batch"
   ]
  },
  {
   "cell_type": "code",
   "execution_count": 33,
   "id": "f72e9dfd",
   "metadata": {},
   "outputs": [],
   "source": [
    "# Ajusta os datasets das séries temporais no formato apropriado\n",
    "train_dataset.set_transform(partial(transform_start_field, freq = freq))\n",
    "test_dataset.set_transform(partial(transform_start_field, freq = freq))"
   ]
  },
  {
   "cell_type": "code",
   "execution_count": 34,
   "id": "ade833e6",
   "metadata": {},
   "outputs": [
    {
     "data": {
      "text/plain": [
       "datasets.arrow_dataset.Dataset"
      ]
     },
     "execution_count": 34,
     "metadata": {},
     "output_type": "execute_result"
    }
   ],
   "source": [
    "type(train_dataset)"
   ]
  },
  {
   "cell_type": "code",
   "execution_count": 35,
   "id": "2af91337",
   "metadata": {},
   "outputs": [
    {
     "data": {
      "text/plain": [
       "Dataset({\n",
       "    features: ['start', 'target', 'feat_static_cat', 'feat_dynamic_real', 'item_id'],\n",
       "    num_rows: 366\n",
       "})"
      ]
     },
     "execution_count": 35,
     "metadata": {},
     "output_type": "execute_result"
    }
   ],
   "source": [
    "train_dataset"
   ]
  },
  {
   "cell_type": "markdown",
   "id": "f6ba3c7a",
   "metadata": {},
   "source": [
    "\"Lags\" em séries temporais referem-se a pontos de dados anteriores em uma série de tempo. Em outras palavras, um \"lag\" é um atraso temporal. Por exemplo, em uma série temporal mensal, o \"lag\" de um mês refere-se aos dados do mês anterior.\n",
    "\n",
    "Os \"lags\" são usados principalmente em modelos de séries temporais para entender os padrões de tempo nos dados. Em particular, os modelos autoregressivos (AR) usam \"lags\" dos dados de séries temporais como variáveis de entrada.\n",
    "\n",
    "Por exemplo, um modelo AR(1) usa um \"lag\" de um período (por exemplo, o valor da série temporal no mês anterior) para prever o valor atual da série temporal. Um modelo AR(2) usaria dois \"lags\" (por exemplo, os valores da série temporal nos dois meses anteriores) para prever o valor atual.\n",
    "\n",
    "De uma forma geral, a ideia de \"lag\" é essencial para muitas técnicas de análise de séries temporais e fornece um meio de incorporar informações históricas na previsão de dados futuros."
   ]
  },
  {
   "cell_type": "code",
   "execution_count": 36,
   "id": "86fe4982",
   "metadata": {},
   "outputs": [
    {
     "name": "stdout",
     "output_type": "stream",
     "text": [
      "[1, 2, 3, 4, 5, 6, 7, 11, 12, 13, 23, 24, 25, 35, 36, 37]\n"
     ]
    }
   ],
   "source": [
    "# Lags\n",
    "lags_sequence = get_lags_for_frequency(freq)\n",
    "print(lags_sequence)"
   ]
  },
  {
   "cell_type": "code",
   "execution_count": 37,
   "id": "33907a45",
   "metadata": {},
   "outputs": [
    {
     "name": "stdout",
     "output_type": "stream",
     "text": [
      "[<function month_of_year at 0x2acb171f0>]\n"
     ]
    }
   ],
   "source": [
    "# Atributos de tempo\n",
    "time_features = time_features_from_frequency_str(freq)\n",
    "print(time_features)"
   ]
  },
  {
   "cell_type": "markdown",
   "id": "b99c3bc6",
   "metadata": {},
   "source": [
    "## TimeSeries Transformer Config\n",
    "\n",
    "O código abaixo é para configurar um transformador de séries temporais. A configuração define vários hiperparâmetros para o modelo. Detalhes de cada parâmetro:\n",
    "\n",
    "**prediction_length**: o número de etapas à frente que o modelo deve prever. Por exemplo, se você estiver trabalhando com dados diários e quiser prever uma semana à frente, o prediction_length seria 7.\n",
    "\n",
    "**context_length**: o número de pontos de dados anteriores que o modelo usará para fazer suas previsões. Neste caso, é definido como duas vezes o prediction_length.\n",
    "\n",
    "**lags_sequence**: esta é a sequência de atrasos de tempo (ou \"lags\") que o modelo usará. Lags são valores passados em uma série temporal. Por exemplo, em um modelo de regressão, você pode usar dados de um dia, uma semana e um mês atrás como entradas.\n",
    "\n",
    "**num_time_features**: o número de características temporais que o modelo usará. Características de tempo podem incluir coisas como a hora do dia, dia da semana, mês do ano, etc.\n",
    "\n",
    "**num_static_categorical_features**: o número de características categóricas estáticas. Essas são características que não mudam com o tempo, como o ID de uma loja ou produto em previsões de vendas.\n",
    "\n",
    "**cardinality**: o número de valores possíveis para cada característica categórica. Aqui, há uma característica categórica com 366 valores possíveis.\n",
    "\n",
    "**embedding_dimension**: a dimensionalidade do espaço de incorporação para as características categóricas. Neste caso, cada um dos 366 possíveis valores categóricos será mapeado para um vetor de 2 dimensões.\n",
    "\n",
    "**encoder_layers e decoder_layers**: o número de camadas na codificador e decodificador do transformador, respectivamente.\n",
    "\n",
    "**d_model**: a dimensionalidade do espaço de entrada e saída para o transformador.\n",
    "\n",
    "Todos esses parâmetros serão usados para construir e treinar o modelo de transformador de séries temporais. A escolha desses hiperparâmetros pode ter um grande impacto na performance do seu modelo."
   ]
  },
  {
   "cell_type": "code",
   "execution_count": 38,
   "id": "4bc90b86",
   "metadata": {},
   "outputs": [],
   "source": [
    "# TimeSeries Transformer Config\n",
    "config = TimeSeriesTransformerConfig(\n",
    "    \n",
    "    prediction_length = prediction_length,\n",
    "    \n",
    "    # Comprimento do contexto\n",
    "    context_length = prediction_length * 2,\n",
    "    \n",
    "    # Lags sequence\n",
    "    lags_sequence = lags_sequence,\n",
    "    \n",
    "    # Adicionaremos 2 características de tempo (\"mês do ano\" e \"idade\", veja mais adiante):\n",
    "    num_time_features =len(time_features) + 1,\n",
    "    \n",
    "    # Temos um único recurso categórico estático, ou seja, o ID da série temporal\n",
    "    num_static_categorical_features = 1,\n",
    "    \n",
    "    # Tem 366 valores possíveis:\n",
    "    cardinality = [len(train_dataset)],\n",
    "    \n",
    "    # O modelo aprenderá uma embedding de tamanho 2 para cada um dos 366 valores possíveis:\n",
    "    embedding_dimension = [2],\n",
    "    \n",
    "    # Parâmetros da rede neural do Transformer\n",
    "    encoder_layers = 4,\n",
    "    decoder_layers = 4,\n",
    "    d_model = 32,\n",
    ")\n",
    "    \n"
   ]
  },
  {
   "cell_type": "markdown",
   "id": "a2c3ef7c",
   "metadata": {},
   "source": [
    "## TimeSeries Transformer For Prediction\n",
    "\n",
    "https://huggingface.co/docs/transformers/model_doc/time_series_transformer\n",
    "\n",
    "Os Transformers são modelos de aprendizado de máquina baseados em atenção que foram introduzidos em 2017 no artigo <a href=\"https://arxiv.org/abs/1706.03762\">\"Attention is All You Need\"</a> de Vaswani et al. Eles têm sido usados com sucesso em uma variedade de tarefas de processamento de linguagem natural, como tradução automática e geração de texto. A arquitetura do Transformer pode ser descrita em suas principais partes:\n",
    "\n",
    "**Codificador**: O codificador consiste em uma pilha de camadas idênticas, cada uma com duas sub-camadas: uma sub-camada de atenção multi-cabeça e uma sub-camada de feed-forward. A saída de cada sub-camada passa por uma normalização de camada e é então usada como entrada para a próxima sub-camada. A entrada para o codificador é uma sequência de tokens, que são primeiro incorporados em vetores e então modificados por uma codificação posicional antes de serem alimentados no codificador.\n",
    "\n",
    "**Atenção multi-cabeça**: A atenção multi-cabeça permite que o modelo se concentre em diferentes partes da entrada para cada cabeça de atenção. A atenção é calculada usando uma função softmax em um produto escalar de um vetor de consulta com todos os vetores-chave, e os resultados são usados para ponderar os vetores de valor. Isso é feito separadamente para cada cabeça de atenção, e então as saídas são concatenadas e linearmente transformadas para produzir a saída final da atenção multi-cabeça.\n",
    "\n",
    "**Rede feed-forward**: A rede feed-forward que segue a atenção multi-cabeça em cada camada do codificador e decodificador é uma rede simples com duas camadas lineares e uma ativação ReLU entre elas.\n",
    "\n",
    "**Decodificador**: O decodificador também consiste em uma pilha de camadas idênticas, mas com uma terceira sub-camada que realiza atenção multi-cabeça sobre a saída do codificador. Isso permite que o decodificador leve em consideração toda a sequência de entrada ao produzir cada token de saída.\n",
    "\n",
    "**Camada final de classificação**: Finalmente, a saída do decodificador passa por uma camada linear e uma função softmax para produzir probabilidades para cada token possível na sequência de saída.\n",
    "\n",
    "O modelo Transformer é treinado usando a otimização de descida de gradiente estocástica e a função de perda de entropia cruzada para as previsões de probabilidade de token.\n",
    "\n",
    "### Matemática do Modelo Transformer\n",
    "\n",
    "Vamos descrever as partes do modelo Transformer com algumas fórmulas. Os termos a seguir serão úteis para entender:\n",
    "\n",
    "- Q: vetor de consulta\n",
    "- K: vetor de chave\n",
    "- V: vetor de valor\n",
    "\n",
    "As fórmulas para o mecanismo de atenção no Transformer são as seguintes:\n",
    "\n",
    "Atenção Escalada por Produto Escalar:\n",
    "\n",
    "A função de atenção é usada para calcular a importância de diferentes partes da entrada. Ela recebe três entradas: Q, K e V. A saída é calculada como:\n",
    "\n",
    "**Attention(Q, K, V) = softmax((QK^T) / sqrt(d_k))V**\n",
    "\n",
    "onde d_k é a dimensão dos vetores-chave e o operador ^T indica a transposição de uma matriz. A operação de produto escalar entre Q e K ajuda a determinar a relevância entre cada par de consulta e chave. O resultado é então dividido pela raiz quadrada de d_k para evitar que os valores do produto escalar fiquem muito grandes. Por fim, a função softmax é aplicada para transformar os pesos em probabilidades que somam 1. Esses pesos são então usados para ponderar os vetores de valor.\n",
    "\n",
    "Atenção Multi-cabeça:\n",
    "\n",
    "A atenção multi-cabeça permite que o modelo se concentre em diferentes partes da entrada para cada cabeça de atenção. Suponha que temos h cabeças de atenção. Para cada cabeça, primeiro transformamos Q, K e V com diferentes pesos aprendidos:\n",
    "\n",
    "- Q_i = QW^Q_i\n",
    "- K_i = KW^K_i\n",
    "- V_i = VW^V_i\n",
    "\n",
    "onde W^Q_i, W^K_i e W^V_i são os pesos aprendidos para a i-ésima cabeça.\n",
    "\n",
    "Em seguida, aplicamos a atenção escalada por produto escalar para cada conjunto de Q_i, K_i e V_i:\n",
    "\n",
    "**head_i = Attention(Q_i, K_i, V_i)**\n",
    "\n",
    "A saída de todas as cabeças é então concatenada e linearmente transformada para produzir a saída final:\n",
    "\n",
    "**MultiHead(Q, K, V) = Concat(head_1, ..., head_h)W^O**\n",
    "\n",
    "onde W^O é uma matriz de pesos aprendida.\n",
    "\n",
    "Codificador e Decodificador:\n",
    "\n",
    "No codificador, cada camada consiste em atenção multi-cabeça seguida por uma rede neural feed-forward. A entrada passa pela atenção multi-cabeça e é então somada à entrada original (conexão residual) e normalizada. O resultado passa pela rede feed-forward, é somado à entrada e normalizado novamente.\n",
    "\n",
    "No decodificador, temos uma camada adicional de atenção multi-cabeça que leva a saída do codificador como K e V. Isso permite que o decodificador leve em consideração a entrada inteira ao produzir cada token de saída."
   ]
  },
  {
   "cell_type": "code",
   "execution_count": 39,
   "id": "a7dcd0ba",
   "metadata": {},
   "outputs": [],
   "source": [
    "# Cria o modelo com a config criada\n",
    "model = TimeSeriesTransformerForPrediction(config)"
   ]
  },
  {
   "cell_type": "markdown",
   "id": "3c499f19",
   "metadata": {},
   "source": [
    "## Pré-Processamento dos Dados"
   ]
  },
  {
   "cell_type": "code",
   "execution_count": 40,
   "id": "0d922cbe",
   "metadata": {},
   "outputs": [],
   "source": [
    "# Função para criar a transformação (sequência dos dados)\n",
    "def create_transformation(freq: str, config: PretrainedConfig) -> Transformation:\n",
    "    \n",
    "    remove_field_names = []\n",
    "    \n",
    "    if config.num_static_real_features == 0:\n",
    "        remove_field_names.append(FieldName.FEAT_STATIC_REAL)\n",
    "    \n",
    "    if config.num_dynamic_real_features == 0:\n",
    "        remove_field_names.append(FieldName.FEAT_DYNAMIC_REAL)\n",
    "        \n",
    "    if config.num_static_categorical_features == 0:\n",
    "        remove_field_names.append(FieldName.FEAT_STATIC_CAT)\n",
    "        \n",
    "    return Chain(\n",
    "        \n",
    "        # Passo 1: remover campos estáticos/dinâmicos se não for especificado\n",
    "        [RemoveFields(field_names = remove_field_names)]\n",
    "        \n",
    "        # Passo 2: converter os dados para NumPy (potencialmente não necessário)\n",
    "        + (\n",
    "            [\n",
    "                AsNumpyArray(field = FieldName.FEAT_STATIC_CAT, expected_ndim = 1, dtype = int)\n",
    "            ]\n",
    "            if config.num_static_categorical_features > 0\n",
    "            else []\n",
    "        )\n",
    "        + (\n",
    "            [\n",
    "                AsNumpyArray(field = FieldName.FEAT_STATIC_REAL, expected_ndim = 1)\n",
    "            ]\n",
    "            if config.num_static_real_features > 0\n",
    "            else []\n",
    "        )\n",
    "        + [\n",
    "            AsNumpyArray(field=FieldName.TARGET, expected_ndim = 1 if config.input_size == 1 else 2,\n",
    "            ),\n",
    "        \n",
    "            # Passo 3: Trata os NaN's preenchendo o alvo com zero e retornando a máscara\n",
    "            AddObservedValuesIndicator(target_field = FieldName.TARGET, output_field = FieldName.OBSERVED_VALUES),\n",
    "            \n",
    "            # Passo 4: Adiciona recursos temporais com base na freq do mês do ano do conjunto de dados \n",
    "            # no caso em que freq=\"M\" eles servem como codificações posicionais\n",
    "            AddTimeFeatures(\n",
    "                start_field = FieldName.START,\n",
    "                target_field = FieldName.TARGET,\n",
    "                output_field = FieldName.FEAT_TIME,\n",
    "                time_features = time_features_from_frequency_str(freq),\n",
    "                pred_length = config.prediction_length\n",
    "            ),\n",
    "            # Passo 5: Adiciona outro recurso temporal (apenas um único número) \n",
    "            # Informa ao modelo onde está o valor da série temporal, uma espécie de contador em execução\n",
    "            AddAgeFeature(\n",
    "                target_field = FieldName.TARGET,\n",
    "                output_field = FieldName.FEAT_AGE,\n",
    "                pred_length = config.prediction_length,\n",
    "                log_scale = True,\n",
    "            ),\n",
    "            \n",
    "            # Passo 6: Empilha verticalmente todos os recursos temporais na chave FEAT_TIME\n",
    "            VstackFeatures(\n",
    "                output_field = FieldName.FEAT_TIME,\n",
    "                input_fields = [FieldName.FEAT_TIME, FieldName.FEAT_AGE]\n",
    "                + (\n",
    "                    [FieldName.FEAT_DYNAMIC_REAL]\n",
    "                    if config.num_dynamic_real_features > 0\n",
    "                    else []\n",
    "                ),\n",
    "            ),\n",
    "            \n",
    "            # Passo 7: Renomeia para corresponder aos nomes HuggingFace\n",
    "            RenameFields(\n",
    "                mapping={\n",
    "                    FieldName.FEAT_STATIC_CAT: \"static_categorical_features\",\n",
    "                    FieldName.FEAT_STATIC_REAL: \"static_real_features\",\n",
    "                    FieldName.FEAT_TIME: \"time_features\",\n",
    "                    FieldName.TARGET: \"values\",\n",
    "                    FieldName.OBSERVED_VALUES: \"observed_mask\",\n",
    "                }\n",
    "            ),\n",
    "        ]\n",
    "    )            \n",
    "             \n",
    "            \n",
    "            "
   ]
  },
  {
   "cell_type": "markdown",
   "id": "d9325ed9",
   "metadata": {},
   "source": [
    "## Divisão nas Amostras de Treino, Validação e Teste"
   ]
  },
  {
   "cell_type": "code",
   "execution_count": 41,
   "id": "28bdc261",
   "metadata": {},
   "outputs": [],
   "source": [
    "# Função para separar os dados em treino, validação e teste\n",
    "def create_instance_splitter(\n",
    "    config: PretrainedConfig,\n",
    "    mode: str,\n",
    "    train_sampler: Optional[InstanceSampler] = None,\n",
    "    validation_sampler: Optional[InstanceSampler] = None,\n",
    ") -> Transformation:\n",
    "    \n",
    "    assert mode in [\"train\",\"validation\", \"test\"]\n",
    "    \n",
    "    instance_sampler = {\n",
    "        \"train\": train_sampler\n",
    "        or ExpectedNumInstanceSampler(\n",
    "            num_instances = 1.0, min_future = config.prediction_length            \n",
    "        ),\n",
    "        \"validation\": validation_sampler\n",
    "        or ValidationSplitSampler(min_future = config.prediction_length),\n",
    "        \"test\": TestSplitSampler(),\n",
    "    }[mode]\n",
    "    \n",
    "    return InstanceSplitter(\n",
    "        target_field = \"values\",\n",
    "        is_pad_field = FieldName.IS_PAD,\n",
    "        start_field = FieldName.START,\n",
    "        forecast_start_field = FieldName.FORECAST_START,\n",
    "        instance_sampler = instance_sampler,\n",
    "        past_length = config.context_length + max(config.lags_sequence),\n",
    "        future_length = config.prediction_length,\n",
    "        time_series_fields = [\"time_features\", \"observed_mask\"],\n",
    "    )\n",
    "    "
   ]
  },
  {
   "cell_type": "markdown",
   "id": "7de9afc5",
   "metadata": {},
   "source": [
    "## Criação dos Dataloaders"
   ]
  },
  {
   "cell_type": "code",
   "execution_count": 73,
   "id": "9bf92628",
   "metadata": {},
   "outputs": [],
   "source": [
    "# Função para criar o dataloader de treino\n",
    "def create_train_dataloader(\n",
    "    config: PretrainedConfig,\n",
    "    freq,\n",
    "    data,\n",
    "    batch_size: int,\n",
    "    num_batches_per_epoch: int,\n",
    "    shuffle_buffer_length: Optional[int] = None,\n",
    "    cache_data: bool = True,\n",
    "    **kwargs,\n",
    ") -> Iterable:\n",
    "    \n",
    "    PREDICTION_INPUT_NAMES = [\n",
    "        \"past_time_features\",\n",
    "        \"past_values\",\n",
    "        \"past_observed_mask\",\n",
    "        \"future_time_features\",\n",
    "    ]\n",
    "    \n",
    "    if config.num_static_categorical_features > 0:\n",
    "        PREDICTION_INPUT_NAMES.append(\"static_categorical_features\")\n",
    "\n",
    "    if config.num_static_real_features > 0:\n",
    "        PREDICTION_INPUT_NAMES.append(\"static_real_features\")\n",
    "\n",
    "    TRAINING_INPUT_NAMES = PREDICTION_INPUT_NAMES + [\n",
    "        \"future_values\",\n",
    "        \"future_observed_mask\",\n",
    "    ]\n",
    "\n",
    "    transformation = create_transformation(freq, config)\n",
    "    transformed_data = transformation.apply(data, is_train = True)\n",
    "    \n",
    "    if cache_data:\n",
    "        transformed_data = Cached(transformed_data)\n",
    "\n",
    "    # Inicializa a instância de treino\n",
    "    instance_splitter = create_instance_splitter(config, \"train\")\n",
    "\n",
    "    # O divisor de instância irá amostrar uma janela de comprimento de contexto + atrasos + comprimento de previsão \n",
    "    # (das 366 possíveis séries temporais transformadas) aleatoriamente de dentro da série temporal de destino \n",
    "    # e retornará um iterador.\n",
    "    stream = Cyclic(transformed_data).stream()\n",
    "    training_instances = instance_splitter.apply(stream, is_train = True)\n",
    "    \n",
    "    return as_stacked_batches(\n",
    "        training_instances,\n",
    "        batch_size = batch_size,\n",
    "        shuffle_buffer_length = shuffle_buffer_length,\n",
    "        field_names = TRAINING_INPUT_NAMES,\n",
    "        output_type = torch.tensor,\n",
    "        num_batches_per_epoch = num_batches_per_epoch,\n",
    "    )"
   ]
  },
  {
   "cell_type": "code",
   "execution_count": 74,
   "id": "2f835b19",
   "metadata": {},
   "outputs": [],
   "source": [
    "# Função para criar o dataloader de teste\n",
    "def create_test_dataloader(\n",
    "    config: PretrainedConfig,\n",
    "    freq,\n",
    "    data,\n",
    "    batch_size: int,\n",
    "    **kwargs,\n",
    "):\n",
    "    \n",
    "    PREDICTION_INPUT_NAMES = [\n",
    "        \"past_time_features\",\n",
    "        \"past_values\",\n",
    "        \"past_observed_mask\",\n",
    "        \"future_time_features\",\n",
    "    ]\n",
    "    \n",
    "    if config.num_static_categorical_features > 0:\n",
    "        PREDICTION_INPUT_NAMES.append(\"static_categorical_features\")\n",
    "        \n",
    "    if config.num_static_real_features > 0:\n",
    "        PREDICTION_INPUT_NAMES.append(\"static_real_features\")\n",
    "        \n",
    "    transformation = create_transformation(freq, config)\n",
    "    transformed_data = transformation.apply(data, is_train=False)\n",
    "    \n",
    "    # Criamos um divisor de instância de teste que irá amostrar a última janela de contexto vista durante \n",
    "    # o treinamento apenas para o codificador.\n",
    "    instance_sampler = create_instance_splitter(config, \"test\")\n",
    "\n",
    "    # Aplicamos as transformações em modo de teste\n",
    "    testing_instances = instance_sampler.apply(transformed_data, is_train = False)\n",
    "    \n",
    "    return as_stacked_batches(\n",
    "        testing_instances,\n",
    "        batch_size = batch_size,\n",
    "        output_type = torch.tensor,\n",
    "        field_names = PREDICTION_INPUT_NAMES,\n",
    "    )\n",
    "   "
   ]
  },
  {
   "cell_type": "code",
   "execution_count": 75,
   "id": "cc11871c",
   "metadata": {},
   "outputs": [],
   "source": [
    "# Cria o dataloader de treino\n",
    "train_dataloader = create_train_dataloader(\n",
    "    config = config,\n",
    "    freq = freq,\n",
    "    data = train_dataset,\n",
    "    batch_size = 256,\n",
    "    num_batches_per_epoch = 100,\n",
    ")"
   ]
  },
  {
   "cell_type": "code",
   "execution_count": 76,
   "id": "1c3444b0",
   "metadata": {},
   "outputs": [],
   "source": [
    "# Cria o dataloader de teste\n",
    "test_dataloader = create_test_dataloader(\n",
    "    config = config,\n",
    "    freq = freq,\n",
    "    data = test_dataset,\n",
    "    batch_size = 64\n",
    ")"
   ]
  },
  {
   "cell_type": "code",
   "execution_count": 77,
   "id": "fc8d8b59",
   "metadata": {},
   "outputs": [
    {
     "name": "stdout",
     "output_type": "stream",
     "text": [
      "past_time_features torch.Size([256, 85, 2]) <built-in method type of Tensor object at 0x2ace1d4f0>\n",
      "past_values torch.Size([256, 85]) <built-in method type of Tensor object at 0x2ad95e180>\n",
      "past_observed_mask torch.Size([256, 85]) <built-in method type of Tensor object at 0x2ad95e270>\n",
      "future_time_features torch.Size([256, 24, 2]) <built-in method type of Tensor object at 0x2ad9413b0>\n",
      "static_categorical_features torch.Size([256, 1]) <built-in method type of Tensor object at 0x2ad95c630>\n",
      "future_values torch.Size([256, 24]) <built-in method type of Tensor object at 0x2ad95c360>\n",
      "future_observed_mask torch.Size([256, 24]) <built-in method type of Tensor object at 0x2ad95c720>\n"
     ]
    }
   ],
   "source": [
    "# Imprime os itens de um batch para verificar se tudo está ok\n",
    "batch = next(iter(train_dataloader))\n",
    "for k, v in batch.items():\n",
    "    print(k, v.shape, v.type)"
   ]
  },
  {
   "cell_type": "markdown",
   "id": "c8d400a9",
   "metadata": {},
   "source": [
    "## Treinamento do Modelo"
   ]
  },
  {
   "cell_type": "code",
   "execution_count": 78,
   "id": "631e547c",
   "metadata": {},
   "outputs": [],
   "source": [
    "# Cria o acelerador\n",
    "accelerator = Accelerator()"
   ]
  },
  {
   "cell_type": "code",
   "execution_count": 79,
   "id": "2d9e3228",
   "metadata": {},
   "outputs": [],
   "source": [
    "# Registra o device\n",
    "device = accelerator.device"
   ]
  },
  {
   "cell_type": "code",
   "execution_count": 80,
   "id": "8f77ecde",
   "metadata": {},
   "outputs": [
    {
     "data": {
      "text/plain": [
       "TimeSeriesTransformerForPrediction(\n",
       "  (model): TimeSeriesTransformerModel(\n",
       "    (scaler): TimeSeriesMeanScaler()\n",
       "    (embedder): TimeSeriesFeatureEmbedder(\n",
       "      (embedders): ModuleList(\n",
       "        (0): Embedding(366, 2)\n",
       "      )\n",
       "    )\n",
       "    (encoder): TimeSeriesTransformerEncoder(\n",
       "      (value_embedding): TimeSeriesValueEmbedding(\n",
       "        (value_projection): Linear(in_features=22, out_features=32, bias=False)\n",
       "      )\n",
       "      (embed_positions): TimeSeriesSinusoidalPositionalEmbedding(72, 32)\n",
       "      (layers): ModuleList(\n",
       "        (0-3): 4 x TimeSeriesTransformerEncoderLayer(\n",
       "          (self_attn): TimeSeriesTransformerAttention(\n",
       "            (k_proj): Linear(in_features=32, out_features=32, bias=True)\n",
       "            (v_proj): Linear(in_features=32, out_features=32, bias=True)\n",
       "            (q_proj): Linear(in_features=32, out_features=32, bias=True)\n",
       "            (out_proj): Linear(in_features=32, out_features=32, bias=True)\n",
       "          )\n",
       "          (self_attn_layer_norm): LayerNorm((32,), eps=1e-05, elementwise_affine=True)\n",
       "          (activation_fn): GELUActivation()\n",
       "          (fc1): Linear(in_features=32, out_features=32, bias=True)\n",
       "          (fc2): Linear(in_features=32, out_features=32, bias=True)\n",
       "          (final_layer_norm): LayerNorm((32,), eps=1e-05, elementwise_affine=True)\n",
       "        )\n",
       "      )\n",
       "      (layernorm_embedding): LayerNorm((32,), eps=1e-05, elementwise_affine=True)\n",
       "    )\n",
       "    (decoder): TimeSeriesTransformerDecoder(\n",
       "      (value_embedding): TimeSeriesValueEmbedding(\n",
       "        (value_projection): Linear(in_features=22, out_features=32, bias=False)\n",
       "      )\n",
       "      (embed_positions): TimeSeriesSinusoidalPositionalEmbedding(72, 32)\n",
       "      (layers): ModuleList(\n",
       "        (0-3): 4 x TimeSeriesTransformerDecoderLayer(\n",
       "          (self_attn): TimeSeriesTransformerAttention(\n",
       "            (k_proj): Linear(in_features=32, out_features=32, bias=True)\n",
       "            (v_proj): Linear(in_features=32, out_features=32, bias=True)\n",
       "            (q_proj): Linear(in_features=32, out_features=32, bias=True)\n",
       "            (out_proj): Linear(in_features=32, out_features=32, bias=True)\n",
       "          )\n",
       "          (activation_fn): GELUActivation()\n",
       "          (self_attn_layer_norm): LayerNorm((32,), eps=1e-05, elementwise_affine=True)\n",
       "          (encoder_attn): TimeSeriesTransformerAttention(\n",
       "            (k_proj): Linear(in_features=32, out_features=32, bias=True)\n",
       "            (v_proj): Linear(in_features=32, out_features=32, bias=True)\n",
       "            (q_proj): Linear(in_features=32, out_features=32, bias=True)\n",
       "            (out_proj): Linear(in_features=32, out_features=32, bias=True)\n",
       "          )\n",
       "          (encoder_attn_layer_norm): LayerNorm((32,), eps=1e-05, elementwise_affine=True)\n",
       "          (fc1): Linear(in_features=32, out_features=32, bias=True)\n",
       "          (fc2): Linear(in_features=32, out_features=32, bias=True)\n",
       "          (final_layer_norm): LayerNorm((32,), eps=1e-05, elementwise_affine=True)\n",
       "        )\n",
       "      )\n",
       "      (layernorm_embedding): LayerNorm((32,), eps=1e-05, elementwise_affine=True)\n",
       "    )\n",
       "  )\n",
       "  (parameter_projection): ParameterProjection(\n",
       "    (proj): ModuleList(\n",
       "      (0-2): 3 x Linear(in_features=32, out_features=1, bias=True)\n",
       "    )\n",
       "    (domain_map): LambdaLayer()\n",
       "  )\n",
       ")"
      ]
     },
     "execution_count": 80,
     "metadata": {},
     "output_type": "execute_result"
    }
   ],
   "source": [
    "# Envia o modelo para o device\n",
    "model.to(device)"
   ]
  },
  {
   "cell_type": "markdown",
   "id": "772d9835",
   "metadata": {},
   "source": [
    "### Matemática da Otimização do Modelo\n",
    "\n",
    "O código abaixo inicializa um otimizador para um modelo de aprendizado profundo. O otimizador é uma parte crítica do treinamento de redes neurais, pois é responsável por atualizar os pesos das conexões na rede para minimizar o erro entre as previsões do modelo e os dados reais.\n",
    "\n",
    "Neste caso, o otimizador escolhido é o AdamW, que é uma variação do otimizador Adam com regularização de decaimento de peso (weight decay). Vamos analisar cada componente:\n",
    "\n",
    "**model.parameters()**: Esta é uma função que retorna todos os parâmetros (pesos e vieses) do modelo que estão sendo otimizados.\n",
    "\n",
    "**lr = 6e-4**: Este é o valor da taxa de aprendizado. A taxa de aprendizado controla a rapidez com que o modelo aprende. Uma taxa de aprendizado muito alta pode fazer com que o modelo salte sobre o mínimo global, enquanto uma taxa de aprendizado muito baixa pode fazer com que o modelo aprenda muito lentamente.\n",
    "\n",
    "**betas = (0.9, 0.95)**: Estes são os coeficientes usados para calcular as médias móveis dos gradientes e dos quadrados dos gradientes, respectivamente. Os valores padrão para Adam são geralmente (0.9, 0.999), mas eles podem ser ajustados.\n",
    "\n",
    "**weight_decay = 1e-1**: Este é o termo de regularização de decaimento de peso. O decaimento de peso é uma técnica de regularização que impõe uma penalidade sobre a magnitude dos pesos na rede. O objetivo é prevenir o overfitting, penalizando pesos grandes e incentivando pesos menores, levando a um modelo mais simples.\n",
    "\n",
    "O otimizador AdamW combina as vantagens do método de otimização adaptativa de Adam, que se adapta ao longo do tempo para otimizar a taxa de aprendizado de cada parâmetro individual, com a regularização de decaimento de peso para melhorar o desempenho do modelo em conjuntos de dados de teste.\n",
    "\n",
    "AdamW é um algoritmo de otimização baseado em gradientes usado para atualizar os pesos da rede neural para minimizar a função de perda. AdamW é uma extensão do Adam com decaimento de peso, como descrito em <a href=\"https://arxiv.org/abs/1711.05101\">\"Decoupled Weight Decay Regularization\"</a> por Loshchilov e Hutter.\n",
    "\n",
    "Aqui estão as etapas do AdamW em termos matemáticos:\n",
    "\n",
    "Cálculo dos Momentos de Primeira e Segunda Ordem\n",
    "\n",
    "Para cada parâmetro θ, Adam mantém uma estimativa do primeiro momento (a média móvel dos gradientes passados) e do segundo momento (a média móvel dos quadrados dos gradientes passados). Para uma dada etapa t, gradiente g_t e parâmetros de decaimento β1 e β2, essas estimativas são atualizadas da seguinte forma:\n",
    "\n",
    "- m_t = β1 * m_(t-1) + (1 - β1) * g_t\n",
    "- v_t = β2 * v_(t-1) + (1 - β2) * g_t^2\n",
    "\n",
    "Correção de Viés\n",
    "\n",
    "Como m_t e v_t são inicializados como zero, eles são tendenciosos para zero no início do treinamento. Portanto, Adam realiza uma correção de viés para compensar isso:\n",
    "\n",
    "- m_t_hat = m_t / (1 - β1^t)\n",
    "- v_t_hat = v_t / (1 - β2^t)\n",
    "\n",
    "Atualização de Peso\n",
    "\n",
    "Finalmente, os pesos são atualizados com uma taxa de aprendizado η e um termo de decaimento de peso w:\n",
    "\n",
    "**θ = θ - η * (m_t_hat / (sqrt(v_t_hat) + ε) + w * θ)**\n",
    "\n",
    "Onde ε é um termo de suavização para evitar a divisão por zero (geralmente algo como 1e-8).\n",
    "\n",
    "AdamW difere do Adam na forma como o termo de decaimento de peso é aplicado. No Adam original, o decaimento de peso é aplicado antes do cálculo do gradiente, o que pode levar a um acoplamento entre a atualização do peso e a escala do gradiente. AdamW aplica o decaimento de peso diretamente na etapa de atualização do peso, o que \"desacopla\" a regularização do decaimento de peso da escala do gradiente.\n",
    "\n",
    "O cálculo das derivadas é uma parte fundamental do treinamento de redes neurais e é aplicado durante o processo de retropropagação (backpropagation), que é usado para atualizar os pesos da rede. No contexto do otimizador AdamW (ou qualquer otimizador baseado em gradiente), a derivada é usada para calcular o gradiente da função de perda com relação a cada peso na rede.\n",
    "\n",
    "Na prática, você não precisa calcular essas derivadas manualmente. Frameworks modernos de aprendizado profundo, como TensorFlow e PyTorch, usam diferenciação automática para calcular as derivadas. Você simplesmente define a função de perda e o framework cuida de calcular os gradientes para você.\n",
    "\n",
    "No caso específico do AdamW, a derivada é usada para calcular o gradiente g_t na etapa de atualização de momentos. Esse gradiente é simplesmente a derivada da função de perda com relação ao peso específico que está sendo atualizado. O gradiente indica a direção e a magnitude da mudança no peso que resultará no maior decréscimo na função de perda.\n",
    "\n",
    "Então, em resumo, a derivada é usada no cálculo do gradiente, que é então usado para atualizar os pesos da rede neural na direção que minimiza a função de perda."
   ]
  },
  {
   "cell_type": "code",
   "execution_count": 81,
   "id": "a0b5b983",
   "metadata": {},
   "outputs": [],
   "source": [
    "# Otimizador\n",
    "optimizer = AdamW(model.parameters(), lr = 6e-4, betas = (0.9, 0.95), weight_decay = 1e-1)"
   ]
  },
  {
   "cell_type": "code",
   "execution_count": 82,
   "id": "48482f7c",
   "metadata": {},
   "outputs": [],
   "source": [
    "# Carrega o modelo, o otimizador e o dataloader de treino\n",
    "model, optimizer, train_dataloader = accelerator.prepare(model, optimizer, train_dataloader)"
   ]
  },
  {
   "cell_type": "markdown",
   "id": "3b0b2420",
   "metadata": {},
   "source": [
    "> Treinamento do Modelo"
   ]
  },
  {
   "cell_type": "code",
   "execution_count": 83,
   "id": "f8a99157",
   "metadata": {},
   "outputs": [
    {
     "name": "stderr",
     "output_type": "stream",
     "text": [
      "/Users/frnepom/.pyenv/versions/3.9.18/lib/python3.9/site-packages/torch/distributions/studentT.py:88: UserWarning: The operator 'aten::lgamma.out' is not currently supported on the MPS backend and will fall back to run on the CPU. This may have performance implications. (Triggered internally at /Users/runner/work/pytorch/pytorch/pytorch/aten/src/ATen/mps/MPSFallback.mm:11.)\n",
      "  torch.lgamma(0.5 * self.df) -\n"
     ]
    },
    {
     "name": "stdout",
     "output_type": "stream",
     "text": [
      "Erro do Modelo: 9.220112800598145\n",
      "Erro do Modelo: 7.815739154815674\n",
      "Erro do Modelo: 7.432149410247803\n",
      "Erro do Modelo: 7.274649143218994\n",
      "Erro do Modelo: 7.303499698638916\n",
      "Erro do Modelo: 7.806314468383789\n",
      "Erro do Modelo: 7.815919399261475\n",
      "Erro do Modelo: 7.310400485992432\n",
      "Erro do Modelo: 6.792970657348633\n",
      "Erro do Modelo: 7.180052280426025\n",
      "Erro do Modelo: 7.272066593170166\n",
      "Erro do Modelo: 7.049383640289307\n",
      "Erro do Modelo: 7.069743633270264\n",
      "Erro do Modelo: 6.635730266571045\n",
      "Erro do Modelo: 7.318338871002197\n",
      "Erro do Modelo: 7.099868297576904\n",
      "Erro do Modelo: 6.941986560821533\n",
      "Erro do Modelo: 7.084949493408203\n",
      "Erro do Modelo: 6.779313564300537\n",
      "Erro do Modelo: 6.821349620819092\n",
      "Erro do Modelo: 6.637195110321045\n",
      "Erro do Modelo: 7.255220890045166\n",
      "Erro do Modelo: 7.068965911865234\n",
      "Erro do Modelo: 6.79119348526001\n",
      "Erro do Modelo: 7.450745105743408\n",
      "Erro do Modelo: 7.631197452545166\n",
      "Erro do Modelo: 6.592555999755859\n",
      "Erro do Modelo: 7.080455303192139\n",
      "Erro do Modelo: 6.976733684539795\n",
      "Erro do Modelo: 7.060707092285156\n",
      "Erro do Modelo: 7.80697774887085\n",
      "Erro do Modelo: 7.241182804107666\n",
      "Erro do Modelo: 6.832749843597412\n",
      "Erro do Modelo: 7.203954219818115\n",
      "Erro do Modelo: 7.112509250640869\n",
      "Erro do Modelo: 7.065435409545898\n",
      "Erro do Modelo: 7.037713527679443\n",
      "Erro do Modelo: 6.908605098724365\n",
      "Erro do Modelo: 7.700541019439697\n",
      "Erro do Modelo: 6.850209712982178\n",
      "CPU times: user 10min 44s, sys: 1min 1s, total: 11min 45s\n",
      "Wall time: 11min 9s\n"
     ]
    }
   ],
   "source": [
    "%%time\n",
    "\n",
    "model.train()\n",
    "\n",
    "for epoch in range(40):\n",
    "        \n",
    "        for idx, batch in enumerate(train_dataloader):\n",
    "                \n",
    "                optimizer.zero_grad()\n",
    "                \n",
    "                outputs = model(\n",
    "                        static_categorical_features = batch[\"static_categorical_features\"].to(device)\n",
    "                        if config.num_static_categorical_features > 0\n",
    "                        else None,\n",
    "                        static_real_features = batch[\"static_real_features\"].to(device)\n",
    "                        if config.num_static_real_features > 0\n",
    "                        else None,\n",
    "                        past_time_features = batch[\"past_time_features\"].to(device),\n",
    "                        past_values = batch[\"past_values\"].to(device),\n",
    "                        future_time_features = batch[\"future_time_features\"].to(device),\n",
    "                        future_values = batch[\"future_values\"].to(device),\n",
    "                        past_observed_mask = batch[\"past_observed_mask\"].to(device),\n",
    "                        future_observed_mask = batch[\"future_observed_mask\"].to(device),\n",
    "                )\n",
    "                \n",
    "                loss = outputs.loss\n",
    "                \n",
    "                # Backpropagation\n",
    "                accelerator.backward(loss)\n",
    "                optimizer.step()\n",
    "                \n",
    "                if idx % 100 == 0:\n",
    "                        print(\"Erro do Modelo:\", loss.item())\n",
    "        "
   ]
  },
  {
   "cell_type": "markdown",
   "id": "1910b89e",
   "metadata": {},
   "source": [
    "## Avaliação do Modelo"
   ]
  },
  {
   "cell_type": "code",
   "execution_count": 85,
   "id": "765a5828",
   "metadata": {},
   "outputs": [
    {
     "name": "stderr",
     "output_type": "stream",
     "text": [
      "/Users/frnepom/.pyenv/versions/3.9.18/lib/python3.9/site-packages/transformers/models/time_series_transformer/modeling_time_series_transformer.py:1783: UserWarning: MPS: no support for int64 repeats mask, casting it to int32 (Triggered internally at /Users/runner/work/pytorch/pytorch/pytorch/aten/src/ATen/native/mps/operations/Repeat.mm:236.)\n",
      "  repeated_loc = loc.repeat_interleave(repeats=num_parallel_samples, dim=0)\n"
     ]
    }
   ],
   "source": [
    "# Avaliação do modelo\n",
    "model.eval()\n",
    "\n",
    "forecasts = []\n",
    "\n",
    "for bacth in test_dataloader:\n",
    "    outputs = model.generate(\n",
    "        static_categorical_features = batch[\"static_categorical_features\"].to(device)\n",
    "        if config.num_static_categorical_features > 0\n",
    "        else None,\n",
    "        static_real_features = batch[\"static_real_features\"].to(device)\n",
    "        if config.num_static_real_features > 0\n",
    "        else None,\n",
    "        past_time_features = batch[\"past_time_features\"].to(device),\n",
    "        past_values = batch[\"past_values\"].to(device),\n",
    "        future_time_features = batch[\"future_time_features\"].to(device),\n",
    "        past_observed_mask = batch[\"past_observed_mask\"].to(device),\n",
    "    )\n",
    "    \n",
    "    forecasts.append(outputs.sequences.cpu().numpy())"
   ]
  },
  {
   "cell_type": "code",
   "execution_count": 86,
   "id": "f1d8f11a",
   "metadata": {},
   "outputs": [
    {
     "data": {
      "text/plain": [
       "(256, 100, 24)"
      ]
     },
     "execution_count": 86,
     "metadata": {},
     "output_type": "execute_result"
    }
   ],
   "source": [
    "# Shape das previsões\n",
    "forecasts[0].shape"
   ]
  },
  {
   "cell_type": "code",
   "execution_count": 88,
   "id": "d6f53a4d",
   "metadata": {},
   "outputs": [],
   "source": [
    "# Ajuste do shape\n",
    "forecasts = np.vstack(forecasts)"
   ]
  },
  {
   "cell_type": "code",
   "execution_count": 89,
   "id": "448e22a5",
   "metadata": {},
   "outputs": [
    {
     "name": "stdout",
     "output_type": "stream",
     "text": [
      "(1536, 100, 24)\n"
     ]
    }
   ],
   "source": [
    "print(forecasts.shape)"
   ]
  },
  {
   "cell_type": "markdown",
   "id": "59cace50",
   "metadata": {},
   "source": [
    "## Calculando as Métricas MASE e SMAPE\n",
    "\n",
    "As métricas MASE (Erro Médio Absoluto Escalonado) e SMAPE (Erro Percentual Absoluto Médio Simétrico) são usadas para avaliar a precisão das previsões em problemas de séries temporais. Ambas são métricas que tentam colocar o erro de previsão em um contexto mais fácil de interpretar, escalonando ou normalizando o erro de alguma forma.\n",
    "\n",
    "MASE (Erro Médio Absoluto Escalonado): A MASE é uma métrica que compara o erro de previsão de um método de previsão com o erro de previsão de um método de previsão \"ingênuo\" (naive), geralmente uma previsão que simplesmente assume que o valor futuro será o mesmo que o valor atual. A MASE é calculada como a média dos erros absolutos das previsões dividida pela média dos erros absolutos das previsões ingênuas. Um valor MASE de 1 indica que o modelo tem o mesmo erro médio que a previsão ingênua, enquanto um valor MASE menor que 1 indica que o modelo é melhor que a previsão ingênua.\n",
    "\n",
    "SMAPE (Erro Percentual Absoluto Médio Simétrico): A SMAPE é uma métrica que expressa o erro de previsão como uma porcentagem do valor verdadeiro e da previsão. Ao contrário do erro percentual absoluto médio (MAPE), a SMAPE tem um denominador que incorpora tanto o valor verdadeiro quanto o valor previsto, tornando-a \"simétrica\". Isso evita alguns dos problemas com o MAPE, onde previsões muito baixas podem levar a erros percentuais muito grandes. A SMAPE varia de 0 a 200, onde 0 indica que não há erro (previsão perfeita) e 200 indica que a previsão está completamente errada.\n",
    "\n",
    "Ambas as métricas têm suas próprias vantagens e limitações, e a escolha entre elas dependerá do problema específico e das características dos dados."
   ]
  },
  {
   "cell_type": "code",
   "execution_count": 90,
   "id": "ccb11abd",
   "metadata": {},
   "outputs": [
    {
     "name": "stderr",
     "output_type": "stream",
     "text": [
      "Downloading builder script: 100%|██████████| 5.50k/5.50k [00:00<00:00, 8.07MB/s]\n",
      "Downloading builder script: 100%|██████████| 6.65k/6.65k [00:00<00:00, 8.33MB/s]\n"
     ]
    }
   ],
   "source": [
    "# Métricas\n",
    "mase_metric = load(\"evaluate-metric/mase\")\n",
    "smape_metric = load(\"evaluate-metric/smape\")"
   ]
  },
  {
   "cell_type": "code",
   "execution_count": 91,
   "id": "15d3e669",
   "metadata": {},
   "outputs": [],
   "source": [
    "# Mediana das previsões\n",
    "forecast_median = np.median(forecasts, 1)"
   ]
  },
  {
   "cell_type": "code",
   "execution_count": 92,
   "id": "e49f6fcd",
   "metadata": {},
   "outputs": [],
   "source": [
    "# Listas das métricas\n",
    "mase_metrics = []\n",
    "smape_metrics = []"
   ]
  },
  {
   "cell_type": "code",
   "execution_count": 94,
   "id": "acf5a8b9",
   "metadata": {},
   "outputs": [],
   "source": [
    "# Cálculo das métricas\n",
    "for item_id, ts in enumerate(test_dataset):\n",
    "    \n",
    "    training_data = ts[\"target\"][:-prediction_length]\n",
    "    \n",
    "    ground_truth = ts[\"target\"][-prediction_length:]\n",
    "    \n",
    "    mase = mase_metric.compute(\n",
    "        predictions = forecast_median[item_id],\n",
    "        references = np.array(ground_truth),\n",
    "        training = np.array(training_data),\n",
    "        periodicity = get_seasonality(freq))\n",
    "    \n",
    "    mase_metrics.append(mase[\"mase\"])\n",
    "    \n",
    "    smape = smape_metric.compute(\n",
    "        predictions = forecast_median[item_id],\n",
    "        references = np.array(ground_truth),\n",
    "    )\n",
    "    smape_metrics.append(smape[\"smape\"])"
   ]
  },
  {
   "cell_type": "code",
   "execution_count": 95,
   "id": "094f43c6",
   "metadata": {},
   "outputs": [
    {
     "name": "stdout",
     "output_type": "stream",
     "text": [
      "MASE: 18.8037181307819\n"
     ]
    }
   ],
   "source": [
    "print(f\"MASE: {np.mean(mase_metrics)}\")"
   ]
  },
  {
   "cell_type": "code",
   "execution_count": 96,
   "id": "c3ab2274",
   "metadata": {},
   "outputs": [
    {
     "name": "stdout",
     "output_type": "stream",
     "text": [
      "sMAPE: 1.3550431046039921\n"
     ]
    }
   ],
   "source": [
    "print(f\"sMAPE: {np.mean(smape_metrics)}\")"
   ]
  },
  {
   "cell_type": "code",
   "execution_count": 97,
   "id": "28b00a94",
   "metadata": {},
   "outputs": [
    {
     "data": {
      "image/png": "[encoded data removed]",
      "text/plain": [
       "<Figure size 640x480 with 1 Axes>"
      ]
     },
     "metadata": {},
     "output_type": "display_data"
    }
   ],
   "source": [
    "plt.scatter(mase_metrics, smape_metrics, alpha=0.3)\n",
    "plt.xlabel(\"MASE\")\n",
    "plt.ylabel(\"sMAPE\")\n",
    "plt.show()"
   ]
  },
  {
   "cell_type": "code",
   "execution_count": 102,
   "id": "8a85fbfd",
   "metadata": {},
   "outputs": [],
   "source": [
    "# Plot\n",
    "def plot(ts_index):\n",
    "    fig, ax = plt.subplots()\n",
    "    \n",
    "    index = pd.period_range(\n",
    "        start = test_dataset[ts_index][FieldName.START],\n",
    "        periods = len(test_dataset[ts_index][FieldName.TARGET]),\n",
    "        freq = freq,\n",
    "    ).to_timestamp()\n",
    "    \n",
    "    ax.xaxis.set_major_locator(mdates.MonthLocator(bymonth=(1, 7)))\n",
    "    ax.xaxis.set_minor_locator(mdates.MonthLocator())\n",
    "    \n",
    "    ax.plot(\n",
    "        index[-2*prediction_length:],\n",
    "        test_dataset[ts_index][\"target\"][-2*prediction_length:],\n",
    "        label = \"actual\",\n",
    "    )\n",
    "    \n",
    "    plt.plot(\n",
    "        index[-prediction_length:],\n",
    "        np.median(forecasts[ts_index], axis=0),\n",
    "        label = \"median\"\n",
    "    )\n",
    "    \n",
    "    plt.fill_between(\n",
    "        index[-prediction_length:],\n",
    "        forecasts[ts_index].mean(0) - forecasts[ts_index].std(axis=0),\n",
    "        forecasts[ts_index].mean(0) + forecasts[ts_index].std(axis=0),\n",
    "        alpha=0.3,\n",
    "        interpolate=True,\n",
    "        label=\"+/- 1-std\",\n",
    "    )\n",
    "    plt.legend()\n",
    "    plt.show()"
   ]
  },
  {
   "cell_type": "code",
   "execution_count": 103,
   "id": "a6169ab0",
   "metadata": {},
   "outputs": [
    {
     "data": {
      "image/png": "[encoded data removed]",
      "text/plain": [
       "<Figure size 640x480 with 1 Axes>"
      ]
     },
     "metadata": {},
     "output_type": "display_data"
    }
   ],
   "source": [
    "plot(334)"
   ]
  },
  {
   "cell_type": "markdown",
   "id": "e84e6c8f",
   "metadata": {},
   "source": [
    "# Fim"
   ]
  }
 ],
 "metadata": {
  "kernelspec": {
   "display_name": "Python 3 (ipykernel)",
   "language": "python",
   "name": "python3"
  },
  "language_info": {
   "codemirror_mode": {
    "name": "ipython",
    "version": 3
   },
   "file_extension": ".py",
   "mimetype": "text/x-python",
   "name": "python",
   "nbconvert_exporter": "python",
   "pygments_lexer": "ipython3",
   "version": "3.9.18"
  }
 },
 "nbformat": 4,
 "nbformat_minor": 5
}
