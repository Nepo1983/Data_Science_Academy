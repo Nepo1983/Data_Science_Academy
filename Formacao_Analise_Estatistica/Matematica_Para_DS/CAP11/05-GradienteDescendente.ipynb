{
 "cells": [
  {
   "cell_type": "markdown",
   "metadata": {},
   "source": [
    "# <font color='blue'>Data Science Academy</font>\n",
    "# <font color='blue'>Matemática Para Data Science</font>\n",
    "\n",
    "## <font color='blue'>Gradiente Descendente via Operações Matemáticas com Linguagem Python</font>"
   ]
  },
  {
   "cell_type": "code",
   "execution_count": null,
   "metadata": {},
   "outputs": [],
   "source": [
    "# Versão da Linguagem Python\n",
    "# Você pode usar a versão indicada nos vídeos ou a versão abaixo!\n",
    "from platform import python_version\n",
    "print('Versão da Linguagem Python Usada Neste Jupyter Notebook:', python_version())"
   ]
  },
  {
   "cell_type": "code",
   "execution_count": null,
   "metadata": {},
   "outputs": [],
   "source": [
    "# Para atualizar um pacote, execute o comando abaixo no terminal ou prompt de comando:\n",
    "# pip install -U nome_pacote\n",
    "\n",
    "# Para instalar a versão exata de um pacote, execute o comando abaixo no terminal ou prompt de comando:\n",
    "# !pip install nome_pacote==versão_desejada\n",
    "\n",
    "# Depois de instalar ou atualizar o pacote, reinicie o jupyter notebook.\n",
    "\n",
    "# Instala o pacote watermark. \n",
    "# Esse pacote é usado para gravar as versões de outros pacotes usados neste jupyter notebook.\n",
    "# !pip install -q -U watermark"
   ]
  },
  {
   "cell_type": "markdown",
   "metadata": {},
   "source": [
    "## Gradiente Descendente via Operações Matemáticas com Linguagem Python\n",
    "\n",
    "Uma aplicação comum de derivadas em Data Science é na implementação do algoritmo de gradiente descendente, usado para otimizar funções de custo em modelos de aprendizado de máquina, como regressão linear ou redes neurais.\n",
    "\n",
    "Aqui está um exemplo de como isso pode ser feito em Python para a tarefa de regressão linear. Para simplificar, vamos considerar uma regressão linear simples com apenas uma variável de entrada."
   ]
  },
  {
   "cell_type": "markdown",
   "metadata": {},
   "source": [
    "No exemplo abaixo, o código cria um conjunto de dados aleatório, inicializa os parâmetros da regressão linear de forma aleatória (a variável theta), e então executa o algoritmo de gradiente descendente por um número fixo de iterações.\n",
    "\n",
    "A cada iteração, o algoritmo calcula o gradiente da função de custo em relação aos parâmetros (gradients) e, em seguida, atualiza os parâmetros na direção oposta ao gradiente (isso é o que a linha theta = theta - lr * gradients faz). O tamanho do passo é determinado pela taxa de aprendizado (lr).\n",
    "\n",
    "Ao final do processo, os parâmetros da regressão linear (ou seja, a inclinação e o intercepto) são armazenados na variável theta. Esses parâmetros minimizam a função de custo e, portanto, representam a melhor linha de ajuste aos dados."
   ]
  },
  {
   "cell_type": "markdown",
   "metadata": {},
   "source": [
    "Considere que X é o diâmetro de uma Pizza e y a gorjeta dada por um cliente. Conseguimos prever a gorjeta com base no diâmetro da pizza?\n",
    "\n",
    "Vamos definir uma relação linear entre X e y:\n",
    "\n",
    "y = coef1 + (coef2 * X)"
   ]
  },
  {
   "cell_type": "code",
   "execution_count": 2,
   "metadata": {},
   "outputs": [],
   "source": [
    "import numpy as np"
   ]
  },
  {
   "cell_type": "code",
   "execution_count": 3,
   "metadata": {},
   "outputs": [],
   "source": [
    "# Criamos um conjunto de dados sintéticos\n",
    "X = 2 * np.random.rand(100,1)\n",
    "y = 4 + 3 * X + np.random.rand(100,1)"
   ]
  },
  {
   "cell_type": "code",
   "execution_count": 4,
   "metadata": {},
   "outputs": [
    {
     "name": "stdout",
     "output_type": "stream",
     "text": [
      "[[1.56161685]\n",
      " [1.14319407]\n",
      " [1.71228807]\n",
      " [0.33859444]\n",
      " [0.43720796]\n",
      " [1.93338735]\n",
      " [0.86421959]\n",
      " [1.79714241]\n",
      " [0.63653245]\n",
      " [0.2927876 ]\n",
      " [0.67142068]\n",
      " [1.61191423]\n",
      " [1.46757444]\n",
      " [0.46405343]\n",
      " [0.55699032]\n",
      " [1.59740871]\n",
      " [0.53193138]\n",
      " [1.03197645]\n",
      " [0.90537829]\n",
      " [1.04465947]\n",
      " [0.52411079]\n",
      " [1.56455853]\n",
      " [0.02274901]\n",
      " [1.31363029]\n",
      " [1.8180172 ]\n",
      " [0.33801073]\n",
      " [0.9456321 ]\n",
      " [1.2385409 ]\n",
      " [1.52811015]\n",
      " [1.94679357]\n",
      " [1.18658316]\n",
      " [0.77768691]\n",
      " [0.05397329]\n",
      " [1.84263548]\n",
      " [0.93095793]\n",
      " [1.2282653 ]\n",
      " [0.17527323]\n",
      " [0.32074588]\n",
      " [0.14767358]\n",
      " [0.37664843]\n",
      " [0.61354231]\n",
      " [1.0246462 ]\n",
      " [1.25614367]\n",
      " [1.59294787]\n",
      " [1.92357421]\n",
      " [1.80601703]\n",
      " [1.99733149]\n",
      " [1.49917063]\n",
      " [0.58957174]\n",
      " [0.9451539 ]\n",
      " [0.24569318]\n",
      " [0.08314566]\n",
      " [0.37824846]\n",
      " [0.01490482]\n",
      " [0.83537067]\n",
      " [1.41473195]\n",
      " [1.52665682]\n",
      " [0.7189443 ]\n",
      " [1.05264904]\n",
      " [1.40535256]\n",
      " [1.65323662]\n",
      " [0.24688515]\n",
      " [0.7518369 ]\n",
      " [0.42893515]\n",
      " [0.56398652]\n",
      " [0.51123106]\n",
      " [1.97204861]\n",
      " [1.93073196]\n",
      " [0.44494656]\n",
      " [0.36270066]\n",
      " [1.39962525]\n",
      " [0.38621548]\n",
      " [1.89103299]\n",
      " [1.24247938]\n",
      " [0.80082031]\n",
      " [1.40140222]\n",
      " [0.69697191]\n",
      " [1.35137429]\n",
      " [0.48226372]\n",
      " [0.73113923]\n",
      " [1.95766712]\n",
      " [1.89845844]\n",
      " [0.1465539 ]\n",
      " [0.26126378]\n",
      " [1.16650792]\n",
      " [0.97068543]\n",
      " [1.71772001]\n",
      " [0.58847236]\n",
      " [1.15357816]\n",
      " [1.75570855]\n",
      " [0.1133355 ]\n",
      " [1.66297952]\n",
      " [1.98203182]\n",
      " [1.93640858]\n",
      " [1.63286655]\n",
      " [1.20464073]\n",
      " [1.35379871]\n",
      " [1.98182582]\n",
      " [0.73865527]\n",
      " [1.54039278]]\n"
     ]
    }
   ],
   "source": [
    "print(X)"
   ]
  },
  {
   "cell_type": "code",
   "execution_count": 5,
   "metadata": {},
   "outputs": [
    {
     "name": "stdout",
     "output_type": "stream",
     "text": [
      "[[ 9.47313687]\n",
      " [ 7.84088744]\n",
      " [ 9.63886891]\n",
      " [ 5.55080061]\n",
      " [ 6.10801257]\n",
      " [10.295818  ]\n",
      " [ 7.52349834]\n",
      " [ 9.93781981]\n",
      " [ 6.22781471]\n",
      " [ 5.3907905 ]\n",
      " [ 6.36072611]\n",
      " [ 8.88672221]\n",
      " [ 8.7881813 ]\n",
      " [ 6.11706884]\n",
      " [ 6.5337272 ]\n",
      " [ 8.88915925]\n",
      " [ 5.83843024]\n",
      " [ 8.0166442 ]\n",
      " [ 7.47508601]\n",
      " [ 7.79105091]\n",
      " [ 6.23665245]\n",
      " [ 9.68681413]\n",
      " [ 4.30919477]\n",
      " [ 8.33084011]\n",
      " [ 9.91925157]\n",
      " [ 5.19489745]\n",
      " [ 7.21875251]\n",
      " [ 7.97605798]\n",
      " [ 9.506101  ]\n",
      " [10.81232678]\n",
      " [ 8.30951232]\n",
      " [ 6.94027664]\n",
      " [ 4.27968554]\n",
      " [ 9.87110687]\n",
      " [ 6.9409127 ]\n",
      " [ 7.93992683]\n",
      " [ 4.72811714]\n",
      " [ 5.01984992]\n",
      " [ 4.98508672]\n",
      " [ 5.59453151]\n",
      " [ 6.27307854]\n",
      " [ 7.54090987]\n",
      " [ 8.53597251]\n",
      " [ 9.28844314]\n",
      " [10.50351783]\n",
      " [10.29906612]\n",
      " [10.27883838]\n",
      " [ 9.28123484]\n",
      " [ 6.38684332]\n",
      " [ 7.69254679]\n",
      " [ 5.10282931]\n",
      " [ 4.90737306]\n",
      " [ 5.20913389]\n",
      " [ 4.84607492]\n",
      " [ 7.3061802 ]\n",
      " [ 8.56893979]\n",
      " [ 9.17831749]\n",
      " [ 6.50062038]\n",
      " [ 8.08196807]\n",
      " [ 8.72207737]\n",
      " [ 9.86348494]\n",
      " [ 5.63674449]\n",
      " [ 7.18138224]\n",
      " [ 6.26555242]\n",
      " [ 6.01370854]\n",
      " [ 5.72964765]\n",
      " [ 9.92187668]\n",
      " [10.3220481 ]\n",
      " [ 5.54692526]\n",
      " [ 5.59186029]\n",
      " [ 8.68927911]\n",
      " [ 5.2203545 ]\n",
      " [10.17684854]\n",
      " [ 8.36488783]\n",
      " [ 6.92956638]\n",
      " [ 8.7008815 ]\n",
      " [ 7.02379631]\n",
      " [ 8.52895897]\n",
      " [ 5.73481197]\n",
      " [ 7.05849043]\n",
      " [10.51345762]\n",
      " [10.43907   ]\n",
      " [ 4.95319605]\n",
      " [ 5.7703326 ]\n",
      " [ 8.21138161]\n",
      " [ 7.90125843]\n",
      " [ 9.47634347]\n",
      " [ 6.49073714]\n",
      " [ 7.75054015]\n",
      " [10.05467044]\n",
      " [ 4.46314621]\n",
      " [ 9.88338745]\n",
      " [10.4624639 ]\n",
      " [10.67423998]\n",
      " [ 9.29357329]\n",
      " [ 7.83247533]\n",
      " [ 8.1948603 ]\n",
      " [10.39715126]\n",
      " [ 6.29764233]\n",
      " [ 8.89125449]]\n"
     ]
    }
   ],
   "source": [
    "print(y)"
   ]
  },
  {
   "cell_type": "code",
   "execution_count": 6,
   "metadata": {},
   "outputs": [],
   "source": [
    "# Taxa de aprendizado\n",
    "lr = 0.1"
   ]
  },
  {
   "cell_type": "code",
   "execution_count": 7,
   "metadata": {},
   "outputs": [],
   "source": [
    "# Inicialização dos parâmetros\n",
    "n_iterations = 1000\n",
    "m = 100\n",
    "theta = np.random.randn(2,1)"
   ]
  },
  {
   "cell_type": "code",
   "execution_count": 8,
   "metadata": {},
   "outputs": [
    {
     "data": {
      "text/plain": [
       "array([[-1.39652536],\n",
       "       [-0.4326486 ]])"
      ]
     },
     "execution_count": 8,
     "metadata": {},
     "output_type": "execute_result"
    }
   ],
   "source": [
    "theta"
   ]
  },
  {
   "cell_type": "code",
   "execution_count": 9,
   "metadata": {},
   "outputs": [],
   "source": [
    "# Adiciona coluna de 1s a X\n",
    "X_b = np.c_[np.ones((m, 1)), X]"
   ]
  },
  {
   "cell_type": "code",
   "execution_count": 10,
   "metadata": {},
   "outputs": [
    {
     "data": {
      "text/plain": [
       "array([[1.        , 1.56161685],\n",
       "       [1.        , 1.14319407],\n",
       "       [1.        , 1.71228807],\n",
       "       [1.        , 0.33859444],\n",
       "       [1.        , 0.43720796],\n",
       "       [1.        , 1.93338735],\n",
       "       [1.        , 0.86421959],\n",
       "       [1.        , 1.79714241],\n",
       "       [1.        , 0.63653245],\n",
       "       [1.        , 0.2927876 ],\n",
       "       [1.        , 0.67142068],\n",
       "       [1.        , 1.61191423],\n",
       "       [1.        , 1.46757444],\n",
       "       [1.        , 0.46405343],\n",
       "       [1.        , 0.55699032],\n",
       "       [1.        , 1.59740871],\n",
       "       [1.        , 0.53193138],\n",
       "       [1.        , 1.03197645],\n",
       "       [1.        , 0.90537829],\n",
       "       [1.        , 1.04465947],\n",
       "       [1.        , 0.52411079],\n",
       "       [1.        , 1.56455853],\n",
       "       [1.        , 0.02274901],\n",
       "       [1.        , 1.31363029],\n",
       "       [1.        , 1.8180172 ],\n",
       "       [1.        , 0.33801073],\n",
       "       [1.        , 0.9456321 ],\n",
       "       [1.        , 1.2385409 ],\n",
       "       [1.        , 1.52811015],\n",
       "       [1.        , 1.94679357],\n",
       "       [1.        , 1.18658316],\n",
       "       [1.        , 0.77768691],\n",
       "       [1.        , 0.05397329],\n",
       "       [1.        , 1.84263548],\n",
       "       [1.        , 0.93095793],\n",
       "       [1.        , 1.2282653 ],\n",
       "       [1.        , 0.17527323],\n",
       "       [1.        , 0.32074588],\n",
       "       [1.        , 0.14767358],\n",
       "       [1.        , 0.37664843],\n",
       "       [1.        , 0.61354231],\n",
       "       [1.        , 1.0246462 ],\n",
       "       [1.        , 1.25614367],\n",
       "       [1.        , 1.59294787],\n",
       "       [1.        , 1.92357421],\n",
       "       [1.        , 1.80601703],\n",
       "       [1.        , 1.99733149],\n",
       "       [1.        , 1.49917063],\n",
       "       [1.        , 0.58957174],\n",
       "       [1.        , 0.9451539 ],\n",
       "       [1.        , 0.24569318],\n",
       "       [1.        , 0.08314566],\n",
       "       [1.        , 0.37824846],\n",
       "       [1.        , 0.01490482],\n",
       "       [1.        , 0.83537067],\n",
       "       [1.        , 1.41473195],\n",
       "       [1.        , 1.52665682],\n",
       "       [1.        , 0.7189443 ],\n",
       "       [1.        , 1.05264904],\n",
       "       [1.        , 1.40535256],\n",
       "       [1.        , 1.65323662],\n",
       "       [1.        , 0.24688515],\n",
       "       [1.        , 0.7518369 ],\n",
       "       [1.        , 0.42893515],\n",
       "       [1.        , 0.56398652],\n",
       "       [1.        , 0.51123106],\n",
       "       [1.        , 1.97204861],\n",
       "       [1.        , 1.93073196],\n",
       "       [1.        , 0.44494656],\n",
       "       [1.        , 0.36270066],\n",
       "       [1.        , 1.39962525],\n",
       "       [1.        , 0.38621548],\n",
       "       [1.        , 1.89103299],\n",
       "       [1.        , 1.24247938],\n",
       "       [1.        , 0.80082031],\n",
       "       [1.        , 1.40140222],\n",
       "       [1.        , 0.69697191],\n",
       "       [1.        , 1.35137429],\n",
       "       [1.        , 0.48226372],\n",
       "       [1.        , 0.73113923],\n",
       "       [1.        , 1.95766712],\n",
       "       [1.        , 1.89845844],\n",
       "       [1.        , 0.1465539 ],\n",
       "       [1.        , 0.26126378],\n",
       "       [1.        , 1.16650792],\n",
       "       [1.        , 0.97068543],\n",
       "       [1.        , 1.71772001],\n",
       "       [1.        , 0.58847236],\n",
       "       [1.        , 1.15357816],\n",
       "       [1.        , 1.75570855],\n",
       "       [1.        , 0.1133355 ],\n",
       "       [1.        , 1.66297952],\n",
       "       [1.        , 1.98203182],\n",
       "       [1.        , 1.93640858],\n",
       "       [1.        , 1.63286655],\n",
       "       [1.        , 1.20464073],\n",
       "       [1.        , 1.35379871],\n",
       "       [1.        , 1.98182582],\n",
       "       [1.        , 0.73865527],\n",
       "       [1.        , 1.54039278]])"
      ]
     },
     "execution_count": 10,
     "metadata": {},
     "output_type": "execute_result"
    }
   ],
   "source": [
    "X_b"
   ]
  },
  {
   "cell_type": "code",
   "execution_count": 11,
   "metadata": {},
   "outputs": [],
   "source": [
    "# Loop de treino\n",
    "for iteration in range(n_iterations):\n",
    "    \n",
    "    \n",
    "    # Calcula o gradiente (derivada parcial)\n",
    "    gradients = 2/m * X_b.T.dot(X_b.dot(theta) - y)\n",
    "    \n",
    "    # Usa os gradientes para atualizar os coeficientes\n",
    "    theta = theta - lr * gradients"
   ]
  },
  {
   "cell_type": "code",
   "execution_count": 12,
   "metadata": {},
   "outputs": [
    {
     "name": "stdout",
     "output_type": "stream",
     "text": [
      "[[-1.21502808e-14]\n",
      " [ 6.52844684e-15]]\n"
     ]
    }
   ],
   "source": [
    "print(gradients)"
   ]
  },
  {
   "cell_type": "code",
   "execution_count": 13,
   "metadata": {},
   "outputs": [
    {
     "name": "stdout",
     "output_type": "stream",
     "text": [
      "[[4.47640331]\n",
      " [3.05100078]]\n"
     ]
    }
   ],
   "source": [
    "print(theta)"
   ]
  },
  {
   "cell_type": "code",
   "execution_count": 14,
   "metadata": {},
   "outputs": [
    {
     "data": {
      "text/plain": [
       "array([4.47640331])"
      ]
     },
     "execution_count": 14,
     "metadata": {},
     "output_type": "execute_result"
    }
   ],
   "source": [
    "theta[0]"
   ]
  },
  {
   "cell_type": "code",
   "execution_count": 15,
   "metadata": {},
   "outputs": [
    {
     "data": {
      "text/plain": [
       "array([3.05100078])"
      ]
     },
     "execution_count": 15,
     "metadata": {},
     "output_type": "execute_result"
    }
   ],
   "source": [
    "theta[1]"
   ]
  },
  {
   "cell_type": "markdown",
   "metadata": {},
   "source": [
    "y = coef1 + (coef2 * X)"
   ]
  },
  {
   "cell_type": "markdown",
   "metadata": {},
   "source": [
    "Valor qualquer de X: 18"
   ]
  },
  {
   "cell_type": "code",
   "execution_count": 16,
   "metadata": {},
   "outputs": [],
   "source": [
    "y = theta[0] + (theta[1] * 18)"
   ]
  },
  {
   "cell_type": "code",
   "execution_count": 17,
   "metadata": {},
   "outputs": [
    {
     "name": "stdout",
     "output_type": "stream",
     "text": [
      "[59.39441727]\n"
     ]
    }
   ],
   "source": [
    "print(y)"
   ]
  },
  {
   "cell_type": "markdown",
   "metadata": {},
   "source": [
    "# Fim"
   ]
  }
 ],
 "metadata": {
  "colab": {
   "authorship_tag": "ABX9TyPCf9qlTghL9GChly72vDLx",
   "include_colab_link": true,
   "mount_file_id": "1pXLpmBpTPTzHKaiOzVGc5gOVld_cVB0v",
   "provenance": []
  },
  "kernelspec": {
   "display_name": "Python 3 (ipykernel)",
   "language": "python",
   "name": "python3"
  },
  "language_info": {
   "codemirror_mode": {
    "name": "ipython",
    "version": 3
   },
   "file_extension": ".py",
   "mimetype": "text/x-python",
   "name": "python",
   "nbconvert_exporter": "python",
   "pygments_lexer": "ipython3",
   "version": "3.9.18"
  }
 },
 "nbformat": 4,
 "nbformat_minor": 1
}
