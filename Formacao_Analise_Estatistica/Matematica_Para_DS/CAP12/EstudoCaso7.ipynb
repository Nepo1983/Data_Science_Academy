{
 "cells": [
  {
   "cell_type": "markdown",
   "id": "d835750b",
   "metadata": {},
   "source": [
    "# <font color='blue'>Data Science Academy</font>\n",
    "# <font color='blue'>Matemática Para Data Science</font>\n",
    "\n",
    "## <font color='blue'>Estudo de Caso 7</font>\n",
    "### <font color='blue'>Demonstrando o Cálculo da Integral no Diagnóstico de Doenças com Inferência Bayesiana</font>"
   ]
  },
  {
   "cell_type": "markdown",
   "id": "7c9f3742",
   "metadata": {},
   "source": [
    "![DSA](imagens/EC7.png)"
   ]
  },
  {
   "cell_type": "markdown",
   "id": "45fb8f2f",
   "metadata": {},
   "source": [
    "## Instalando e Carregando os Pacotes"
   ]
  },
  {
   "cell_type": "code",
   "execution_count": 1,
   "id": "3980f02d",
   "metadata": {},
   "outputs": [
    {
     "name": "stdout",
     "output_type": "stream",
     "text": [
      "Versão da Linguagem Python Usada Neste Jupyter Notebook: 3.9.18\n"
     ]
    }
   ],
   "source": [
    "# Versão da Linguagem Python\n",
    "from platform import python_version\n",
    "print('Versão da Linguagem Python Usada Neste Jupyter Notebook:', python_version())"
   ]
  },
  {
   "cell_type": "code",
   "execution_count": null,
   "id": "954fa517",
   "metadata": {},
   "outputs": [],
   "source": [
    "# Para atualizar um pacote, execute o comando abaixo no terminal ou prompt de comando:\n",
    "# pip install -U nome_pacote\n",
    "\n",
    "# Para instalar a versão exata de um pacote, execute o comando abaixo no terminal ou prompt de comando:\n",
    "# !pip install nome_pacote==versão_desejada\n",
    "\n",
    "# Depois de instalar ou atualizar o pacote, reinicie o jupyter notebook.\n",
    "\n",
    "# Instala o pacote watermark. \n",
    "# Esse pacote é usado para gravar as versões de outros pacotes usados neste jupyter notebook.\n",
    "#!pip install -q -U watermark"
   ]
  },
  {
   "cell_type": "code",
   "execution_count": 2,
   "id": "f9a77673",
   "metadata": {},
   "outputs": [],
   "source": [
    "# Imports\n",
    "import scipy\n",
    "import numpy as np\n",
    "import matplotlib.pyplot as plt\n",
    "from scipy.stats import norm\n",
    "from scipy.integrate import quad"
   ]
  },
  {
   "cell_type": "code",
   "execution_count": 3,
   "id": "ab885c94",
   "metadata": {},
   "outputs": [
    {
     "name": "stdout",
     "output_type": "stream",
     "text": [
      "Author: Data Science Academy\n",
      "\n",
      "numpy     : 1.26.3\n",
      "scipy     : 1.10.0\n",
      "matplotlib: 3.8.2\n",
      "\n"
     ]
    }
   ],
   "source": [
    "# Versões dos pacotes usados neste jupyter notebook\n",
    "%reload_ext watermark\n",
    "%watermark -a \"Data Science Academy\" --iversions"
   ]
  },
  {
   "cell_type": "markdown",
   "id": "b685f217",
   "metadata": {},
   "source": [
    "## Inferência Bayesiana"
   ]
  },
  {
   "cell_type": "markdown",
   "id": "eaf48729",
   "metadata": {},
   "source": [
    "A inferência bayesiana é uma abordagem de inferência estatística que se baseia na aplicação do teorema de Bayes para atualizar a probabilidade de uma hipótese à medida que mais evidência ou informação se torna disponível.\n",
    "\n",
    "Aqui está uma descrição de seus componentes principais e como ela funciona:\n",
    "\n",
    "**Priori**: A priori é uma distribuição de probabilidade que expressa as crenças ou conhecimento prévio sobre um parâmetro ou hipótese antes de observar os dados. Por exemplo, se você estiver tentando estimar a média de uma distribuição, a priori pode ser uma distribuição normal centrada em uma média que você acredita ser razoável antes de ver qualquer dado.\n",
    "\n",
    "**Verossimilhança**: A verossimilhança é uma função que descreve como os dados são gerados dado um parâmetro ou conjunto de parâmetros. É a probabilidade dos dados observados sob diferentes valores do parâmetro.\n",
    "\n",
    "**Posteriori**: A posteriori é o que você está tentando calcular na inferência bayesiana. É a distribuição de probabilidade do parâmetro ou hipótese depois de ter visto os dados. É proporcional ao produto da verossimilhança e da priori.\n",
    "\n",
    "**Evidência**: A evidência, ou marginal likelihood, é um fator de normalização que garante que a posteriori seja uma distribuição de probabilidade válida. É a probabilidade dos dados sob todas as possíveis hipóteses ou valores do parâmetro e é geralmente calculada como a integral da priori multiplicada pela verossimilhança em todos os valores possíveis do parâmetro.\n",
    "\n",
    "A fórmula básica da inferência bayesiana, usando o teorema de Bayes, é:"
   ]
  },
  {
   "cell_type": "markdown",
   "id": "7e033cb8",
   "metadata": {},
   "source": [
    "![DSA](imagens/form3.png)"
   ]
  },
  {
   "cell_type": "markdown",
   "id": "cb851973",
   "metadata": {},
   "source": [
    "Onde:\n",
    "\n",
    "- P(θ∣dados) é a posteriori.\n",
    "- P(dados∣θ) é a verossimilhança.\n",
    "- P(θ) é a priori.\n",
    "- P(dados) é a evidência.\n",
    "\n",
    "A inferência bayesiana tem muitas aplicações em uma ampla variedade de campos, incluindo estatística, aprendizado de máquina, economia, ecologia e muito mais. A abordagem bayesiana permite que você incorpore explicitamente o conhecimento prévio e as incertezas em sua modelagem, o que pode ser uma grande vantagem em muitas situações. No entanto, também pode ser computacionalmente intensiva, especialmente para modelos complexos com muitos parâmetros."
   ]
  },
  {
   "cell_type": "markdown",
   "id": "4c6d18a5",
   "metadata": {},
   "source": [
    "## Implementando o Cálculo da Integral\n",
    "\n",
    "A inferência bayesiana é um método de inferência estatística em que o teorema de Bayes é usado para atualizar a probabilidade de uma hipótese à medida que mais evidências ou informações se tornam disponíveis. Muitas vezes, isso envolve a integração da probabilidade conjunta sobre todas as possíveis distribuições de parâmetros desconhecidos.\n",
    "\n",
    "Vamos criar um exemplo simples onde usaremos a inferência bayesiana para atualizar a nossa crença sobre a média de uma distribuição normal, dada uma amostra de dados. Usaremos a distribuição normal como a verossimilhança e a distribuição normal como a priori para a média.\n",
    "\n",
    "Neste exemplo, a integral é calculada numericamente usando a função quad para calcular a evidência. A posteriori é então normalizada dividindo pela evidência. O resultado é uma distribuição de probabilidade posterior para o parâmetro desconhecido mu, dada a amostra de dados."
   ]
  },
  {
   "cell_type": "code",
   "execution_count": 10,
   "id": "c6a84969",
   "metadata": {},
   "outputs": [],
   "source": [
    "# Definir a priori (vamos assumir uma distribuição normal com média 0 e desvio padrão 1)\n",
    "def prior(mu):\n",
    "    return norm.pdf(mu, 0, 1)"
   ]
  },
  {
   "cell_type": "code",
   "execution_count": 11,
   "id": "b5227528",
   "metadata": {},
   "outputs": [],
   "source": [
    "# Definir a verossimilhança (uma distribuição normal com desvio padrão conhecido de 1)\n",
    "def likelihood(mu, data):\n",
    "    return np.prod(norm.pdf(data, mu, 1))"
   ]
  },
  {
   "cell_type": "code",
   "execution_count": 12,
   "id": "e157deb1",
   "metadata": {},
   "outputs": [],
   "source": [
    "# Definir a posteriori\n",
    "def posterior(mu, data):\n",
    "    return likelihood(mu, data) * prior(mu)"
   ]
  },
  {
   "cell_type": "code",
   "execution_count": 13,
   "id": "a82eb17a",
   "metadata": {},
   "outputs": [],
   "source": [
    "# Amostra de dados\n",
    "data = np.array([2.3, 2.9, 3.1, 2.8, 3.0])"
   ]
  },
  {
   "cell_type": "code",
   "execution_count": 14,
   "id": "388a00ff",
   "metadata": {},
   "outputs": [],
   "source": [
    "# Cálculo da evidência (integral da posteriori sobre todos os valores possíveis de mu)\n",
    "evidence, _ = quad(lambda mu: posterior(mu, data), -np.inf, np.inf)"
   ]
  },
  {
   "cell_type": "code",
   "execution_count": 15,
   "id": "f00a1772",
   "metadata": {},
   "outputs": [],
   "source": [
    "# Atualização bayesiana (normalização da posteriori)\n",
    "def normalized_posterior(mu, data):\n",
    "    return posterior(mu, data) / evidence"
   ]
  },
  {
   "cell_type": "code",
   "execution_count": 16,
   "id": "608f8178",
   "metadata": {},
   "outputs": [],
   "source": [
    "# Intervalo de mu para para criar o plot\n",
    "mu_values = np.linspace(-2, 6, 1000)"
   ]
  },
  {
   "cell_type": "code",
   "execution_count": 17,
   "id": "791802d0",
   "metadata": {},
   "outputs": [],
   "source": [
    "# Cálculo da posteriori normalizada para diferentes valores de mu\n",
    "posterior_values = [normalized_posterior(mu, data) for mu in mu_values]"
   ]
  },
  {
   "cell_type": "code",
   "execution_count": 19,
   "id": "c43c0828",
   "metadata": {},
   "outputs": [
    {
     "data": {
      "image/png": "[encoded data removed]",
      "text/plain": [
       "<Figure size 640x480 with 1 Axes>"
      ]
     },
     "metadata": {},
     "output_type": "display_data"
    }
   ],
   "source": [
    "# Podemos então plotar a posteriori\n",
    "plt.plot(mu_values, posterior_values)\n",
    "plt.xlabel('mu')\n",
    "plt.ylabel('Probabilidade Posterior')\n",
    "plt.title('Distribuição Posterior de mu')\n",
    "plt.show()"
   ]
  },
  {
   "cell_type": "markdown",
   "id": "f4ad8430",
   "metadata": {},
   "source": [
    "## Diagnosticando Uma Doença com Inferência Bayesiana (Sem o Uso de Integral)\n",
    "\n",
    "A inferência bayesiana pode ser aplicada em diversos campos. Vamos explorar um caso de uso comum na área médica: o diagnóstico de uma doença com base em um teste clínico.\n",
    "\n",
    "Suponha que estamos considerando uma doença específica que afeta 1% da população. Temos um teste que pode diagnosticar essa doença, mas o teste não é perfeito. Ele tem uma taxa de verdadeiros positivos de 95% (se você tem a doença, o teste é positivo 95% do tempo) e uma taxa de falsos positivos de 5% (se você não tem a doença, o teste é positivo 5% do tempo).\n",
    "\n",
    "Agora, vamos usar a inferência bayesiana para calcular a probabilidade de que uma pessoa que testou positivo realmente tenha a doença."
   ]
  },
  {
   "cell_type": "markdown",
   "id": "5f02c6a1",
   "metadata": {},
   "source": [
    "Priori (Probabilidade Prévia):\n",
    "\n",
    "- P(D)=0.01: Probabilidade de ter a doença (1% da população).\n",
    "- P(¬D)=0.99: Probabilidade de não ter a doença.\n",
    "\n",
    "Verossimilhança (Likelihood):\n",
    "\n",
    "- P(T∣D)=0.95: Probabilidade de teste positivo se tiver a doença (verdadeiros positivos).\n",
    "- P(T∣¬D)=0.05: Probabilidade de teste positivo se não tiver a doença (falsos positivos).\n",
    "\n",
    "Evidência (Marginal Likelihood):\n",
    "\n",
    "A probabilidade total de teste positivo, considerando pessoas com a doença e sem a doença:\n",
    "\n",
    "P(T)=P(T∣D)⋅P(D)+P(T∣¬D)⋅P(¬D)=0.95⋅0.01+0.05⋅0.99=0.059.\n",
    "\n",
    "Posteriori (Probabilidade Posterior):\n",
    "\n",
    "Usando o teorema de Bayes, podemos calcular a probabilidade de ter a doença dado um teste positivo:\n",
    "\n",
    "- P(D∣T) =  P(T∣D)⋅P(D) / P(T) \n",
    "- P(D∣T) = 0.95 ⋅ 0.01 / 0.059 ≈ 0.161\n",
    "\n",
    "Portanto, a probabilidade de que uma pessoa que testou positivo realmente tenha a doença é de aproximadamente 16,1%."
   ]
  },
  {
   "cell_type": "markdown",
   "id": "2a9c598c",
   "metadata": {},
   "source": [
    "Em Python:"
   ]
  },
  {
   "cell_type": "code",
   "execution_count": 20,
   "id": "ac5afd4f",
   "metadata": {},
   "outputs": [
    {
     "name": "stdout",
     "output_type": "stream",
     "text": [
      "Probabilidade de ter a doença, dado um teste positivo: 16.10%\n"
     ]
    }
   ],
   "source": [
    "# Definindo as probabilidades\n",
    "\n",
    "# P(D): Priori - Probabilidade de ter a doença\n",
    "prob_doenca = 0.01\n",
    "\n",
    "# P(¬D): Priori - Probabilidade de não ter a doença\n",
    "prob_nao_doenca = 1 - prob_doenca\n",
    "\n",
    "# P(T|D): Verossimilhança - Probabilidade de teste positivo se tiver a doença\n",
    "prob_teste_positivo_doenca = 0.95\n",
    "\n",
    "# P(T|¬D): Verossimilhança - Probabilidade de teste positivo se não tiver a doença\n",
    "prob_teste_positivo_nao_doenca = 0.05   \n",
    "\n",
    "# Calculando a evidência: P(T) = P(T|D) * P(D) + P(T|¬D) * P(¬D)\n",
    "prob_teste_positivo = (prob_teste_positivo_doenca * prob_doenca +\n",
    "                       prob_teste_positivo_nao_doenca * prob_nao_doenca)\n",
    "\n",
    "# Calculando a posteriori: P(D|T) = P(T|D) * P(D) / P(T)\n",
    "prob_doenca_teste_positivo = (prob_teste_positivo_doenca * prob_doenca) / prob_teste_positivo\n",
    "\n",
    "print(f\"Probabilidade de ter a doença, dado um teste positivo: {prob_doenca_teste_positivo * 100:.2f}%\")"
   ]
  },
  {
   "cell_type": "markdown",
   "id": "b6f3b7ce",
   "metadata": {},
   "source": [
    "## Diagnosticando Uma Doença com Inferência Bayesiana (Com o Uso de Integral)\n",
    "\n",
    "No exemplo acima, a integral não foi necessária porque trabalhamos com distribuições discretas e cálculos diretos das probabilidades. No entanto, em muitos casos na inferência bayesiana, especialmente quando trabalhamos com distribuições contínuas, a integral é necessária para calcular a evidência.\n",
    "\n",
    "Vamos ajustar o exemplo anterior para ilustrar o cálculo da integral. Suponha que não tenhamos uma probabilidade específica para a doença, mas sim uma distribuição contínua que represente nossa incerteza. Podemos usar a integral para somar as probabilidades contínuas."
   ]
  },
  {
   "cell_type": "code",
   "execution_count": 21,
   "id": "62a8d31b",
   "metadata": {},
   "outputs": [
    {
     "data": {
      "image/png": "[encoded data removed]",
      "text/plain": [
       "<Figure size 640x480 with 1 Axes>"
      ]
     },
     "metadata": {},
     "output_type": "display_data"
    }
   ],
   "source": [
    "from scipy.integrate import quad\n",
    "\n",
    "# Definir a priori como uma função (por exemplo, uma distribuição uniforme)\n",
    "def prior(prob_doenca):\n",
    "    return 1 if 0 <= prob_doenca <= 1 else 0\n",
    "\n",
    "# Definir a verossimilhança como uma função\n",
    "def likelihood(prob_doenca):\n",
    "    return (prob_teste_positivo_doenca * prob_doenca +\n",
    "            prob_teste_positivo_nao_doenca * (1 - prob_doenca))\n",
    "\n",
    "# Calcular a evidência usando a integral da priori multiplicada pela verossimilhança\n",
    "def evidence_intergral(prob_doenca):\n",
    "    return likelihood(prob_doenca) * prior(prob_doenca)\n",
    "\n",
    "evidence, _ = quad(evidence_intergral, 0, 1)\n",
    "\n",
    "# Definir a posteriori como uma função\n",
    "def posterior(prob_doenca):\n",
    "    return likelihood(prob_doenca) * prior(prob_doenca) / evidence\n",
    "\n",
    "# Agora você pode avaliar a posteriori para diferentes valores de prob_doenca\n",
    "import numpy as np\n",
    "import matplotlib.pyplot as plt\n",
    "\n",
    "# Valores para avaliar a posteriori\n",
    "valores_prob_doenca = np.linspace(0, 1, 1000)\n",
    "\n",
    "# Calculando a posteriori para cada valor\n",
    "valores_posteriori = [posterior(prob_doenca) for prob_doenca in valores_prob_doenca]\n",
    "\n",
    "# Plotando a posteriori\n",
    "plt.plot(valores_prob_doenca, valores_posteriori)\n",
    "plt.xlabel('Probabilidade de Doença')\n",
    "plt.ylabel('Posteriori')\n",
    "plt.title('Distribuição Posterior da Probabilidade da Doença')\n",
    "plt.show()"
   ]
  },
  {
   "cell_type": "markdown",
   "id": "ecc69e32",
   "metadata": {},
   "source": [
    "Esse código acima irá plotar a distribuição posterior da probabilidade da doença, mostrando como a crença se atualiza com base no resultado do teste. A distribuição posterior representa a sua crença atualizada sobre a probabilidade da doença, dado o resultado do teste, e reflete tanto o seu conhecimento prévio (a priori) quanto a informação fornecida pelo teste (a verossimilhança).\n",
    "\n",
    "A forma da distribuição posterior depende da escolha da priori e da verossimilhança, e pode fornecer insights valiosos sobre a incerteza associada à probabilidade da doença. Isso pode ser útil em uma variedade de contextos clínicos ou de pesquisa onde você quer quantificar a incerteza sobre uma quantidade desconhecida com base nos dados observados."
   ]
  },
  {
   "cell_type": "code",
   "execution_count": 22,
   "id": "78e6c9dd",
   "metadata": {},
   "outputs": [
    {
     "name": "stdout",
     "output_type": "stream",
     "text": [
      "Author: Data Science Academy\n",
      "\n",
      "numpy     : 1.26.3\n",
      "scipy     : 1.10.0\n",
      "matplotlib: 3.8.2\n",
      "\n"
     ]
    }
   ],
   "source": [
    "# Versões dos pacotes usados neste jupyter notebook\n",
    "%reload_ext watermark\n",
    "%watermark -a \"Data Science Academy\" --iversions"
   ]
  },
  {
   "cell_type": "markdown",
   "id": "e84e6c8f",
   "metadata": {},
   "source": [
    "# Fim"
   ]
  }
 ],
 "metadata": {
  "kernelspec": {
   "display_name": "Python 3 (ipykernel)",
   "language": "python",
   "name": "python3"
  },
  "language_info": {
   "codemirror_mode": {
    "name": "ipython",
    "version": 3
   },
   "file_extension": ".py",
   "mimetype": "text/x-python",
   "name": "python",
   "nbconvert_exporter": "python",
   "pygments_lexer": "ipython3",
   "version": "3.9.18"
  }
 },
 "nbformat": 4,
 "nbformat_minor": 5
}
