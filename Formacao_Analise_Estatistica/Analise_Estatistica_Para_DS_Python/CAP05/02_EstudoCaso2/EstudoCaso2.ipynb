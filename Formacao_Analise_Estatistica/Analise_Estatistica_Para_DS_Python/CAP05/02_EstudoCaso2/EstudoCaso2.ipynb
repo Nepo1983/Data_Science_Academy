{
 "cells": [
  {
   "cell_type": "markdown",
   "id": "06838624",
   "metadata": {},
   "source": [
    "# <font color='blue'>Data Science Academy</font>\n",
    "# <font color='blue'>Análise Estatística Para Data Science com Linguagem Python</font>\n",
    "\n",
    "## <font color='blue'>Estudo de Caso 2</font>\n",
    "### <font color='blue'>Prevendo o Rendimento de Fundos Imobiliários em Meio a Incertezas com Regressão Bayesiana</font>"
   ]
  },
  {
   "cell_type": "markdown",
   "id": "cca88dbe",
   "metadata": {},
   "source": [
    "![DSA](imagens/EC2.png)"
   ]
  },
  {
   "cell_type": "markdown",
   "id": "250505f6",
   "metadata": {},
   "source": [
    "## Instalando e Carregando os Pacotes"
   ]
  },
  {
   "cell_type": "code",
   "execution_count": 1,
   "id": "434e65e3",
   "metadata": {},
   "outputs": [
    {
     "name": "stdout",
     "output_type": "stream",
     "text": [
      "Versão da Linguagem Python Usada Neste Jupyter Notebook: 3.9.18\n"
     ]
    }
   ],
   "source": [
    "# Versão da Linguagem Python\n",
    "from platform import python_version\n",
    "print('Versão da Linguagem Python Usada Neste Jupyter Notebook:', python_version())"
   ]
  },
  {
   "cell_type": "code",
   "execution_count": null,
   "id": "45a629c2",
   "metadata": {},
   "outputs": [],
   "source": [
    "# Para atualizar um pacote, execute o comando abaixo no terminal ou prompt de comando:\n",
    "# pip install -U nome_pacote\n",
    "\n",
    "# Para instalar a versão exata de um pacote, execute o comando abaixo no terminal ou prompt de comando:\n",
    "# !pip install nome_pacote==versão_desejada\n",
    "\n",
    "# Depois de instalar ou atualizar o pacote, reinicie o jupyter notebook.\n",
    "\n",
    "# Instala o pacote watermark. \n",
    "# Esse pacote é usado para gravar as versões de outros pacotes usados neste jupyter notebook.\n",
    "# !pip install -q -U watermark"
   ]
  },
  {
   "cell_type": "code",
   "execution_count": 3,
   "id": "18f95019",
   "metadata": {},
   "outputs": [
    {
     "name": "stdout",
     "output_type": "stream",
     "text": [
      "\n",
      "\u001b[1m[\u001b[0m\u001b[34;49mnotice\u001b[0m\u001b[1;39;49m]\u001b[0m\u001b[39;49m A new release of pip is available: \u001b[0m\u001b[31;49m23.3.2\u001b[0m\u001b[39;49m -> \u001b[0m\u001b[32;49m24.0\u001b[0m\n",
      "\u001b[1m[\u001b[0m\u001b[34;49mnotice\u001b[0m\u001b[1;39;49m]\u001b[0m\u001b[39;49m To update, run: \u001b[0m\u001b[32;49mpip install --upgrade pip\u001b[0m\n"
     ]
    }
   ],
   "source": [
    "!pip3 install -q scipy==1.7.3"
   ]
  },
  {
   "cell_type": "markdown",
   "id": "9a89efa8",
   "metadata": {},
   "source": [
    "https://www.pymc.io/projects/docs/en/v3/index.html"
   ]
  },
  {
   "cell_type": "code",
   "execution_count": 4,
   "id": "f9a3d581",
   "metadata": {},
   "outputs": [
    {
     "name": "stdout",
     "output_type": "stream",
     "text": [
      "\u001b[31mERROR: pip's dependency resolver does not currently take into account all the packages that are installed. This behaviour is the source of the following dependency conflicts.\n",
      "gluonts 0.13.2 requires pydantic~=1.7, but you have pydantic 2.5.3 which is incompatible.\n",
      "skimpy 0.0.14 requires numpy<2.0.0,>=1.22.2, but you have numpy 1.22.1 which is incompatible.\u001b[0m\u001b[31m\n",
      "\u001b[0m\n",
      "\u001b[1m[\u001b[0m\u001b[34;49mnotice\u001b[0m\u001b[1;39;49m]\u001b[0m\u001b[39;49m A new release of pip is available: \u001b[0m\u001b[31;49m23.3.2\u001b[0m\u001b[39;49m -> \u001b[0m\u001b[32;49m24.0\u001b[0m\n",
      "\u001b[1m[\u001b[0m\u001b[34;49mnotice\u001b[0m\u001b[1;39;49m]\u001b[0m\u001b[39;49m To update, run: \u001b[0m\u001b[32;49mpip install --upgrade pip\u001b[0m\n"
     ]
    }
   ],
   "source": [
    "!pip3 install -q pymc3==3.11.5"
   ]
  },
  {
   "cell_type": "code",
   "execution_count": 5,
   "id": "c6cfb25c",
   "metadata": {},
   "outputs": [],
   "source": [
    "# Imports\n",
    "import pandas as pd\n",
    "import numpy as np\n",
    "import pymc3 as pm\n",
    "import warnings\n",
    "warnings.filterwarnings('ignore')"
   ]
  },
  {
   "cell_type": "code",
   "execution_count": 6,
   "id": "211a8d25",
   "metadata": {},
   "outputs": [
    {
     "name": "stdout",
     "output_type": "stream",
     "text": [
      "Author: Data Science Academy\n",
      "\n",
      "pandas: 2.0.3\n",
      "pymc3 : 3.11.5\n",
      "numpy : 1.22.1\n",
      "\n"
     ]
    }
   ],
   "source": [
    "# Versões dos pacotes usados neste jupyter notebook\n",
    "%reload_ext watermark\n",
    "%watermark -a \"Data Science Academy\" --iversions"
   ]
  },
  {
   "cell_type": "markdown",
   "id": "38796b8a",
   "metadata": {},
   "source": [
    "## Carregando os Dados"
   ]
  },
  {
   "cell_type": "code",
   "execution_count": 7,
   "id": "081c8e29",
   "metadata": {},
   "outputs": [],
   "source": [
    "# Carregar o dataset de investimentos\n",
    "dados_investimentos = pd.read_csv('dados/dados_investimentos.csv', index_col = 0, parse_dates = True )"
   ]
  },
  {
   "cell_type": "code",
   "execution_count": 8,
   "id": "a753021b",
   "metadata": {},
   "outputs": [
    {
     "data": {
      "text/plain": [
       "(365, 6)"
      ]
     },
     "execution_count": 8,
     "metadata": {},
     "output_type": "execute_result"
    }
   ],
   "source": [
    "dados_investimentos.shape"
   ]
  },
  {
   "cell_type": "code",
   "execution_count": 9,
   "id": "db27993c",
   "metadata": {},
   "outputs": [
    {
     "data": {
      "text/html": [
       "<div>\n",
       "<style scoped>\n",
       "    .dataframe tbody tr th:only-of-type {\n",
       "        vertical-align: middle;\n",
       "    }\n",
       "\n",
       "    .dataframe tbody tr th {\n",
       "        vertical-align: top;\n",
       "    }\n",
       "\n",
       "    .dataframe thead th {\n",
       "        text-align: right;\n",
       "    }\n",
       "</style>\n",
       "<table border=\"1\" class=\"dataframe\">\n",
       "  <thead>\n",
       "    <tr style=\"text-align: right;\">\n",
       "      <th></th>\n",
       "      <th>Ações</th>\n",
       "      <th>Títulos Públicos</th>\n",
       "      <th>Fundos Imobiliários</th>\n",
       "      <th>Rendimento Ações</th>\n",
       "      <th>Rendimento Títulos Públicos</th>\n",
       "      <th>Rendimento Fundos Imobiliários</th>\n",
       "    </tr>\n",
       "  </thead>\n",
       "  <tbody>\n",
       "    <tr>\n",
       "      <th>2022-01-01</th>\n",
       "      <td>-0.017334</td>\n",
       "      <td>-0.048899</td>\n",
       "      <td>0.510967</td>\n",
       "      <td>NaN</td>\n",
       "      <td>NaN</td>\n",
       "      <td>NaN</td>\n",
       "    </tr>\n",
       "    <tr>\n",
       "      <th>2022-01-02</th>\n",
       "      <td>0.435083</td>\n",
       "      <td>-0.159320</td>\n",
       "      <td>-0.189749</td>\n",
       "      <td>-26.099910</td>\n",
       "      <td>2.258122</td>\n",
       "      <td>-1.371353</td>\n",
       "    </tr>\n",
       "    <tr>\n",
       "      <th>2022-01-03</th>\n",
       "      <td>0.196220</td>\n",
       "      <td>-0.101227</td>\n",
       "      <td>0.159899</td>\n",
       "      <td>-0.549005</td>\n",
       "      <td>-0.364632</td>\n",
       "      <td>-1.842684</td>\n",
       "    </tr>\n",
       "    <tr>\n",
       "      <th>2022-01-04</th>\n",
       "      <td>0.023019</td>\n",
       "      <td>0.072812</td>\n",
       "      <td>-0.402519</td>\n",
       "      <td>-0.882688</td>\n",
       "      <td>-1.719296</td>\n",
       "      <td>-3.517339</td>\n",
       "    </tr>\n",
       "    <tr>\n",
       "      <th>2022-01-05</th>\n",
       "      <td>0.103289</td>\n",
       "      <td>0.136370</td>\n",
       "      <td>0.192497</td>\n",
       "      <td>3.487111</td>\n",
       "      <td>0.872901</td>\n",
       "      <td>-1.478231</td>\n",
       "    </tr>\n",
       "  </tbody>\n",
       "</table>\n",
       "</div>"
      ],
      "text/plain": [
       "               Ações  Títulos Públicos  Fundos Imobiliários  Rendimento Ações  \\\n",
       "2022-01-01 -0.017334         -0.048899             0.510967               NaN   \n",
       "2022-01-02  0.435083         -0.159320            -0.189749        -26.099910   \n",
       "2022-01-03  0.196220         -0.101227             0.159899         -0.549005   \n",
       "2022-01-04  0.023019          0.072812            -0.402519         -0.882688   \n",
       "2022-01-05  0.103289          0.136370             0.192497          3.487111   \n",
       "\n",
       "            Rendimento Títulos Públicos  Rendimento Fundos Imobiliários  \n",
       "2022-01-01                          NaN                             NaN  \n",
       "2022-01-02                     2.258122                       -1.371353  \n",
       "2022-01-03                    -0.364632                       -1.842684  \n",
       "2022-01-04                    -1.719296                       -3.517339  \n",
       "2022-01-05                     0.872901                       -1.478231  "
      ]
     },
     "execution_count": 9,
     "metadata": {},
     "output_type": "execute_result"
    }
   ],
   "source": [
    "dados_investimentos.head()"
   ]
  },
  {
   "cell_type": "code",
   "execution_count": 11,
   "id": "37dd675d",
   "metadata": {},
   "outputs": [],
   "source": [
    "# Selecionar apenas os dados de rendimento dos fundos imobiliários\n",
    "dados_fundos_imobiliarios = dados_investimentos[['Rendimento Fundos Imobiliários']]"
   ]
  },
  {
   "cell_type": "code",
   "execution_count": 12,
   "id": "63b5ac55",
   "metadata": {},
   "outputs": [
    {
     "data": {
      "text/plain": [
       "(365, 1)"
      ]
     },
     "execution_count": 12,
     "metadata": {},
     "output_type": "execute_result"
    }
   ],
   "source": [
    "dados_fundos_imobiliarios.shape"
   ]
  },
  {
   "cell_type": "code",
   "execution_count": 13,
   "id": "e1c6dadb",
   "metadata": {},
   "outputs": [
    {
     "data": {
      "text/html": [
       "<div>\n",
       "<style scoped>\n",
       "    .dataframe tbody tr th:only-of-type {\n",
       "        vertical-align: middle;\n",
       "    }\n",
       "\n",
       "    .dataframe tbody tr th {\n",
       "        vertical-align: top;\n",
       "    }\n",
       "\n",
       "    .dataframe thead th {\n",
       "        text-align: right;\n",
       "    }\n",
       "</style>\n",
       "<table border=\"1\" class=\"dataframe\">\n",
       "  <thead>\n",
       "    <tr style=\"text-align: right;\">\n",
       "      <th></th>\n",
       "      <th>Rendimento Fundos Imobiliários</th>\n",
       "    </tr>\n",
       "  </thead>\n",
       "  <tbody>\n",
       "    <tr>\n",
       "      <th>2022-01-01</th>\n",
       "      <td>NaN</td>\n",
       "    </tr>\n",
       "    <tr>\n",
       "      <th>2022-01-02</th>\n",
       "      <td>-1.371353</td>\n",
       "    </tr>\n",
       "    <tr>\n",
       "      <th>2022-01-03</th>\n",
       "      <td>-1.842684</td>\n",
       "    </tr>\n",
       "    <tr>\n",
       "      <th>2022-01-04</th>\n",
       "      <td>-3.517339</td>\n",
       "    </tr>\n",
       "    <tr>\n",
       "      <th>2022-01-05</th>\n",
       "      <td>-1.478231</td>\n",
       "    </tr>\n",
       "  </tbody>\n",
       "</table>\n",
       "</div>"
      ],
      "text/plain": [
       "            Rendimento Fundos Imobiliários\n",
       "2022-01-01                             NaN\n",
       "2022-01-02                       -1.371353\n",
       "2022-01-03                       -1.842684\n",
       "2022-01-04                       -3.517339\n",
       "2022-01-05                       -1.478231"
      ]
     },
     "execution_count": 13,
     "metadata": {},
     "output_type": "execute_result"
    }
   ],
   "source": [
    "dados_fundos_imobiliarios.head()"
   ]
  },
  {
   "cell_type": "markdown",
   "id": "92df289f",
   "metadata": {},
   "source": [
    "## Pré-Processamento dos Dados"
   ]
  },
  {
   "cell_type": "code",
   "execution_count": 14,
   "id": "c82ece69",
   "metadata": {},
   "outputs": [],
   "source": [
    "# Criar a variável preditora\n",
    "dias_deslocamento = 5\n",
    "dados_fundos_imobiliarios['Rendimento Fundos Imobiliários (t-5)'] = dados_fundos_imobiliarios['Rendimento Fundos Imobiliários'].shift(dias_deslocamento)"
   ]
  },
  {
   "cell_type": "code",
   "execution_count": 15,
   "id": "df2c6a02",
   "metadata": {},
   "outputs": [
    {
     "data": {
      "text/html": [
       "<div>\n",
       "<style scoped>\n",
       "    .dataframe tbody tr th:only-of-type {\n",
       "        vertical-align: middle;\n",
       "    }\n",
       "\n",
       "    .dataframe tbody tr th {\n",
       "        vertical-align: top;\n",
       "    }\n",
       "\n",
       "    .dataframe thead th {\n",
       "        text-align: right;\n",
       "    }\n",
       "</style>\n",
       "<table border=\"1\" class=\"dataframe\">\n",
       "  <thead>\n",
       "    <tr style=\"text-align: right;\">\n",
       "      <th></th>\n",
       "      <th>Rendimento Fundos Imobiliários</th>\n",
       "      <th>Rendimento Fundos Imobiliários (t-5)</th>\n",
       "    </tr>\n",
       "  </thead>\n",
       "  <tbody>\n",
       "    <tr>\n",
       "      <th>2022-01-01</th>\n",
       "      <td>NaN</td>\n",
       "      <td>NaN</td>\n",
       "    </tr>\n",
       "    <tr>\n",
       "      <th>2022-01-02</th>\n",
       "      <td>-1.371353</td>\n",
       "      <td>NaN</td>\n",
       "    </tr>\n",
       "    <tr>\n",
       "      <th>2022-01-03</th>\n",
       "      <td>-1.842684</td>\n",
       "      <td>NaN</td>\n",
       "    </tr>\n",
       "    <tr>\n",
       "      <th>2022-01-04</th>\n",
       "      <td>-3.517339</td>\n",
       "      <td>NaN</td>\n",
       "    </tr>\n",
       "    <tr>\n",
       "      <th>2022-01-05</th>\n",
       "      <td>-1.478231</td>\n",
       "      <td>NaN</td>\n",
       "    </tr>\n",
       "  </tbody>\n",
       "</table>\n",
       "</div>"
      ],
      "text/plain": [
       "            Rendimento Fundos Imobiliários  \\\n",
       "2022-01-01                             NaN   \n",
       "2022-01-02                       -1.371353   \n",
       "2022-01-03                       -1.842684   \n",
       "2022-01-04                       -3.517339   \n",
       "2022-01-05                       -1.478231   \n",
       "\n",
       "            Rendimento Fundos Imobiliários (t-5)  \n",
       "2022-01-01                                   NaN  \n",
       "2022-01-02                                   NaN  \n",
       "2022-01-03                                   NaN  \n",
       "2022-01-04                                   NaN  \n",
       "2022-01-05                                   NaN  "
      ]
     },
     "execution_count": 15,
     "metadata": {},
     "output_type": "execute_result"
    }
   ],
   "source": [
    "dados_fundos_imobiliarios.head()"
   ]
  },
  {
   "cell_type": "code",
   "execution_count": 16,
   "id": "13459044",
   "metadata": {},
   "outputs": [
    {
     "data": {
      "text/html": [
       "<div>\n",
       "<style scoped>\n",
       "    .dataframe tbody tr th:only-of-type {\n",
       "        vertical-align: middle;\n",
       "    }\n",
       "\n",
       "    .dataframe tbody tr th {\n",
       "        vertical-align: top;\n",
       "    }\n",
       "\n",
       "    .dataframe thead th {\n",
       "        text-align: right;\n",
       "    }\n",
       "</style>\n",
       "<table border=\"1\" class=\"dataframe\">\n",
       "  <thead>\n",
       "    <tr style=\"text-align: right;\">\n",
       "      <th></th>\n",
       "      <th>Rendimento Fundos Imobiliários</th>\n",
       "      <th>Rendimento Fundos Imobiliários (t-5)</th>\n",
       "    </tr>\n",
       "  </thead>\n",
       "  <tbody>\n",
       "    <tr>\n",
       "      <th>2022-12-27</th>\n",
       "      <td>-0.104117</td>\n",
       "      <td>-4.930165</td>\n",
       "    </tr>\n",
       "    <tr>\n",
       "      <th>2022-12-28</th>\n",
       "      <td>-1.485806</td>\n",
       "      <td>-1.328787</td>\n",
       "    </tr>\n",
       "    <tr>\n",
       "      <th>2022-12-29</th>\n",
       "      <td>0.113994</td>\n",
       "      <td>-1.616446</td>\n",
       "    </tr>\n",
       "    <tr>\n",
       "      <th>2022-12-30</th>\n",
       "      <td>-2.652999</td>\n",
       "      <td>-2.591367</td>\n",
       "    </tr>\n",
       "    <tr>\n",
       "      <th>2022-12-31</th>\n",
       "      <td>-1.680685</td>\n",
       "      <td>-3.610346</td>\n",
       "    </tr>\n",
       "  </tbody>\n",
       "</table>\n",
       "</div>"
      ],
      "text/plain": [
       "            Rendimento Fundos Imobiliários  \\\n",
       "2022-12-27                       -0.104117   \n",
       "2022-12-28                       -1.485806   \n",
       "2022-12-29                        0.113994   \n",
       "2022-12-30                       -2.652999   \n",
       "2022-12-31                       -1.680685   \n",
       "\n",
       "            Rendimento Fundos Imobiliários (t-5)  \n",
       "2022-12-27                             -4.930165  \n",
       "2022-12-28                             -1.328787  \n",
       "2022-12-29                             -1.616446  \n",
       "2022-12-30                             -2.591367  \n",
       "2022-12-31                             -3.610346  "
      ]
     },
     "execution_count": 16,
     "metadata": {},
     "output_type": "execute_result"
    }
   ],
   "source": [
    "dados_fundos_imobiliarios.tail()"
   ]
  },
  {
   "cell_type": "code",
   "execution_count": 17,
   "id": "72c67f4b",
   "metadata": {},
   "outputs": [],
   "source": [
    "# Remover as linhas com valores ausentes\n",
    "dados_fundos_imobiliarios = dados_fundos_imobiliarios.dropna()"
   ]
  },
  {
   "cell_type": "code",
   "execution_count": 18,
   "id": "2a24cd0e",
   "metadata": {},
   "outputs": [
    {
     "data": {
      "text/html": [
       "<div>\n",
       "<style scoped>\n",
       "    .dataframe tbody tr th:only-of-type {\n",
       "        vertical-align: middle;\n",
       "    }\n",
       "\n",
       "    .dataframe tbody tr th {\n",
       "        vertical-align: top;\n",
       "    }\n",
       "\n",
       "    .dataframe thead th {\n",
       "        text-align: right;\n",
       "    }\n",
       "</style>\n",
       "<table border=\"1\" class=\"dataframe\">\n",
       "  <thead>\n",
       "    <tr style=\"text-align: right;\">\n",
       "      <th></th>\n",
       "      <th>Rendimento Fundos Imobiliários</th>\n",
       "      <th>Rendimento Fundos Imobiliários (t-5)</th>\n",
       "    </tr>\n",
       "  </thead>\n",
       "  <tbody>\n",
       "    <tr>\n",
       "      <th>2022-01-07</th>\n",
       "      <td>-3.025357</td>\n",
       "      <td>-1.371353</td>\n",
       "    </tr>\n",
       "    <tr>\n",
       "      <th>2022-01-08</th>\n",
       "      <td>-1.948727</td>\n",
       "      <td>-1.842684</td>\n",
       "    </tr>\n",
       "    <tr>\n",
       "      <th>2022-01-09</th>\n",
       "      <td>-0.055173</td>\n",
       "      <td>-3.517339</td>\n",
       "    </tr>\n",
       "    <tr>\n",
       "      <th>2022-01-10</th>\n",
       "      <td>-1.490320</td>\n",
       "      <td>-1.478231</td>\n",
       "    </tr>\n",
       "    <tr>\n",
       "      <th>2022-01-11</th>\n",
       "      <td>-3.540331</td>\n",
       "      <td>-0.196477</td>\n",
       "    </tr>\n",
       "  </tbody>\n",
       "</table>\n",
       "</div>"
      ],
      "text/plain": [
       "            Rendimento Fundos Imobiliários  \\\n",
       "2022-01-07                       -3.025357   \n",
       "2022-01-08                       -1.948727   \n",
       "2022-01-09                       -0.055173   \n",
       "2022-01-10                       -1.490320   \n",
       "2022-01-11                       -3.540331   \n",
       "\n",
       "            Rendimento Fundos Imobiliários (t-5)  \n",
       "2022-01-07                             -1.371353  \n",
       "2022-01-08                             -1.842684  \n",
       "2022-01-09                             -3.517339  \n",
       "2022-01-10                             -1.478231  \n",
       "2022-01-11                             -0.196477  "
      ]
     },
     "execution_count": 18,
     "metadata": {},
     "output_type": "execute_result"
    }
   ],
   "source": [
    "dados_fundos_imobiliarios.head()"
   ]
  },
  {
   "cell_type": "code",
   "execution_count": 19,
   "id": "61e1d1d1",
   "metadata": {},
   "outputs": [],
   "source": [
    "# Separar os dados em conjunto de treinamento e teste\n",
    "dados_treino = dados_fundos_imobiliarios.loc['2022-01-06':'2022-10-31']\n",
    "dados_teste = dados_fundos_imobiliarios.loc['2022-11-01':'2022-12-31']"
   ]
  },
  {
   "cell_type": "markdown",
   "id": "0f87d363",
   "metadata": {},
   "source": [
    "## Construção e Treinamento do Modelo\n",
    "\n",
    "Diferentemente da regressão clássica, que assume que os parâmetros do modelo são desconhecidos, a Regressão Bayesiana modela esses parâmetros como distribuições de probabilidade.\n",
    "\n",
    "Na Regressão Bayesiana, os dados observados são usados para atualizar a distribuição a priori dos parâmetros do modelo, resultando em uma distribuição a posteriori. Essa distribuição a posteriori é então usada para fazer previsões sobre novos dados.\n",
    "\n",
    "A Regressão Bayesiana é útil quando há incerteza sobre os parâmetros do modelo ou quando há poucos dados disponíveis. Ela permite incorporar informações prévias (priors) sobre os parâmetros do modelo, o que pode melhorar a precisão das previsões. Além disso, a Regressão Bayesiana fornece uma distribuição completa dos parâmetros do modelo, em vez de apenas um único valor pontual, permitindo uma avaliação mais completa da incerteza.\n",
    "\n",
    "O código abaixo usa a biblioteca PyMC3 para modelar uma regressão linear bayesiana.\n",
    "\n",
    "**with pm.Model() as modelo:** inicia um novo modelo usando o PyMC3.\n",
    "\n",
    "**alpha = pm.Normal('alpha', mu = 0, sd = 1)** define a priori para o intercepto alpha como uma distribuição normal com média 0 e desvio padrão 1.\n",
    "\n",
    "**beta = pm.Normal('beta', mu = 0, sd = 1)** define a priori para o coeficiente de regressão beta como uma distribuição normal com média 0 e desvio padrão 1.\n",
    "\n",
    "**sigma = pm.HalfNormal('sigma', sd = 1)** define a priori para o desvio padrão sigma do erro como uma distribuição normal com média 0 e desvio padrão 1.\n",
    "\n",
    "**mu = alpha + beta*dados_treino['Rendimento Fundos Imobiliários (t-5)']** define a média do modelo como uma combinação linear do intercepto e coeficiente multiplicado pela variável preditora dados_treino['Rendimento Fundos Imobiliários (t-5)'].\n",
    "\n",
    "**likelihood = pm.Normal('y', mu = mu, sd = sigma, observed = dados_treino['Rendimento Fundos Imobiliários'])** define a verossimilhança do modelo, que é uma distribuição normal com média mu e desvio padrão sigma, observada nos dados dados_treino['Rendimento Fundos Imobiliários'].\n",
    "\n",
    "**trace = pm.sample(1000, tune = 1000)** executa a amostragem de Monte Carlo usando a função sample do PyMC3, que gera 1000 amostras a partir do modelo especificado, depois de 1000 iterações de tuning para ajustar os hiperparâmetros do algoritmo. O resultado é armazenado na variável trace."
   ]
  },
  {
   "cell_type": "code",
   "execution_count": 20,
   "id": "c4abcd26",
   "metadata": {},
   "outputs": [
    {
     "name": "stderr",
     "output_type": "stream",
     "text": [
      "Auto-assigning NUTS sampler...\n",
      "Initializing NUTS using jitter+adapt_diag...\n",
      "Multiprocess sampling (4 chains in 4 jobs)\n",
      "NUTS: [sigma, beta, alpha]\n"
     ]
    },
    {
     "data": {
      "text/html": [
       "\n",
       "<style>\n",
       "    /* Turns off some styling */\n",
       "    progress {\n",
       "        /* gets rid of default border in Firefox and Opera. */\n",
       "        border: none;\n",
       "        /* Needs to be in here for Safari polyfill so background images work as expected. */\n",
       "        background-size: auto;\n",
       "    }\n",
       "    progress:not([value]), progress:not([value])::-webkit-progress-bar {\n",
       "        background: repeating-linear-gradient(45deg, #7e7e7e, #7e7e7e 10px, #5c5c5c 10px, #5c5c5c 20px);\n",
       "    }\n",
       "    .progress-bar-interrupted, .progress-bar-interrupted::-webkit-progress-bar {\n",
       "        background: #F44336;\n",
       "    }\n",
       "</style>\n"
      ],
      "text/plain": [
       "<IPython.core.display.HTML object>"
      ]
     },
     "metadata": {},
     "output_type": "display_data"
    },
    {
     "data": {
      "text/html": [
       "\n",
       "    <div>\n",
       "      <progress value='8000' class='' max='8000' style='width:300px; height:20px; vertical-align: middle;'></progress>\n",
       "      100.00% [8000/8000 00:01&lt;00:00 Sampling 4 chains, 0 divergences]\n",
       "    </div>\n",
       "    "
      ],
      "text/plain": [
       "<IPython.core.display.HTML object>"
      ]
     },
     "metadata": {},
     "output_type": "display_data"
    },
    {
     "name": "stderr",
     "output_type": "stream",
     "text": [
      "/Users/frnepom/.pyenv/versions/3.9.18/lib/python3.9/site-packages/scipy/stats/_continuous_distns.py:624: RuntimeWarning: overflow encountered in _beta_ppf\n",
      "  return _boost._beta_ppf(q, a, b)\n",
      "/Users/frnepom/.pyenv/versions/3.9.18/lib/python3.9/site-packages/scipy/stats/_continuous_distns.py:624: RuntimeWarning: overflow encountered in _beta_ppf\n",
      "  return _boost._beta_ppf(q, a, b)\n",
      "/Users/frnepom/.pyenv/versions/3.9.18/lib/python3.9/site-packages/scipy/stats/_continuous_distns.py:624: RuntimeWarning: overflow encountered in _beta_ppf\n",
      "  return _boost._beta_ppf(q, a, b)\n",
      "/Users/frnepom/.pyenv/versions/3.9.18/lib/python3.9/site-packages/scipy/stats/_continuous_distns.py:624: RuntimeWarning: overflow encountered in _beta_ppf\n",
      "  return _boost._beta_ppf(q, a, b)\n",
      "Sampling 4 chains for 1_000 tune and 1_000 draw iterations (4_000 + 4_000 draws total) took 7 seconds.\n"
     ]
    }
   ],
   "source": [
    "# Criar o modelo de regressão linear bayesiana\n",
    "\n",
    "# Inicia um novo modelo usando o PyMC3.\n",
    "with pm.Model() as modelo:    \n",
    "    \n",
    "    # priors\n",
    "    alpha = pm.Normal('alpha', mu = 0, sd = 1)\n",
    "    beta = pm.Normal('beta', mu = 0, sd = 1)\n",
    "    sigma = pm.HalfNormal('sigma', sd = 1)\n",
    "\n",
    "    # likelihood\n",
    "    mu = alpha + beta * dados_treino['Rendimento Fundos Imobiliários (t-5)']\n",
    "    likelihood = pm.Normal('y', mu = mu, sd = sigma, observed = dados_treino['Rendimento Fundos Imobiliários'])\n",
    "\n",
    "    # inferência\n",
    "    trace = pm.sample(1000, tune = 1000)"
   ]
  },
  {
   "cell_type": "markdown",
   "id": "25524ba6",
   "metadata": {},
   "source": [
    "No exemplo acima, as distribuições pm.Normal e pm.HalfNormal definem as priors (a priori) para os parâmetros do modelo bayesiano.\n",
    "\n",
    "As priors são distribuições de probabilidade que expressam as crenças iniciais (ou incertezas) sobre os valores dos parâmetros antes de observar os dados.\n",
    "\n",
    "No caso do código acima, as priors definem as crenças iniciais sobre os valores dos parâmetros alpha, beta e sigma. A distribuição normal com média zero e desvio padrão um, por exemplo, expressa a crença inicial de que o valor de alpha está mais provavelmente próximo a zero, mas pode ser positivo ou negativo, e é tão provável que seja 1 desvio padrão acima ou abaixo de zero.\n",
    "\n",
    "As priors podem ser escolhidas com base no conhecimento prévio ou na opinião do modelador, ou com base em informações adicionais, como estudos anteriores, teoria, experimentos piloto ou dados históricos."
   ]
  },
  {
   "cell_type": "markdown",
   "id": "85c26652",
   "metadata": {},
   "source": [
    "## Uso do Modelo com Dados de Teste\n",
    "\n",
    "A linha de código abaixo usa o PyMC3 para gerar amostras preditivas do modelo bayesiano já treinado usando as amostras da posteriori armazenadas na variável trace.\n",
    "\n",
    "Em particular, a função pm.sample_posterior_predictive é usada para gerar previsões do modelo usando as amostras da posteriori. Os argumentos samples, model e var_names são usados para especificar o número de amostras a serem geradas, o modelo a ser usado e as variáveis de interesse para as quais se deseja prever.\n",
    "\n",
    "A linha ['y'].mean(axis=0) significa que estamos interessados em prever a variável y, que é a variável de resposta no modelo, e que estamos calculando a média das previsões para cada ponto no conjunto de dados de teste.\n",
    "\n",
    "Portanto, a variável rendimento_previsto conterá a previsão média do modelo para a variável y no conjunto de dados de teste, com base nas amostras preditivas geradas a partir da posteriori."
   ]
  },
  {
   "cell_type": "code",
   "execution_count": 21,
   "id": "2f64a95f",
   "metadata": {},
   "outputs": [
    {
     "data": {
      "text/html": [
       "\n",
       "<style>\n",
       "    /* Turns off some styling */\n",
       "    progress {\n",
       "        /* gets rid of default border in Firefox and Opera. */\n",
       "        border: none;\n",
       "        /* Needs to be in here for Safari polyfill so background images work as expected. */\n",
       "        background-size: auto;\n",
       "    }\n",
       "    progress:not([value]), progress:not([value])::-webkit-progress-bar {\n",
       "        background: repeating-linear-gradient(45deg, #7e7e7e, #7e7e7e 10px, #5c5c5c 10px, #5c5c5c 20px);\n",
       "    }\n",
       "    .progress-bar-interrupted, .progress-bar-interrupted::-webkit-progress-bar {\n",
       "        background: #F44336;\n",
       "    }\n",
       "</style>\n"
      ],
      "text/plain": [
       "<IPython.core.display.HTML object>"
      ]
     },
     "metadata": {},
     "output_type": "display_data"
    },
    {
     "data": {
      "text/html": [
       "\n",
       "    <div>\n",
       "      <progress value='1000' class='' max='1000' style='width:300px; height:20px; vertical-align: middle;'></progress>\n",
       "      100.00% [1000/1000 00:01&lt;00:00]\n",
       "    </div>\n",
       "    "
      ],
      "text/plain": [
       "<IPython.core.display.HTML object>"
      ]
     },
     "metadata": {},
     "output_type": "display_data"
    }
   ],
   "source": [
    "# Fazer previsões para o conjunto de teste\n",
    "rendimento_previsto = pm.sample_posterior_predictive(trace,\n",
    "                                                     samples = 1000,\n",
    "                                                     model = modelo,\n",
    "                                                     var_names = ['alpha', 'beta', 'sigma', 'y'])['y'].mean(axis=0)"
   ]
  },
  {
   "cell_type": "code",
   "execution_count": 22,
   "id": "ea859766",
   "metadata": {},
   "outputs": [
    {
     "data": {
      "text/plain": [
       "array([-0.41509814, -0.4074038 ,  0.12426071, -0.15115973, -0.2045961 ,\n",
       "        0.54361488,  0.49358108,  0.55306589,  0.23121378,  0.32303125,\n",
       "        0.82377935,  0.40430152,  0.31405272,  0.26046138, -0.46545189,\n",
       "        0.34376238, -0.18117659,  0.14691323,  0.84873968,  0.66414986,\n",
       "        0.62002433,  0.16212076,  0.47407428, -0.41978618, -0.7415603 ,\n",
       "       -0.25793988,  0.29503383, -0.67036825,  0.98114276, -0.03398677,\n",
       "       -0.44048356, -0.15975451, -0.23341828,  0.14509498,  0.67985712,\n",
       "        0.77971618, -0.00993965,  0.32530401,  0.45744679,  1.20443868,\n",
       "        0.24176794, -0.08141043,  0.40762408,  0.02723157,  0.31147192,\n",
       "        0.21307349, -0.24857222,  2.0880174 , -0.16792487,  0.60642531,\n",
       "       -0.04935323,  0.25213487,  0.65978766, -0.04118608,  0.71698129,\n",
       "        0.70126325, -0.22056108,  0.43198087,  0.26444931,  0.49101008,\n",
       "        1.37458976,  0.51846174,  0.49180625,  0.02014964,  0.24675342,\n",
       "       -0.33319491, -0.76353708,  0.29251712, -0.23507396, -0.0371516 ,\n",
       "        0.46731273,  0.73769833,  0.46278347,  0.73850507, -0.34913551,\n",
       "        0.64216602,  0.56734688, -0.11160821, -0.46107667,  0.49813306,\n",
       "        0.89469097,  0.1675753 , -1.17069691, -0.22451875,  0.89015612,\n",
       "        1.02451367,  0.08559173,  0.27122211,  0.56695794, -0.17505382,\n",
       "        0.9256512 ,  0.0434761 ,  0.59505777,  0.45432434,  0.35882049,\n",
       "       -0.05678579, -0.25366409, -0.12792517, -0.22828674,  0.31882966,\n",
       "        0.90193274,  0.80083392,  0.25518687,  0.22200279, -0.24066023,\n",
       "        0.54931832,  0.28180652,  0.30401652, -0.3447071 ,  0.15947538,\n",
       "        0.46079846,  0.55385197, -0.29097056,  0.6644744 ,  0.46342728,\n",
       "       -0.1012468 ,  0.35263273, -0.09320583,  0.76867383,  0.10524225,\n",
       "        0.27126927, -0.1364896 ,  0.25329619, -0.22685819, -0.40388775,\n",
       "        0.17854415,  0.87445065,  0.26521503,  0.55530887,  0.51500436,\n",
       "        0.16678038, -0.39305753, -0.15430145, -0.14145264,  0.57937624,\n",
       "       -0.50200758, -0.33420405,  0.16633246,  0.1247554 ,  0.89113584,\n",
       "        0.00827649,  0.46559166, -0.05298444, -0.37781915,  0.5885206 ,\n",
       "        0.06177346,  0.05731447,  0.23342261, -0.34001554,  0.15728952,\n",
       "        0.16132766, -0.30182636, -0.1149231 , -0.29443174,  1.28620303,\n",
       "        0.63011477,  0.41067885,  0.14293554,  0.13403419, -0.02025949,\n",
       "        0.37737687,  0.11383916, -0.15466488,  0.35825509,  0.21659918,\n",
       "        0.54609555,  0.28920328,  0.30854857, -0.26328817,  0.54969717,\n",
       "        0.66110385,  0.89643799,  0.51961884,  0.68993618,  0.92176351,\n",
       "        0.28302409,  0.06030833, -0.62131921, -0.0487394 ,  0.09837528,\n",
       "        1.18470357, -0.0962155 ,  0.85709467,  0.3062457 ,  0.62412616,\n",
       "        0.37129641,  0.6395149 , -0.01630253,  0.21504429, -0.16999858,\n",
       "        0.24381729,  0.42432945,  0.02662936,  0.16728694,  0.37992478,\n",
       "        0.43669389,  0.70692174,  0.50202282, -0.15802324, -0.57308463,\n",
       "        0.37792503,  0.46836878, -0.16222558, -0.19181617,  0.81051659,\n",
       "        0.25103244,  0.16388777,  0.07616213,  0.46521494,  0.26779598,\n",
       "        0.01709253,  0.02658874,  0.54252607,  0.26302976, -0.48028069,\n",
       "        0.22586531,  0.33142959, -0.08715463,  0.3599879 ,  0.45595012,\n",
       "       -0.41730622,  0.23818705,  0.32526381,  0.10351206, -0.32675235,\n",
       "       -0.93195242,  0.37896042,  0.37315216, -0.20235756, -0.149353  ,\n",
       "       -0.30013341,  0.21099516, -0.79592474,  0.35951694,  0.57247374,\n",
       "        0.24685774, -0.39081828, -0.27202356,  0.2227185 ,  0.45502433,\n",
       "       -0.25808702,  0.49643965,  0.34005811,  0.24331258,  0.44269634,\n",
       "        0.45979444, -0.80651357,  0.35407581,  0.08218248,  1.1586078 ,\n",
       "        0.57228667,  0.90697779,  1.04529472,  0.04873059,  0.30308218,\n",
       "       -0.32891597, -0.24841827,  0.1858079 , -0.3186543 ,  0.51643892,\n",
       "        0.27897045, -0.23313204,  0.33279855,  0.0536176 ,  0.4436703 ,\n",
       "        0.11703464, -0.2576065 , -0.2606034 ,  0.04593808, -0.08228181,\n",
       "        0.10230615,  0.6302759 ,  0.08313565,  0.60431744,  0.17257969,\n",
       "        0.55943715,  0.14287199,  0.03919481, -0.23461877,  0.48848982,\n",
       "       -0.06935277, -0.34195423, -0.42237508, -0.4135636 ,  0.61998095,\n",
       "       -0.38417026, -0.52530413,  0.76581823,  0.86667951,  0.5163804 ,\n",
       "       -0.1087122 ,  0.41587308,  1.02996487,  0.02903303, -0.34253488,\n",
       "        0.98659714, -0.34164597, -0.16321478])"
      ]
     },
     "execution_count": 22,
     "metadata": {},
     "output_type": "execute_result"
    }
   ],
   "source": [
    "rendimento_previsto"
   ]
  },
  {
   "cell_type": "markdown",
   "id": "0240ceb7",
   "metadata": {},
   "source": [
    "## Previsões com Novos Dados"
   ]
  },
  {
   "cell_type": "code",
   "execution_count": 23,
   "id": "26a2ea00",
   "metadata": {},
   "outputs": [],
   "source": [
    "# Carregar os novos dados de entrada\n",
    "novos_dados = pd.read_csv('dados/novos_dados.csv', index_col = 0, parse_dates = True)"
   ]
  },
  {
   "cell_type": "code",
   "execution_count": 24,
   "id": "98352e32",
   "metadata": {},
   "outputs": [],
   "source": [
    "# Selecionar apenas a variável preditora\n",
    "novos_dados_preditor = novos_dados['Rendimento Fundos Imobiliários'].shift(5)"
   ]
  },
  {
   "cell_type": "code",
   "execution_count": 25,
   "id": "111903ee",
   "metadata": {},
   "outputs": [],
   "source": [
    "# Remover as linhas com valores ausentes\n",
    "novos_dados_preditor = novos_dados_preditor.dropna()"
   ]
  },
  {
   "cell_type": "code",
   "execution_count": 26,
   "id": "246629a8",
   "metadata": {},
   "outputs": [],
   "source": [
    "# Fazer as previsões para os novos dados de entrada\n",
    "with modelo:\n",
    "    alpha = trace['alpha'].mean()\n",
    "    beta = trace['beta'].mean()\n",
    "    \n",
    "    previsoes = alpha + beta * novos_dados_preditor"
   ]
  },
  {
   "cell_type": "code",
   "execution_count": 27,
   "id": "3187f5a5",
   "metadata": {},
   "outputs": [
    {
     "name": "stdout",
     "output_type": "stream",
     "text": [
      "2023-01-07    0.241797\n",
      "2023-01-08    0.244685\n",
      "2023-01-09    0.247334\n",
      "2023-01-10    0.366980\n",
      "2023-01-11    0.241963\n",
      "                ...   \n",
      "2023-12-27    0.236748\n",
      "2023-12-28    0.237088\n",
      "2023-12-29    0.247070\n",
      "2023-12-30    0.301834\n",
      "2023-12-31    0.241352\n",
      "Name: Rendimento Fundos Imobiliários, Length: 359, dtype: float64\n"
     ]
    }
   ],
   "source": [
    "print(previsoes)"
   ]
  },
  {
   "cell_type": "markdown",
   "id": "b6fec4d5",
   "metadata": {},
   "source": [
    "# Fim"
   ]
  }
 ],
 "metadata": {
  "kernelspec": {
   "display_name": "Python 3 (ipykernel)",
   "language": "python",
   "name": "python3"
  },
  "language_info": {
   "codemirror_mode": {
    "name": "ipython",
    "version": 3
   },
   "file_extension": ".py",
   "mimetype": "text/x-python",
   "name": "python",
   "nbconvert_exporter": "python",
   "pygments_lexer": "ipython3",
   "version": "3.9.18"
  }
 },
 "nbformat": 4,
 "nbformat_minor": 5
}
