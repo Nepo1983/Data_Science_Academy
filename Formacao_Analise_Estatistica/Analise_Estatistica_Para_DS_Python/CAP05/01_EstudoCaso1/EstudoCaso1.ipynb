{
 "cells": [
  {
   "cell_type": "markdown",
   "metadata": {},
   "source": [
    "# <font color='blue'>Data Science Academy</font>\n",
    "# <font color='blue'>Análise Estatística Para Data Science com Linguagem Python</font>\n",
    "\n",
    "## <font color='blue'>Estudo de Caso 1</font>\n",
    "### <font color='blue'>Análise Estatística com Regressão Stepwise Para Seleção de Atributos</font>"
   ]
  },
  {
   "cell_type": "markdown",
   "metadata": {},
   "source": [
    "![title](imagens/EC1.png)"
   ]
  },
  {
   "cell_type": "markdown",
   "metadata": {},
   "source": [
    "## Instalando e Carregando os Pacotes"
   ]
  },
  {
   "cell_type": "code",
   "execution_count": 1,
   "metadata": {},
   "outputs": [
    {
     "name": "stdout",
     "output_type": "stream",
     "text": [
      "Versão da Linguagem Python Usada Neste Jupyter Notebook: 3.9.18\n"
     ]
    }
   ],
   "source": [
    "# Versão da Linguagem Python\n",
    "from platform import python_version\n",
    "print('Versão da Linguagem Python Usada Neste Jupyter Notebook:', python_version())"
   ]
  },
  {
   "cell_type": "code",
   "execution_count": null,
   "metadata": {},
   "outputs": [],
   "source": [
    "# Para atualizar um pacote, execute o comando abaixo no terminal ou prompt de comando:\n",
    "# pip install -U nome_pacote\n",
    "\n",
    "# Para instalar a versão exata de um pacote, execute o comando abaixo no terminal ou prompt de comando:\n",
    "# !pip install nome_pacote==versão_desejada\n",
    "\n",
    "# Depois de instalar ou atualizar o pacote, reinicie o jupyter notebook.\n",
    "\n",
    "# Instala o pacote watermark. \n",
    "# Esse pacote é usado para gravar as versões de outros pacotes usados neste jupyter notebook.\n",
    "# !pip install -q -U watermark"
   ]
  },
  {
   "cell_type": "code",
   "execution_count": null,
   "metadata": {},
   "outputs": [],
   "source": [
    "# !pip install -q numpy==1.22.2"
   ]
  },
  {
   "cell_type": "code",
   "execution_count": null,
   "metadata": {},
   "outputs": [],
   "source": [
    "# https://pypi.org/project/skimpy/\n",
    "# !pip install -q skimpy"
   ]
  },
  {
   "cell_type": "code",
   "execution_count": 2,
   "metadata": {
    "_cell_guid": "b1076dfc-b9ad-4769-8c92-a6c4dae69d19",
    "_uuid": "8f2839f25d086af736a60e9eeb907d3b93b6e0e5"
   },
   "outputs": [],
   "source": [
    "# Imports\n",
    "import sklearn\n",
    "import numpy as np \n",
    "import pandas as pd\n",
    "import skimpy\n",
    "from skimpy import skim\n",
    "import seaborn as sns\n",
    "import matplotlib.pyplot as plt\n",
    "import statsmodels.api as sm\n",
    "from sklearn.preprocessing import LabelEncoder\n",
    "from sklearn.preprocessing import StandardScaler\n",
    "from sklearn.model_selection import train_test_split\n",
    "from sklearn.feature_selection import RFE\n",
    "from sklearn.linear_model import LinearRegression\n",
    "from statsmodels.stats.outliers_influence import variance_inflation_factor\n",
    "from sklearn.metrics import mean_absolute_error, mean_squared_error, r2_score\n",
    "%matplotlib inline\n",
    "import warnings\n",
    "warnings.filterwarnings('ignore')"
   ]
  },
  {
   "cell_type": "code",
   "execution_count": 3,
   "metadata": {},
   "outputs": [
    {
     "name": "stdout",
     "output_type": "stream",
     "text": [
      "Author: Data Science Academy\n",
      "\n",
      "skimpy     : 0.0.14\n",
      "statsmodels: 0.14.1\n",
      "numpy      : 1.26.4\n",
      "pandas     : 2.1.4\n",
      "matplotlib : 3.8.2\n",
      "seaborn    : 0.13.2\n",
      "sklearn    : 1.3.2\n",
      "\n"
     ]
    }
   ],
   "source": [
    "# Versões dos pacotes usados neste jupyter notebook\n",
    "%reload_ext watermark\n",
    "%watermark -a \"Data Science Academy\" --iversions"
   ]
  },
  {
   "cell_type": "markdown",
   "metadata": {},
   "source": [
    "## Carregando e Explorando os Dados"
   ]
  },
  {
   "cell_type": "code",
   "execution_count": 4,
   "metadata": {
    "_cell_guid": "79c7e3d0-c299-4dcb-8224-4455121ee9b0",
    "_uuid": "d629ff2d2480ee46fbb7e2d37f6b5fab8052498a"
   },
   "outputs": [],
   "source": [
    "df = pd.read_csv(\"dados/dataset.csv\")"
   ]
  },
  {
   "cell_type": "code",
   "execution_count": 5,
   "metadata": {},
   "outputs": [],
   "source": [
    "# Remove o espaço no nome das variáveis\n",
    "df = df.rename(columns = lambda x: x.strip())"
   ]
  },
  {
   "cell_type": "code",
   "execution_count": 6,
   "metadata": {},
   "outputs": [
    {
     "data": {
      "text/html": [
       "<pre style=\"white-space:pre;overflow-x:auto;line-height:normal;font-family:Menlo,'DejaVu Sans Mono',consolas,'Courier New',monospace\">╭──────────────────────────────────────────────── skimpy summary ─────────────────────────────────────────────────╮\n",
       "│ <span style=\"font-style: italic\">         Data Summary         </span> <span style=\"font-style: italic\">      Data Types       </span>                                                          │\n",
       "│ ┏━━━━━━━━━━━━━━━━━━━┳━━━━━━━━┓ ┏━━━━━━━━━━━━━┳━━━━━━━┓                                                          │\n",
       "│ ┃<span style=\"color: #008080; text-decoration-color: #008080; font-weight: bold\"> dataframe         </span>┃<span style=\"color: #008080; text-decoration-color: #008080; font-weight: bold\"> Values </span>┃ ┃<span style=\"color: #008080; text-decoration-color: #008080; font-weight: bold\"> Column Type </span>┃<span style=\"color: #008080; text-decoration-color: #008080; font-weight: bold\"> Count </span>┃                                                          │\n",
       "│ ┡━━━━━━━━━━━━━━━━━━━╇━━━━━━━━┩ ┡━━━━━━━━━━━━━╇━━━━━━━┩                                                          │\n",
       "│ │ Number of rows    │ 2938   │ │ float64     │ 16    │                                                          │\n",
       "│ │ Number of columns │ 22     │ │ int64       │ 4     │                                                          │\n",
       "│ └───────────────────┴────────┘ │ string      │ 2     │                                                          │\n",
       "│                                └─────────────┴───────┘                                                          │\n",
       "│ <span style=\"font-style: italic\">                                                    number                                                    </span>  │\n",
       "│ ┏━━━━━━━━━━━━━━┳━━━━━┳━━━━━━━┳━━━━━━━━━━┳━━━━━━━━━━┳━━━━━━┳━━━━━━━━┳━━━━━━━━━┳━━━━━━━━━┳━━━━━━━━━━━━┳━━━━━━━━┓  │\n",
       "│ ┃<span style=\"font-weight: bold\"> column_name  </span>┃<span style=\"font-weight: bold\"> NA  </span>┃<span style=\"font-weight: bold\"> NA %  </span>┃<span style=\"font-weight: bold\"> mean     </span>┃<span style=\"font-weight: bold\"> sd       </span>┃<span style=\"font-weight: bold\"> p0   </span>┃<span style=\"font-weight: bold\"> p25    </span>┃<span style=\"font-weight: bold\"> p50     </span>┃<span style=\"font-weight: bold\"> p75     </span>┃<span style=\"font-weight: bold\"> p100       </span>┃<span style=\"font-weight: bold\"> hist   </span>┃  │\n",
       "│ ┡━━━━━━━━━━━━━━╇━━━━━╇━━━━━━━╇━━━━━━━━━━╇━━━━━━━━━━╇━━━━━━╇━━━━━━━━╇━━━━━━━━━╇━━━━━━━━━╇━━━━━━━━━━━━╇━━━━━━━━┩  │\n",
       "│ │ <span style=\"color: #af87ff; text-decoration-color: #af87ff\">Year        </span> │ <span style=\"color: #008080; text-decoration-color: #008080\">  0</span> │ <span style=\"color: #008080; text-decoration-color: #008080\">    0</span> │ <span style=\"color: #008080; text-decoration-color: #008080\">    2000</span> │ <span style=\"color: #008080; text-decoration-color: #008080\">     4.6</span> │ <span style=\"color: #008080; text-decoration-color: #008080\">2000</span> │ <span style=\"color: #008080; text-decoration-color: #008080\">  2000</span> │ <span style=\"color: #008080; text-decoration-color: #008080\">   2000</span> │ <span style=\"color: #008080; text-decoration-color: #008080\">   2000</span> │ <span style=\"color: #008080; text-decoration-color: #008080\">      2000</span> │ <span style=\"color: #008000; text-decoration-color: #008000\">▇▅▇▅▇▇</span> │  │\n",
       "│ │ <span style=\"color: #af87ff; text-decoration-color: #af87ff\">Life        </span> │ <span style=\"color: #008080; text-decoration-color: #008080\"> 10</span> │ <span style=\"color: #008080; text-decoration-color: #008080\"> 0.34</span> │ <span style=\"color: #008080; text-decoration-color: #008080\">      69</span> │ <span style=\"color: #008080; text-decoration-color: #008080\">     9.5</span> │ <span style=\"color: #008080; text-decoration-color: #008080\">  36</span> │ <span style=\"color: #008080; text-decoration-color: #008080\">    63</span> │ <span style=\"color: #008080; text-decoration-color: #008080\">     72</span> │ <span style=\"color: #008080; text-decoration-color: #008080\">     76</span> │ <span style=\"color: #008080; text-decoration-color: #008080\">        89</span> │ <span style=\"color: #008000; text-decoration-color: #008000\"> ▁▃▅▇▂</span> │  │\n",
       "│ │ <span style=\"color: #af87ff; text-decoration-color: #af87ff\">expectancy  </span> │     │       │          │          │      │        │         │         │            │        │  │\n",
       "│ │ <span style=\"color: #af87ff; text-decoration-color: #af87ff\">Adult       </span> │ <span style=\"color: #008080; text-decoration-color: #008080\"> 10</span> │ <span style=\"color: #008080; text-decoration-color: #008080\"> 0.34</span> │ <span style=\"color: #008080; text-decoration-color: #008080\">     160</span> │ <span style=\"color: #008080; text-decoration-color: #008080\">     120</span> │ <span style=\"color: #008080; text-decoration-color: #008080\">   1</span> │ <span style=\"color: #008080; text-decoration-color: #008080\">    74</span> │ <span style=\"color: #008080; text-decoration-color: #008080\">    140</span> │ <span style=\"color: #008080; text-decoration-color: #008080\">    230</span> │ <span style=\"color: #008080; text-decoration-color: #008080\">       720</span> │ <span style=\"color: #008000; text-decoration-color: #008000\"> ▇▇▃▁ </span> │  │\n",
       "│ │ <span style=\"color: #af87ff; text-decoration-color: #af87ff\">Mortality   </span> │     │       │          │          │      │        │         │         │            │        │  │\n",
       "│ │ <span style=\"color: #af87ff; text-decoration-color: #af87ff\">infant      </span> │ <span style=\"color: #008080; text-decoration-color: #008080\">  0</span> │ <span style=\"color: #008080; text-decoration-color: #008080\">    0</span> │ <span style=\"color: #008080; text-decoration-color: #008080\">      30</span> │ <span style=\"color: #008080; text-decoration-color: #008080\">     120</span> │ <span style=\"color: #008080; text-decoration-color: #008080\">   0</span> │ <span style=\"color: #008080; text-decoration-color: #008080\">     0</span> │ <span style=\"color: #008080; text-decoration-color: #008080\">      3</span> │ <span style=\"color: #008080; text-decoration-color: #008080\">     22</span> │ <span style=\"color: #008080; text-decoration-color: #008080\">      1800</span> │ <span style=\"color: #008000; text-decoration-color: #008000\">  ▇   </span> │  │\n",
       "│ │ <span style=\"color: #af87ff; text-decoration-color: #af87ff\">deaths      </span> │     │       │          │          │      │        │         │         │            │        │  │\n",
       "│ │ <span style=\"color: #af87ff; text-decoration-color: #af87ff\">Alcohol     </span> │ <span style=\"color: #008080; text-decoration-color: #008080\">194</span> │ <span style=\"color: #008080; text-decoration-color: #008080\">  6.6</span> │ <span style=\"color: #008080; text-decoration-color: #008080\">     4.6</span> │ <span style=\"color: #008080; text-decoration-color: #008080\">     4.1</span> │ <span style=\"color: #008080; text-decoration-color: #008080\">0.01</span> │ <span style=\"color: #008080; text-decoration-color: #008080\">  0.88</span> │ <span style=\"color: #008080; text-decoration-color: #008080\">    3.8</span> │ <span style=\"color: #008080; text-decoration-color: #008080\">    7.7</span> │ <span style=\"color: #008080; text-decoration-color: #008080\">        18</span> │ <span style=\"color: #008000; text-decoration-color: #008000\">▇▃▃▂▁ </span> │  │\n",
       "│ │ <span style=\"color: #af87ff; text-decoration-color: #af87ff\">percentage  </span> │ <span style=\"color: #008080; text-decoration-color: #008080\">  0</span> │ <span style=\"color: #008080; text-decoration-color: #008080\">    0</span> │ <span style=\"color: #008080; text-decoration-color: #008080\">     740</span> │ <span style=\"color: #008080; text-decoration-color: #008080\">    2000</span> │ <span style=\"color: #008080; text-decoration-color: #008080\">   0</span> │ <span style=\"color: #008080; text-decoration-color: #008080\">   4.7</span> │ <span style=\"color: #008080; text-decoration-color: #008080\">     65</span> │ <span style=\"color: #008080; text-decoration-color: #008080\">    440</span> │ <span style=\"color: #008080; text-decoration-color: #008080\">     19000</span> │ <span style=\"color: #008000; text-decoration-color: #008000\">  ▇   </span> │  │\n",
       "│ │ <span style=\"color: #af87ff; text-decoration-color: #af87ff\">expenditure </span> │     │       │          │          │      │        │         │         │            │        │  │\n",
       "│ │ <span style=\"color: #af87ff; text-decoration-color: #af87ff\">Hepatitis B </span> │ <span style=\"color: #008080; text-decoration-color: #008080\">553</span> │ <span style=\"color: #008080; text-decoration-color: #008080\">18.82</span> │ <span style=\"color: #008080; text-decoration-color: #008080\">      81</span> │ <span style=\"color: #008080; text-decoration-color: #008080\">      25</span> │ <span style=\"color: #008080; text-decoration-color: #008080\">   1</span> │ <span style=\"color: #008080; text-decoration-color: #008080\">    77</span> │ <span style=\"color: #008080; text-decoration-color: #008080\">     92</span> │ <span style=\"color: #008080; text-decoration-color: #008080\">     97</span> │ <span style=\"color: #008080; text-decoration-color: #008080\">        99</span> │ <span style=\"color: #008000; text-decoration-color: #008000\">▁  ▁▂▇</span> │  │\n",
       "│ │ <span style=\"color: #af87ff; text-decoration-color: #af87ff\">Measles     </span> │ <span style=\"color: #008080; text-decoration-color: #008080\">  0</span> │ <span style=\"color: #008080; text-decoration-color: #008080\">    0</span> │ <span style=\"color: #008080; text-decoration-color: #008080\">    2400</span> │ <span style=\"color: #008080; text-decoration-color: #008080\">   11000</span> │ <span style=\"color: #008080; text-decoration-color: #008080\">   0</span> │ <span style=\"color: #008080; text-decoration-color: #008080\">     0</span> │ <span style=\"color: #008080; text-decoration-color: #008080\">     17</span> │ <span style=\"color: #008080; text-decoration-color: #008080\">    360</span> │ <span style=\"color: #008080; text-decoration-color: #008080\">    210000</span> │ <span style=\"color: #008000; text-decoration-color: #008000\">  ▇   </span> │  │\n",
       "│ │ <span style=\"color: #af87ff; text-decoration-color: #af87ff\">BMI         </span> │ <span style=\"color: #008080; text-decoration-color: #008080\"> 34</span> │ <span style=\"color: #008080; text-decoration-color: #008080\"> 1.16</span> │ <span style=\"color: #008080; text-decoration-color: #008080\">      38</span> │ <span style=\"color: #008080; text-decoration-color: #008080\">      20</span> │ <span style=\"color: #008080; text-decoration-color: #008080\">   1</span> │ <span style=\"color: #008080; text-decoration-color: #008080\">    19</span> │ <span style=\"color: #008080; text-decoration-color: #008080\">     44</span> │ <span style=\"color: #008080; text-decoration-color: #008080\">     56</span> │ <span style=\"color: #008080; text-decoration-color: #008080\">        87</span> │ <span style=\"color: #008000; text-decoration-color: #008000\">▃▆▃▇▃ </span> │  │\n",
       "│ │ <span style=\"color: #af87ff; text-decoration-color: #af87ff\">under-five  </span> │ <span style=\"color: #008080; text-decoration-color: #008080\">  0</span> │ <span style=\"color: #008080; text-decoration-color: #008080\">    0</span> │ <span style=\"color: #008080; text-decoration-color: #008080\">      42</span> │ <span style=\"color: #008080; text-decoration-color: #008080\">     160</span> │ <span style=\"color: #008080; text-decoration-color: #008080\">   0</span> │ <span style=\"color: #008080; text-decoration-color: #008080\">     0</span> │ <span style=\"color: #008080; text-decoration-color: #008080\">      4</span> │ <span style=\"color: #008080; text-decoration-color: #008080\">     28</span> │ <span style=\"color: #008080; text-decoration-color: #008080\">      2500</span> │ <span style=\"color: #008000; text-decoration-color: #008000\">  ▇   </span> │  │\n",
       "│ │ <span style=\"color: #af87ff; text-decoration-color: #af87ff\">deaths      </span> │     │       │          │          │      │        │         │         │            │        │  │\n",
       "│ │ <span style=\"color: #af87ff; text-decoration-color: #af87ff\">Polio       </span> │ <span style=\"color: #008080; text-decoration-color: #008080\"> 19</span> │ <span style=\"color: #008080; text-decoration-color: #008080\"> 0.65</span> │ <span style=\"color: #008080; text-decoration-color: #008080\">      83</span> │ <span style=\"color: #008080; text-decoration-color: #008080\">      23</span> │ <span style=\"color: #008080; text-decoration-color: #008080\">   3</span> │ <span style=\"color: #008080; text-decoration-color: #008080\">    78</span> │ <span style=\"color: #008080; text-decoration-color: #008080\">     93</span> │ <span style=\"color: #008080; text-decoration-color: #008080\">     97</span> │ <span style=\"color: #008080; text-decoration-color: #008080\">        99</span> │ <span style=\"color: #008000; text-decoration-color: #008000\">▁  ▁▂▇</span> │  │\n",
       "│ │ <span style=\"color: #af87ff; text-decoration-color: #af87ff\">Total       </span> │ <span style=\"color: #008080; text-decoration-color: #008080\">226</span> │ <span style=\"color: #008080; text-decoration-color: #008080\"> 7.69</span> │ <span style=\"color: #008080; text-decoration-color: #008080\">     5.9</span> │ <span style=\"color: #008080; text-decoration-color: #008080\">     2.5</span> │ <span style=\"color: #008080; text-decoration-color: #008080\">0.37</span> │ <span style=\"color: #008080; text-decoration-color: #008080\">   4.3</span> │ <span style=\"color: #008080; text-decoration-color: #008080\">    5.8</span> │ <span style=\"color: #008080; text-decoration-color: #008080\">    7.5</span> │ <span style=\"color: #008080; text-decoration-color: #008080\">        18</span> │ <span style=\"color: #008000; text-decoration-color: #008000\"> ▂▇▆▂ </span> │  │\n",
       "│ │ <span style=\"color: #af87ff; text-decoration-color: #af87ff\">expenditure </span> │     │       │          │          │      │        │         │         │            │        │  │\n",
       "│ │ <span style=\"color: #af87ff; text-decoration-color: #af87ff\">Diphtheria  </span> │ <span style=\"color: #008080; text-decoration-color: #008080\"> 19</span> │ <span style=\"color: #008080; text-decoration-color: #008080\"> 0.65</span> │ <span style=\"color: #008080; text-decoration-color: #008080\">      82</span> │ <span style=\"color: #008080; text-decoration-color: #008080\">      24</span> │ <span style=\"color: #008080; text-decoration-color: #008080\">   2</span> │ <span style=\"color: #008080; text-decoration-color: #008080\">    78</span> │ <span style=\"color: #008080; text-decoration-color: #008080\">     93</span> │ <span style=\"color: #008080; text-decoration-color: #008080\">     97</span> │ <span style=\"color: #008080; text-decoration-color: #008080\">        99</span> │ <span style=\"color: #008000; text-decoration-color: #008000\">▁  ▁▂▇</span> │  │\n",
       "│ │ <span style=\"color: #af87ff; text-decoration-color: #af87ff\">HIV/AIDS    </span> │ <span style=\"color: #008080; text-decoration-color: #008080\">  0</span> │ <span style=\"color: #008080; text-decoration-color: #008080\">    0</span> │ <span style=\"color: #008080; text-decoration-color: #008080\">     1.7</span> │ <span style=\"color: #008080; text-decoration-color: #008080\">     5.1</span> │ <span style=\"color: #008080; text-decoration-color: #008080\"> 0.1</span> │ <span style=\"color: #008080; text-decoration-color: #008080\">   0.1</span> │ <span style=\"color: #008080; text-decoration-color: #008080\">    0.1</span> │ <span style=\"color: #008080; text-decoration-color: #008080\">    0.8</span> │ <span style=\"color: #008080; text-decoration-color: #008080\">        51</span> │ <span style=\"color: #008000; text-decoration-color: #008000\">  ▇   </span> │  │\n",
       "│ │ <span style=\"color: #af87ff; text-decoration-color: #af87ff\">GDP         </span> │ <span style=\"color: #008080; text-decoration-color: #008080\">448</span> │ <span style=\"color: #008080; text-decoration-color: #008080\">15.25</span> │ <span style=\"color: #008080; text-decoration-color: #008080\">    7500</span> │ <span style=\"color: #008080; text-decoration-color: #008080\">   14000</span> │ <span style=\"color: #008080; text-decoration-color: #008080\"> 1.7</span> │ <span style=\"color: #008080; text-decoration-color: #008080\">   460</span> │ <span style=\"color: #008080; text-decoration-color: #008080\">   1800</span> │ <span style=\"color: #008080; text-decoration-color: #008080\">   5900</span> │ <span style=\"color: #008080; text-decoration-color: #008080\">    120000</span> │ <span style=\"color: #008000; text-decoration-color: #008000\">  ▇▁  </span> │  │\n",
       "│ │ <span style=\"color: #af87ff; text-decoration-color: #af87ff\">Population  </span> │ <span style=\"color: #008080; text-decoration-color: #008080\">652</span> │ <span style=\"color: #008080; text-decoration-color: #008080\">22.19</span> │ <span style=\"color: #008080; text-decoration-color: #008080\">13000000</span> │ <span style=\"color: #008080; text-decoration-color: #008080\">61000000</span> │ <span style=\"color: #008080; text-decoration-color: #008080\">  34</span> │ <span style=\"color: #008080; text-decoration-color: #008080\">200000</span> │ <span style=\"color: #008080; text-decoration-color: #008080\">1400000</span> │ <span style=\"color: #008080; text-decoration-color: #008080\">7400000</span> │ <span style=\"color: #008080; text-decoration-color: #008080\">1300000000</span> │ <span style=\"color: #008000; text-decoration-color: #008000\">  ▇   </span> │  │\n",
       "│ │ <span style=\"color: #af87ff; text-decoration-color: #af87ff\">thinness    </span> │ <span style=\"color: #008080; text-decoration-color: #008080\"> 34</span> │ <span style=\"color: #008080; text-decoration-color: #008080\"> 1.16</span> │ <span style=\"color: #008080; text-decoration-color: #008080\">     4.8</span> │ <span style=\"color: #008080; text-decoration-color: #008080\">     4.4</span> │ <span style=\"color: #008080; text-decoration-color: #008080\"> 0.1</span> │ <span style=\"color: #008080; text-decoration-color: #008080\">   1.6</span> │ <span style=\"color: #008080; text-decoration-color: #008080\">    3.3</span> │ <span style=\"color: #008080; text-decoration-color: #008080\">    7.2</span> │ <span style=\"color: #008080; text-decoration-color: #008080\">        28</span> │ <span style=\"color: #008000; text-decoration-color: #008000\"> ▇▃▁  </span> │  │\n",
       "│ │ <span style=\"color: #af87ff; text-decoration-color: #af87ff\">1-19 years  </span> │     │       │          │          │      │        │         │         │            │        │  │\n",
       "│ │ <span style=\"color: #af87ff; text-decoration-color: #af87ff\">thinness 5-9</span> │ <span style=\"color: #008080; text-decoration-color: #008080\"> 34</span> │ <span style=\"color: #008080; text-decoration-color: #008080\"> 1.16</span> │ <span style=\"color: #008080; text-decoration-color: #008080\">     4.9</span> │ <span style=\"color: #008080; text-decoration-color: #008080\">     4.5</span> │ <span style=\"color: #008080; text-decoration-color: #008080\"> 0.1</span> │ <span style=\"color: #008080; text-decoration-color: #008080\">   1.5</span> │ <span style=\"color: #008080; text-decoration-color: #008080\">    3.3</span> │ <span style=\"color: #008080; text-decoration-color: #008080\">    7.2</span> │ <span style=\"color: #008080; text-decoration-color: #008080\">        29</span> │ <span style=\"color: #008000; text-decoration-color: #008000\"> ▇▃▁  </span> │  │\n",
       "│ │ <span style=\"color: #af87ff; text-decoration-color: #af87ff\">years       </span> │     │       │          │          │      │        │         │         │            │        │  │\n",
       "│ │ <span style=\"color: #af87ff; text-decoration-color: #af87ff\">Income      </span> │ <span style=\"color: #008080; text-decoration-color: #008080\">167</span> │ <span style=\"color: #008080; text-decoration-color: #008080\"> 5.68</span> │ <span style=\"color: #008080; text-decoration-color: #008080\">    0.63</span> │ <span style=\"color: #008080; text-decoration-color: #008080\">    0.21</span> │ <span style=\"color: #008080; text-decoration-color: #008080\">   0</span> │ <span style=\"color: #008080; text-decoration-color: #008080\">  0.49</span> │ <span style=\"color: #008080; text-decoration-color: #008080\">   0.68</span> │ <span style=\"color: #008080; text-decoration-color: #008080\">   0.78</span> │ <span style=\"color: #008080; text-decoration-color: #008080\">      0.95</span> │ <span style=\"color: #008000; text-decoration-color: #008000\">▁ ▃▅▇▅</span> │  │\n",
       "│ │ <span style=\"color: #af87ff; text-decoration-color: #af87ff\">composition </span> │     │       │          │          │      │        │         │         │            │        │  │\n",
       "│ │ <span style=\"color: #af87ff; text-decoration-color: #af87ff\">of resources</span> │     │       │          │          │      │        │         │         │            │        │  │\n",
       "│ │ <span style=\"color: #af87ff; text-decoration-color: #af87ff\">Schooling   </span> │ <span style=\"color: #008080; text-decoration-color: #008080\">163</span> │ <span style=\"color: #008080; text-decoration-color: #008080\"> 5.55</span> │ <span style=\"color: #008080; text-decoration-color: #008080\">      12</span> │ <span style=\"color: #008080; text-decoration-color: #008080\">     3.4</span> │ <span style=\"color: #008080; text-decoration-color: #008080\">   0</span> │ <span style=\"color: #008080; text-decoration-color: #008080\">    10</span> │ <span style=\"color: #008080; text-decoration-color: #008080\">     12</span> │ <span style=\"color: #008080; text-decoration-color: #008080\">     14</span> │ <span style=\"color: #008080; text-decoration-color: #008080\">        21</span> │ <span style=\"color: #008000; text-decoration-color: #008000\"> ▁▃▇▅▁</span> │  │\n",
       "│ └──────────────┴─────┴───────┴──────────┴──────────┴──────┴────────┴─────────┴─────────┴────────────┴────────┘  │\n",
       "│ <span style=\"font-style: italic\">                                                    string                                                    </span>  │\n",
       "│ ┏━━━━━━━━━━━━━━━━━━━━━━━━━━━┳━━━━━━━━━┳━━━━━━━━━━━━┳━━━━━━━━━━━━━━━━━━━━━━━━━━━━━━┳━━━━━━━━━━━━━━━━━━━━━━━━━━┓  │\n",
       "│ ┃<span style=\"font-weight: bold\"> column_name               </span>┃<span style=\"font-weight: bold\"> NA      </span>┃<span style=\"font-weight: bold\"> NA %       </span>┃<span style=\"font-weight: bold\"> words per row                </span>┃<span style=\"font-weight: bold\"> total words              </span>┃  │\n",
       "│ ┡━━━━━━━━━━━━━━━━━━━━━━━━━━━╇━━━━━━━━━╇━━━━━━━━━━━━╇━━━━━━━━━━━━━━━━━━━━━━━━━━━━━━╇━━━━━━━━━━━━━━━━━━━━━━━━━━┩  │\n",
       "│ │ <span style=\"color: #af87ff; text-decoration-color: #af87ff\">Country                  </span> │ <span style=\"color: #008080; text-decoration-color: #008080\">      0</span> │ <span style=\"color: #008080; text-decoration-color: #008080\">         0</span> │ <span style=\"color: #008080; text-decoration-color: #008080\">                         1.5</span> │ <span style=\"color: #008080; text-decoration-color: #008080\">                    4288</span> │  │\n",
       "│ │ <span style=\"color: #af87ff; text-decoration-color: #af87ff\">Status                   </span> │ <span style=\"color: #008080; text-decoration-color: #008080\">      0</span> │ <span style=\"color: #008080; text-decoration-color: #008080\">         0</span> │ <span style=\"color: #008080; text-decoration-color: #008080\">                           1</span> │ <span style=\"color: #008080; text-decoration-color: #008080\">                    2938</span> │  │\n",
       "│ └───────────────────────────┴─────────┴────────────┴──────────────────────────────┴──────────────────────────┘  │\n",
       "╰────────────────────────────────────────────────────── End ──────────────────────────────────────────────────────╯\n",
       "</pre>\n"
      ],
      "text/plain": [
       "╭──────────────────────────────────────────────── skimpy summary ─────────────────────────────────────────────────╮\n",
       "│ \u001b[3m         Data Summary         \u001b[0m \u001b[3m      Data Types       \u001b[0m                                                          │\n",
       "│ ┏━━━━━━━━━━━━━━━━━━━┳━━━━━━━━┓ ┏━━━━━━━━━━━━━┳━━━━━━━┓                                                          │\n",
       "│ ┃\u001b[1;36m \u001b[0m\u001b[1;36mdataframe        \u001b[0m\u001b[1;36m \u001b[0m┃\u001b[1;36m \u001b[0m\u001b[1;36mValues\u001b[0m\u001b[1;36m \u001b[0m┃ ┃\u001b[1;36m \u001b[0m\u001b[1;36mColumn Type\u001b[0m\u001b[1;36m \u001b[0m┃\u001b[1;36m \u001b[0m\u001b[1;36mCount\u001b[0m\u001b[1;36m \u001b[0m┃                                                          │\n",
       "│ ┡━━━━━━━━━━━━━━━━━━━╇━━━━━━━━┩ ┡━━━━━━━━━━━━━╇━━━━━━━┩                                                          │\n",
       "│ │ Number of rows    │ 2938   │ │ float64     │ 16    │                                                          │\n",
       "│ │ Number of columns │ 22     │ │ int64       │ 4     │                                                          │\n",
       "│ └───────────────────┴────────┘ │ string      │ 2     │                                                          │\n",
       "│                                └─────────────┴───────┘                                                          │\n",
       "│ \u001b[3m                                                    number                                                    \u001b[0m  │\n",
       "│ ┏━━━━━━━━━━━━━━┳━━━━━┳━━━━━━━┳━━━━━━━━━━┳━━━━━━━━━━┳━━━━━━┳━━━━━━━━┳━━━━━━━━━┳━━━━━━━━━┳━━━━━━━━━━━━┳━━━━━━━━┓  │\n",
       "│ ┃\u001b[1m \u001b[0m\u001b[1mcolumn_name \u001b[0m\u001b[1m \u001b[0m┃\u001b[1m \u001b[0m\u001b[1mNA \u001b[0m\u001b[1m \u001b[0m┃\u001b[1m \u001b[0m\u001b[1mNA % \u001b[0m\u001b[1m \u001b[0m┃\u001b[1m \u001b[0m\u001b[1mmean    \u001b[0m\u001b[1m \u001b[0m┃\u001b[1m \u001b[0m\u001b[1msd      \u001b[0m\u001b[1m \u001b[0m┃\u001b[1m \u001b[0m\u001b[1mp0  \u001b[0m\u001b[1m \u001b[0m┃\u001b[1m \u001b[0m\u001b[1mp25   \u001b[0m\u001b[1m \u001b[0m┃\u001b[1m \u001b[0m\u001b[1mp50    \u001b[0m\u001b[1m \u001b[0m┃\u001b[1m \u001b[0m\u001b[1mp75    \u001b[0m\u001b[1m \u001b[0m┃\u001b[1m \u001b[0m\u001b[1mp100      \u001b[0m\u001b[1m \u001b[0m┃\u001b[1m \u001b[0m\u001b[1mhist  \u001b[0m\u001b[1m \u001b[0m┃  │\n",
       "│ ┡━━━━━━━━━━━━━━╇━━━━━╇━━━━━━━╇━━━━━━━━━━╇━━━━━━━━━━╇━━━━━━╇━━━━━━━━╇━━━━━━━━━╇━━━━━━━━━╇━━━━━━━━━━━━╇━━━━━━━━┩  │\n",
       "│ │ \u001b[38;5;141mYear        \u001b[0m │ \u001b[36m  0\u001b[0m │ \u001b[36m    0\u001b[0m │ \u001b[36m    2000\u001b[0m │ \u001b[36m     4.6\u001b[0m │ \u001b[36m2000\u001b[0m │ \u001b[36m  2000\u001b[0m │ \u001b[36m   2000\u001b[0m │ \u001b[36m   2000\u001b[0m │ \u001b[36m      2000\u001b[0m │ \u001b[32m▇▅▇▅▇▇\u001b[0m │  │\n",
       "│ │ \u001b[38;5;141mLife        \u001b[0m │ \u001b[36m 10\u001b[0m │ \u001b[36m 0.34\u001b[0m │ \u001b[36m      69\u001b[0m │ \u001b[36m     9.5\u001b[0m │ \u001b[36m  36\u001b[0m │ \u001b[36m    63\u001b[0m │ \u001b[36m     72\u001b[0m │ \u001b[36m     76\u001b[0m │ \u001b[36m        89\u001b[0m │ \u001b[32m ▁▃▅▇▂\u001b[0m │  │\n",
       "│ │ \u001b[38;5;141mexpectancy  \u001b[0m │     │       │          │          │      │        │         │         │            │        │  │\n",
       "│ │ \u001b[38;5;141mAdult       \u001b[0m │ \u001b[36m 10\u001b[0m │ \u001b[36m 0.34\u001b[0m │ \u001b[36m     160\u001b[0m │ \u001b[36m     120\u001b[0m │ \u001b[36m   1\u001b[0m │ \u001b[36m    74\u001b[0m │ \u001b[36m    140\u001b[0m │ \u001b[36m    230\u001b[0m │ \u001b[36m       720\u001b[0m │ \u001b[32m ▇▇▃▁ \u001b[0m │  │\n",
       "│ │ \u001b[38;5;141mMortality   \u001b[0m │     │       │          │          │      │        │         │         │            │        │  │\n",
       "│ │ \u001b[38;5;141minfant      \u001b[0m │ \u001b[36m  0\u001b[0m │ \u001b[36m    0\u001b[0m │ \u001b[36m      30\u001b[0m │ \u001b[36m     120\u001b[0m │ \u001b[36m   0\u001b[0m │ \u001b[36m     0\u001b[0m │ \u001b[36m      3\u001b[0m │ \u001b[36m     22\u001b[0m │ \u001b[36m      1800\u001b[0m │ \u001b[32m  ▇   \u001b[0m │  │\n",
       "│ │ \u001b[38;5;141mdeaths      \u001b[0m │     │       │          │          │      │        │         │         │            │        │  │\n",
       "│ │ \u001b[38;5;141mAlcohol     \u001b[0m │ \u001b[36m194\u001b[0m │ \u001b[36m  6.6\u001b[0m │ \u001b[36m     4.6\u001b[0m │ \u001b[36m     4.1\u001b[0m │ \u001b[36m0.01\u001b[0m │ \u001b[36m  0.88\u001b[0m │ \u001b[36m    3.8\u001b[0m │ \u001b[36m    7.7\u001b[0m │ \u001b[36m        18\u001b[0m │ \u001b[32m▇▃▃▂▁ \u001b[0m │  │\n",
       "│ │ \u001b[38;5;141mpercentage  \u001b[0m │ \u001b[36m  0\u001b[0m │ \u001b[36m    0\u001b[0m │ \u001b[36m     740\u001b[0m │ \u001b[36m    2000\u001b[0m │ \u001b[36m   0\u001b[0m │ \u001b[36m   4.7\u001b[0m │ \u001b[36m     65\u001b[0m │ \u001b[36m    440\u001b[0m │ \u001b[36m     19000\u001b[0m │ \u001b[32m  ▇   \u001b[0m │  │\n",
       "│ │ \u001b[38;5;141mexpenditure \u001b[0m │     │       │          │          │      │        │         │         │            │        │  │\n",
       "│ │ \u001b[38;5;141mHepatitis B \u001b[0m │ \u001b[36m553\u001b[0m │ \u001b[36m18.82\u001b[0m │ \u001b[36m      81\u001b[0m │ \u001b[36m      25\u001b[0m │ \u001b[36m   1\u001b[0m │ \u001b[36m    77\u001b[0m │ \u001b[36m     92\u001b[0m │ \u001b[36m     97\u001b[0m │ \u001b[36m        99\u001b[0m │ \u001b[32m▁  ▁▂▇\u001b[0m │  │\n",
       "│ │ \u001b[38;5;141mMeasles     \u001b[0m │ \u001b[36m  0\u001b[0m │ \u001b[36m    0\u001b[0m │ \u001b[36m    2400\u001b[0m │ \u001b[36m   11000\u001b[0m │ \u001b[36m   0\u001b[0m │ \u001b[36m     0\u001b[0m │ \u001b[36m     17\u001b[0m │ \u001b[36m    360\u001b[0m │ \u001b[36m    210000\u001b[0m │ \u001b[32m  ▇   \u001b[0m │  │\n",
       "│ │ \u001b[38;5;141mBMI         \u001b[0m │ \u001b[36m 34\u001b[0m │ \u001b[36m 1.16\u001b[0m │ \u001b[36m      38\u001b[0m │ \u001b[36m      20\u001b[0m │ \u001b[36m   1\u001b[0m │ \u001b[36m    19\u001b[0m │ \u001b[36m     44\u001b[0m │ \u001b[36m     56\u001b[0m │ \u001b[36m        87\u001b[0m │ \u001b[32m▃▆▃▇▃ \u001b[0m │  │\n",
       "│ │ \u001b[38;5;141munder-five  \u001b[0m │ \u001b[36m  0\u001b[0m │ \u001b[36m    0\u001b[0m │ \u001b[36m      42\u001b[0m │ \u001b[36m     160\u001b[0m │ \u001b[36m   0\u001b[0m │ \u001b[36m     0\u001b[0m │ \u001b[36m      4\u001b[0m │ \u001b[36m     28\u001b[0m │ \u001b[36m      2500\u001b[0m │ \u001b[32m  ▇   \u001b[0m │  │\n",
       "│ │ \u001b[38;5;141mdeaths      \u001b[0m │     │       │          │          │      │        │         │         │            │        │  │\n",
       "│ │ \u001b[38;5;141mPolio       \u001b[0m │ \u001b[36m 19\u001b[0m │ \u001b[36m 0.65\u001b[0m │ \u001b[36m      83\u001b[0m │ \u001b[36m      23\u001b[0m │ \u001b[36m   3\u001b[0m │ \u001b[36m    78\u001b[0m │ \u001b[36m     93\u001b[0m │ \u001b[36m     97\u001b[0m │ \u001b[36m        99\u001b[0m │ \u001b[32m▁  ▁▂▇\u001b[0m │  │\n",
       "│ │ \u001b[38;5;141mTotal       \u001b[0m │ \u001b[36m226\u001b[0m │ \u001b[36m 7.69\u001b[0m │ \u001b[36m     5.9\u001b[0m │ \u001b[36m     2.5\u001b[0m │ \u001b[36m0.37\u001b[0m │ \u001b[36m   4.3\u001b[0m │ \u001b[36m    5.8\u001b[0m │ \u001b[36m    7.5\u001b[0m │ \u001b[36m        18\u001b[0m │ \u001b[32m ▂▇▆▂ \u001b[0m │  │\n",
       "│ │ \u001b[38;5;141mexpenditure \u001b[0m │     │       │          │          │      │        │         │         │            │        │  │\n",
       "│ │ \u001b[38;5;141mDiphtheria  \u001b[0m │ \u001b[36m 19\u001b[0m │ \u001b[36m 0.65\u001b[0m │ \u001b[36m      82\u001b[0m │ \u001b[36m      24\u001b[0m │ \u001b[36m   2\u001b[0m │ \u001b[36m    78\u001b[0m │ \u001b[36m     93\u001b[0m │ \u001b[36m     97\u001b[0m │ \u001b[36m        99\u001b[0m │ \u001b[32m▁  ▁▂▇\u001b[0m │  │\n",
       "│ │ \u001b[38;5;141mHIV/AIDS    \u001b[0m │ \u001b[36m  0\u001b[0m │ \u001b[36m    0\u001b[0m │ \u001b[36m     1.7\u001b[0m │ \u001b[36m     5.1\u001b[0m │ \u001b[36m 0.1\u001b[0m │ \u001b[36m   0.1\u001b[0m │ \u001b[36m    0.1\u001b[0m │ \u001b[36m    0.8\u001b[0m │ \u001b[36m        51\u001b[0m │ \u001b[32m  ▇   \u001b[0m │  │\n",
       "│ │ \u001b[38;5;141mGDP         \u001b[0m │ \u001b[36m448\u001b[0m │ \u001b[36m15.25\u001b[0m │ \u001b[36m    7500\u001b[0m │ \u001b[36m   14000\u001b[0m │ \u001b[36m 1.7\u001b[0m │ \u001b[36m   460\u001b[0m │ \u001b[36m   1800\u001b[0m │ \u001b[36m   5900\u001b[0m │ \u001b[36m    120000\u001b[0m │ \u001b[32m  ▇▁  \u001b[0m │  │\n",
       "│ │ \u001b[38;5;141mPopulation  \u001b[0m │ \u001b[36m652\u001b[0m │ \u001b[36m22.19\u001b[0m │ \u001b[36m13000000\u001b[0m │ \u001b[36m61000000\u001b[0m │ \u001b[36m  34\u001b[0m │ \u001b[36m200000\u001b[0m │ \u001b[36m1400000\u001b[0m │ \u001b[36m7400000\u001b[0m │ \u001b[36m1300000000\u001b[0m │ \u001b[32m  ▇   \u001b[0m │  │\n",
       "│ │ \u001b[38;5;141mthinness    \u001b[0m │ \u001b[36m 34\u001b[0m │ \u001b[36m 1.16\u001b[0m │ \u001b[36m     4.8\u001b[0m │ \u001b[36m     4.4\u001b[0m │ \u001b[36m 0.1\u001b[0m │ \u001b[36m   1.6\u001b[0m │ \u001b[36m    3.3\u001b[0m │ \u001b[36m    7.2\u001b[0m │ \u001b[36m        28\u001b[0m │ \u001b[32m ▇▃▁  \u001b[0m │  │\n",
       "│ │ \u001b[38;5;141m1-19 years  \u001b[0m │     │       │          │          │      │        │         │         │            │        │  │\n",
       "│ │ \u001b[38;5;141mthinness 5-9\u001b[0m │ \u001b[36m 34\u001b[0m │ \u001b[36m 1.16\u001b[0m │ \u001b[36m     4.9\u001b[0m │ \u001b[36m     4.5\u001b[0m │ \u001b[36m 0.1\u001b[0m │ \u001b[36m   1.5\u001b[0m │ \u001b[36m    3.3\u001b[0m │ \u001b[36m    7.2\u001b[0m │ \u001b[36m        29\u001b[0m │ \u001b[32m ▇▃▁  \u001b[0m │  │\n",
       "│ │ \u001b[38;5;141myears       \u001b[0m │     │       │          │          │      │        │         │         │            │        │  │\n",
       "│ │ \u001b[38;5;141mIncome      \u001b[0m │ \u001b[36m167\u001b[0m │ \u001b[36m 5.68\u001b[0m │ \u001b[36m    0.63\u001b[0m │ \u001b[36m    0.21\u001b[0m │ \u001b[36m   0\u001b[0m │ \u001b[36m  0.49\u001b[0m │ \u001b[36m   0.68\u001b[0m │ \u001b[36m   0.78\u001b[0m │ \u001b[36m      0.95\u001b[0m │ \u001b[32m▁ ▃▅▇▅\u001b[0m │  │\n",
       "│ │ \u001b[38;5;141mcomposition \u001b[0m │     │       │          │          │      │        │         │         │            │        │  │\n",
       "│ │ \u001b[38;5;141mof resources\u001b[0m │     │       │          │          │      │        │         │         │            │        │  │\n",
       "│ │ \u001b[38;5;141mSchooling   \u001b[0m │ \u001b[36m163\u001b[0m │ \u001b[36m 5.55\u001b[0m │ \u001b[36m      12\u001b[0m │ \u001b[36m     3.4\u001b[0m │ \u001b[36m   0\u001b[0m │ \u001b[36m    10\u001b[0m │ \u001b[36m     12\u001b[0m │ \u001b[36m     14\u001b[0m │ \u001b[36m        21\u001b[0m │ \u001b[32m ▁▃▇▅▁\u001b[0m │  │\n",
       "│ └──────────────┴─────┴───────┴──────────┴──────────┴──────┴────────┴─────────┴─────────┴────────────┴────────┘  │\n",
       "│ \u001b[3m                                                    string                                                    \u001b[0m  │\n",
       "│ ┏━━━━━━━━━━━━━━━━━━━━━━━━━━━┳━━━━━━━━━┳━━━━━━━━━━━━┳━━━━━━━━━━━━━━━━━━━━━━━━━━━━━━┳━━━━━━━━━━━━━━━━━━━━━━━━━━┓  │\n",
       "│ ┃\u001b[1m \u001b[0m\u001b[1mcolumn_name              \u001b[0m\u001b[1m \u001b[0m┃\u001b[1m \u001b[0m\u001b[1mNA     \u001b[0m\u001b[1m \u001b[0m┃\u001b[1m \u001b[0m\u001b[1mNA %      \u001b[0m\u001b[1m \u001b[0m┃\u001b[1m \u001b[0m\u001b[1mwords per row               \u001b[0m\u001b[1m \u001b[0m┃\u001b[1m \u001b[0m\u001b[1mtotal words             \u001b[0m\u001b[1m \u001b[0m┃  │\n",
       "│ ┡━━━━━━━━━━━━━━━━━━━━━━━━━━━╇━━━━━━━━━╇━━━━━━━━━━━━╇━━━━━━━━━━━━━━━━━━━━━━━━━━━━━━╇━━━━━━━━━━━━━━━━━━━━━━━━━━┩  │\n",
       "│ │ \u001b[38;5;141mCountry                  \u001b[0m │ \u001b[36m      0\u001b[0m │ \u001b[36m         0\u001b[0m │ \u001b[36m                         1.5\u001b[0m │ \u001b[36m                    4288\u001b[0m │  │\n",
       "│ │ \u001b[38;5;141mStatus                   \u001b[0m │ \u001b[36m      0\u001b[0m │ \u001b[36m         0\u001b[0m │ \u001b[36m                           1\u001b[0m │ \u001b[36m                    2938\u001b[0m │  │\n",
       "│ └───────────────────────────┴─────────┴────────────┴──────────────────────────────┴──────────────────────────┘  │\n",
       "╰────────────────────────────────────────────────────── End ──────────────────────────────────────────────────────╯\n"
      ]
     },
     "metadata": {},
     "output_type": "display_data"
    }
   ],
   "source": [
    "skim(df)"
   ]
  },
  {
   "cell_type": "code",
   "execution_count": 7,
   "metadata": {},
   "outputs": [
    {
     "data": {
      "text/html": [
       "<div>\n",
       "<style scoped>\n",
       "    .dataframe tbody tr th:only-of-type {\n",
       "        vertical-align: middle;\n",
       "    }\n",
       "\n",
       "    .dataframe tbody tr th {\n",
       "        vertical-align: top;\n",
       "    }\n",
       "\n",
       "    .dataframe thead th {\n",
       "        text-align: right;\n",
       "    }\n",
       "</style>\n",
       "<table border=\"1\" class=\"dataframe\">\n",
       "  <thead>\n",
       "    <tr style=\"text-align: right;\">\n",
       "      <th></th>\n",
       "      <th>Country</th>\n",
       "      <th>Year</th>\n",
       "      <th>Status</th>\n",
       "      <th>Life expectancy</th>\n",
       "      <th>Adult Mortality</th>\n",
       "      <th>infant deaths</th>\n",
       "      <th>Alcohol</th>\n",
       "      <th>percentage expenditure</th>\n",
       "      <th>Hepatitis B</th>\n",
       "      <th>Measles</th>\n",
       "      <th>...</th>\n",
       "      <th>Polio</th>\n",
       "      <th>Total expenditure</th>\n",
       "      <th>Diphtheria</th>\n",
       "      <th>HIV/AIDS</th>\n",
       "      <th>GDP</th>\n",
       "      <th>Population</th>\n",
       "      <th>thinness  1-19 years</th>\n",
       "      <th>thinness 5-9 years</th>\n",
       "      <th>Income composition of resources</th>\n",
       "      <th>Schooling</th>\n",
       "    </tr>\n",
       "  </thead>\n",
       "  <tbody>\n",
       "    <tr>\n",
       "      <th>0</th>\n",
       "      <td>Afghanistan</td>\n",
       "      <td>2015</td>\n",
       "      <td>Developing</td>\n",
       "      <td>65.0</td>\n",
       "      <td>263.0</td>\n",
       "      <td>62</td>\n",
       "      <td>0.01</td>\n",
       "      <td>71.279624</td>\n",
       "      <td>65.0</td>\n",
       "      <td>1154</td>\n",
       "      <td>...</td>\n",
       "      <td>6.0</td>\n",
       "      <td>8.16</td>\n",
       "      <td>65.0</td>\n",
       "      <td>0.1</td>\n",
       "      <td>584.259210</td>\n",
       "      <td>33736494.0</td>\n",
       "      <td>17.2</td>\n",
       "      <td>17.3</td>\n",
       "      <td>0.479</td>\n",
       "      <td>10.1</td>\n",
       "    </tr>\n",
       "    <tr>\n",
       "      <th>1</th>\n",
       "      <td>Afghanistan</td>\n",
       "      <td>2014</td>\n",
       "      <td>Developing</td>\n",
       "      <td>59.9</td>\n",
       "      <td>271.0</td>\n",
       "      <td>64</td>\n",
       "      <td>0.01</td>\n",
       "      <td>73.523582</td>\n",
       "      <td>62.0</td>\n",
       "      <td>492</td>\n",
       "      <td>...</td>\n",
       "      <td>58.0</td>\n",
       "      <td>8.18</td>\n",
       "      <td>62.0</td>\n",
       "      <td>0.1</td>\n",
       "      <td>612.696514</td>\n",
       "      <td>327582.0</td>\n",
       "      <td>17.5</td>\n",
       "      <td>17.5</td>\n",
       "      <td>0.476</td>\n",
       "      <td>10.0</td>\n",
       "    </tr>\n",
       "    <tr>\n",
       "      <th>2</th>\n",
       "      <td>Afghanistan</td>\n",
       "      <td>2013</td>\n",
       "      <td>Developing</td>\n",
       "      <td>59.9</td>\n",
       "      <td>268.0</td>\n",
       "      <td>66</td>\n",
       "      <td>0.01</td>\n",
       "      <td>73.219243</td>\n",
       "      <td>64.0</td>\n",
       "      <td>430</td>\n",
       "      <td>...</td>\n",
       "      <td>62.0</td>\n",
       "      <td>8.13</td>\n",
       "      <td>64.0</td>\n",
       "      <td>0.1</td>\n",
       "      <td>631.744976</td>\n",
       "      <td>31731688.0</td>\n",
       "      <td>17.7</td>\n",
       "      <td>17.7</td>\n",
       "      <td>0.470</td>\n",
       "      <td>9.9</td>\n",
       "    </tr>\n",
       "    <tr>\n",
       "      <th>3</th>\n",
       "      <td>Afghanistan</td>\n",
       "      <td>2012</td>\n",
       "      <td>Developing</td>\n",
       "      <td>59.5</td>\n",
       "      <td>272.0</td>\n",
       "      <td>69</td>\n",
       "      <td>0.01</td>\n",
       "      <td>78.184215</td>\n",
       "      <td>67.0</td>\n",
       "      <td>2787</td>\n",
       "      <td>...</td>\n",
       "      <td>67.0</td>\n",
       "      <td>8.52</td>\n",
       "      <td>67.0</td>\n",
       "      <td>0.1</td>\n",
       "      <td>669.959000</td>\n",
       "      <td>3696958.0</td>\n",
       "      <td>17.9</td>\n",
       "      <td>18.0</td>\n",
       "      <td>0.463</td>\n",
       "      <td>9.8</td>\n",
       "    </tr>\n",
       "    <tr>\n",
       "      <th>4</th>\n",
       "      <td>Afghanistan</td>\n",
       "      <td>2011</td>\n",
       "      <td>Developing</td>\n",
       "      <td>59.2</td>\n",
       "      <td>275.0</td>\n",
       "      <td>71</td>\n",
       "      <td>0.01</td>\n",
       "      <td>7.097109</td>\n",
       "      <td>68.0</td>\n",
       "      <td>3013</td>\n",
       "      <td>...</td>\n",
       "      <td>68.0</td>\n",
       "      <td>7.87</td>\n",
       "      <td>68.0</td>\n",
       "      <td>0.1</td>\n",
       "      <td>63.537231</td>\n",
       "      <td>2978599.0</td>\n",
       "      <td>18.2</td>\n",
       "      <td>18.2</td>\n",
       "      <td>0.454</td>\n",
       "      <td>9.5</td>\n",
       "    </tr>\n",
       "  </tbody>\n",
       "</table>\n",
       "<p>5 rows × 22 columns</p>\n",
       "</div>"
      ],
      "text/plain": [
       "       Country  Year      Status  Life expectancy  Adult Mortality  \\\n",
       "0  Afghanistan  2015  Developing             65.0            263.0   \n",
       "1  Afghanistan  2014  Developing             59.9            271.0   \n",
       "2  Afghanistan  2013  Developing             59.9            268.0   \n",
       "3  Afghanistan  2012  Developing             59.5            272.0   \n",
       "4  Afghanistan  2011  Developing             59.2            275.0   \n",
       "\n",
       "   infant deaths  Alcohol  percentage expenditure  Hepatitis B  Measles  ...  \\\n",
       "0             62     0.01               71.279624         65.0     1154  ...   \n",
       "1             64     0.01               73.523582         62.0      492  ...   \n",
       "2             66     0.01               73.219243         64.0      430  ...   \n",
       "3             69     0.01               78.184215         67.0     2787  ...   \n",
       "4             71     0.01                7.097109         68.0     3013  ...   \n",
       "\n",
       "   Polio  Total expenditure  Diphtheria  HIV/AIDS         GDP  Population  \\\n",
       "0    6.0               8.16        65.0       0.1  584.259210  33736494.0   \n",
       "1   58.0               8.18        62.0       0.1  612.696514    327582.0   \n",
       "2   62.0               8.13        64.0       0.1  631.744976  31731688.0   \n",
       "3   67.0               8.52        67.0       0.1  669.959000   3696958.0   \n",
       "4   68.0               7.87        68.0       0.1   63.537231   2978599.0   \n",
       "\n",
       "   thinness  1-19 years  thinness 5-9 years  Income composition of resources  \\\n",
       "0                  17.2                17.3                            0.479   \n",
       "1                  17.5                17.5                            0.476   \n",
       "2                  17.7                17.7                            0.470   \n",
       "3                  17.9                18.0                            0.463   \n",
       "4                  18.2                18.2                            0.454   \n",
       "\n",
       "   Schooling  \n",
       "0       10.1  \n",
       "1       10.0  \n",
       "2        9.9  \n",
       "3        9.8  \n",
       "4        9.5  \n",
       "\n",
       "[5 rows x 22 columns]"
      ]
     },
     "execution_count": 7,
     "metadata": {},
     "output_type": "execute_result"
    }
   ],
   "source": [
    "df.head()"
   ]
  },
  {
   "cell_type": "code",
   "execution_count": 8,
   "metadata": {},
   "outputs": [
    {
     "name": "stdout",
     "output_type": "stream",
     "text": [
      "Variáveis Numéricas: \n",
      " Index(['Year', 'Life expectancy', 'Adult Mortality', 'infant deaths',\n",
      "       'Alcohol', 'percentage expenditure', 'Hepatitis B', 'Measles', 'BMI',\n",
      "       'under-five deaths', 'Polio', 'Total expenditure', 'Diphtheria',\n",
      "       'HIV/AIDS', 'GDP', 'Population', 'thinness  1-19 years',\n",
      "       'thinness 5-9 years', 'Income composition of resources', 'Schooling'],\n",
      "      dtype='object')\n"
     ]
    }
   ],
   "source": [
    "# Variáveis Numéricas\n",
    "num_col = df.select_dtypes(include = np.number).columns\n",
    "print(\"Variáveis Numéricas: \\n\", num_col)"
   ]
  },
  {
   "cell_type": "code",
   "execution_count": 9,
   "metadata": {},
   "outputs": [
    {
     "name": "stdout",
     "output_type": "stream",
     "text": [
      "Váriaveis Categóricas: \n",
      " Index(['Country', 'Status'], dtype='object')\n"
     ]
    }
   ],
   "source": [
    "# Variáveis Categóricas\n",
    "cat_col = df.select_dtypes(exclude = np.number).columns\n",
    "print(\"Váriaveis Categóricas: \\n\", cat_col)"
   ]
  },
  {
   "cell_type": "markdown",
   "metadata": {},
   "source": [
    "## Pré-Processamento dos Dados\n",
    "\n",
    "Não usaremos a coluna **Country**, então vamos transformar apenas a outra variável categórica."
   ]
  },
  {
   "cell_type": "code",
   "execution_count": 10,
   "metadata": {},
   "outputs": [],
   "source": [
    "# Cria o objeto\n",
    "label_encoder = LabelEncoder()"
   ]
  },
  {
   "cell_type": "code",
   "execution_count": 11,
   "metadata": {},
   "outputs": [],
   "source": [
    "# Encode da coluna Status \n",
    "df['Status'] = label_encoder.fit_transform(df['Status'])"
   ]
  },
  {
   "cell_type": "code",
   "execution_count": 12,
   "metadata": {},
   "outputs": [
    {
     "data": {
      "text/html": [
       "<div>\n",
       "<style scoped>\n",
       "    .dataframe tbody tr th:only-of-type {\n",
       "        vertical-align: middle;\n",
       "    }\n",
       "\n",
       "    .dataframe tbody tr th {\n",
       "        vertical-align: top;\n",
       "    }\n",
       "\n",
       "    .dataframe thead th {\n",
       "        text-align: right;\n",
       "    }\n",
       "</style>\n",
       "<table border=\"1\" class=\"dataframe\">\n",
       "  <thead>\n",
       "    <tr style=\"text-align: right;\">\n",
       "      <th></th>\n",
       "      <th>Country</th>\n",
       "      <th>Year</th>\n",
       "      <th>Status</th>\n",
       "      <th>Life expectancy</th>\n",
       "      <th>Adult Mortality</th>\n",
       "      <th>infant deaths</th>\n",
       "      <th>Alcohol</th>\n",
       "      <th>percentage expenditure</th>\n",
       "      <th>Hepatitis B</th>\n",
       "      <th>Measles</th>\n",
       "      <th>...</th>\n",
       "      <th>Polio</th>\n",
       "      <th>Total expenditure</th>\n",
       "      <th>Diphtheria</th>\n",
       "      <th>HIV/AIDS</th>\n",
       "      <th>GDP</th>\n",
       "      <th>Population</th>\n",
       "      <th>thinness  1-19 years</th>\n",
       "      <th>thinness 5-9 years</th>\n",
       "      <th>Income composition of resources</th>\n",
       "      <th>Schooling</th>\n",
       "    </tr>\n",
       "  </thead>\n",
       "  <tbody>\n",
       "    <tr>\n",
       "      <th>0</th>\n",
       "      <td>Afghanistan</td>\n",
       "      <td>2015</td>\n",
       "      <td>1</td>\n",
       "      <td>65.0</td>\n",
       "      <td>263.0</td>\n",
       "      <td>62</td>\n",
       "      <td>0.01</td>\n",
       "      <td>71.279624</td>\n",
       "      <td>65.0</td>\n",
       "      <td>1154</td>\n",
       "      <td>...</td>\n",
       "      <td>6.0</td>\n",
       "      <td>8.16</td>\n",
       "      <td>65.0</td>\n",
       "      <td>0.1</td>\n",
       "      <td>584.259210</td>\n",
       "      <td>33736494.0</td>\n",
       "      <td>17.2</td>\n",
       "      <td>17.3</td>\n",
       "      <td>0.479</td>\n",
       "      <td>10.1</td>\n",
       "    </tr>\n",
       "    <tr>\n",
       "      <th>1</th>\n",
       "      <td>Afghanistan</td>\n",
       "      <td>2014</td>\n",
       "      <td>1</td>\n",
       "      <td>59.9</td>\n",
       "      <td>271.0</td>\n",
       "      <td>64</td>\n",
       "      <td>0.01</td>\n",
       "      <td>73.523582</td>\n",
       "      <td>62.0</td>\n",
       "      <td>492</td>\n",
       "      <td>...</td>\n",
       "      <td>58.0</td>\n",
       "      <td>8.18</td>\n",
       "      <td>62.0</td>\n",
       "      <td>0.1</td>\n",
       "      <td>612.696514</td>\n",
       "      <td>327582.0</td>\n",
       "      <td>17.5</td>\n",
       "      <td>17.5</td>\n",
       "      <td>0.476</td>\n",
       "      <td>10.0</td>\n",
       "    </tr>\n",
       "    <tr>\n",
       "      <th>2</th>\n",
       "      <td>Afghanistan</td>\n",
       "      <td>2013</td>\n",
       "      <td>1</td>\n",
       "      <td>59.9</td>\n",
       "      <td>268.0</td>\n",
       "      <td>66</td>\n",
       "      <td>0.01</td>\n",
       "      <td>73.219243</td>\n",
       "      <td>64.0</td>\n",
       "      <td>430</td>\n",
       "      <td>...</td>\n",
       "      <td>62.0</td>\n",
       "      <td>8.13</td>\n",
       "      <td>64.0</td>\n",
       "      <td>0.1</td>\n",
       "      <td>631.744976</td>\n",
       "      <td>31731688.0</td>\n",
       "      <td>17.7</td>\n",
       "      <td>17.7</td>\n",
       "      <td>0.470</td>\n",
       "      <td>9.9</td>\n",
       "    </tr>\n",
       "    <tr>\n",
       "      <th>3</th>\n",
       "      <td>Afghanistan</td>\n",
       "      <td>2012</td>\n",
       "      <td>1</td>\n",
       "      <td>59.5</td>\n",
       "      <td>272.0</td>\n",
       "      <td>69</td>\n",
       "      <td>0.01</td>\n",
       "      <td>78.184215</td>\n",
       "      <td>67.0</td>\n",
       "      <td>2787</td>\n",
       "      <td>...</td>\n",
       "      <td>67.0</td>\n",
       "      <td>8.52</td>\n",
       "      <td>67.0</td>\n",
       "      <td>0.1</td>\n",
       "      <td>669.959000</td>\n",
       "      <td>3696958.0</td>\n",
       "      <td>17.9</td>\n",
       "      <td>18.0</td>\n",
       "      <td>0.463</td>\n",
       "      <td>9.8</td>\n",
       "    </tr>\n",
       "    <tr>\n",
       "      <th>4</th>\n",
       "      <td>Afghanistan</td>\n",
       "      <td>2011</td>\n",
       "      <td>1</td>\n",
       "      <td>59.2</td>\n",
       "      <td>275.0</td>\n",
       "      <td>71</td>\n",
       "      <td>0.01</td>\n",
       "      <td>7.097109</td>\n",
       "      <td>68.0</td>\n",
       "      <td>3013</td>\n",
       "      <td>...</td>\n",
       "      <td>68.0</td>\n",
       "      <td>7.87</td>\n",
       "      <td>68.0</td>\n",
       "      <td>0.1</td>\n",
       "      <td>63.537231</td>\n",
       "      <td>2978599.0</td>\n",
       "      <td>18.2</td>\n",
       "      <td>18.2</td>\n",
       "      <td>0.454</td>\n",
       "      <td>9.5</td>\n",
       "    </tr>\n",
       "  </tbody>\n",
       "</table>\n",
       "<p>5 rows × 22 columns</p>\n",
       "</div>"
      ],
      "text/plain": [
       "       Country  Year  Status  Life expectancy  Adult Mortality  infant deaths  \\\n",
       "0  Afghanistan  2015       1             65.0            263.0             62   \n",
       "1  Afghanistan  2014       1             59.9            271.0             64   \n",
       "2  Afghanistan  2013       1             59.9            268.0             66   \n",
       "3  Afghanistan  2012       1             59.5            272.0             69   \n",
       "4  Afghanistan  2011       1             59.2            275.0             71   \n",
       "\n",
       "   Alcohol  percentage expenditure  Hepatitis B  Measles  ...  Polio  \\\n",
       "0     0.01               71.279624         65.0     1154  ...    6.0   \n",
       "1     0.01               73.523582         62.0      492  ...   58.0   \n",
       "2     0.01               73.219243         64.0      430  ...   62.0   \n",
       "3     0.01               78.184215         67.0     2787  ...   67.0   \n",
       "4     0.01                7.097109         68.0     3013  ...   68.0   \n",
       "\n",
       "   Total expenditure  Diphtheria  HIV/AIDS         GDP  Population  \\\n",
       "0               8.16        65.0       0.1  584.259210  33736494.0   \n",
       "1               8.18        62.0       0.1  612.696514    327582.0   \n",
       "2               8.13        64.0       0.1  631.744976  31731688.0   \n",
       "3               8.52        67.0       0.1  669.959000   3696958.0   \n",
       "4               7.87        68.0       0.1   63.537231   2978599.0   \n",
       "\n",
       "   thinness  1-19 years  thinness 5-9 years  Income composition of resources  \\\n",
       "0                  17.2                17.3                            0.479   \n",
       "1                  17.5                17.5                            0.476   \n",
       "2                  17.7                17.7                            0.470   \n",
       "3                  17.9                18.0                            0.463   \n",
       "4                  18.2                18.2                            0.454   \n",
       "\n",
       "   Schooling  \n",
       "0       10.1  \n",
       "1       10.0  \n",
       "2        9.9  \n",
       "3        9.8  \n",
       "4        9.5  \n",
       "\n",
       "[5 rows x 22 columns]"
      ]
     },
     "execution_count": 12,
     "metadata": {},
     "output_type": "execute_result"
    }
   ],
   "source": [
    "df.head()"
   ]
  },
  {
   "cell_type": "code",
   "execution_count": 13,
   "metadata": {},
   "outputs": [],
   "source": [
    "# Função para checar a assimetria dos dados e então tratar valores ausentes\n",
    "def trata_valores_ausentes(df):\n",
    "    \n",
    "    # Lista de variáveis com assimetria alta\n",
    "    assimetria_alta = []\n",
    "    \n",
    "    # Lista de variáveis com assimetria moderada\n",
    "    assimetria_moderada = []\n",
    "    \n",
    "    # Loop\n",
    "    for i, j in df.skew().items():\n",
    "        \n",
    "        # Condição para assimetria alta\n",
    "        if (j < -1) or (j > 1):\n",
    "            \n",
    "            # Coloca o nome da variável na lista\n",
    "            assimetria_alta.append(i)\n",
    "            \n",
    "            # Preenche valores ausentes com a mediana\n",
    "            df[i].fillna(df[i].median(), inplace = True)\n",
    "            \n",
    "        # Condição para assimetria moderada\n",
    "        elif (-1 > j > -0.5) or (0.5 < j <  1):\n",
    "            \n",
    "            # Coloca o nome da variável na lista\n",
    "            assimetria_moderada.append(i)\n",
    "            \n",
    "            # Preenche valores ausentes com a média\n",
    "            df[i].fillna(df[i].mean(), inplace = True)\n",
    "        else:\n",
    "            pass\n",
    "        \n",
    "    print(\"\\nVariáveis com assimetria alta:\\n\")\n",
    "    print(assimetria_alta)\n",
    "    print(\"\\nVariáveis com assimetria moderada:\\n\")\n",
    "    print(assimetria_moderada)\n",
    "    print(\"\\nValores ausentes:\\n\")\n",
    "    print(df.isnull().sum())"
   ]
  },
  {
   "cell_type": "code",
   "execution_count": 15,
   "metadata": {},
   "outputs": [
    {
     "name": "stdout",
     "output_type": "stream",
     "text": [
      "\n",
      "Variáveis com assimetria alta:\n",
      "\n",
      "['Status', 'Adult Mortality', 'infant deaths', 'percentage expenditure', 'Hepatitis B', 'Measles', 'under-five deaths', 'Polio', 'Diphtheria', 'HIV/AIDS', 'GDP', 'Population', 'thinness  1-19 years', 'thinness 5-9 years', 'Income composition of resources']\n",
      "\n",
      "Variáveis com assimetria moderada:\n",
      "\n",
      "['Alcohol', 'Total expenditure']\n",
      "\n",
      "Valores ausentes:\n",
      "\n",
      "Year                                 0\n",
      "Status                               0\n",
      "Life expectancy                     10\n",
      "Adult Mortality                      0\n",
      "infant deaths                        0\n",
      "Alcohol                              0\n",
      "percentage expenditure               0\n",
      "Hepatitis B                          0\n",
      "Measles                              0\n",
      "BMI                                 34\n",
      "under-five deaths                    0\n",
      "Polio                                0\n",
      "Total expenditure                    0\n",
      "Diphtheria                           0\n",
      "HIV/AIDS                             0\n",
      "GDP                                  0\n",
      "Population                           0\n",
      "thinness  1-19 years                 0\n",
      "thinness 5-9 years                   0\n",
      "Income composition of resources      0\n",
      "Schooling                          163\n",
      "dtype: int64\n"
     ]
    }
   ],
   "source": [
    "trata_valores_ausentes(df.iloc[:,1:])"
   ]
  },
  {
   "cell_type": "markdown",
   "metadata": {},
   "source": [
    "> Ainda há 3 variáveis com valores ausentes. Vamos resolver isso."
   ]
  },
  {
   "cell_type": "code",
   "execution_count": 16,
   "metadata": {},
   "outputs": [],
   "source": [
    "# Interpolação - preenche valores ausentes com a média\n",
    "df['BMI'] = df['BMI'].fillna(df['BMI'].mean())"
   ]
  },
  {
   "cell_type": "code",
   "execution_count": 17,
   "metadata": {},
   "outputs": [],
   "source": [
    "# Interpolação - preenche valores ausentes com a média\n",
    "df['Schooling'] = df['Schooling'].fillna(df['Schooling'].mean())"
   ]
  },
  {
   "cell_type": "code",
   "execution_count": 18,
   "metadata": {},
   "outputs": [
    {
     "name": "stdout",
     "output_type": "stream",
     "text": [
      "Country                              0\n",
      "Year                                 0\n",
      "Status                               0\n",
      "Life expectancy                     10\n",
      "Adult Mortality                     10\n",
      "infant deaths                        0\n",
      "Alcohol                            194\n",
      "percentage expenditure               0\n",
      "Hepatitis B                        553\n",
      "Measles                              0\n",
      "BMI                                  0\n",
      "under-five deaths                    0\n",
      "Polio                               19\n",
      "Total expenditure                  226\n",
      "Diphtheria                          19\n",
      "HIV/AIDS                             0\n",
      "GDP                                448\n",
      "Population                         652\n",
      "thinness  1-19 years                34\n",
      "thinness 5-9 years                  34\n",
      "Income composition of resources    167\n",
      "Schooling                            0\n",
      "dtype: int64\n"
     ]
    }
   ],
   "source": [
    "print(df.isna().sum())"
   ]
  },
  {
   "cell_type": "code",
   "execution_count": 19,
   "metadata": {},
   "outputs": [
    {
     "name": "stdout",
     "output_type": "stream",
     "text": [
      "(2938, 22)\n"
     ]
    }
   ],
   "source": [
    "print(df.shape)"
   ]
  },
  {
   "cell_type": "code",
   "execution_count": 20,
   "metadata": {},
   "outputs": [],
   "source": [
    "# Para a variável alvo vamos apenas remover as linhas com valores ausentes\n",
    "df = df.dropna()"
   ]
  },
  {
   "cell_type": "code",
   "execution_count": 21,
   "metadata": {},
   "outputs": [
    {
     "name": "stdout",
     "output_type": "stream",
     "text": [
      "Country                            0\n",
      "Year                               0\n",
      "Status                             0\n",
      "Life expectancy                    0\n",
      "Adult Mortality                    0\n",
      "infant deaths                      0\n",
      "Alcohol                            0\n",
      "percentage expenditure             0\n",
      "Hepatitis B                        0\n",
      "Measles                            0\n",
      "BMI                                0\n",
      "under-five deaths                  0\n",
      "Polio                              0\n",
      "Total expenditure                  0\n",
      "Diphtheria                         0\n",
      "HIV/AIDS                           0\n",
      "GDP                                0\n",
      "Population                         0\n",
      "thinness  1-19 years               0\n",
      "thinness 5-9 years                 0\n",
      "Income composition of resources    0\n",
      "Schooling                          0\n",
      "dtype: int64\n"
     ]
    }
   ],
   "source": [
    "print(df.isna().sum())"
   ]
  },
  {
   "cell_type": "code",
   "execution_count": 22,
   "metadata": {},
   "outputs": [
    {
     "name": "stdout",
     "output_type": "stream",
     "text": [
      "(1649, 22)\n"
     ]
    }
   ],
   "source": [
    "print(df.shape)"
   ]
  },
  {
   "cell_type": "markdown",
   "metadata": {},
   "source": [
    "## Análise Exploratória"
   ]
  },
  {
   "cell_type": "code",
   "execution_count": 23,
   "metadata": {},
   "outputs": [
    {
     "data": {
      "image/png": "[encoded data removed]",
      "text/plain": [
       "<Figure size 800x800 with 1 Axes>"
      ]
     },
     "metadata": {},
     "output_type": "display_data"
    }
   ],
   "source": [
    "# Verifica a distribuição da variável alvo (Life Expectancy)\n",
    "plt.figure(figsize = (8,8))\n",
    "sns.boxplot(data = df['Life expectancy'])\n",
    "plt.title('Life Expectancy Box Plot')\n",
    "plt.show()"
   ]
  },
  {
   "cell_type": "code",
   "execution_count": 24,
   "metadata": {},
   "outputs": [
    {
     "data": {
      "text/plain": [
       "<Figure size 800x800 with 0 Axes>"
      ]
     },
     "metadata": {},
     "output_type": "display_data"
    },
    {
     "data": {
      "image/png": "[encoded data removed]",
      "text/plain": [
       "<Figure size 500x500 with 1 Axes>"
      ]
     },
     "metadata": {},
     "output_type": "display_data"
    }
   ],
   "source": [
    "plt.figure(figsize = (8,8))\n",
    "sns.displot(df['Life expectancy'])\n",
    "plt.title('Life Expectancy Box Plot')\n",
    "plt.show()"
   ]
  },
  {
   "cell_type": "code",
   "execution_count": 25,
   "metadata": {},
   "outputs": [
    {
     "data": {
      "image/png": "[encoded data removed]",
      "text/plain": [
       "<Figure size 1500x1500 with 2 Axes>"
      ]
     },
     "metadata": {},
     "output_type": "display_data"
    }
   ],
   "source": [
    "# Matriz de correlação\n",
    "plt.figure(figsize = (15, 15))\n",
    "p = sns.heatmap(df[num_col].corr(), annot = True, cmap = 'RdYlGn', center = 0)"
   ]
  },
  {
   "cell_type": "markdown",
   "metadata": {},
   "source": [
    "## Preparação dos Dados"
   ]
  },
  {
   "cell_type": "markdown",
   "metadata": {},
   "source": [
    "Não usaremos a variável que indica o país, já que isso deixaria a análise bastante tendenciosa. Queremos compreender os fatores que mais influenciam a expectativa de vida, independente do país."
   ]
  },
  {
   "cell_type": "code",
   "execution_count": 26,
   "metadata": {},
   "outputs": [],
   "source": [
    "X = df.drop(columns = ['Life expectancy', 'Country'])"
   ]
  },
  {
   "cell_type": "code",
   "execution_count": 27,
   "metadata": {},
   "outputs": [],
   "source": [
    "y = df[['Life expectancy']]"
   ]
  },
  {
   "cell_type": "code",
   "execution_count": 28,
   "metadata": {},
   "outputs": [],
   "source": [
    "X_treino, X_teste, y_treino, y_teste = train_test_split(X, y, test_size = 0.3, random_state = 1234)"
   ]
  },
  {
   "cell_type": "markdown",
   "metadata": {},
   "source": [
    "## Abordagem 1 - Stepwise Manual"
   ]
  },
  {
   "cell_type": "markdown",
   "metadata": {},
   "source": [
    "### Versão 1 do Modelo com 1 Variável Preditora"
   ]
  },
  {
   "cell_type": "code",
   "execution_count": 29,
   "metadata": {},
   "outputs": [],
   "source": [
    "# Selecionando uma variável preditora com alta correlação positiva com a variável alvo\n",
    "X_treino_1 = X_treino['Schooling']"
   ]
  },
  {
   "cell_type": "code",
   "execution_count": 30,
   "metadata": {},
   "outputs": [],
   "source": [
    "# Adiciona a constante (requerido pelo Statsmodels)\n",
    "X_treino_1 = sm.add_constant(X_treino_1)"
   ]
  },
  {
   "cell_type": "code",
   "execution_count": 31,
   "metadata": {},
   "outputs": [],
   "source": [
    "# Cria a primeira versão do modelo\n",
    "modelo_v1 = sm.OLS(y_treino, X_treino_1).fit()"
   ]
  },
  {
   "cell_type": "code",
   "execution_count": 32,
   "metadata": {},
   "outputs": [
    {
     "data": {
      "text/plain": [
       "const        41.567912\n",
       "Schooling     2.297811\n",
       "dtype: float64"
      ]
     },
     "execution_count": 32,
     "metadata": {},
     "output_type": "execute_result"
    }
   ],
   "source": [
    "# Verifica os parâmetros\n",
    "modelo_v1.params"
   ]
  },
  {
   "cell_type": "code",
   "execution_count": 33,
   "metadata": {},
   "outputs": [
    {
     "name": "stdout",
     "output_type": "stream",
     "text": [
      "                            OLS Regression Results                            \n",
      "==============================================================================\n",
      "Dep. Variable:        Life expectancy   R-squared:                       0.536\n",
      "Model:                            OLS   Adj. R-squared:                  0.536\n",
      "Method:                 Least Squares   F-statistic:                     1333.\n",
      "Date:                Fri, 08 Mar 2024   Prob (F-statistic):          1.72e-194\n",
      "Time:                        10:15:28   Log-Likelihood:                -3695.5\n",
      "No. Observations:                1154   AIC:                             7395.\n",
      "Df Residuals:                    1152   BIC:                             7405.\n",
      "Df Model:                           1                                         \n",
      "Covariance Type:            nonrobust                                         \n",
      "==============================================================================\n",
      "                 coef    std err          t      P>|t|      [0.025      0.975]\n",
      "------------------------------------------------------------------------------\n",
      "const         41.5679      0.787     52.790      0.000      40.023      43.113\n",
      "Schooling      2.2978      0.063     36.505      0.000       2.174       2.421\n",
      "==============================================================================\n",
      "Omnibus:                      158.643   Durbin-Watson:                   2.034\n",
      "Prob(Omnibus):                  0.000   Jarque-Bera (JB):              246.833\n",
      "Skew:                          -0.935   Prob(JB):                     2.52e-54\n",
      "Kurtosis:                       4.280   Cond. No.                         56.5\n",
      "==============================================================================\n",
      "\n",
      "Notes:\n",
      "[1] Standard Errors assume that the covariance matrix of the errors is correctly specified.\n"
     ]
    }
   ],
   "source": [
    "# Sumário\n",
    "print(modelo_v1.summary())"
   ]
  },
  {
   "cell_type": "markdown",
   "metadata": {},
   "source": [
    "O R-quadrado  (R2) é o coeficiente de determinação e pode assumir valores entre 0 e 1. Quando maior o valor do R-quadrado (R2), mais o modelo é capaz de explicar as variência da variável alvo."
   ]
  },
  {
   "cell_type": "markdown",
   "metadata": {},
   "source": [
    "Leia os manuais no Capítulo 5 para compreender como interpretar outros valores da tabela acima."
   ]
  },
  {
   "cell_type": "markdown",
   "metadata": {},
   "source": [
    "### Versão 2 do Modelo com 2 Variáveis Preditoras"
   ]
  },
  {
   "cell_type": "code",
   "execution_count": 34,
   "metadata": {},
   "outputs": [],
   "source": [
    "# Usando duas variáveis de entrada com alta correlação positiva com a variável alvo\n",
    "X_treino_2 = X_treino[['Schooling', 'Income composition of resources']]"
   ]
  },
  {
   "cell_type": "code",
   "execution_count": 35,
   "metadata": {},
   "outputs": [],
   "source": [
    "# Adiciona a constante\n",
    "X_treino_2 = sm.add_constant(X_treino_2)"
   ]
  },
  {
   "cell_type": "code",
   "execution_count": 36,
   "metadata": {},
   "outputs": [],
   "source": [
    "# Segunda versão do modelo\n",
    "modelo_v2 = sm.OLS(y_treino, X_treino_2).fit()"
   ]
  },
  {
   "cell_type": "code",
   "execution_count": 37,
   "metadata": {},
   "outputs": [
    {
     "data": {
      "text/plain": [
       "const                              41.448765\n",
       "Schooling                           1.362955\n",
       "Income composition of resources    18.126951\n",
       "dtype: float64"
      ]
     },
     "execution_count": 37,
     "metadata": {},
     "output_type": "execute_result"
    }
   ],
   "source": [
    "# Parâmetros aprendidos\n",
    "modelo_v2.params"
   ]
  },
  {
   "cell_type": "code",
   "execution_count": 38,
   "metadata": {},
   "outputs": [
    {
     "name": "stdout",
     "output_type": "stream",
     "text": [
      "                            OLS Regression Results                            \n",
      "==============================================================================\n",
      "Dep. Variable:        Life expectancy   R-squared:                       0.590\n",
      "Model:                            OLS   Adj. R-squared:                  0.589\n",
      "Method:                 Least Squares   F-statistic:                     828.4\n",
      "Date:                Fri, 08 Mar 2024   Prob (F-statistic):          1.28e-223\n",
      "Time:                        10:16:15   Log-Likelihood:                -3624.4\n",
      "No. Observations:                1154   AIC:                             7255.\n",
      "Df Residuals:                    1151   BIC:                             7270.\n",
      "Df Model:                           2                                         \n",
      "Covariance Type:            nonrobust                                         \n",
      "===================================================================================================\n",
      "                                      coef    std err          t      P>|t|      [0.025      0.975]\n",
      "---------------------------------------------------------------------------------------------------\n",
      "const                              41.4488      0.741     55.953      0.000      39.995      42.902\n",
      "Schooling                           1.3630      0.096     14.135      0.000       1.174       1.552\n",
      "Income composition of resources    18.1270      1.476     12.284      0.000      15.232      21.022\n",
      "==============================================================================\n",
      "Omnibus:                      118.463   Durbin-Watson:                   2.050\n",
      "Prob(Omnibus):                  0.000   Jarque-Bera (JB):              190.774\n",
      "Skew:                          -0.716   Prob(JB):                     3.75e-42\n",
      "Kurtosis:                       4.384   Cond. No.                         113.\n",
      "==============================================================================\n",
      "\n",
      "Notes:\n",
      "[1] Standard Errors assume that the covariance matrix of the errors is correctly specified.\n"
     ]
    }
   ],
   "source": [
    "# Sumário\n",
    "print(modelo_v2.summary())"
   ]
  },
  {
   "cell_type": "markdown",
   "metadata": {},
   "source": [
    "O R2 aumentou. Fica claro que aumentando o número de variáveis preditoras aumenta a capacidade do modelo de explicar a variável alvo. Vamos incluir mais uma variável preditora."
   ]
  },
  {
   "cell_type": "markdown",
   "metadata": {},
   "source": [
    "### Versão 3 do Modelo com 3 Variáveis Preditoras"
   ]
  },
  {
   "cell_type": "code",
   "execution_count": 39,
   "metadata": {},
   "outputs": [],
   "source": [
    "# Criando o modelo com 3 variáveis, sendo duas com alta correlação positiva e uma com alta correlação negativa\n",
    "# com a variável alvo\n",
    "X_treino_3 = X_treino[['Schooling', 'Income composition of resources', 'Adult Mortality']]"
   ]
  },
  {
   "cell_type": "code",
   "execution_count": 40,
   "metadata": {},
   "outputs": [],
   "source": [
    "# Adicona a constante\n",
    "X_treino_3 = sm.add_constant(X_treino_3)"
   ]
  },
  {
   "cell_type": "code",
   "execution_count": 41,
   "metadata": {},
   "outputs": [],
   "source": [
    "# Cria a terceira versão do modelo\n",
    "modelo_v3 = sm.OLS(y_treino, X_treino_3).fit()"
   ]
  },
  {
   "cell_type": "code",
   "execution_count": 42,
   "metadata": {},
   "outputs": [
    {
     "data": {
      "text/plain": [
       "const                              53.942203\n",
       "Schooling                           1.074392\n",
       "Income composition of resources    12.044169\n",
       "Adult Mortality                    -0.030965\n",
       "dtype: float64"
      ]
     },
     "execution_count": 42,
     "metadata": {},
     "output_type": "execute_result"
    }
   ],
   "source": [
    "# Parâmetros\n",
    "modelo_v3.params"
   ]
  },
  {
   "cell_type": "code",
   "execution_count": 43,
   "metadata": {},
   "outputs": [
    {
     "name": "stdout",
     "output_type": "stream",
     "text": [
      "                            OLS Regression Results                            \n",
      "==============================================================================\n",
      "Dep. Variable:        Life expectancy   R-squared:                       0.738\n",
      "Model:                            OLS   Adj. R-squared:                  0.737\n",
      "Method:                 Least Squares   F-statistic:                     1079.\n",
      "Date:                Fri, 08 Mar 2024   Prob (F-statistic):               0.00\n",
      "Time:                        10:16:55   Log-Likelihood:                -3366.6\n",
      "No. Observations:                1154   AIC:                             6741.\n",
      "Df Residuals:                    1150   BIC:                             6761.\n",
      "Df Model:                           3                                         \n",
      "Covariance Type:            nonrobust                                         \n",
      "===================================================================================================\n",
      "                                      coef    std err          t      P>|t|      [0.025      0.975]\n",
      "---------------------------------------------------------------------------------------------------\n",
      "const                              53.9422      0.769     70.100      0.000      52.432      55.452\n",
      "Schooling                           1.0744      0.078     13.778      0.000       0.921       1.227\n",
      "Income composition of resources    12.0442      1.205      9.998      0.000       9.681      14.408\n",
      "Adult Mortality                    -0.0310      0.001    -25.457      0.000      -0.033      -0.029\n",
      "==============================================================================\n",
      "Omnibus:                      280.906   Durbin-Watson:                   2.014\n",
      "Prob(Omnibus):                  0.000   Jarque-Bera (JB):             1142.898\n",
      "Skew:                          -1.104   Prob(JB):                    6.65e-249\n",
      "Kurtosis:                       7.347   Cond. No.                     1.90e+03\n",
      "==============================================================================\n",
      "\n",
      "Notes:\n",
      "[1] Standard Errors assume that the covariance matrix of the errors is correctly specified.\n",
      "[2] The condition number is large, 1.9e+03. This might indicate that there are\n",
      "strong multicollinearity or other numerical problems.\n"
     ]
    }
   ],
   "source": [
    "# Sumário\n",
    "print(modelo_v3.summary())"
   ]
  },
  {
   "cell_type": "markdown",
   "metadata": {},
   "source": [
    "Atingimos um R-quadrado de `0,72` selecionando manualmente as variáveis altamente correlacionadas. Mas observe que o modelo agora parece ter problema com variáveis preditoras altamente correlacionadas entre si. Isso chama-se multicolinearidade e é um problema em regressão.\n",
    "\n",
    "Antes de usar o RFE para selecionar as variáveis independentes que prevêem com precisão a variável dependente 'Expectativa de vida, vamos padronizar os dados."
   ]
  },
  {
   "cell_type": "code",
   "execution_count": 44,
   "metadata": {},
   "outputs": [],
   "source": [
    "# Criando o modelo com 3 variáveis, sendo duas com alta correlação positiva e uma com alta correlação negativa\n",
    "# com a variável alvo\n",
    "X_treino_4 = X_treino[['Income composition of resources', 'Schooling', 'Adult Mortality']]"
   ]
  },
  {
   "cell_type": "code",
   "execution_count": 45,
   "metadata": {},
   "outputs": [],
   "source": [
    "# Cria o padronizador\n",
    "scaler = StandardScaler()"
   ]
  },
  {
   "cell_type": "code",
   "execution_count": 46,
   "metadata": {},
   "outputs": [],
   "source": [
    "# Treina e aplica o padronizador em dados de treino\n",
    "X_scaled = scaler.fit_transform(X_treino_4)"
   ]
  },
  {
   "cell_type": "code",
   "execution_count": 47,
   "metadata": {},
   "outputs": [],
   "source": [
    "# Adiciona uma constante para o termo de interceptação\n",
    "X_scaled = sm.add_constant(X_scaled)"
   ]
  },
  {
   "cell_type": "code",
   "execution_count": 48,
   "metadata": {},
   "outputs": [],
   "source": [
    "# Treina o modelo com os dados padronizados\n",
    "modelo_v4 = sm.OLS(y_treino, X_scaled).fit()"
   ]
  },
  {
   "cell_type": "code",
   "execution_count": 49,
   "metadata": {},
   "outputs": [
    {
     "name": "stdout",
     "output_type": "stream",
     "text": [
      "                            OLS Regression Results                            \n",
      "==============================================================================\n",
      "Dep. Variable:        Life expectancy   R-squared:                       0.738\n",
      "Model:                            OLS   Adj. R-squared:                  0.737\n",
      "Method:                 Least Squares   F-statistic:                     1079.\n",
      "Date:                Fri, 08 Mar 2024   Prob (F-statistic):               0.00\n",
      "Time:                        10:17:46   Log-Likelihood:                -3366.6\n",
      "No. Observations:                1154   AIC:                             6741.\n",
      "Df Residuals:                    1150   BIC:                             6761.\n",
      "Df Model:                           3                                         \n",
      "Covariance Type:            nonrobust                                         \n",
      "==============================================================================\n",
      "                 coef    std err          t      P>|t|      [0.025      0.975]\n",
      "------------------------------------------------------------------------------\n",
      "const         69.5912      0.132    527.441      0.000      69.332      69.850\n",
      "x1             2.1919      0.219      9.998      0.000       1.762       2.622\n",
      "x2             2.9923      0.217     13.778      0.000       2.566       3.418\n",
      "x3            -3.8154      0.150    -25.457      0.000      -4.109      -3.521\n",
      "==============================================================================\n",
      "Omnibus:                      280.906   Durbin-Watson:                   2.014\n",
      "Prob(Omnibus):                  0.000   Jarque-Bera (JB):             1142.898\n",
      "Skew:                          -1.104   Prob(JB):                    6.65e-249\n",
      "Kurtosis:                       7.347   Cond. No.                         3.19\n",
      "==============================================================================\n",
      "\n",
      "Notes:\n",
      "[1] Standard Errors assume that the covariance matrix of the errors is correctly specified.\n"
     ]
    }
   ],
   "source": [
    "# Imprima a saída do modelo\n",
    "print(modelo_v4.summary())"
   ]
  },
  {
   "cell_type": "markdown",
   "metadata": {},
   "source": [
    "## Abordagem 2 - RFE (Recursive Feature Elimination)\n",
    "\n",
    "Recursive Feature Elimination (RFE) é uma técnica de seleção de recursos em Python que usa um modelo de aprendizado de máquina para selecionar um subconjunto de recursos mais relevantes para um problema específico. A RFE é uma técnica de seleção de recursos baseada em modelo que busca o subconjunto ótimo de recursos para o modelo de aprendizado de máquina.\n",
    "\n",
    "O processo de RFE começa treinando o modelo de aprendizado de máquina com todos os recursos disponíveis. Em seguida, os recursos menos importantes são removidos do conjunto de recursos, e o modelo é treinado novamente com os recursos restantes. Esse processo é repetido até que seja alcançado um número pré-definido de recursos ou até que o desempenho do modelo não melhore mais.\n",
    "\n",
    "A RFE pode ser usada com vários modelos de aprendizado de máquina, como regressão linear, regressão logística, árvores de decisão, entre outros. A RFE usa a precisão do modelo como métrica para selecionar os recursos mais importantes.\n",
    "\n",
    "O Stepwise com RFE (Recursive Feature Elimination) é um método de seleção de características que utiliza tanto uma abordagem de frente para trás quanto uma abordagem de retrocesso. O objetivo é encontrar a combinação de recursos que fornece o melhor desempenho para um modelo de aprendizado de máquina.\n",
    "\n",
    "O processo funciona da seguinte maneira:\n",
    "\n",
    "- Inicialmente, todas as características são incluídas no modelo.\n",
    "- Em seguida, o modelo é treinado e avaliado com base nas características atuais.\n",
    "- O recurso com o menor desempenho é removido.\n",
    "- O processo é repetido, treinando e avaliando o modelo com a combinação de características restantes.\n",
    "- Esse processo é repetido até que todos os recursos tenham sido avaliados e removidos ou até que se atinja uma condição de parada pré-definida, como um número mínimo de características ou uma acurácia mínima do modelo.\n",
    "\n",
    "A Eliminação de Variáveis é feita com Base no Valor-p."
   ]
  },
  {
   "cell_type": "code",
   "execution_count": 50,
   "metadata": {},
   "outputs": [],
   "source": [
    "# Cria o padronizador\n",
    "scaler = StandardScaler()"
   ]
  },
  {
   "cell_type": "code",
   "execution_count": 51,
   "metadata": {},
   "outputs": [],
   "source": [
    "# Padroniza os dados de treino\n",
    "X_treino_scaled = scaler.fit_transform(X_treino)"
   ]
  },
  {
   "cell_type": "code",
   "execution_count": 52,
   "metadata": {},
   "outputs": [],
   "source": [
    "# Cria o modelo de regressão\n",
    "lm = LinearRegression()"
   ]
  },
  {
   "cell_type": "code",
   "execution_count": 53,
   "metadata": {},
   "outputs": [
    {
     "data": {
      "text/html": [
       "<style>#sk-container-id-1 {color: black;}#sk-container-id-1 pre{padding: 0;}#sk-container-id-1 div.sk-toggleable {background-color: white;}#sk-container-id-1 label.sk-toggleable__label {cursor: pointer;display: block;width: 100%;margin-bottom: 0;padding: 0.3em;box-sizing: border-box;text-align: center;}#sk-container-id-1 label.sk-toggleable__label-arrow:before {content: \"▸\";float: left;margin-right: 0.25em;color: #696969;}#sk-container-id-1 label.sk-toggleable__label-arrow:hover:before {color: black;}#sk-container-id-1 div.sk-estimator:hover label.sk-toggleable__label-arrow:before {color: black;}#sk-container-id-1 div.sk-toggleable__content {max-height: 0;max-width: 0;overflow: hidden;text-align: left;background-color: #f0f8ff;}#sk-container-id-1 div.sk-toggleable__content pre {margin: 0.2em;color: black;border-radius: 0.25em;background-color: #f0f8ff;}#sk-container-id-1 input.sk-toggleable__control:checked~div.sk-toggleable__content {max-height: 200px;max-width: 100%;overflow: auto;}#sk-container-id-1 input.sk-toggleable__control:checked~label.sk-toggleable__label-arrow:before {content: \"▾\";}#sk-container-id-1 div.sk-estimator input.sk-toggleable__control:checked~label.sk-toggleable__label {background-color: #d4ebff;}#sk-container-id-1 div.sk-label input.sk-toggleable__control:checked~label.sk-toggleable__label {background-color: #d4ebff;}#sk-container-id-1 input.sk-hidden--visually {border: 0;clip: rect(1px 1px 1px 1px);clip: rect(1px, 1px, 1px, 1px);height: 1px;margin: -1px;overflow: hidden;padding: 0;position: absolute;width: 1px;}#sk-container-id-1 div.sk-estimator {font-family: monospace;background-color: #f0f8ff;border: 1px dotted black;border-radius: 0.25em;box-sizing: border-box;margin-bottom: 0.5em;}#sk-container-id-1 div.sk-estimator:hover {background-color: #d4ebff;}#sk-container-id-1 div.sk-parallel-item::after {content: \"\";width: 100%;border-bottom: 1px solid gray;flex-grow: 1;}#sk-container-id-1 div.sk-label:hover label.sk-toggleable__label {background-color: #d4ebff;}#sk-container-id-1 div.sk-serial::before {content: \"\";position: absolute;border-left: 1px solid gray;box-sizing: border-box;top: 0;bottom: 0;left: 50%;z-index: 0;}#sk-container-id-1 div.sk-serial {display: flex;flex-direction: column;align-items: center;background-color: white;padding-right: 0.2em;padding-left: 0.2em;position: relative;}#sk-container-id-1 div.sk-item {position: relative;z-index: 1;}#sk-container-id-1 div.sk-parallel {display: flex;align-items: stretch;justify-content: center;background-color: white;position: relative;}#sk-container-id-1 div.sk-item::before, #sk-container-id-1 div.sk-parallel-item::before {content: \"\";position: absolute;border-left: 1px solid gray;box-sizing: border-box;top: 0;bottom: 0;left: 50%;z-index: -1;}#sk-container-id-1 div.sk-parallel-item {display: flex;flex-direction: column;z-index: 1;position: relative;background-color: white;}#sk-container-id-1 div.sk-parallel-item:first-child::after {align-self: flex-end;width: 50%;}#sk-container-id-1 div.sk-parallel-item:last-child::after {align-self: flex-start;width: 50%;}#sk-container-id-1 div.sk-parallel-item:only-child::after {width: 0;}#sk-container-id-1 div.sk-dashed-wrapped {border: 1px dashed gray;margin: 0 0.4em 0.5em 0.4em;box-sizing: border-box;padding-bottom: 0.4em;background-color: white;}#sk-container-id-1 div.sk-label label {font-family: monospace;font-weight: bold;display: inline-block;line-height: 1.2em;}#sk-container-id-1 div.sk-label-container {text-align: center;}#sk-container-id-1 div.sk-container {/* jupyter's `normalize.less` sets `[hidden] { display: none; }` but bootstrap.min.css set `[hidden] { display: none !important; }` so we also need the `!important` here to be able to override the default hidden behavior on the sphinx rendered scikit-learn.org. See: https://github.com/scikit-learn/scikit-learn/issues/21755 */display: inline-block !important;position: relative;}#sk-container-id-1 div.sk-text-repr-fallback {display: none;}</style><div id=\"sk-container-id-1\" class=\"sk-top-container\"><div class=\"sk-text-repr-fallback\"><pre>LinearRegression()</pre><b>In a Jupyter environment, please rerun this cell to show the HTML representation or trust the notebook. <br />On GitHub, the HTML representation is unable to render, please try loading this page with nbviewer.org.</b></div><div class=\"sk-container\" hidden><div class=\"sk-item\"><div class=\"sk-estimator sk-toggleable\"><input class=\"sk-toggleable__control sk-hidden--visually\" id=\"sk-estimator-id-1\" type=\"checkbox\" checked><label for=\"sk-estimator-id-1\" class=\"sk-toggleable__label sk-toggleable__label-arrow\">LinearRegression</label><div class=\"sk-toggleable__content\"><pre>LinearRegression()</pre></div></div></div></div></div>"
      ],
      "text/plain": [
       "LinearRegression()"
      ]
     },
     "execution_count": 53,
     "metadata": {},
     "output_type": "execute_result"
    }
   ],
   "source": [
    "# Treino do modelo com todas as variáveis preditoras\n",
    "lm.fit(X_treino_scaled, y_treino)"
   ]
  },
  {
   "cell_type": "code",
   "execution_count": 54,
   "metadata": {},
   "outputs": [],
   "source": [
    "# Cria o modelo RFE\n",
    "rfe = RFE(lm, step = 1)"
   ]
  },
  {
   "cell_type": "code",
   "execution_count": 55,
   "metadata": {},
   "outputs": [],
   "source": [
    "# Treina o modelo RFE\n",
    "rfe = rfe.fit(X_treino, y_treino)"
   ]
  },
  {
   "cell_type": "code",
   "execution_count": 56,
   "metadata": {},
   "outputs": [
    {
     "data": {
      "text/plain": [
       "[('Year', True, 1),\n",
       " ('Status', True, 1),\n",
       " ('Adult Mortality', False, 4),\n",
       " ('infant deaths', True, 1),\n",
       " ('Alcohol', True, 1),\n",
       " ('percentage expenditure', False, 8),\n",
       " ('Hepatitis B', False, 7),\n",
       " ('Measles', False, 9),\n",
       " ('BMI', False, 2),\n",
       " ('under-five deaths', True, 1),\n",
       " ('Polio', False, 5),\n",
       " ('Total expenditure', True, 1),\n",
       " ('Diphtheria', False, 6),\n",
       " ('HIV/AIDS', True, 1),\n",
       " ('GDP', False, 10),\n",
       " ('Population', False, 11),\n",
       " ('thinness  1-19 years', False, 3),\n",
       " ('thinness 5-9 years', True, 1),\n",
       " ('Income composition of resources', True, 1),\n",
       " ('Schooling', True, 1)]"
      ]
     },
     "execution_count": 56,
     "metadata": {},
     "output_type": "execute_result"
    }
   ],
   "source": [
    "list(zip(X_treino.columns, rfe.support_, rfe.ranking_))"
   ]
  },
  {
   "cell_type": "code",
   "execution_count": 57,
   "metadata": {},
   "outputs": [],
   "source": [
    "# Selecionando os recursos importantes (usando a métrica suporte)\n",
    "imp_columns = X_treino.columns[rfe.support_]"
   ]
  },
  {
   "cell_type": "code",
   "execution_count": 58,
   "metadata": {},
   "outputs": [
    {
     "data": {
      "text/plain": [
       "Index(['Year', 'Status', 'infant deaths', 'Alcohol', 'under-five deaths',\n",
       "       'Total expenditure', 'HIV/AIDS', 'thinness 5-9 years',\n",
       "       'Income composition of resources', 'Schooling'],\n",
       "      dtype='object')"
      ]
     },
     "execution_count": 58,
     "metadata": {},
     "output_type": "execute_result"
    }
   ],
   "source": [
    "imp_columns"
   ]
  },
  {
   "cell_type": "code",
   "execution_count": 59,
   "metadata": {},
   "outputs": [],
   "source": [
    "# Criando dataframe X_treino_rfe com variáveis RFE selecionadas\n",
    "X_treino_rfe = X_treino[imp_columns]"
   ]
  },
  {
   "cell_type": "code",
   "execution_count": 60,
   "metadata": {},
   "outputs": [
    {
     "data": {
      "text/html": [
       "<div>\n",
       "<style scoped>\n",
       "    .dataframe tbody tr th:only-of-type {\n",
       "        vertical-align: middle;\n",
       "    }\n",
       "\n",
       "    .dataframe tbody tr th {\n",
       "        vertical-align: top;\n",
       "    }\n",
       "\n",
       "    .dataframe thead th {\n",
       "        text-align: right;\n",
       "    }\n",
       "</style>\n",
       "<table border=\"1\" class=\"dataframe\">\n",
       "  <thead>\n",
       "    <tr style=\"text-align: right;\">\n",
       "      <th></th>\n",
       "      <th>Year</th>\n",
       "      <th>Status</th>\n",
       "      <th>infant deaths</th>\n",
       "      <th>Alcohol</th>\n",
       "      <th>under-five deaths</th>\n",
       "      <th>Total expenditure</th>\n",
       "      <th>HIV/AIDS</th>\n",
       "      <th>thinness 5-9 years</th>\n",
       "      <th>Income composition of resources</th>\n",
       "      <th>Schooling</th>\n",
       "    </tr>\n",
       "  </thead>\n",
       "  <tbody>\n",
       "    <tr>\n",
       "      <th>1652</th>\n",
       "      <td>2014</td>\n",
       "      <td>1</td>\n",
       "      <td>8</td>\n",
       "      <td>0.01</td>\n",
       "      <td>12</td>\n",
       "      <td>3.77</td>\n",
       "      <td>0.9</td>\n",
       "      <td>7.7</td>\n",
       "      <td>0.509</td>\n",
       "      <td>8.5</td>\n",
       "    </tr>\n",
       "    <tr>\n",
       "      <th>2491</th>\n",
       "      <td>2013</td>\n",
       "      <td>1</td>\n",
       "      <td>2</td>\n",
       "      <td>0.01</td>\n",
       "      <td>3</td>\n",
       "      <td>9.66</td>\n",
       "      <td>9.8</td>\n",
       "      <td>4.6</td>\n",
       "      <td>0.539</td>\n",
       "      <td>11.4</td>\n",
       "    </tr>\n",
       "    <tr>\n",
       "      <th>300</th>\n",
       "      <td>2003</td>\n",
       "      <td>1</td>\n",
       "      <td>1</td>\n",
       "      <td>0.52</td>\n",
       "      <td>1</td>\n",
       "      <td>4.90</td>\n",
       "      <td>0.2</td>\n",
       "      <td>19.1</td>\n",
       "      <td>0.000</td>\n",
       "      <td>8.4</td>\n",
       "    </tr>\n",
       "    <tr>\n",
       "      <th>855</th>\n",
       "      <td>2010</td>\n",
       "      <td>1</td>\n",
       "      <td>6</td>\n",
       "      <td>0.61</td>\n",
       "      <td>9</td>\n",
       "      <td>3.24</td>\n",
       "      <td>0.9</td>\n",
       "      <td>8.8</td>\n",
       "      <td>0.404</td>\n",
       "      <td>5.1</td>\n",
       "    </tr>\n",
       "    <tr>\n",
       "      <th>1388</th>\n",
       "      <td>2005</td>\n",
       "      <td>1</td>\n",
       "      <td>0</td>\n",
       "      <td>0.60</td>\n",
       "      <td>0</td>\n",
       "      <td>1.60</td>\n",
       "      <td>0.1</td>\n",
       "      <td>0.2</td>\n",
       "      <td>0.000</td>\n",
       "      <td>12.2</td>\n",
       "    </tr>\n",
       "    <tr>\n",
       "      <th>...</th>\n",
       "      <td>...</td>\n",
       "      <td>...</td>\n",
       "      <td>...</td>\n",
       "      <td>...</td>\n",
       "      <td>...</td>\n",
       "      <td>...</td>\n",
       "      <td>...</td>\n",
       "      <td>...</td>\n",
       "      <td>...</td>\n",
       "      <td>...</td>\n",
       "    </tr>\n",
       "    <tr>\n",
       "      <th>2067</th>\n",
       "      <td>2003</td>\n",
       "      <td>0</td>\n",
       "      <td>0</td>\n",
       "      <td>14.21</td>\n",
       "      <td>1</td>\n",
       "      <td>9.54</td>\n",
       "      <td>0.1</td>\n",
       "      <td>0.6</td>\n",
       "      <td>0.789</td>\n",
       "      <td>15.8</td>\n",
       "    </tr>\n",
       "    <tr>\n",
       "      <th>1816</th>\n",
       "      <td>2012</td>\n",
       "      <td>1</td>\n",
       "      <td>20</td>\n",
       "      <td>0.26</td>\n",
       "      <td>25</td>\n",
       "      <td>5.89</td>\n",
       "      <td>0.2</td>\n",
       "      <td>16.7</td>\n",
       "      <td>0.538</td>\n",
       "      <td>12.3</td>\n",
       "    </tr>\n",
       "    <tr>\n",
       "      <th>2272</th>\n",
       "      <td>2008</td>\n",
       "      <td>1</td>\n",
       "      <td>1</td>\n",
       "      <td>9.54</td>\n",
       "      <td>1</td>\n",
       "      <td>1.50</td>\n",
       "      <td>0.1</td>\n",
       "      <td>2.4</td>\n",
       "      <td>0.749</td>\n",
       "      <td>13.5</td>\n",
       "    </tr>\n",
       "    <tr>\n",
       "      <th>1285</th>\n",
       "      <td>2012</td>\n",
       "      <td>0</td>\n",
       "      <td>2</td>\n",
       "      <td>7.49</td>\n",
       "      <td>2</td>\n",
       "      <td>9.28</td>\n",
       "      <td>0.1</td>\n",
       "      <td>0.6</td>\n",
       "      <td>0.877</td>\n",
       "      <td>16.6</td>\n",
       "    </tr>\n",
       "    <tr>\n",
       "      <th>1452</th>\n",
       "      <td>2005</td>\n",
       "      <td>0</td>\n",
       "      <td>0</td>\n",
       "      <td>9.92</td>\n",
       "      <td>0</td>\n",
       "      <td>6.37</td>\n",
       "      <td>0.1</td>\n",
       "      <td>2.5</td>\n",
       "      <td>0.791</td>\n",
       "      <td>15.9</td>\n",
       "    </tr>\n",
       "  </tbody>\n",
       "</table>\n",
       "<p>1154 rows × 10 columns</p>\n",
       "</div>"
      ],
      "text/plain": [
       "      Year  Status  infant deaths  Alcohol  under-five deaths  \\\n",
       "1652  2014       1              8     0.01                 12   \n",
       "2491  2013       1              2     0.01                  3   \n",
       "300   2003       1              1     0.52                  1   \n",
       "855   2010       1              6     0.61                  9   \n",
       "1388  2005       1              0     0.60                  0   \n",
       "...    ...     ...            ...      ...                ...   \n",
       "2067  2003       0              0    14.21                  1   \n",
       "1816  2012       1             20     0.26                 25   \n",
       "2272  2008       1              1     9.54                  1   \n",
       "1285  2012       0              2     7.49                  2   \n",
       "1452  2005       0              0     9.92                  0   \n",
       "\n",
       "      Total expenditure  HIV/AIDS  thinness 5-9 years  \\\n",
       "1652               3.77       0.9                 7.7   \n",
       "2491               9.66       9.8                 4.6   \n",
       "300                4.90       0.2                19.1   \n",
       "855                3.24       0.9                 8.8   \n",
       "1388               1.60       0.1                 0.2   \n",
       "...                 ...       ...                 ...   \n",
       "2067               9.54       0.1                 0.6   \n",
       "1816               5.89       0.2                16.7   \n",
       "2272               1.50       0.1                 2.4   \n",
       "1285               9.28       0.1                 0.6   \n",
       "1452               6.37       0.1                 2.5   \n",
       "\n",
       "      Income composition of resources  Schooling  \n",
       "1652                            0.509        8.5  \n",
       "2491                            0.539       11.4  \n",
       "300                             0.000        8.4  \n",
       "855                             0.404        5.1  \n",
       "1388                            0.000       12.2  \n",
       "...                               ...        ...  \n",
       "2067                            0.789       15.8  \n",
       "1816                            0.538       12.3  \n",
       "2272                            0.749       13.5  \n",
       "1285                            0.877       16.6  \n",
       "1452                            0.791       15.9  \n",
       "\n",
       "[1154 rows x 10 columns]"
      ]
     },
     "execution_count": 60,
     "metadata": {},
     "output_type": "execute_result"
    }
   ],
   "source": [
    "X_treino_rfe"
   ]
  },
  {
   "cell_type": "markdown",
   "metadata": {},
   "source": [
    "## Abordagem 3 - Stepwise com RFE e VIF "
   ]
  },
  {
   "cell_type": "markdown",
   "metadata": {},
   "source": [
    "Com as colunas selecionadas pelo RFE, avaliaremos manualmente o valor-p e o valor VIF de cada modelo.\n",
    "A menos que encontremos o intervalo aceitável para valores-p e VIF, continuamos eliminando as variáveis uma de cada vez com base nos critérios abaixo.\n",
    "\n",
    "- Valor-p alto e VIF alto: Elimina a variável\n",
    "- Valor-p alto e VIF baixo: Elimina primeiro a variável com valor-p alto\n",
    "- Valor-p baixo e VIF baixo: Aceita a variável"
   ]
  },
  {
   "cell_type": "markdown",
   "metadata": {},
   "source": [
    "Variance Inflation Factor ou VIF, dá uma ideia quantitativa básica sobre o quanto as variáveis de recurso estão correlacionadas umas com as outras. É um parâmetro extremamente importante para testar nosso modelo linear. A fórmula para calcular `VIF` é:\n",
    "\n",
    "### $ VIF_i = \\frac{1}{1 - {R_i}^2} $\n",
    "\n",
    "O Variance Inflation Factor (VIF) é uma medida utilizada para avaliar a colinearidade entre as variáveis independentes em um modelo de regressão linear. O VIF é calculado para cada variável independente e quantifica o quanto o aumento na variância de uma variável independente é inflado devido à presença de correlação com outras variáveis independentes no modelo.\n",
    "\n",
    "A interpretação do VIF é a seguinte:\n",
    "\n",
    "- Quando o VIF é igual a 1, não há colinearidade entre a variável independente em questão e as outras variáveis independentes no modelo.\n",
    "\n",
    "\n",
    "- Um VIF entre 1 e 5 indica uma colinearidade moderada entre as variáveis independentes e pode ser aceitável.\n",
    "\n",
    "\n",
    "- Um VIF maior que 5 indica uma forte colinearidade e pode ser um sinal de problemas com a interpretação do modelo. Nesse caso, considera-se remover uma das variáveis altamente correlacionadas."
   ]
  },
  {
   "cell_type": "code",
   "execution_count": 61,
   "metadata": {},
   "outputs": [],
   "source": [
    "# Padronizador\n",
    "scaler = StandardScaler()"
   ]
  },
  {
   "cell_type": "code",
   "execution_count": 62,
   "metadata": {},
   "outputs": [],
   "source": [
    "# Aplica o padronizador\n",
    "X_treino_rfe_scaled = scaler.fit_transform(X_treino_rfe)"
   ]
  },
  {
   "cell_type": "code",
   "execution_count": 63,
   "metadata": {},
   "outputs": [],
   "source": [
    "# Adiciona a constante\n",
    "X_treino_rfec = sm.add_constant(X_treino_rfe_scaled)"
   ]
  },
  {
   "cell_type": "code",
   "execution_count": 64,
   "metadata": {},
   "outputs": [],
   "source": [
    "# Cria o modelo com os atributos RFE\n",
    "lm_ref = sm.OLS(y_treino, X_treino_rfec).fit()"
   ]
  },
  {
   "cell_type": "code",
   "execution_count": 65,
   "metadata": {},
   "outputs": [
    {
     "name": "stdout",
     "output_type": "stream",
     "text": [
      "                            OLS Regression Results                            \n",
      "==============================================================================\n",
      "Dep. Variable:        Life expectancy   R-squared:                       0.791\n",
      "Model:                            OLS   Adj. R-squared:                  0.789\n",
      "Method:                 Least Squares   F-statistic:                     432.4\n",
      "Date:                Fri, 08 Mar 2024   Prob (F-statistic):               0.00\n",
      "Time:                        10:20:40   Log-Likelihood:                -3236.0\n",
      "No. Observations:                1154   AIC:                             6494.\n",
      "Df Residuals:                    1143   BIC:                             6550.\n",
      "Df Model:                          10                                         \n",
      "Covariance Type:            nonrobust                                         \n",
      "==============================================================================\n",
      "                 coef    std err          t      P>|t|      [0.025      0.975]\n",
      "------------------------------------------------------------------------------\n",
      "const         69.5912      0.118    588.831      0.000      69.359      69.823\n",
      "x1            -0.6318      0.124     -5.097      0.000      -0.875      -0.389\n",
      "x2            -0.6021      0.154     -3.921      0.000      -0.903      -0.301\n",
      "x3            13.8601      1.669      8.307      0.000      10.586      17.134\n",
      "x4            -0.6228      0.180     -3.456      0.001      -0.976      -0.269\n",
      "x5           -13.9610      1.672     -8.348      0.000     -17.242     -10.680\n",
      "x6             0.4283      0.124      3.459      0.001       0.185       0.671\n",
      "x7            -3.5824      0.126    -28.333      0.000      -3.830      -3.334\n",
      "x8            -0.7203      0.151     -4.769      0.000      -1.017      -0.424\n",
      "x9             2.3561      0.202     11.644      0.000       1.959       2.753\n",
      "x10            3.2531      0.214     15.174      0.000       2.832       3.674\n",
      "==============================================================================\n",
      "Omnibus:                       10.246   Durbin-Watson:                   2.027\n",
      "Prob(Omnibus):                  0.006   Jarque-Bera (JB):               15.012\n",
      "Skew:                           0.001   Prob(JB):                     0.000550\n",
      "Kurtosis:                       3.559   Cond. No.                         37.5\n",
      "==============================================================================\n",
      "\n",
      "Notes:\n",
      "[1] Standard Errors assume that the covariance matrix of the errors is correctly specified.\n"
     ]
    }
   ],
   "source": [
    "# Sumário\n",
    "print(lm_ref.summary())"
   ]
  },
  {
   "cell_type": "code",
   "execution_count": 66,
   "metadata": {},
   "outputs": [
    {
     "data": {
      "text/html": [
       "<div>\n",
       "<style scoped>\n",
       "    .dataframe tbody tr th:only-of-type {\n",
       "        vertical-align: middle;\n",
       "    }\n",
       "\n",
       "    .dataframe tbody tr th {\n",
       "        vertical-align: top;\n",
       "    }\n",
       "\n",
       "    .dataframe thead th {\n",
       "        text-align: right;\n",
       "    }\n",
       "</style>\n",
       "<table border=\"1\" class=\"dataframe\">\n",
       "  <thead>\n",
       "    <tr style=\"text-align: right;\">\n",
       "      <th></th>\n",
       "      <th>Features</th>\n",
       "      <th>VIF</th>\n",
       "    </tr>\n",
       "  </thead>\n",
       "  <tbody>\n",
       "    <tr>\n",
       "      <th>4</th>\n",
       "      <td>under-five deaths</td>\n",
       "      <td>211.08</td>\n",
       "    </tr>\n",
       "    <tr>\n",
       "      <th>2</th>\n",
       "      <td>infant deaths</td>\n",
       "      <td>209.83</td>\n",
       "    </tr>\n",
       "    <tr>\n",
       "      <th>0</th>\n",
       "      <td>Year</td>\n",
       "      <td>67.33</td>\n",
       "    </tr>\n",
       "    <tr>\n",
       "      <th>9</th>\n",
       "      <td>Schooling</td>\n",
       "      <td>66.06</td>\n",
       "    </tr>\n",
       "    <tr>\n",
       "      <th>8</th>\n",
       "      <td>Income composition of resources</td>\n",
       "      <td>38.09</td>\n",
       "    </tr>\n",
       "    <tr>\n",
       "      <th>1</th>\n",
       "      <td>Status</td>\n",
       "      <td>11.32</td>\n",
       "    </tr>\n",
       "    <tr>\n",
       "      <th>5</th>\n",
       "      <td>Total expenditure</td>\n",
       "      <td>8.52</td>\n",
       "    </tr>\n",
       "    <tr>\n",
       "      <th>3</th>\n",
       "      <td>Alcohol</td>\n",
       "      <td>5.06</td>\n",
       "    </tr>\n",
       "    <tr>\n",
       "      <th>7</th>\n",
       "      <td>thinness 5-9 years</td>\n",
       "      <td>3.47</td>\n",
       "    </tr>\n",
       "    <tr>\n",
       "      <th>6</th>\n",
       "      <td>HIV/AIDS</td>\n",
       "      <td>1.26</td>\n",
       "    </tr>\n",
       "  </tbody>\n",
       "</table>\n",
       "</div>"
      ],
      "text/plain": [
       "                          Features     VIF\n",
       "4                under-five deaths  211.08\n",
       "2                    infant deaths  209.83\n",
       "0                             Year   67.33\n",
       "9                        Schooling   66.06\n",
       "8  Income composition of resources   38.09\n",
       "1                           Status   11.32\n",
       "5                Total expenditure    8.52\n",
       "3                          Alcohol    5.06\n",
       "7               thinness 5-9 years    3.47\n",
       "6                         HIV/AIDS    1.26"
      ]
     },
     "execution_count": 66,
     "metadata": {},
     "output_type": "execute_result"
    }
   ],
   "source": [
    "# Cria o dataframe com variáveis e VIF\n",
    "vif = pd.DataFrame()\n",
    "vif['Features'] = X_treino_rfe.columns\n",
    "vif['VIF'] = [variance_inflation_factor(X_treino_rfe.values, i) for i in range(X_treino_rfe.shape[1])]\n",
    "vif['VIF'] = round(vif['VIF'], 2)\n",
    "vif = vif.sort_values(by = 'VIF', ascending = False)\n",
    "vif"
   ]
  },
  {
   "cell_type": "code",
   "execution_count": 68,
   "metadata": {},
   "outputs": [],
   "source": [
    "# Drop da variável menos relevante\n",
    "X_treino_rfe1 = X_treino_rfe.drop(columns=['under-five deaths'])"
   ]
  },
  {
   "cell_type": "code",
   "execution_count": 69,
   "metadata": {},
   "outputs": [],
   "source": [
    "X_treino_rfe1_scaled = scaler.fit_transform(X_treino_rfe1)"
   ]
  },
  {
   "cell_type": "code",
   "execution_count": 70,
   "metadata": {},
   "outputs": [],
   "source": [
    "X_treino_rfe1c = sm.add_constant(X_treino_rfe1_scaled)"
   ]
  },
  {
   "cell_type": "code",
   "execution_count": 71,
   "metadata": {},
   "outputs": [],
   "source": [
    "lm_ref1 = sm.OLS(y_treino, X_treino_rfe1c).fit()"
   ]
  },
  {
   "cell_type": "code",
   "execution_count": 72,
   "metadata": {},
   "outputs": [
    {
     "name": "stdout",
     "output_type": "stream",
     "text": [
      "                            OLS Regression Results                            \n",
      "==============================================================================\n",
      "Dep. Variable:        Life expectancy   R-squared:                       0.778\n",
      "Model:                            OLS   Adj. R-squared:                  0.776\n",
      "Method:                 Least Squares   F-statistic:                     445.9\n",
      "Date:                Fri, 08 Mar 2024   Prob (F-statistic):               0.00\n",
      "Time:                        10:22:46   Log-Likelihood:                -3270.1\n",
      "No. Observations:                1154   AIC:                             6560.\n",
      "Df Residuals:                    1144   BIC:                             6611.\n",
      "Df Model:                           9                                         \n",
      "Covariance Type:            nonrobust                                         \n",
      "==============================================================================\n",
      "                 coef    std err          t      P>|t|      [0.025      0.975]\n",
      "------------------------------------------------------------------------------\n",
      "const         69.5912      0.122    571.911      0.000      69.353      69.830\n",
      "x1            -0.7553      0.127     -5.961      0.000      -1.004      -0.507\n",
      "x2            -0.5778      0.158     -3.656      0.000      -0.888      -0.268\n",
      "x3            -0.0247      0.137     -0.180      0.857      -0.294       0.245\n",
      "x4            -0.8825      0.183     -4.829      0.000      -1.241      -0.524\n",
      "x5             0.3992      0.127      3.132      0.002       0.149       0.649\n",
      "x6            -3.6650      0.130    -28.240      0.000      -3.920      -3.410\n",
      "x7            -0.7170      0.155     -4.611      0.000      -1.022      -0.412\n",
      "x8             2.5437      0.207     12.286      0.000       2.137       2.950\n",
      "x9             3.4885      0.219     15.944      0.000       3.059       3.918\n",
      "==============================================================================\n",
      "Omnibus:                        7.853   Durbin-Watson:                   2.049\n",
      "Prob(Omnibus):                  0.020   Jarque-Bera (JB):               10.614\n",
      "Skew:                          -0.022   Prob(JB):                      0.00496\n",
      "Kurtosis:                       3.468   Cond. No.                         4.08\n",
      "==============================================================================\n",
      "\n",
      "Notes:\n",
      "[1] Standard Errors assume that the covariance matrix of the errors is correctly specified.\n"
     ]
    }
   ],
   "source": [
    "# Sumário\n",
    "print(lm_ref1.summary())"
   ]
  },
  {
   "cell_type": "code",
   "execution_count": 73,
   "metadata": {},
   "outputs": [
    {
     "data": {
      "text/html": [
       "<div>\n",
       "<style scoped>\n",
       "    .dataframe tbody tr th:only-of-type {\n",
       "        vertical-align: middle;\n",
       "    }\n",
       "\n",
       "    .dataframe tbody tr th {\n",
       "        vertical-align: top;\n",
       "    }\n",
       "\n",
       "    .dataframe thead th {\n",
       "        text-align: right;\n",
       "    }\n",
       "</style>\n",
       "<table border=\"1\" class=\"dataframe\">\n",
       "  <thead>\n",
       "    <tr style=\"text-align: right;\">\n",
       "      <th></th>\n",
       "      <th>Features</th>\n",
       "      <th>VIF</th>\n",
       "    </tr>\n",
       "  </thead>\n",
       "  <tbody>\n",
       "    <tr>\n",
       "      <th>0</th>\n",
       "      <td>Year</td>\n",
       "      <td>65.61</td>\n",
       "    </tr>\n",
       "    <tr>\n",
       "      <th>8</th>\n",
       "      <td>Schooling</td>\n",
       "      <td>65.03</td>\n",
       "    </tr>\n",
       "    <tr>\n",
       "      <th>7</th>\n",
       "      <td>Income composition of resources</td>\n",
       "      <td>37.72</td>\n",
       "    </tr>\n",
       "    <tr>\n",
       "      <th>1</th>\n",
       "      <td>Status</td>\n",
       "      <td>11.32</td>\n",
       "    </tr>\n",
       "    <tr>\n",
       "      <th>4</th>\n",
       "      <td>Total expenditure</td>\n",
       "      <td>8.51</td>\n",
       "    </tr>\n",
       "    <tr>\n",
       "      <th>3</th>\n",
       "      <td>Alcohol</td>\n",
       "      <td>4.94</td>\n",
       "    </tr>\n",
       "    <tr>\n",
       "      <th>6</th>\n",
       "      <td>thinness 5-9 years</td>\n",
       "      <td>3.47</td>\n",
       "    </tr>\n",
       "    <tr>\n",
       "      <th>2</th>\n",
       "      <td>infant deaths</td>\n",
       "      <td>1.36</td>\n",
       "    </tr>\n",
       "    <tr>\n",
       "      <th>5</th>\n",
       "      <td>HIV/AIDS</td>\n",
       "      <td>1.25</td>\n",
       "    </tr>\n",
       "  </tbody>\n",
       "</table>\n",
       "</div>"
      ],
      "text/plain": [
       "                          Features    VIF\n",
       "0                             Year  65.61\n",
       "8                        Schooling  65.03\n",
       "7  Income composition of resources  37.72\n",
       "1                           Status  11.32\n",
       "4                Total expenditure   8.51\n",
       "3                          Alcohol   4.94\n",
       "6               thinness 5-9 years   3.47\n",
       "2                    infant deaths   1.36\n",
       "5                         HIV/AIDS   1.25"
      ]
     },
     "execution_count": 73,
     "metadata": {},
     "output_type": "execute_result"
    }
   ],
   "source": [
    "# Na tabela VIF\n",
    "vif = pd.DataFrame()\n",
    "vif['Features'] = X_treino_rfe1.columns\n",
    "vif['VIF'] = [variance_inflation_factor(X_treino_rfe1.values, i) for i in range(X_treino_rfe1.shape[1])]\n",
    "vif['VIF'] = round(vif['VIF'], 2)\n",
    "vif = vif.sort_values(by = \"VIF\", ascending = False)\n",
    "vif"
   ]
  },
  {
   "cell_type": "code",
   "execution_count": 74,
   "metadata": {},
   "outputs": [],
   "source": [
    "# Drop da variável menos relevante\n",
    "X_treino_rfe2 = X_treino_rfe1.drop(columns=['Year','Schooling'])"
   ]
  },
  {
   "cell_type": "code",
   "execution_count": 75,
   "metadata": {},
   "outputs": [],
   "source": [
    "X_treino_rfe2_scaled = scaler.fit_transform(X_treino_rfe2)"
   ]
  },
  {
   "cell_type": "code",
   "execution_count": 76,
   "metadata": {},
   "outputs": [],
   "source": [
    "X_treino_rfe2c = sm.add_constant(X_treino_rfe2_scaled)"
   ]
  },
  {
   "cell_type": "code",
   "execution_count": 77,
   "metadata": {},
   "outputs": [],
   "source": [
    "lm_rfe2 = sm.OLS(y_treino, X_treino_rfe2c).fit()"
   ]
  },
  {
   "cell_type": "code",
   "execution_count": 78,
   "metadata": {},
   "outputs": [
    {
     "name": "stdout",
     "output_type": "stream",
     "text": [
      "                            OLS Regression Results                            \n",
      "==============================================================================\n",
      "Dep. Variable:        Life expectancy   R-squared:                       0.724\n",
      "Model:                            OLS   Adj. R-squared:                  0.722\n",
      "Method:                 Least Squares   F-statistic:                     429.7\n",
      "Date:                Fri, 08 Mar 2024   Prob (F-statistic):          3.64e-315\n",
      "Time:                        10:23:59   Log-Likelihood:                -3396.0\n",
      "No. Observations:                1154   AIC:                             6808.\n",
      "Df Residuals:                    1146   BIC:                             6848.\n",
      "Df Model:                           7                                         \n",
      "Covariance Type:            nonrobust                                         \n",
      "==============================================================================\n",
      "                 coef    std err          t      P>|t|      [0.025      0.975]\n",
      "------------------------------------------------------------------------------\n",
      "const         69.5912      0.136    513.279      0.000      69.325      69.857\n",
      "x1            -0.8715      0.175     -4.984      0.000      -1.215      -0.528\n",
      "x2            -0.2615      0.152     -1.720      0.086      -0.560       0.037\n",
      "x3             0.0417      0.193      0.216      0.829      -0.337       0.421\n",
      "x4             0.4867      0.141      3.449      0.001       0.210       0.764\n",
      "x5            -3.7649      0.144    -26.166      0.000      -4.047      -3.483\n",
      "x6            -0.9359      0.173     -5.423      0.000      -1.274      -0.597\n",
      "x7             4.3781      0.181     24.251      0.000       4.024       4.732\n",
      "==============================================================================\n",
      "Omnibus:                       86.725   Durbin-Watson:                   2.039\n",
      "Prob(Omnibus):                  0.000   Jarque-Bera (JB):              233.004\n",
      "Skew:                           0.394   Prob(JB):                     2.53e-51\n",
      "Kurtosis:                       5.056   Cond. No.                         2.82\n",
      "==============================================================================\n",
      "\n",
      "Notes:\n",
      "[1] Standard Errors assume that the covariance matrix of the errors is correctly specified.\n"
     ]
    }
   ],
   "source": [
    "# Sumário\n",
    "print(lm_rfe2.summary())"
   ]
  },
  {
   "cell_type": "code",
   "execution_count": 79,
   "metadata": {},
   "outputs": [
    {
     "data": {
      "text/html": [
       "<div>\n",
       "<style scoped>\n",
       "    .dataframe tbody tr th:only-of-type {\n",
       "        vertical-align: middle;\n",
       "    }\n",
       "\n",
       "    .dataframe tbody tr th {\n",
       "        vertical-align: top;\n",
       "    }\n",
       "\n",
       "    .dataframe thead th {\n",
       "        text-align: right;\n",
       "    }\n",
       "</style>\n",
       "<table border=\"1\" class=\"dataframe\">\n",
       "  <thead>\n",
       "    <tr style=\"text-align: right;\">\n",
       "      <th></th>\n",
       "      <th>Features</th>\n",
       "      <th>VIF</th>\n",
       "    </tr>\n",
       "  </thead>\n",
       "  <tbody>\n",
       "    <tr>\n",
       "      <th>6</th>\n",
       "      <td>Income composition of resources</td>\n",
       "      <td>13.28</td>\n",
       "    </tr>\n",
       "    <tr>\n",
       "      <th>3</th>\n",
       "      <td>Total expenditure</td>\n",
       "      <td>7.41</td>\n",
       "    </tr>\n",
       "    <tr>\n",
       "      <th>0</th>\n",
       "      <td>Status</td>\n",
       "      <td>6.62</td>\n",
       "    </tr>\n",
       "    <tr>\n",
       "      <th>2</th>\n",
       "      <td>Alcohol</td>\n",
       "      <td>4.45</td>\n",
       "    </tr>\n",
       "    <tr>\n",
       "      <th>5</th>\n",
       "      <td>thinness 5-9 years</td>\n",
       "      <td>2.93</td>\n",
       "    </tr>\n",
       "    <tr>\n",
       "      <th>1</th>\n",
       "      <td>infant deaths</td>\n",
       "      <td>1.34</td>\n",
       "    </tr>\n",
       "    <tr>\n",
       "      <th>4</th>\n",
       "      <td>HIV/AIDS</td>\n",
       "      <td>1.24</td>\n",
       "    </tr>\n",
       "  </tbody>\n",
       "</table>\n",
       "</div>"
      ],
      "text/plain": [
       "                          Features    VIF\n",
       "6  Income composition of resources  13.28\n",
       "3                Total expenditure   7.41\n",
       "0                           Status   6.62\n",
       "2                          Alcohol   4.45\n",
       "5               thinness 5-9 years   2.93\n",
       "1                    infant deaths   1.34\n",
       "4                         HIV/AIDS   1.24"
      ]
     },
     "execution_count": 79,
     "metadata": {},
     "output_type": "execute_result"
    }
   ],
   "source": [
    "# Dataframe\n",
    "vif = pd.DataFrame()\n",
    "vif['Features'] = X_treino_rfe2.columns\n",
    "vif['VIF'] = [variance_inflation_factor(X_treino_rfe2.values, i) for i in range(X_treino_rfe2.shape[1])]\n",
    "vif['VIF'] = round(vif['VIF'], 2)\n",
    "vif = vif.sort_values(by = 'VIF', ascending = False)\n",
    "vif"
   ]
  },
  {
   "cell_type": "code",
   "execution_count": 80,
   "metadata": {},
   "outputs": [],
   "source": [
    "# Drop da variável menos relevante\n",
    "X_treino_rfe3 = X_treino_rfe2.drop(columns=['Income composition of resources'])"
   ]
  },
  {
   "cell_type": "code",
   "execution_count": 81,
   "metadata": {},
   "outputs": [],
   "source": [
    "X_treino_rfe3_scaled = scaler.fit_transform(X_treino_rfe3)"
   ]
  },
  {
   "cell_type": "code",
   "execution_count": 82,
   "metadata": {},
   "outputs": [],
   "source": [
    "X_treino_rfe3c = sm.add_constant(X_treino_rfe3_scaled)"
   ]
  },
  {
   "cell_type": "code",
   "execution_count": 83,
   "metadata": {},
   "outputs": [],
   "source": [
    "lm_rfe3 = sm.OLS(y_treino, X_treino_rfe3_scaled).fit()"
   ]
  },
  {
   "cell_type": "code",
   "execution_count": 84,
   "metadata": {},
   "outputs": [
    {
     "name": "stdout",
     "output_type": "stream",
     "text": [
      "                                 OLS Regression Results                                \n",
      "=======================================================================================\n",
      "Dep. Variable:        Life expectancy   R-squared (uncentered):                   0.009\n",
      "Model:                            OLS   Adj. R-squared (uncentered):              0.004\n",
      "Method:                 Least Squares   F-statistic:                              1.746\n",
      "Date:                Fri, 08 Mar 2024   Prob (F-statistic):                       0.107\n",
      "Time:                        10:33:08   Log-Likelihood:                         -6537.2\n",
      "No. Observations:                1154   AIC:                                  1.309e+04\n",
      "Df Residuals:                    1148   BIC:                                  1.312e+04\n",
      "Df Model:                           6                                                  \n",
      "Covariance Type:            nonrobust                                                  \n",
      "==============================================================================\n",
      "                 coef    std err          t      P>|t|      [0.025      0.975]\n",
      "------------------------------------------------------------------------------\n",
      "x1            -1.3716      2.639     -0.520      0.603      -6.550       3.807\n",
      "x2            -0.0931      2.309     -0.040      0.968      -4.624       4.438\n",
      "x3             1.7706      2.727      0.649      0.516      -3.581       7.122\n",
      "x4             0.7841      2.137      0.367      0.714      -3.409       4.977\n",
      "x5            -4.5540      2.130     -2.138      0.033      -8.734      -0.374\n",
      "x6            -1.9570      2.544     -0.769      0.442      -6.948       3.034\n",
      "==============================================================================\n",
      "Omnibus:                       41.903   Durbin-Watson:                   0.013\n",
      "Prob(Omnibus):                  0.000   Jarque-Bera (JB):               47.862\n",
      "Skew:                          -0.429   Prob(JB):                     4.05e-11\n",
      "Kurtosis:                       3.508   Cond. No.                         2.45\n",
      "==============================================================================\n",
      "\n",
      "Notes:\n",
      "[1] R² is computed without centering (uncentered) since the model does not contain a constant.\n",
      "[2] Standard Errors assume that the covariance matrix of the errors is correctly specified.\n"
     ]
    }
   ],
   "source": [
    "print(lm_rfe3.summary())"
   ]
  },
  {
   "cell_type": "code",
   "execution_count": null,
   "metadata": {},
   "outputs": [],
   "source": [
    "# Dataframe\n"
   ]
  },
  {
   "cell_type": "code",
   "execution_count": null,
   "metadata": {},
   "outputs": [],
   "source": [
    "# Drop da variável menos relevante\n"
   ]
  },
  {
   "cell_type": "code",
   "execution_count": null,
   "metadata": {},
   "outputs": [],
   "source": []
  },
  {
   "cell_type": "code",
   "execution_count": null,
   "metadata": {},
   "outputs": [],
   "source": []
  },
  {
   "cell_type": "code",
   "execution_count": null,
   "metadata": {},
   "outputs": [],
   "source": []
  },
  {
   "cell_type": "code",
   "execution_count": null,
   "metadata": {},
   "outputs": [],
   "source": []
  },
  {
   "cell_type": "code",
   "execution_count": null,
   "metadata": {},
   "outputs": [],
   "source": [
    "# Dataframe\n"
   ]
  },
  {
   "cell_type": "code",
   "execution_count": null,
   "metadata": {},
   "outputs": [],
   "source": [
    "# Drop da variável menos relevante\n"
   ]
  },
  {
   "cell_type": "code",
   "execution_count": null,
   "metadata": {},
   "outputs": [],
   "source": []
  },
  {
   "cell_type": "code",
   "execution_count": null,
   "metadata": {},
   "outputs": [],
   "source": []
  },
  {
   "cell_type": "code",
   "execution_count": null,
   "metadata": {},
   "outputs": [],
   "source": []
  },
  {
   "cell_type": "code",
   "execution_count": null,
   "metadata": {},
   "outputs": [],
   "source": []
  },
  {
   "cell_type": "code",
   "execution_count": null,
   "metadata": {},
   "outputs": [],
   "source": [
    "# Dataframe\n"
   ]
  },
  {
   "cell_type": "markdown",
   "metadata": {},
   "source": [
    "## Versão Final do Modelo"
   ]
  },
  {
   "cell_type": "code",
   "execution_count": 85,
   "metadata": {},
   "outputs": [
    {
     "data": {
      "text/html": [
       "<div>\n",
       "<style scoped>\n",
       "    .dataframe tbody tr th:only-of-type {\n",
       "        vertical-align: middle;\n",
       "    }\n",
       "\n",
       "    .dataframe tbody tr th {\n",
       "        vertical-align: top;\n",
       "    }\n",
       "\n",
       "    .dataframe thead th {\n",
       "        text-align: right;\n",
       "    }\n",
       "</style>\n",
       "<table border=\"1\" class=\"dataframe\">\n",
       "  <thead>\n",
       "    <tr style=\"text-align: right;\">\n",
       "      <th></th>\n",
       "      <th>Year</th>\n",
       "      <th>Status</th>\n",
       "      <th>Adult Mortality</th>\n",
       "      <th>infant deaths</th>\n",
       "      <th>Alcohol</th>\n",
       "      <th>percentage expenditure</th>\n",
       "      <th>Hepatitis B</th>\n",
       "      <th>Measles</th>\n",
       "      <th>BMI</th>\n",
       "      <th>under-five deaths</th>\n",
       "      <th>Polio</th>\n",
       "      <th>Total expenditure</th>\n",
       "      <th>Diphtheria</th>\n",
       "      <th>HIV/AIDS</th>\n",
       "      <th>GDP</th>\n",
       "      <th>Population</th>\n",
       "      <th>thinness  1-19 years</th>\n",
       "      <th>thinness 5-9 years</th>\n",
       "      <th>Income composition of resources</th>\n",
       "      <th>Schooling</th>\n",
       "    </tr>\n",
       "  </thead>\n",
       "  <tbody>\n",
       "    <tr>\n",
       "      <th>1652</th>\n",
       "      <td>2014</td>\n",
       "      <td>1</td>\n",
       "      <td>26.0</td>\n",
       "      <td>8</td>\n",
       "      <td>0.01</td>\n",
       "      <td>80.926798</td>\n",
       "      <td>84.0</td>\n",
       "      <td>14</td>\n",
       "      <td>3.1</td>\n",
       "      <td>12</td>\n",
       "      <td>84.0</td>\n",
       "      <td>3.77</td>\n",
       "      <td>84.0</td>\n",
       "      <td>0.9</td>\n",
       "      <td>1326.668820</td>\n",
       "      <td>46392.0</td>\n",
       "      <td>8.0</td>\n",
       "      <td>7.7</td>\n",
       "      <td>0.509</td>\n",
       "      <td>8.5</td>\n",
       "    </tr>\n",
       "    <tr>\n",
       "      <th>2491</th>\n",
       "      <td>2013</td>\n",
       "      <td>1</td>\n",
       "      <td>393.0</td>\n",
       "      <td>2</td>\n",
       "      <td>0.01</td>\n",
       "      <td>708.955665</td>\n",
       "      <td>98.0</td>\n",
       "      <td>0</td>\n",
       "      <td>31.2</td>\n",
       "      <td>3</td>\n",
       "      <td>98.0</td>\n",
       "      <td>9.66</td>\n",
       "      <td>98.0</td>\n",
       "      <td>9.8</td>\n",
       "      <td>3598.759720</td>\n",
       "      <td>1271456.0</td>\n",
       "      <td>4.5</td>\n",
       "      <td>4.6</td>\n",
       "      <td>0.539</td>\n",
       "      <td>11.4</td>\n",
       "    </tr>\n",
       "    <tr>\n",
       "      <th>300</th>\n",
       "      <td>2003</td>\n",
       "      <td>1</td>\n",
       "      <td>273.0</td>\n",
       "      <td>1</td>\n",
       "      <td>0.52</td>\n",
       "      <td>19.156641</td>\n",
       "      <td>95.0</td>\n",
       "      <td>0</td>\n",
       "      <td>15.5</td>\n",
       "      <td>1</td>\n",
       "      <td>96.0</td>\n",
       "      <td>4.90</td>\n",
       "      <td>95.0</td>\n",
       "      <td>0.2</td>\n",
       "      <td>997.741714</td>\n",
       "      <td>623434.0</td>\n",
       "      <td>18.3</td>\n",
       "      <td>19.1</td>\n",
       "      <td>0.000</td>\n",
       "      <td>8.4</td>\n",
       "    </tr>\n",
       "    <tr>\n",
       "      <th>855</th>\n",
       "      <td>2010</td>\n",
       "      <td>1</td>\n",
       "      <td>298.0</td>\n",
       "      <td>6</td>\n",
       "      <td>0.61</td>\n",
       "      <td>17.357398</td>\n",
       "      <td>9.0</td>\n",
       "      <td>51</td>\n",
       "      <td>16.0</td>\n",
       "      <td>9</td>\n",
       "      <td>9.0</td>\n",
       "      <td>3.24</td>\n",
       "      <td>9.0</td>\n",
       "      <td>0.9</td>\n",
       "      <td>482.149940</td>\n",
       "      <td>43984.0</td>\n",
       "      <td>8.9</td>\n",
       "      <td>8.8</td>\n",
       "      <td>0.404</td>\n",
       "      <td>5.1</td>\n",
       "    </tr>\n",
       "    <tr>\n",
       "      <th>1388</th>\n",
       "      <td>2005</td>\n",
       "      <td>1</td>\n",
       "      <td>213.0</td>\n",
       "      <td>0</td>\n",
       "      <td>0.60</td>\n",
       "      <td>111.739213</td>\n",
       "      <td>5.0</td>\n",
       "      <td>0</td>\n",
       "      <td>72.1</td>\n",
       "      <td>0</td>\n",
       "      <td>74.0</td>\n",
       "      <td>1.60</td>\n",
       "      <td>79.0</td>\n",
       "      <td>0.1</td>\n",
       "      <td>1214.556667</td>\n",
       "      <td>92325.0</td>\n",
       "      <td>0.2</td>\n",
       "      <td>0.2</td>\n",
       "      <td>0.000</td>\n",
       "      <td>12.2</td>\n",
       "    </tr>\n",
       "    <tr>\n",
       "      <th>...</th>\n",
       "      <td>...</td>\n",
       "      <td>...</td>\n",
       "      <td>...</td>\n",
       "      <td>...</td>\n",
       "      <td>...</td>\n",
       "      <td>...</td>\n",
       "      <td>...</td>\n",
       "      <td>...</td>\n",
       "      <td>...</td>\n",
       "      <td>...</td>\n",
       "      <td>...</td>\n",
       "      <td>...</td>\n",
       "      <td>...</td>\n",
       "      <td>...</td>\n",
       "      <td>...</td>\n",
       "      <td>...</td>\n",
       "      <td>...</td>\n",
       "      <td>...</td>\n",
       "      <td>...</td>\n",
       "      <td>...</td>\n",
       "    </tr>\n",
       "    <tr>\n",
       "      <th>2067</th>\n",
       "      <td>2003</td>\n",
       "      <td>0</td>\n",
       "      <td>15.0</td>\n",
       "      <td>0</td>\n",
       "      <td>14.21</td>\n",
       "      <td>2283.891796</td>\n",
       "      <td>94.0</td>\n",
       "      <td>8</td>\n",
       "      <td>52.5</td>\n",
       "      <td>1</td>\n",
       "      <td>96.0</td>\n",
       "      <td>9.54</td>\n",
       "      <td>99.0</td>\n",
       "      <td>0.1</td>\n",
       "      <td>15772.733400</td>\n",
       "      <td>1458821.0</td>\n",
       "      <td>0.7</td>\n",
       "      <td>0.6</td>\n",
       "      <td>0.789</td>\n",
       "      <td>15.8</td>\n",
       "    </tr>\n",
       "    <tr>\n",
       "      <th>1816</th>\n",
       "      <td>2012</td>\n",
       "      <td>1</td>\n",
       "      <td>167.0</td>\n",
       "      <td>20</td>\n",
       "      <td>0.26</td>\n",
       "      <td>80.587884</td>\n",
       "      <td>9.0</td>\n",
       "      <td>3362</td>\n",
       "      <td>17.4</td>\n",
       "      <td>25</td>\n",
       "      <td>9.0</td>\n",
       "      <td>5.89</td>\n",
       "      <td>9.0</td>\n",
       "      <td>0.2</td>\n",
       "      <td>681.792587</td>\n",
       "      <td>27649925.0</td>\n",
       "      <td>16.3</td>\n",
       "      <td>16.7</td>\n",
       "      <td>0.538</td>\n",
       "      <td>12.3</td>\n",
       "    </tr>\n",
       "    <tr>\n",
       "      <th>2272</th>\n",
       "      <td>2008</td>\n",
       "      <td>1</td>\n",
       "      <td>132.0</td>\n",
       "      <td>1</td>\n",
       "      <td>9.54</td>\n",
       "      <td>96.332379</td>\n",
       "      <td>93.0</td>\n",
       "      <td>2</td>\n",
       "      <td>55.8</td>\n",
       "      <td>1</td>\n",
       "      <td>95.0</td>\n",
       "      <td>1.50</td>\n",
       "      <td>95.0</td>\n",
       "      <td>0.1</td>\n",
       "      <td>671.773913</td>\n",
       "      <td>735222.0</td>\n",
       "      <td>2.3</td>\n",
       "      <td>2.4</td>\n",
       "      <td>0.749</td>\n",
       "      <td>13.5</td>\n",
       "    </tr>\n",
       "    <tr>\n",
       "      <th>1285</th>\n",
       "      <td>2012</td>\n",
       "      <td>0</td>\n",
       "      <td>6.0</td>\n",
       "      <td>2</td>\n",
       "      <td>7.49</td>\n",
       "      <td>4793.904924</td>\n",
       "      <td>96.0</td>\n",
       "      <td>376</td>\n",
       "      <td>62.1</td>\n",
       "      <td>2</td>\n",
       "      <td>96.0</td>\n",
       "      <td>9.28</td>\n",
       "      <td>97.0</td>\n",
       "      <td>0.1</td>\n",
       "      <td>34814.124360</td>\n",
       "      <td>59539717.0</td>\n",
       "      <td>0.5</td>\n",
       "      <td>0.6</td>\n",
       "      <td>0.877</td>\n",
       "      <td>16.6</td>\n",
       "    </tr>\n",
       "    <tr>\n",
       "      <th>1452</th>\n",
       "      <td>2005</td>\n",
       "      <td>0</td>\n",
       "      <td>216.0</td>\n",
       "      <td>0</td>\n",
       "      <td>9.92</td>\n",
       "      <td>86.925540</td>\n",
       "      <td>99.0</td>\n",
       "      <td>2</td>\n",
       "      <td>57.0</td>\n",
       "      <td>0</td>\n",
       "      <td>99.0</td>\n",
       "      <td>6.37</td>\n",
       "      <td>99.0</td>\n",
       "      <td>0.1</td>\n",
       "      <td>7558.742600</td>\n",
       "      <td>2238799.0</td>\n",
       "      <td>2.5</td>\n",
       "      <td>2.5</td>\n",
       "      <td>0.791</td>\n",
       "      <td>15.9</td>\n",
       "    </tr>\n",
       "  </tbody>\n",
       "</table>\n",
       "<p>1154 rows × 20 columns</p>\n",
       "</div>"
      ],
      "text/plain": [
       "      Year  Status  Adult Mortality  infant deaths  Alcohol  \\\n",
       "1652  2014       1             26.0              8     0.01   \n",
       "2491  2013       1            393.0              2     0.01   \n",
       "300   2003       1            273.0              1     0.52   \n",
       "855   2010       1            298.0              6     0.61   \n",
       "1388  2005       1            213.0              0     0.60   \n",
       "...    ...     ...              ...            ...      ...   \n",
       "2067  2003       0             15.0              0    14.21   \n",
       "1816  2012       1            167.0             20     0.26   \n",
       "2272  2008       1            132.0              1     9.54   \n",
       "1285  2012       0              6.0              2     7.49   \n",
       "1452  2005       0            216.0              0     9.92   \n",
       "\n",
       "      percentage expenditure  Hepatitis B  Measles   BMI  under-five deaths  \\\n",
       "1652               80.926798         84.0       14   3.1                 12   \n",
       "2491              708.955665         98.0        0  31.2                  3   \n",
       "300                19.156641         95.0        0  15.5                  1   \n",
       "855                17.357398          9.0       51  16.0                  9   \n",
       "1388              111.739213          5.0        0  72.1                  0   \n",
       "...                      ...          ...      ...   ...                ...   \n",
       "2067             2283.891796         94.0        8  52.5                  1   \n",
       "1816               80.587884          9.0     3362  17.4                 25   \n",
       "2272               96.332379         93.0        2  55.8                  1   \n",
       "1285             4793.904924         96.0      376  62.1                  2   \n",
       "1452               86.925540         99.0        2  57.0                  0   \n",
       "\n",
       "      Polio  Total expenditure  Diphtheria  HIV/AIDS           GDP  \\\n",
       "1652   84.0               3.77        84.0       0.9   1326.668820   \n",
       "2491   98.0               9.66        98.0       9.8   3598.759720   \n",
       "300    96.0               4.90        95.0       0.2    997.741714   \n",
       "855     9.0               3.24         9.0       0.9    482.149940   \n",
       "1388   74.0               1.60        79.0       0.1   1214.556667   \n",
       "...     ...                ...         ...       ...           ...   \n",
       "2067   96.0               9.54        99.0       0.1  15772.733400   \n",
       "1816    9.0               5.89         9.0       0.2    681.792587   \n",
       "2272   95.0               1.50        95.0       0.1    671.773913   \n",
       "1285   96.0               9.28        97.0       0.1  34814.124360   \n",
       "1452   99.0               6.37        99.0       0.1   7558.742600   \n",
       "\n",
       "      Population  thinness  1-19 years  thinness 5-9 years  \\\n",
       "1652     46392.0                   8.0                 7.7   \n",
       "2491   1271456.0                   4.5                 4.6   \n",
       "300     623434.0                  18.3                19.1   \n",
       "855      43984.0                   8.9                 8.8   \n",
       "1388     92325.0                   0.2                 0.2   \n",
       "...          ...                   ...                 ...   \n",
       "2067   1458821.0                   0.7                 0.6   \n",
       "1816  27649925.0                  16.3                16.7   \n",
       "2272    735222.0                   2.3                 2.4   \n",
       "1285  59539717.0                   0.5                 0.6   \n",
       "1452   2238799.0                   2.5                 2.5   \n",
       "\n",
       "      Income composition of resources  Schooling  \n",
       "1652                            0.509        8.5  \n",
       "2491                            0.539       11.4  \n",
       "300                             0.000        8.4  \n",
       "855                             0.404        5.1  \n",
       "1388                            0.000       12.2  \n",
       "...                               ...        ...  \n",
       "2067                            0.789       15.8  \n",
       "1816                            0.538       12.3  \n",
       "2272                            0.749       13.5  \n",
       "1285                            0.877       16.6  \n",
       "1452                            0.791       15.9  \n",
       "\n",
       "[1154 rows x 20 columns]"
      ]
     },
     "execution_count": 85,
     "metadata": {},
     "output_type": "execute_result"
    }
   ],
   "source": [
    "X_treino"
   ]
  },
  {
   "cell_type": "code",
   "execution_count": 89,
   "metadata": {},
   "outputs": [],
   "source": [
    "X_treino_final = X_treino[['Status',\n",
    "                           'thinness  1-19 years',\n",
    "                           'BMI',\n",
    "                           'infant deaths',\n",
    "                           'HIV/AIDS']]"
   ]
  },
  {
   "cell_type": "code",
   "execution_count": 90,
   "metadata": {},
   "outputs": [],
   "source": [
    "X_treino_final_scaled = scaler.fit_transform(X_treino_final)"
   ]
  },
  {
   "cell_type": "code",
   "execution_count": 91,
   "metadata": {},
   "outputs": [],
   "source": [
    "X_treino_final_scaled = sm.add_constant(X_treino_final_scaled)"
   ]
  },
  {
   "cell_type": "code",
   "execution_count": 92,
   "metadata": {},
   "outputs": [],
   "source": [
    "lm_stepwise = sm.OLS(y_treino, X_treino_final_scaled).fit()"
   ]
  },
  {
   "cell_type": "code",
   "execution_count": 93,
   "metadata": {},
   "outputs": [
    {
     "name": "stdout",
     "output_type": "stream",
     "text": [
      "                            OLS Regression Results                            \n",
      "==============================================================================\n",
      "Dep. Variable:        Life expectancy   R-squared:                       0.607\n",
      "Model:                            OLS   Adj. R-squared:                  0.605\n",
      "Method:                 Least Squares   F-statistic:                     354.6\n",
      "Date:                Fri, 08 Mar 2024   Prob (F-statistic):          7.93e-230\n",
      "Time:                        10:41:26   Log-Likelihood:                -3600.2\n",
      "No. Observations:                1154   AIC:                             7212.\n",
      "Df Residuals:                    1148   BIC:                             7243.\n",
      "Df Model:                           5                                         \n",
      "Covariance Type:            nonrobust                                         \n",
      "==============================================================================\n",
      "                 coef    std err          t      P>|t|      [0.025      0.975]\n",
      "------------------------------------------------------------------------------\n",
      "const         69.5912      0.162    430.401      0.000      69.274      69.908\n",
      "x1            -2.1062      0.172    -12.225      0.000      -2.444      -1.768\n",
      "x2            -1.3245      0.213     -6.206      0.000      -1.743      -0.906\n",
      "x3             2.5193      0.197     12.773      0.000       2.132       2.906\n",
      "x4            -0.0443      0.181     -0.245      0.806      -0.399       0.310\n",
      "x5            -4.1018      0.167    -24.635      0.000      -4.429      -3.775\n",
      "==============================================================================\n",
      "Omnibus:                        2.539   Durbin-Watson:                   1.976\n",
      "Prob(Omnibus):                  0.281   Jarque-Bera (JB):                2.556\n",
      "Skew:                          -0.054   Prob(JB):                        0.279\n",
      "Kurtosis:                       3.204   Cond. No.                         2.29\n",
      "==============================================================================\n",
      "\n",
      "Notes:\n",
      "[1] Standard Errors assume that the covariance matrix of the errors is correctly specified.\n"
     ]
    }
   ],
   "source": [
    "# Sumário\n",
    "print(lm_stepwise.summary())"
   ]
  },
  {
   "cell_type": "markdown",
   "metadata": {},
   "source": [
    "## Avaliação do Modelo"
   ]
  },
  {
   "cell_type": "code",
   "execution_count": 94,
   "metadata": {},
   "outputs": [
    {
     "data": {
      "text/html": [
       "<div>\n",
       "<style scoped>\n",
       "    .dataframe tbody tr th:only-of-type {\n",
       "        vertical-align: middle;\n",
       "    }\n",
       "\n",
       "    .dataframe tbody tr th {\n",
       "        vertical-align: top;\n",
       "    }\n",
       "\n",
       "    .dataframe thead th {\n",
       "        text-align: right;\n",
       "    }\n",
       "</style>\n",
       "<table border=\"1\" class=\"dataframe\">\n",
       "  <thead>\n",
       "    <tr style=\"text-align: right;\">\n",
       "      <th></th>\n",
       "      <th>Year</th>\n",
       "      <th>Status</th>\n",
       "      <th>Adult Mortality</th>\n",
       "      <th>infant deaths</th>\n",
       "      <th>Alcohol</th>\n",
       "      <th>percentage expenditure</th>\n",
       "      <th>Hepatitis B</th>\n",
       "      <th>Measles</th>\n",
       "      <th>BMI</th>\n",
       "      <th>under-five deaths</th>\n",
       "      <th>Polio</th>\n",
       "      <th>Total expenditure</th>\n",
       "      <th>Diphtheria</th>\n",
       "      <th>HIV/AIDS</th>\n",
       "      <th>GDP</th>\n",
       "      <th>Population</th>\n",
       "      <th>thinness  1-19 years</th>\n",
       "      <th>thinness 5-9 years</th>\n",
       "      <th>Income composition of resources</th>\n",
       "      <th>Schooling</th>\n",
       "    </tr>\n",
       "  </thead>\n",
       "  <tbody>\n",
       "    <tr>\n",
       "      <th>2220</th>\n",
       "      <td>2012</td>\n",
       "      <td>1</td>\n",
       "      <td>194.0</td>\n",
       "      <td>0</td>\n",
       "      <td>0.01</td>\n",
       "      <td>8.198048</td>\n",
       "      <td>96.0</td>\n",
       "      <td>0</td>\n",
       "      <td>28.5</td>\n",
       "      <td>0</td>\n",
       "      <td>96.0</td>\n",
       "      <td>8.60</td>\n",
       "      <td>96.0</td>\n",
       "      <td>0.5</td>\n",
       "      <td>138.949959</td>\n",
       "      <td>182889.0</td>\n",
       "      <td>5.9</td>\n",
       "      <td>5.7</td>\n",
       "      <td>0.553</td>\n",
       "      <td>10.8</td>\n",
       "    </tr>\n",
       "    <tr>\n",
       "      <th>2372</th>\n",
       "      <td>2004</td>\n",
       "      <td>1</td>\n",
       "      <td>29.0</td>\n",
       "      <td>0</td>\n",
       "      <td>1.18</td>\n",
       "      <td>195.525942</td>\n",
       "      <td>81.0</td>\n",
       "      <td>0</td>\n",
       "      <td>41.3</td>\n",
       "      <td>0</td>\n",
       "      <td>89.0</td>\n",
       "      <td>5.64</td>\n",
       "      <td>9.0</td>\n",
       "      <td>0.1</td>\n",
       "      <td>818.442619</td>\n",
       "      <td>458324.0</td>\n",
       "      <td>1.3</td>\n",
       "      <td>1.3</td>\n",
       "      <td>0.459</td>\n",
       "      <td>8.1</td>\n",
       "    </tr>\n",
       "    <tr>\n",
       "      <th>1078</th>\n",
       "      <td>2011</td>\n",
       "      <td>1</td>\n",
       "      <td>29.0</td>\n",
       "      <td>28</td>\n",
       "      <td>0.22</td>\n",
       "      <td>42.254790</td>\n",
       "      <td>63.0</td>\n",
       "      <td>11</td>\n",
       "      <td>21.2</td>\n",
       "      <td>43</td>\n",
       "      <td>63.0</td>\n",
       "      <td>4.73</td>\n",
       "      <td>63.0</td>\n",
       "      <td>2.0</td>\n",
       "      <td>459.291200</td>\n",
       "      <td>113517.0</td>\n",
       "      <td>8.0</td>\n",
       "      <td>8.0</td>\n",
       "      <td>0.385</td>\n",
       "      <td>8.4</td>\n",
       "    </tr>\n",
       "    <tr>\n",
       "      <th>1390</th>\n",
       "      <td>2003</td>\n",
       "      <td>1</td>\n",
       "      <td>215.0</td>\n",
       "      <td>0</td>\n",
       "      <td>0.50</td>\n",
       "      <td>1.765413</td>\n",
       "      <td>73.0</td>\n",
       "      <td>0</td>\n",
       "      <td>7.6</td>\n",
       "      <td>0</td>\n",
       "      <td>79.0</td>\n",
       "      <td>9.98</td>\n",
       "      <td>7.0</td>\n",
       "      <td>0.1</td>\n",
       "      <td>115.386500</td>\n",
       "      <td>88895.0</td>\n",
       "      <td>0.2</td>\n",
       "      <td>0.2</td>\n",
       "      <td>0.000</td>\n",
       "      <td>11.6</td>\n",
       "    </tr>\n",
       "    <tr>\n",
       "      <th>578</th>\n",
       "      <td>2013</td>\n",
       "      <td>1</td>\n",
       "      <td>145.0</td>\n",
       "      <td>11</td>\n",
       "      <td>4.41</td>\n",
       "      <td>15.162555</td>\n",
       "      <td>91.0</td>\n",
       "      <td>1</td>\n",
       "      <td>56.4</td>\n",
       "      <td>13</td>\n",
       "      <td>91.0</td>\n",
       "      <td>6.84</td>\n",
       "      <td>91.0</td>\n",
       "      <td>0.1</td>\n",
       "      <td>83.586300</td>\n",
       "      <td>47342981.0</td>\n",
       "      <td>2.1</td>\n",
       "      <td>1.9</td>\n",
       "      <td>0.712</td>\n",
       "      <td>13.3</td>\n",
       "    </tr>\n",
       "    <tr>\n",
       "      <th>...</th>\n",
       "      <td>...</td>\n",
       "      <td>...</td>\n",
       "      <td>...</td>\n",
       "      <td>...</td>\n",
       "      <td>...</td>\n",
       "      <td>...</td>\n",
       "      <td>...</td>\n",
       "      <td>...</td>\n",
       "      <td>...</td>\n",
       "      <td>...</td>\n",
       "      <td>...</td>\n",
       "      <td>...</td>\n",
       "      <td>...</td>\n",
       "      <td>...</td>\n",
       "      <td>...</td>\n",
       "      <td>...</td>\n",
       "      <td>...</td>\n",
       "      <td>...</td>\n",
       "      <td>...</td>\n",
       "      <td>...</td>\n",
       "    </tr>\n",
       "    <tr>\n",
       "      <th>2374</th>\n",
       "      <td>2002</td>\n",
       "      <td>1</td>\n",
       "      <td>22.0</td>\n",
       "      <td>0</td>\n",
       "      <td>1.08</td>\n",
       "      <td>156.284797</td>\n",
       "      <td>75.0</td>\n",
       "      <td>0</td>\n",
       "      <td>39.6</td>\n",
       "      <td>0</td>\n",
       "      <td>78.0</td>\n",
       "      <td>6.90</td>\n",
       "      <td>78.0</td>\n",
       "      <td>0.1</td>\n",
       "      <td>784.956287</td>\n",
       "      <td>435262.0</td>\n",
       "      <td>1.4</td>\n",
       "      <td>1.4</td>\n",
       "      <td>0.446</td>\n",
       "      <td>7.3</td>\n",
       "    </tr>\n",
       "    <tr>\n",
       "      <th>2206</th>\n",
       "      <td>2009</td>\n",
       "      <td>1</td>\n",
       "      <td>172.0</td>\n",
       "      <td>0</td>\n",
       "      <td>2.88</td>\n",
       "      <td>42.123684</td>\n",
       "      <td>44.0</td>\n",
       "      <td>0</td>\n",
       "      <td>72.0</td>\n",
       "      <td>0</td>\n",
       "      <td>45.0</td>\n",
       "      <td>5.40</td>\n",
       "      <td>49.0</td>\n",
       "      <td>0.1</td>\n",
       "      <td>335.112838</td>\n",
       "      <td>184826.0</td>\n",
       "      <td>0.2</td>\n",
       "      <td>0.2</td>\n",
       "      <td>0.691</td>\n",
       "      <td>12.9</td>\n",
       "    </tr>\n",
       "    <tr>\n",
       "      <th>1775</th>\n",
       "      <td>2004</td>\n",
       "      <td>1</td>\n",
       "      <td>429.0</td>\n",
       "      <td>82</td>\n",
       "      <td>1.54</td>\n",
       "      <td>46.581956</td>\n",
       "      <td>76.0</td>\n",
       "      <td>9396</td>\n",
       "      <td>18.1</td>\n",
       "      <td>120</td>\n",
       "      <td>69.0</td>\n",
       "      <td>5.91</td>\n",
       "      <td>83.0</td>\n",
       "      <td>15.9</td>\n",
       "      <td>336.331815</td>\n",
       "      <td>231275.0</td>\n",
       "      <td>3.9</td>\n",
       "      <td>3.8</td>\n",
       "      <td>0.332</td>\n",
       "      <td>7.0</td>\n",
       "    </tr>\n",
       "    <tr>\n",
       "      <th>135</th>\n",
       "      <td>2008</td>\n",
       "      <td>0</td>\n",
       "      <td>76.0</td>\n",
       "      <td>0</td>\n",
       "      <td>12.00</td>\n",
       "      <td>8329.731655</td>\n",
       "      <td>83.0</td>\n",
       "      <td>448</td>\n",
       "      <td>54.2</td>\n",
       "      <td>0</td>\n",
       "      <td>83.0</td>\n",
       "      <td>1.60</td>\n",
       "      <td>83.0</td>\n",
       "      <td>0.1</td>\n",
       "      <td>51386.376650</td>\n",
       "      <td>8321496.0</td>\n",
       "      <td>1.7</td>\n",
       "      <td>1.9</td>\n",
       "      <td>0.864</td>\n",
       "      <td>15.1</td>\n",
       "    </tr>\n",
       "    <tr>\n",
       "      <th>876</th>\n",
       "      <td>2005</td>\n",
       "      <td>1</td>\n",
       "      <td>189.0</td>\n",
       "      <td>0</td>\n",
       "      <td>15.52</td>\n",
       "      <td>153.504526</td>\n",
       "      <td>95.0</td>\n",
       "      <td>2</td>\n",
       "      <td>55.5</td>\n",
       "      <td>0</td>\n",
       "      <td>96.0</td>\n",
       "      <td>5.20</td>\n",
       "      <td>96.0</td>\n",
       "      <td>0.1</td>\n",
       "      <td>1338.313220</td>\n",
       "      <td>1354775.0</td>\n",
       "      <td>2.1</td>\n",
       "      <td>2.2</td>\n",
       "      <td>0.812</td>\n",
       "      <td>15.9</td>\n",
       "    </tr>\n",
       "  </tbody>\n",
       "</table>\n",
       "<p>495 rows × 20 columns</p>\n",
       "</div>"
      ],
      "text/plain": [
       "      Year  Status  Adult Mortality  infant deaths  Alcohol  \\\n",
       "2220  2012       1            194.0              0     0.01   \n",
       "2372  2004       1             29.0              0     1.18   \n",
       "1078  2011       1             29.0             28     0.22   \n",
       "1390  2003       1            215.0              0     0.50   \n",
       "578   2013       1            145.0             11     4.41   \n",
       "...    ...     ...              ...            ...      ...   \n",
       "2374  2002       1             22.0              0     1.08   \n",
       "2206  2009       1            172.0              0     2.88   \n",
       "1775  2004       1            429.0             82     1.54   \n",
       "135   2008       0             76.0              0    12.00   \n",
       "876   2005       1            189.0              0    15.52   \n",
       "\n",
       "      percentage expenditure  Hepatitis B  Measles   BMI  under-five deaths  \\\n",
       "2220                8.198048         96.0        0  28.5                  0   \n",
       "2372              195.525942         81.0        0  41.3                  0   \n",
       "1078               42.254790         63.0       11  21.2                 43   \n",
       "1390                1.765413         73.0        0   7.6                  0   \n",
       "578                15.162555         91.0        1  56.4                 13   \n",
       "...                      ...          ...      ...   ...                ...   \n",
       "2374              156.284797         75.0        0  39.6                  0   \n",
       "2206               42.123684         44.0        0  72.0                  0   \n",
       "1775               46.581956         76.0     9396  18.1                120   \n",
       "135              8329.731655         83.0      448  54.2                  0   \n",
       "876               153.504526         95.0        2  55.5                  0   \n",
       "\n",
       "      Polio  Total expenditure  Diphtheria  HIV/AIDS           GDP  \\\n",
       "2220   96.0               8.60        96.0       0.5    138.949959   \n",
       "2372   89.0               5.64         9.0       0.1    818.442619   \n",
       "1078   63.0               4.73        63.0       2.0    459.291200   \n",
       "1390   79.0               9.98         7.0       0.1    115.386500   \n",
       "578    91.0               6.84        91.0       0.1     83.586300   \n",
       "...     ...                ...         ...       ...           ...   \n",
       "2374   78.0               6.90        78.0       0.1    784.956287   \n",
       "2206   45.0               5.40        49.0       0.1    335.112838   \n",
       "1775   69.0               5.91        83.0      15.9    336.331815   \n",
       "135    83.0               1.60        83.0       0.1  51386.376650   \n",
       "876    96.0               5.20        96.0       0.1   1338.313220   \n",
       "\n",
       "      Population  thinness  1-19 years  thinness 5-9 years  \\\n",
       "2220    182889.0                   5.9                 5.7   \n",
       "2372    458324.0                   1.3                 1.3   \n",
       "1078    113517.0                   8.0                 8.0   \n",
       "1390     88895.0                   0.2                 0.2   \n",
       "578   47342981.0                   2.1                 1.9   \n",
       "...          ...                   ...                 ...   \n",
       "2374    435262.0                   1.4                 1.4   \n",
       "2206    184826.0                   0.2                 0.2   \n",
       "1775    231275.0                   3.9                 3.8   \n",
       "135    8321496.0                   1.7                 1.9   \n",
       "876    1354775.0                   2.1                 2.2   \n",
       "\n",
       "      Income composition of resources  Schooling  \n",
       "2220                            0.553       10.8  \n",
       "2372                            0.459        8.1  \n",
       "1078                            0.385        8.4  \n",
       "1390                            0.000       11.6  \n",
       "578                             0.712       13.3  \n",
       "...                               ...        ...  \n",
       "2374                            0.446        7.3  \n",
       "2206                            0.691       12.9  \n",
       "1775                            0.332        7.0  \n",
       "135                             0.864       15.1  \n",
       "876                             0.812       15.9  \n",
       "\n",
       "[495 rows x 20 columns]"
      ]
     },
     "execution_count": 94,
     "metadata": {},
     "output_type": "execute_result"
    }
   ],
   "source": [
    "X_teste"
   ]
  },
  {
   "cell_type": "code",
   "execution_count": 95,
   "metadata": {},
   "outputs": [],
   "source": [
    "X_teste_final = X_teste[['Status',\n",
    "                         'thinness  1-19 years',\n",
    "                         'BMI',\n",
    "                         'infant deaths',\n",
    "                         'HIV/AIDS']]"
   ]
  },
  {
   "cell_type": "code",
   "execution_count": 97,
   "metadata": {},
   "outputs": [],
   "source": [
    "X_teste_final_scaled = scaler.transform(X_teste_final)"
   ]
  },
  {
   "cell_type": "code",
   "execution_count": 98,
   "metadata": {},
   "outputs": [],
   "source": [
    "X_teste_final_scaled = sm.add_constant(X_teste_final_scaled)"
   ]
  },
  {
   "cell_type": "code",
   "execution_count": 99,
   "metadata": {},
   "outputs": [],
   "source": [
    "prediction = lm_stepwise.predict(X_teste_final_scaled)"
   ]
  },
  {
   "cell_type": "code",
   "execution_count": 100,
   "metadata": {},
   "outputs": [],
   "source": [
    "actual = y_teste[\"Life expectancy\"]"
   ]
  },
  {
   "cell_type": "code",
   "execution_count": 101,
   "metadata": {},
   "outputs": [],
   "source": [
    "# MSE\n",
    "metrica_mse = mean_squared_error(prediction, actual)"
   ]
  },
  {
   "cell_type": "code",
   "execution_count": 102,
   "metadata": {},
   "outputs": [
    {
     "name": "stdout",
     "output_type": "stream",
     "text": [
      "30.37556546081541\n"
     ]
    }
   ],
   "source": [
    "print(metrica_mse)"
   ]
  },
  {
   "cell_type": "code",
   "execution_count": 104,
   "metadata": {},
   "outputs": [],
   "source": [
    "def mean_absolute_percentage_error(y_true, y_pred):\n",
    "    y_true, y_pred = np.array(y_true), np.array(y_pred)\n",
    "    return np.mean(np.abs((y_true - y_pred) / y_true)) * 100"
   ]
  },
  {
   "cell_type": "code",
   "execution_count": 105,
   "metadata": {},
   "outputs": [
    {
     "data": {
      "text/plain": [
       "6.782489777306557"
      ]
     },
     "execution_count": 105,
     "metadata": {},
     "output_type": "execute_result"
    }
   ],
   "source": [
    "mean_absolute_percentage_error(actual, prediction)"
   ]
  },
  {
   "cell_type": "code",
   "execution_count": 107,
   "metadata": {},
   "outputs": [
    {
     "ename": "TypeError",
     "evalue": "scatterplot() takes from 0 to 1 positional arguments but 2 were given",
     "output_type": "error",
     "traceback": [
      "\u001b[0;31m---------------------------------------------------------------------------\u001b[0m",
      "\u001b[0;31mTypeError\u001b[0m                                 Traceback (most recent call last)",
      "Cell \u001b[0;32mIn[107], line 2\u001b[0m\n\u001b[1;32m      1\u001b[0m \u001b[38;5;66;03m# Relação Entre Valor Atual e Valor Previsto\u001b[39;00m\n\u001b[0;32m----> 2\u001b[0m \u001b[43msns\u001b[49m\u001b[38;5;241;43m.\u001b[39;49m\u001b[43mscatterplot\u001b[49m\u001b[43m(\u001b[49m\u001b[43my_teste\u001b[49m\u001b[43m[\u001b[49m\u001b[38;5;124;43m'\u001b[39;49m\u001b[38;5;124;43mLife expectancy\u001b[39;49m\u001b[38;5;124;43m'\u001b[39;49m\u001b[43m]\u001b[49m\u001b[43m,\u001b[49m\u001b[43mprediction\u001b[49m\u001b[43m)\u001b[49m\n\u001b[1;32m      3\u001b[0m plt\u001b[38;5;241m.\u001b[39mtitle(\u001b[38;5;124m'\u001b[39m\u001b[38;5;124mRelação Entre Valor Atual e Valor Previsto\u001b[39m\u001b[38;5;124m'\u001b[39m)\n\u001b[1;32m      4\u001b[0m plt\u001b[38;5;241m.\u001b[39mxlabel(\u001b[38;5;124m'\u001b[39m\u001b[38;5;124mValor Atual\u001b[39m\u001b[38;5;124m'\u001b[39m)\n",
      "\u001b[0;31mTypeError\u001b[0m: scatterplot() takes from 0 to 1 positional arguments but 2 were given"
     ]
    }
   ],
   "source": [
    "# Relação Entre Valor Atual e Valor Previsto\n",
    "sns.scatterplot(y_teste['Life expectancy'],prediction)\n",
    "plt.title('Relação Entre Valor Atual e Valor Previsto')\n",
    "plt.xlabel('Valor Atual')\n",
    "plt.ylabel('Valor Previsto')"
   ]
  },
  {
   "cell_type": "markdown",
   "metadata": {},
   "source": [
    "Idealmente, a distribuição do erro de um modelo de regressão deve ser normal e ter média zero. Isso significa que os erros do modelo devem ter uma distribuição simétrica em torno de zero.\n",
    "\n",
    "Além disso, a distribuição do erro de um modelo de regressão deve ter variância constante em toda a faixa de previsão. Isso é conhecido como homocedasticidade. Se a variância do erro aumentar à medida que a variável independente aumenta, isso é conhecido como heterocedasticidade.\n",
    "\n",
    "A distribuição normal do erro é importante porque muitos modelos de regressão assumem que os erros seguem uma distribuição normal. Se a distribuição do erro não for normal, as estimativas dos parâmetros do modelo podem estar enviesadas e as previsões do modelo podem ser menos precisas. Além disso, a homocedasticidade é importante porque a variância constante é uma das suposições fundamentais da regressão linear.\n",
    "\n",
    "Uma forma comum de verificar a normalidade e a homocedasticidade dos erros é visualizando os resíduos do modelo em um gráfico de probabilidade normal e um gráfico de resíduos versus valores ajustados (também conhecido como gráfico de dispersão). Se a distribuição dos resíduos for normal, os pontos no gráfico de probabilidade normal devem cair aproximadamente em uma linha reta. Se houver homocedasticidade, os pontos no gráfico de resíduos versus valores ajustados devem ser distribuídos aleatoriamente em torno de zero, sem uma tendência clara. Se houver heterocedasticidade, os pontos no gráfico de resíduos versus valores ajustados podem apresentar uma tendência clara de aumentar ou diminuir à medida que os valores ajustados aumentam.\n",
    "\n",
    "Caso a distribuição do erro não seja normal e/ou a homocedasticidade não seja atendida, é possível utilizar técnicas de transformação de dados ou modelos estatísticos alternativos para tratar esses problemas."
   ]
  },
  {
   "cell_type": "code",
   "execution_count": 108,
   "metadata": {},
   "outputs": [
    {
     "data": {
      "text/plain": [
       "Text(0.5, 9.444444444444438, 'Erros')"
      ]
     },
     "execution_count": 108,
     "metadata": {},
     "output_type": "execute_result"
    },
    {
     "data": {
      "text/plain": [
       "<Figure size 640x480 with 0 Axes>"
      ]
     },
     "metadata": {},
     "output_type": "display_data"
    },
    {
     "data": {
      "image/png": "[encoded data removed]",
      "text/plain": [
       "<Figure size 500x500 with 1 Axes>"
      ]
     },
     "metadata": {},
     "output_type": "display_data"
    }
   ],
   "source": [
    "# Plot \n",
    "fig = plt.figure()\n",
    "sns.displot((y_teste['Life expectancy'] - prediction), bins = 20)\n",
    "fig.suptitle('Distribuição do Erro do Modelo', fontsize = 20)\n",
    "plt.xlabel('Erros', fontsize = 18)"
   ]
  },
  {
   "cell_type": "markdown",
   "metadata": {},
   "source": [
    "## Conclusão\n",
    "\n",
    "As variáveis ['Status', 'BMI', 'thinness  1-19 years', 'infant deaths', 'HIV/AIDS'] ajudam a explicar a expectativa de vida de um país."
   ]
  },
  {
   "cell_type": "markdown",
   "metadata": {},
   "source": [
    "# Fim"
   ]
  }
 ],
 "metadata": {
  "kernelspec": {
   "display_name": "Python 3 (ipykernel)",
   "language": "python",
   "name": "python3"
  },
  "language_info": {
   "codemirror_mode": {
    "name": "ipython",
    "version": 3
   },
   "file_extension": ".py",
   "mimetype": "text/x-python",
   "name": "python",
   "nbconvert_exporter": "python",
   "pygments_lexer": "ipython3",
   "version": "3.9.18"
  }
 },
 "nbformat": 4,
 "nbformat_minor": 4
}
