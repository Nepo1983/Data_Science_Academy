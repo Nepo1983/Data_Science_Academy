{
 "cells": [
  {
   "cell_type": "markdown",
   "metadata": {},
   "source": [
    "# <font color='blue'>Data Science Academy</font>\n",
    "# <font color='blue'>Análise Estatística Para Data Science com Linguagem Python</font>\n",
    "\n",
    "## <font color='blue'>Mini-Projeto 2</font>\n",
    "### <font color='blue'>Marketing Analítico - Análise Estatística com Testes A/B em Portais de E-Commerce</font>"
   ]
  },
  {
   "cell_type": "markdown",
   "metadata": {},
   "source": [
    "![title](imagens/MP2.png)"
   ]
  },
  {
   "cell_type": "markdown",
   "metadata": {},
   "source": [
    "## Instalando e Carregando os Pacotes"
   ]
  },
  {
   "cell_type": "code",
   "execution_count": 1,
   "metadata": {},
   "outputs": [
    {
     "name": "stdout",
     "output_type": "stream",
     "text": [
      "Versão da Linguagem Python Usada Neste Jupyter Notebook: 3.9.18\n"
     ]
    }
   ],
   "source": [
    "# Versão da Linguagem Python\n",
    "from platform import python_version\n",
    "print('Versão da Linguagem Python Usada Neste Jupyter Notebook:', python_version())"
   ]
  },
  {
   "cell_type": "code",
   "execution_count": null,
   "metadata": {},
   "outputs": [],
   "source": [
    "# Para atualizar um pacote, execute o comando abaixo no terminal ou prompt de comando:\n",
    "# pip install -U nome_pacote\n",
    "\n",
    "# Para instalar a versão exata de um pacote, execute o comando abaixo no terminal ou prompt de comando:\n",
    "# !pip install nome_pacote==versão_desejada\n",
    "\n",
    "# Depois de instalar ou atualizar o pacote, reinicie o jupyter notebook.\n",
    "\n",
    "# Instala o pacote watermark. \n",
    "# Esse pacote é usado para gravar as versões de outros pacotes usados neste jupyter notebook.\n",
    "# !pip install -q -U watermark"
   ]
  },
  {
   "cell_type": "code",
   "execution_count": 2,
   "metadata": {},
   "outputs": [],
   "source": [
    "# Imports\n",
    "import random\n",
    "import numpy as np\n",
    "import pandas as pd\n",
    "import matplotlib.pyplot as plt\n",
    "import seaborn as sns\n",
    "import statsmodels.api as sm\n",
    "from scipy import stats\n",
    "%matplotlib inline\n",
    "random.seed(42)"
   ]
  },
  {
   "cell_type": "code",
   "execution_count": 3,
   "metadata": {},
   "outputs": [
    {
     "name": "stdout",
     "output_type": "stream",
     "text": [
      "Author: Data Science Academy\n",
      "\n",
      "seaborn    : 0.13.2\n",
      "statsmodels: 0.14.1\n",
      "pandas     : 2.0.3\n",
      "matplotlib : 3.8.2\n",
      "numpy      : 1.22.1\n",
      "scipy      : 1.7.3\n",
      "\n"
     ]
    }
   ],
   "source": [
    "# Versões dos pacotes usados neste jupyter notebook\n",
    "%reload_ext watermark\n",
    "%watermark -a \"Data Science Academy\" --iversions"
   ]
  },
  {
   "cell_type": "markdown",
   "metadata": {},
   "source": [
    "## Carregando os Dados"
   ]
  },
  {
   "cell_type": "code",
   "execution_count": 4,
   "metadata": {
    "colab": {
     "base_uri": "https://localhost:8080/",
     "height": 206
    },
    "id": "agN1KEBr6ecI",
    "outputId": "b25fe00b-37f1-439d-a827-4ee838bc31bc"
   },
   "outputs": [],
   "source": [
    "dados = pd.read_csv(\"dados/dataset.csv\")"
   ]
  },
  {
   "cell_type": "code",
   "execution_count": 5,
   "metadata": {},
   "outputs": [
    {
     "data": {
      "text/plain": [
       "(294460, 5)"
      ]
     },
     "execution_count": 5,
     "metadata": {},
     "output_type": "execute_result"
    }
   ],
   "source": [
    "dados.shape"
   ]
  },
  {
   "cell_type": "code",
   "execution_count": 6,
   "metadata": {},
   "outputs": [
    {
     "data": {
      "text/html": [
       "<div>\n",
       "<style scoped>\n",
       "    .dataframe tbody tr th:only-of-type {\n",
       "        vertical-align: middle;\n",
       "    }\n",
       "\n",
       "    .dataframe tbody tr th {\n",
       "        vertical-align: top;\n",
       "    }\n",
       "\n",
       "    .dataframe thead th {\n",
       "        text-align: right;\n",
       "    }\n",
       "</style>\n",
       "<table border=\"1\" class=\"dataframe\">\n",
       "  <thead>\n",
       "    <tr style=\"text-align: right;\">\n",
       "      <th></th>\n",
       "      <th>id_usuario</th>\n",
       "      <th>timestamp</th>\n",
       "      <th>grupo</th>\n",
       "      <th>pagina</th>\n",
       "      <th>converteu</th>\n",
       "    </tr>\n",
       "  </thead>\n",
       "  <tbody>\n",
       "    <tr>\n",
       "      <th>58759</th>\n",
       "      <td>755431</td>\n",
       "      <td>2023-01-12 13:57:26.125071</td>\n",
       "      <td>controle</td>\n",
       "      <td>pagina_sem_cta</td>\n",
       "      <td>0</td>\n",
       "    </tr>\n",
       "    <tr>\n",
       "      <th>277149</th>\n",
       "      <td>708013</td>\n",
       "      <td>2023-01-24 07:01:42.727645</td>\n",
       "      <td>tratamento</td>\n",
       "      <td>pagina_com_cta</td>\n",
       "      <td>0</td>\n",
       "    </tr>\n",
       "    <tr>\n",
       "      <th>184242</th>\n",
       "      <td>714151</td>\n",
       "      <td>2023-01-09 12:58:31.722810</td>\n",
       "      <td>tratamento</td>\n",
       "      <td>pagina_com_cta</td>\n",
       "      <td>0</td>\n",
       "    </tr>\n",
       "    <tr>\n",
       "      <th>210134</th>\n",
       "      <td>697020</td>\n",
       "      <td>2023-01-18 10:32:31.019896</td>\n",
       "      <td>tratamento</td>\n",
       "      <td>pagina_com_cta</td>\n",
       "      <td>0</td>\n",
       "    </tr>\n",
       "    <tr>\n",
       "      <th>11356</th>\n",
       "      <td>792922</td>\n",
       "      <td>2023-01-22 04:46:12.206027</td>\n",
       "      <td>tratamento</td>\n",
       "      <td>pagina_com_cta</td>\n",
       "      <td>0</td>\n",
       "    </tr>\n",
       "    <tr>\n",
       "      <th>205356</th>\n",
       "      <td>775600</td>\n",
       "      <td>2023-01-04 19:14:11.816422</td>\n",
       "      <td>controle</td>\n",
       "      <td>pagina_sem_cta</td>\n",
       "      <td>0</td>\n",
       "    </tr>\n",
       "    <tr>\n",
       "      <th>42649</th>\n",
       "      <td>759566</td>\n",
       "      <td>2023-01-10 07:06:50.683565</td>\n",
       "      <td>tratamento</td>\n",
       "      <td>pagina_com_cta</td>\n",
       "      <td>0</td>\n",
       "    </tr>\n",
       "    <tr>\n",
       "      <th>88587</th>\n",
       "      <td>790410</td>\n",
       "      <td>2023-01-24 03:29:20.327314</td>\n",
       "      <td>controle</td>\n",
       "      <td>pagina_sem_cta</td>\n",
       "      <td>0</td>\n",
       "    </tr>\n",
       "    <tr>\n",
       "      <th>174623</th>\n",
       "      <td>779500</td>\n",
       "      <td>2023-01-16 07:04:41.411017</td>\n",
       "      <td>tratamento</td>\n",
       "      <td>pagina_com_cta</td>\n",
       "      <td>0</td>\n",
       "    </tr>\n",
       "    <tr>\n",
       "      <th>51982</th>\n",
       "      <td>746451</td>\n",
       "      <td>2023-01-10 13:37:32.684325</td>\n",
       "      <td>tratamento</td>\n",
       "      <td>pagina_com_cta</td>\n",
       "      <td>0</td>\n",
       "    </tr>\n",
       "  </tbody>\n",
       "</table>\n",
       "</div>"
      ],
      "text/plain": [
       "        id_usuario                   timestamp       grupo          pagina  \\\n",
       "58759       755431  2023-01-12 13:57:26.125071    controle  pagina_sem_cta   \n",
       "277149      708013  2023-01-24 07:01:42.727645  tratamento  pagina_com_cta   \n",
       "184242      714151  2023-01-09 12:58:31.722810  tratamento  pagina_com_cta   \n",
       "210134      697020  2023-01-18 10:32:31.019896  tratamento  pagina_com_cta   \n",
       "11356       792922  2023-01-22 04:46:12.206027  tratamento  pagina_com_cta   \n",
       "205356      775600  2023-01-04 19:14:11.816422    controle  pagina_sem_cta   \n",
       "42649       759566  2023-01-10 07:06:50.683565  tratamento  pagina_com_cta   \n",
       "88587       790410  2023-01-24 03:29:20.327314    controle  pagina_sem_cta   \n",
       "174623      779500  2023-01-16 07:04:41.411017  tratamento  pagina_com_cta   \n",
       "51982       746451  2023-01-10 13:37:32.684325  tratamento  pagina_com_cta   \n",
       "\n",
       "        converteu  \n",
       "58759           0  \n",
       "277149          0  \n",
       "184242          0  \n",
       "210134          0  \n",
       "11356           0  \n",
       "205356          0  \n",
       "42649           0  \n",
       "88587           0  \n",
       "174623          0  \n",
       "51982           0  "
      ]
     },
     "execution_count": 6,
     "metadata": {},
     "output_type": "execute_result"
    }
   ],
   "source": [
    "dados.sample(10)"
   ]
  },
  {
   "cell_type": "markdown",
   "metadata": {},
   "source": [
    "O grupo de controle representa a versão atual ou padrão que está sendo usada, enquanto o grupo de tratamento representa a versão modificada que você deseja testar."
   ]
  },
  {
   "cell_type": "markdown",
   "metadata": {},
   "source": [
    "## Análise Exploratória"
   ]
  },
  {
   "cell_type": "code",
   "execution_count": 7,
   "metadata": {},
   "outputs": [
    {
     "name": "stdout",
     "output_type": "stream",
     "text": [
      "id_usuario    0\n",
      "timestamp     0\n",
      "grupo         0\n",
      "pagina        0\n",
      "converteu     0\n",
      "dtype: int64\n"
     ]
    }
   ],
   "source": [
    "# Verifica se há valores nulos\n",
    "print(dados.isnull().sum())"
   ]
  },
  {
   "cell_type": "code",
   "execution_count": 8,
   "metadata": {},
   "outputs": [
    {
     "name": "stdout",
     "output_type": "stream",
     "text": [
      "grupo\n",
      "controle      147270\n",
      "tratamento    147190\n",
      "Name: count, dtype: int64\n"
     ]
    }
   ],
   "source": [
    "# Verifica a distribuição dos grupos (controle e tratamento)\n",
    "print(dados['grupo'].value_counts())"
   ]
  },
  {
   "cell_type": "code",
   "execution_count": 9,
   "metadata": {},
   "outputs": [
    {
     "data": {
      "image/png": "[encoded data removed]",
      "text/plain": [
       "<Figure size 640x480 with 1 Axes>"
      ]
     },
     "metadata": {},
     "output_type": "display_data"
    }
   ],
   "source": [
    "# Visualiza a distribuição dos grupos\n",
    "sns.countplot(data = dados, x = 'grupo')\n",
    "plt.show()"
   ]
  },
  {
   "cell_type": "code",
   "execution_count": 10,
   "metadata": {},
   "outputs": [
    {
     "name": "stdout",
     "output_type": "stream",
     "text": [
      "converteu        0      1\n",
      "grupo                    \n",
      "controle    129756  17514\n",
      "tratamento  129467  17723\n"
     ]
    }
   ],
   "source": [
    "# Verifica a distribuição de conversões nos grupos\n",
    "print(pd.crosstab(dados['grupo'], dados['converteu']))"
   ]
  },
  {
   "cell_type": "code",
   "execution_count": 11,
   "metadata": {},
   "outputs": [
    {
     "data": {
      "image/png": "[encoded data removed]",
      "text/plain": [
       "<Figure size 640x480 with 1 Axes>"
      ]
     },
     "metadata": {},
     "output_type": "display_data"
    }
   ],
   "source": [
    "# Visualiza a distribuição de conversões nos grupos\n",
    "sns.countplot(data = dados, x = 'grupo', hue = 'converteu')\n",
    "plt.show()"
   ]
  },
  {
   "cell_type": "code",
   "execution_count": 12,
   "metadata": {},
   "outputs": [
    {
     "name": "stdout",
     "output_type": "stream",
     "text": [
      "pagina      pagina_com_cta  pagina_sem_cta\n",
      "grupo                                     \n",
      "controle              1965          145305\n",
      "tratamento          145262            1928\n"
     ]
    }
   ],
   "source": [
    "# Verifica a relação entre a coluna 'grupo' e a coluna 'pagina'\n",
    "print(pd.crosstab(dados['grupo'], dados['pagina']))"
   ]
  },
  {
   "cell_type": "code",
   "execution_count": 13,
   "metadata": {},
   "outputs": [
    {
     "name": "stdout",
     "output_type": "stream",
     "text": [
      "Número de observações no grupo de controle: 147270\n",
      "Número de observações no grupo de tratamento: 147190\n"
     ]
    }
   ],
   "source": [
    "# Verifica se o número de observações nos grupos é balanceado\n",
    "print(\"Número de observações no grupo de controle:\", len(dados[dados['grupo'] == 'controle']))\n",
    "print(\"Número de observações no grupo de tratamento:\", len(dados[dados['grupo'] == 'tratamento']))"
   ]
  },
  {
   "cell_type": "markdown",
   "metadata": {},
   "source": [
    "## Teste A/B com Teste Estatístico"
   ]
  },
  {
   "cell_type": "code",
   "execution_count": 14,
   "metadata": {},
   "outputs": [],
   "source": [
    "# Separa os grupos de controle e tratamento\n",
    "grupo_controle = dados[dados['grupo'] == 'controle']\n",
    "grupo_tratamento = dados[dados['grupo'] == 'tratamento']"
   ]
  },
  {
   "cell_type": "code",
   "execution_count": 15,
   "metadata": {},
   "outputs": [
    {
     "data": {
      "text/html": [
       "<div>\n",
       "<style scoped>\n",
       "    .dataframe tbody tr th:only-of-type {\n",
       "        vertical-align: middle;\n",
       "    }\n",
       "\n",
       "    .dataframe tbody tr th {\n",
       "        vertical-align: top;\n",
       "    }\n",
       "\n",
       "    .dataframe thead th {\n",
       "        text-align: right;\n",
       "    }\n",
       "</style>\n",
       "<table border=\"1\" class=\"dataframe\">\n",
       "  <thead>\n",
       "    <tr style=\"text-align: right;\">\n",
       "      <th></th>\n",
       "      <th>id_usuario</th>\n",
       "      <th>timestamp</th>\n",
       "      <th>grupo</th>\n",
       "      <th>pagina</th>\n",
       "      <th>converteu</th>\n",
       "    </tr>\n",
       "  </thead>\n",
       "  <tbody>\n",
       "    <tr>\n",
       "      <th>1</th>\n",
       "      <td>888545</td>\n",
       "      <td>2023-01-08 06:37:26.332945</td>\n",
       "      <td>controle</td>\n",
       "      <td>pagina_sem_cta</td>\n",
       "      <td>1</td>\n",
       "    </tr>\n",
       "    <tr>\n",
       "      <th>4</th>\n",
       "      <td>892356</td>\n",
       "      <td>2023-01-05 09:35:14.904865</td>\n",
       "      <td>controle</td>\n",
       "      <td>pagina_sem_cta</td>\n",
       "      <td>1</td>\n",
       "    </tr>\n",
       "    <tr>\n",
       "      <th>5</th>\n",
       "      <td>661590</td>\n",
       "      <td>2023-01-11 16:55:06.154213</td>\n",
       "      <td>controle</td>\n",
       "      <td>pagina_sem_cta</td>\n",
       "      <td>0</td>\n",
       "    </tr>\n",
       "    <tr>\n",
       "      <th>6</th>\n",
       "      <td>853541</td>\n",
       "      <td>2023-01-08 18:28:03.143765</td>\n",
       "      <td>controle</td>\n",
       "      <td>pagina_sem_cta</td>\n",
       "      <td>0</td>\n",
       "    </tr>\n",
       "    <tr>\n",
       "      <th>9</th>\n",
       "      <td>679687</td>\n",
       "      <td>2023-01-19 03:26:46.940749</td>\n",
       "      <td>controle</td>\n",
       "      <td>pagina_sem_cta</td>\n",
       "      <td>1</td>\n",
       "    </tr>\n",
       "  </tbody>\n",
       "</table>\n",
       "</div>"
      ],
      "text/plain": [
       "   id_usuario                   timestamp     grupo          pagina  converteu\n",
       "1      888545  2023-01-08 06:37:26.332945  controle  pagina_sem_cta          1\n",
       "4      892356  2023-01-05 09:35:14.904865  controle  pagina_sem_cta          1\n",
       "5      661590  2023-01-11 16:55:06.154213  controle  pagina_sem_cta          0\n",
       "6      853541  2023-01-08 18:28:03.143765  controle  pagina_sem_cta          0\n",
       "9      679687  2023-01-19 03:26:46.940749  controle  pagina_sem_cta          1"
      ]
     },
     "execution_count": 15,
     "metadata": {},
     "output_type": "execute_result"
    }
   ],
   "source": [
    "grupo_controle.head()"
   ]
  },
  {
   "cell_type": "code",
   "execution_count": 16,
   "metadata": {},
   "outputs": [
    {
     "data": {
      "text/html": [
       "<div>\n",
       "<style scoped>\n",
       "    .dataframe tbody tr th:only-of-type {\n",
       "        vertical-align: middle;\n",
       "    }\n",
       "\n",
       "    .dataframe tbody tr th {\n",
       "        vertical-align: top;\n",
       "    }\n",
       "\n",
       "    .dataframe thead th {\n",
       "        text-align: right;\n",
       "    }\n",
       "</style>\n",
       "<table border=\"1\" class=\"dataframe\">\n",
       "  <thead>\n",
       "    <tr style=\"text-align: right;\">\n",
       "      <th></th>\n",
       "      <th>id_usuario</th>\n",
       "      <th>timestamp</th>\n",
       "      <th>grupo</th>\n",
       "      <th>pagina</th>\n",
       "      <th>converteu</th>\n",
       "    </tr>\n",
       "  </thead>\n",
       "  <tbody>\n",
       "    <tr>\n",
       "      <th>0</th>\n",
       "      <td>847721</td>\n",
       "      <td>2023-01-17 14:01:00.090575</td>\n",
       "      <td>tratamento</td>\n",
       "      <td>pagina_com_cta</td>\n",
       "      <td>0</td>\n",
       "    </tr>\n",
       "    <tr>\n",
       "      <th>2</th>\n",
       "      <td>851104</td>\n",
       "      <td>2023-01-21 22:11:48.556739</td>\n",
       "      <td>tratamento</td>\n",
       "      <td>pagina_com_cta</td>\n",
       "      <td>0</td>\n",
       "    </tr>\n",
       "    <tr>\n",
       "      <th>3</th>\n",
       "      <td>804228</td>\n",
       "      <td>2023-01-12 08:01:45.159739</td>\n",
       "      <td>tratamento</td>\n",
       "      <td>pagina_com_cta</td>\n",
       "      <td>0</td>\n",
       "    </tr>\n",
       "    <tr>\n",
       "      <th>7</th>\n",
       "      <td>864975</td>\n",
       "      <td>2023-01-21 01:52:26.210827</td>\n",
       "      <td>tratamento</td>\n",
       "      <td>pagina_com_cta</td>\n",
       "      <td>1</td>\n",
       "    </tr>\n",
       "    <tr>\n",
       "      <th>8</th>\n",
       "      <td>936923</td>\n",
       "      <td>2023-01-10 15:20:49.083499</td>\n",
       "      <td>tratamento</td>\n",
       "      <td>pagina_com_cta</td>\n",
       "      <td>0</td>\n",
       "    </tr>\n",
       "  </tbody>\n",
       "</table>\n",
       "</div>"
      ],
      "text/plain": [
       "   id_usuario                   timestamp       grupo          pagina  \\\n",
       "0      847721  2023-01-17 14:01:00.090575  tratamento  pagina_com_cta   \n",
       "2      851104  2023-01-21 22:11:48.556739  tratamento  pagina_com_cta   \n",
       "3      804228  2023-01-12 08:01:45.159739  tratamento  pagina_com_cta   \n",
       "7      864975  2023-01-21 01:52:26.210827  tratamento  pagina_com_cta   \n",
       "8      936923  2023-01-10 15:20:49.083499  tratamento  pagina_com_cta   \n",
       "\n",
       "   converteu  \n",
       "0          0  \n",
       "2          0  \n",
       "3          0  \n",
       "7          1  \n",
       "8          0  "
      ]
     },
     "execution_count": 16,
     "metadata": {},
     "output_type": "execute_result"
    }
   ],
   "source": [
    "grupo_tratamento.head()"
   ]
  },
  {
   "cell_type": "code",
   "execution_count": 17,
   "metadata": {},
   "outputs": [],
   "source": [
    "# Calcule as taxas de conversão\n",
    "taxa_controle = grupo_controle['converteu'].mean()\n",
    "taxa_tratamento = grupo_tratamento['converteu'].mean()"
   ]
  },
  {
   "cell_type": "code",
   "execution_count": 18,
   "metadata": {},
   "outputs": [
    {
     "name": "stdout",
     "output_type": "stream",
     "text": [
      "Taxa de conversão do grupo de controle: 11.89%\n",
      "Taxa de conversão do grupo de tratamento: 12.04%\n"
     ]
    }
   ],
   "source": [
    "print(f\"Taxa de conversão do grupo de controle: {taxa_controle:.2%}\")\n",
    "print(f\"Taxa de conversão do grupo de tratamento: {taxa_tratamento:.2%}\")"
   ]
  },
  {
   "cell_type": "code",
   "execution_count": 19,
   "metadata": {},
   "outputs": [],
   "source": [
    "# Teste de hipótese\n",
    "alfa = 0.05\n",
    "hipotese_nula = \"Não há diferença na taxa de conversão entre a pagina_com_cta e a pagina_sem_cta\"\n",
    "hipotese_alternativa = \"Há diferença na taxa de conversão entre a pagina_com_cta e a pagina_sem_cta\""
   ]
  },
  {
   "cell_type": "markdown",
   "metadata": {},
   "source": [
    "A função stats.ttest_ind() é uma função da biblioteca SciPy. Esta função realiza um Teste t de Student independente para duas amostras. O objetivo do Teste t é determinar se existe uma diferença estatisticamente significativa entre as médias de duas populações independentes.\n",
    "\n",
    "A função stats.ttest_ind() recebe dois argumentos principais, que são as duas amostras (geralmente na forma de listas, arrays ou séries do pandas) para as quais você deseja testar a diferença entre as médias. A função retorna dois valores: a estatística t e o valor p.\n",
    "\n",
    "A estatística t é um valor calculado que ajuda a determinar a diferença entre as médias das duas amostras em relação ao erro padrão combinado das amostras. Um valor t grande (positivo ou negativo) indica uma diferença maior entre as médias, enquanto um valor t próximo de zero indica que as médias são semelhantes.\n",
    "\n",
    "O valor-p é uma medida de significância estatística. Ele indica a probabilidade de observar uma diferença igual ou maior do que a encontrada, assumindo que não há diferença real entre as médias das populações (ou seja, a hipótese nula é verdadeira). Um valor-p baixo (geralmente menor que 0,05) sugere que podemos rejeitar a hipótese nula e concluir que há uma diferença estatisticamente significativa entre as médias das duas populações."
   ]
  },
  {
   "cell_type": "markdown",
   "metadata": {},
   "source": [
    "https://docs.scipy.org/doc/scipy/reference/generated/scipy.stats.ttest_ind.html"
   ]
  },
  {
   "cell_type": "code",
   "execution_count": 20,
   "metadata": {},
   "outputs": [],
   "source": [
    "# Aplica o teste\n",
    "estatistica_t, p_valor = stats.ttest_ind(grupo_controle['converteu'], grupo_tratamento['converteu'])"
   ]
  },
  {
   "cell_type": "code",
   "execution_count": 21,
   "metadata": {},
   "outputs": [
    {
     "name": "stdout",
     "output_type": "stream",
     "text": [
      "Estatística t: -1.2410056296293919\n",
      "Valor-p: 0.21460465788124805\n"
     ]
    }
   ],
   "source": [
    "print(f\"Estatística t: {estatistica_t}\")\n",
    "print(f\"Valor-p: {p_valor}\")"
   ]
  },
  {
   "cell_type": "code",
   "execution_count": 22,
   "metadata": {},
   "outputs": [
    {
     "name": "stdout",
     "output_type": "stream",
     "text": [
      "Não podemos rejeitar a hipótese nula. Não há diferença na taxa de conversão entre a pagina_com_cta e a pagina_sem_cta\n"
     ]
    }
   ],
   "source": [
    "if p_valor < alfa:\n",
    "    print(f\"Rejeitamos a hipótese nula. {hipotese_alternativa}\")\n",
    "else:\n",
    "    print(f\"Não podemos rejeitar a hipótese nula. {hipotese_nula}\")"
   ]
  },
  {
   "cell_type": "markdown",
   "metadata": {},
   "source": [
    "## Teste A/B com Regressão Logística\n",
    "\n",
    "Leia os manuais em pdf no Capítulo 6 do curso."
   ]
  },
  {
   "cell_type": "code",
   "execution_count": 23,
   "metadata": {},
   "outputs": [
    {
     "data": {
      "text/html": [
       "<div>\n",
       "<style scoped>\n",
       "    .dataframe tbody tr th:only-of-type {\n",
       "        vertical-align: middle;\n",
       "    }\n",
       "\n",
       "    .dataframe tbody tr th {\n",
       "        vertical-align: top;\n",
       "    }\n",
       "\n",
       "    .dataframe thead th {\n",
       "        text-align: right;\n",
       "    }\n",
       "</style>\n",
       "<table border=\"1\" class=\"dataframe\">\n",
       "  <thead>\n",
       "    <tr style=\"text-align: right;\">\n",
       "      <th></th>\n",
       "      <th>id_usuario</th>\n",
       "      <th>timestamp</th>\n",
       "      <th>grupo</th>\n",
       "      <th>pagina</th>\n",
       "      <th>converteu</th>\n",
       "    </tr>\n",
       "  </thead>\n",
       "  <tbody>\n",
       "    <tr>\n",
       "      <th>0</th>\n",
       "      <td>847721</td>\n",
       "      <td>2023-01-17 14:01:00.090575</td>\n",
       "      <td>tratamento</td>\n",
       "      <td>pagina_com_cta</td>\n",
       "      <td>0</td>\n",
       "    </tr>\n",
       "    <tr>\n",
       "      <th>1</th>\n",
       "      <td>888545</td>\n",
       "      <td>2023-01-08 06:37:26.332945</td>\n",
       "      <td>controle</td>\n",
       "      <td>pagina_sem_cta</td>\n",
       "      <td>1</td>\n",
       "    </tr>\n",
       "    <tr>\n",
       "      <th>2</th>\n",
       "      <td>851104</td>\n",
       "      <td>2023-01-21 22:11:48.556739</td>\n",
       "      <td>tratamento</td>\n",
       "      <td>pagina_com_cta</td>\n",
       "      <td>0</td>\n",
       "    </tr>\n",
       "    <tr>\n",
       "      <th>3</th>\n",
       "      <td>804228</td>\n",
       "      <td>2023-01-12 08:01:45.159739</td>\n",
       "      <td>tratamento</td>\n",
       "      <td>pagina_com_cta</td>\n",
       "      <td>0</td>\n",
       "    </tr>\n",
       "    <tr>\n",
       "      <th>4</th>\n",
       "      <td>892356</td>\n",
       "      <td>2023-01-05 09:35:14.904865</td>\n",
       "      <td>controle</td>\n",
       "      <td>pagina_sem_cta</td>\n",
       "      <td>1</td>\n",
       "    </tr>\n",
       "  </tbody>\n",
       "</table>\n",
       "</div>"
      ],
      "text/plain": [
       "   id_usuario                   timestamp       grupo          pagina  \\\n",
       "0      847721  2023-01-17 14:01:00.090575  tratamento  pagina_com_cta   \n",
       "1      888545  2023-01-08 06:37:26.332945    controle  pagina_sem_cta   \n",
       "2      851104  2023-01-21 22:11:48.556739  tratamento  pagina_com_cta   \n",
       "3      804228  2023-01-12 08:01:45.159739  tratamento  pagina_com_cta   \n",
       "4      892356  2023-01-05 09:35:14.904865    controle  pagina_sem_cta   \n",
       "\n",
       "   converteu  \n",
       "0          0  \n",
       "1          1  \n",
       "2          0  \n",
       "3          0  \n",
       "4          1  "
      ]
     },
     "execution_count": 23,
     "metadata": {},
     "output_type": "execute_result"
    }
   ],
   "source": [
    "dados.head()"
   ]
  },
  {
   "cell_type": "code",
   "execution_count": 28,
   "metadata": {},
   "outputs": [],
   "source": [
    "# Criamos variável dummy para a coluna 'grupo'\n",
    "dados['grupo_encoded'] = pd.get_dummies(dados['grupo'], dtype='int' ,drop_first = True)"
   ]
  },
  {
   "cell_type": "code",
   "execution_count": 29,
   "metadata": {},
   "outputs": [
    {
     "data": {
      "text/html": [
       "<div>\n",
       "<style scoped>\n",
       "    .dataframe tbody tr th:only-of-type {\n",
       "        vertical-align: middle;\n",
       "    }\n",
       "\n",
       "    .dataframe tbody tr th {\n",
       "        vertical-align: top;\n",
       "    }\n",
       "\n",
       "    .dataframe thead th {\n",
       "        text-align: right;\n",
       "    }\n",
       "</style>\n",
       "<table border=\"1\" class=\"dataframe\">\n",
       "  <thead>\n",
       "    <tr style=\"text-align: right;\">\n",
       "      <th></th>\n",
       "      <th>id_usuario</th>\n",
       "      <th>timestamp</th>\n",
       "      <th>grupo</th>\n",
       "      <th>pagina</th>\n",
       "      <th>converteu</th>\n",
       "      <th>grupo_encoded</th>\n",
       "    </tr>\n",
       "  </thead>\n",
       "  <tbody>\n",
       "    <tr>\n",
       "      <th>0</th>\n",
       "      <td>847721</td>\n",
       "      <td>2023-01-17 14:01:00.090575</td>\n",
       "      <td>tratamento</td>\n",
       "      <td>pagina_com_cta</td>\n",
       "      <td>0</td>\n",
       "      <td>1</td>\n",
       "    </tr>\n",
       "    <tr>\n",
       "      <th>1</th>\n",
       "      <td>888545</td>\n",
       "      <td>2023-01-08 06:37:26.332945</td>\n",
       "      <td>controle</td>\n",
       "      <td>pagina_sem_cta</td>\n",
       "      <td>1</td>\n",
       "      <td>0</td>\n",
       "    </tr>\n",
       "    <tr>\n",
       "      <th>2</th>\n",
       "      <td>851104</td>\n",
       "      <td>2023-01-21 22:11:48.556739</td>\n",
       "      <td>tratamento</td>\n",
       "      <td>pagina_com_cta</td>\n",
       "      <td>0</td>\n",
       "      <td>1</td>\n",
       "    </tr>\n",
       "    <tr>\n",
       "      <th>3</th>\n",
       "      <td>804228</td>\n",
       "      <td>2023-01-12 08:01:45.159739</td>\n",
       "      <td>tratamento</td>\n",
       "      <td>pagina_com_cta</td>\n",
       "      <td>0</td>\n",
       "      <td>1</td>\n",
       "    </tr>\n",
       "    <tr>\n",
       "      <th>4</th>\n",
       "      <td>892356</td>\n",
       "      <td>2023-01-05 09:35:14.904865</td>\n",
       "      <td>controle</td>\n",
       "      <td>pagina_sem_cta</td>\n",
       "      <td>1</td>\n",
       "      <td>0</td>\n",
       "    </tr>\n",
       "  </tbody>\n",
       "</table>\n",
       "</div>"
      ],
      "text/plain": [
       "   id_usuario                   timestamp       grupo          pagina  \\\n",
       "0      847721  2023-01-17 14:01:00.090575  tratamento  pagina_com_cta   \n",
       "1      888545  2023-01-08 06:37:26.332945    controle  pagina_sem_cta   \n",
       "2      851104  2023-01-21 22:11:48.556739  tratamento  pagina_com_cta   \n",
       "3      804228  2023-01-12 08:01:45.159739  tratamento  pagina_com_cta   \n",
       "4      892356  2023-01-05 09:35:14.904865    controle  pagina_sem_cta   \n",
       "\n",
       "   converteu  grupo_encoded  \n",
       "0          0              1  \n",
       "1          1              0  \n",
       "2          0              1  \n",
       "3          0              1  \n",
       "4          1              0  "
      ]
     },
     "execution_count": 29,
     "metadata": {},
     "output_type": "execute_result"
    }
   ],
   "source": [
    "dados.head()"
   ]
  },
  {
   "cell_type": "code",
   "execution_count": 32,
   "metadata": {},
   "outputs": [],
   "source": [
    "# Definimos a variável dependente (y) e a variável independente (X)\n",
    "y = dados['converteu']\n",
    "X = dados['grupo_encoded']"
   ]
  },
  {
   "cell_type": "code",
   "execution_count": 33,
   "metadata": {},
   "outputs": [],
   "source": [
    "# Adicionamos uma constante ao modelo\n",
    "X = sm.add_constant(X)"
   ]
  },
  {
   "cell_type": "code",
   "execution_count": 34,
   "metadata": {},
   "outputs": [],
   "source": [
    "# Criamos o modelo de regressão logística\n",
    "modelo_logit = sm.Logit(y, X)"
   ]
  },
  {
   "cell_type": "code",
   "execution_count": 35,
   "metadata": {},
   "outputs": [
    {
     "name": "stdout",
     "output_type": "stream",
     "text": [
      "Optimization terminated successfully.\n",
      "         Current function value: 0.366257\n",
      "         Iterations 6\n"
     ]
    }
   ],
   "source": [
    "# Treinamos o modelo\n",
    "modelo = modelo_logit.fit()"
   ]
  },
  {
   "cell_type": "code",
   "execution_count": 36,
   "metadata": {},
   "outputs": [
    {
     "name": "stdout",
     "output_type": "stream",
     "text": [
      "                           Logit Regression Results                           \n",
      "==============================================================================\n",
      "Dep. Variable:              converteu   No. Observations:               294460\n",
      "Model:                          Logit   Df Residuals:                   294458\n",
      "Method:                           MLE   Df Model:                            1\n",
      "Date:                Wed, 13 Mar 2024   Pseudo R-squ.:               7.140e-06\n",
      "Time:                        09:19:48   Log-Likelihood:            -1.0785e+05\n",
      "converged:                       True   LL-Null:                   -1.0785e+05\n",
      "Covariance Type:            nonrobust   LLR p-value:                    0.2146\n",
      "=================================================================================\n",
      "                    coef    std err          z      P>|z|      [0.025      0.975]\n",
      "---------------------------------------------------------------------------------\n",
      "const            -2.0027      0.008   -248.774      0.000      -2.018      -1.987\n",
      "grupo_encoded     0.0141      0.011      1.241      0.215      -0.008       0.036\n",
      "=================================================================================\n"
     ]
    }
   ],
   "source": [
    "# Imprima o resumo do modelo\n",
    "print(modelo.summary())"
   ]
  },
  {
   "cell_type": "code",
   "execution_count": 37,
   "metadata": {},
   "outputs": [],
   "source": [
    "# Calculamos as odds ratios\n",
    "odds_ratios = pd.DataFrame({'coef': modelo.params, 'OR': np.exp(modelo.params)})"
   ]
  },
  {
   "cell_type": "code",
   "execution_count": 38,
   "metadata": {},
   "outputs": [
    {
     "name": "stdout",
     "output_type": "stream",
     "text": [
      "                   coef        OR\n",
      "const         -2.002655  0.134976\n",
      "grupo_encoded  0.014092  1.014192\n"
     ]
    }
   ],
   "source": [
    "print(odds_ratios)"
   ]
  },
  {
   "cell_type": "markdown",
   "metadata": {},
   "source": [
    "Os coeficientes do modelo de regressão logística podem ser interpretados em termos de log-odds (logit ou coef) e odds ratios. \n",
    "\n",
    "Vamos entender como interpretar essas medidas:\n",
    "\n",
    "**Log-odds (coeficientes)**:\n",
    "\n",
    "Os coeficientes do modelo de regressão logística representam o efeito de uma unidade de mudança na variável independente (explicativa) sobre o log-odds da variável dependente (resposta). \n",
    "\n",
    "Um coeficiente positivo indica que, à medida que a variável independente aumenta, o log-odds da variável dependente também aumenta, tornando o evento mais provável. Por outro lado, um coeficiente negativo indica que, à medida que a variável independente aumenta, o log-odds da variável dependente diminui, tornando o evento menos provável.\n",
    "\n",
    "**Odds ratios**:\n",
    "\n",
    "As odds ratios são obtidas ao exponenciar os coeficientes do modelo de regressão logística. Uma odds ratio (OR) representa o fator de mudança nas odds da variável dependente em resposta a uma unidade de mudança na variável independente. Aqui estão algumas interpretações básicas para as odds ratios:\n",
    "\n",
    "- OR = 1: A variável independente não tem efeito sobre a variável dependente.\n",
    "\n",
    "\n",
    "- OR > 1: A variável independente tem um efeito positivo sobre a variável dependente. À medida que a variável independente aumenta, as odds da variável dependente também aumentam.\n",
    "\n",
    "\n",
    "- OR < 1: A variável independente tem um efeito negativo sobre a variável dependente. À medida que a variável independente aumenta, as odds da variável dependente diminuem.\n",
    "\n",
    "Ajustamos um modelo de regressão logística com a variável independente 'grupo_tratamento' e obtivemos os seguintes resultados:\n",
    "\n",
    "- coef: -0.014092\n",
    "- OR: 1.014192\n",
    "\n",
    "Aqui, o coeficiente negativo (-0.014092) indica que o grupo de tratamento tem um efeito negativo sobre a conversão. A odds ratio de 1.014192 indica que as odds de conversão no grupo de tratamento são aproximadamente 1.014192 vezes maiores do que no grupo de controle, mantendo as outras variáveis constantes."
   ]
  },
  {
   "cell_type": "markdown",
   "metadata": {},
   "source": [
    "## Conclusões\n",
    "\n",
    "- Fizemos um teste A/B para um site de comércio eletrônico a fim de ajudar a decidir se a empresa deveria implementar a nova página, manter a página antiga ou talvez executar o experimento por mais tempo.\n",
    "\n",
    "- A partir do resultado do nosso Teste A/B, descobrimos que a hipótese de a nova página obter maior taxa de conversão tem uma probabilidade muito baixa, portanto, acreditamos que permanecer com a página antiga é uma decisão mais adequada."
   ]
  },
  {
   "cell_type": "markdown",
   "metadata": {},
   "source": [
    "# Fim"
   ]
  }
 ],
 "metadata": {
  "colab": {
   "collapsed_sections": [
    "Km-PPppD6ecu"
   ],
   "name": "Analyze_ab_test_results_notebook.ipynb",
   "provenance": []
  },
  "kernelspec": {
   "display_name": "Python 3 (ipykernel)",
   "language": "python",
   "name": "python3"
  },
  "language_info": {
   "codemirror_mode": {
    "name": "ipython",
    "version": 3
   },
   "file_extension": ".py",
   "mimetype": "text/x-python",
   "name": "python",
   "nbconvert_exporter": "python",
   "pygments_lexer": "ipython3",
   "version": "3.9.18"
  },
  "vscode": {
   "interpreter": {
    "hash": "495ea94611aaceeb69760baf3d5aae885e1a594ff5e369c87eccf4be1e364dd3"
   }
  }
 },
 "nbformat": 4,
 "nbformat_minor": 1
}
