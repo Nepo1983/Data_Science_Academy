{
 "cells": [
  {
   "cell_type": "markdown",
   "metadata": {},
   "source": [
    "# <font color='blue'>Data Science Academy</font>\n",
    "# <font color='blue'>Análise Estatística Para Data Science com Linguagem Python</font>\n",
    "\n",
    "## <font color='blue'>Mini-Projeto 3</font>\n",
    "## <font color='blue'>Análise Estatística do Impacto da Vacinação na Expectativa de Vida</font>"
   ]
  },
  {
   "cell_type": "markdown",
   "metadata": {},
   "source": [
    "\n",
    "![title](imagens/MP3.png)"
   ]
  },
  {
   "cell_type": "markdown",
   "metadata": {},
   "source": [
    "## Instalando e Carregando os Pacotes"
   ]
  },
  {
   "cell_type": "code",
   "execution_count": 1,
   "metadata": {},
   "outputs": [
    {
     "name": "stdout",
     "output_type": "stream",
     "text": [
      "Versão da Linguagem Python Usada Neste Jupyter Notebook: 3.9.18\n"
     ]
    }
   ],
   "source": [
    "# Versão da Linguagem Python\n",
    "from platform import python_version\n",
    "print('Versão da Linguagem Python Usada Neste Jupyter Notebook:', python_version())"
   ]
  },
  {
   "cell_type": "code",
   "execution_count": null,
   "metadata": {},
   "outputs": [],
   "source": [
    "# Para atualizar um pacote, execute o comando abaixo no terminal ou prompt de comando:\n",
    "# pip install -U nome_pacote\n",
    "\n",
    "# Para instalar a versão exata de um pacote, execute o comando abaixo no terminal ou prompt de comando:\n",
    "# !pip install nome_pacote==versão_desejada\n",
    "\n",
    "# Depois de instalar ou atualizar o pacote, reinicie o jupyter notebook.\n",
    "\n",
    "# Instala o pacote watermark. \n",
    "# Esse pacote é usado para gravar as versões de outros pacotes usados neste jupyter notebook.\n",
    "# !pip install -q -U watermark"
   ]
  },
  {
   "cell_type": "code",
   "execution_count": 2,
   "metadata": {},
   "outputs": [],
   "source": [
    "# Imports\n",
    "import numpy as np\n",
    "import pandas as pd\n",
    "import matplotlib.pyplot as plt\n",
    "from scipy.stats import spearmanr"
   ]
  },
  {
   "cell_type": "code",
   "execution_count": 3,
   "metadata": {},
   "outputs": [
    {
     "name": "stdout",
     "output_type": "stream",
     "text": [
      "Author: Data Science Academy\n",
      "\n",
      "matplotlib: 3.8.2\n",
      "numpy     : 1.26.4\n",
      "pandas    : 2.0.3\n",
      "\n"
     ]
    }
   ],
   "source": [
    "# Versões dos pacotes usados neste jupyter notebook\n",
    "%reload_ext watermark\n",
    "%watermark -a \"Data Science Academy\" --iversions"
   ]
  },
  {
   "cell_type": "markdown",
   "metadata": {},
   "source": [
    "Neste projeto, vamos simular dados de expectativa de vida e taxa de vacinação em diferentes países e analisar o impacto da vacinação na expectativa de vida usando o teste de correlação de Spearman. Note que os dados utilizados são fictícios e não representam dados reais."
   ]
  },
  {
   "cell_type": "code",
   "execution_count": 4,
   "metadata": {},
   "outputs": [],
   "source": [
    "# Função para gerar dados fictícios\n",
    "def gerar_dados(seed, n_paises):\n",
    "    np.random.seed(seed)\n",
    "    taxa_vacinacao = np.random.uniform(30, 99, size = n_paises)\n",
    "    expectativa_vida = 50 + 0.5 * taxa_vacinacao + np.random.normal(scale = 5, size = n_paises)\n",
    "    paises = [f\"País {i+1}\" for i in range(n_paises)]\n",
    "    return pd.DataFrame({\"País\": paises,\n",
    "                        \"Taxa de Vacinação\": taxa_vacinacao,\n",
    "                        \"Expectativa de Vida\": expectativa_vida})"
   ]
  },
  {
   "cell_type": "code",
   "execution_count": 5,
   "metadata": {},
   "outputs": [],
   "source": [
    "# Gera dados de 50 países fictícios\n",
    "dados = gerar_dados(42, 50)"
   ]
  },
  {
   "cell_type": "code",
   "execution_count": 6,
   "metadata": {},
   "outputs": [],
   "source": [
    "# Arredonda os dados da exppectativa de vida\n",
    "dados['Expectativa de Vida'] = round(dados['Expectativa de Vida'])"
   ]
  },
  {
   "cell_type": "code",
   "execution_count": 7,
   "metadata": {},
   "outputs": [
    {
     "data": {
      "text/html": [
       "<div>\n",
       "<style scoped>\n",
       "    .dataframe tbody tr th:only-of-type {\n",
       "        vertical-align: middle;\n",
       "    }\n",
       "\n",
       "    .dataframe tbody tr th {\n",
       "        vertical-align: top;\n",
       "    }\n",
       "\n",
       "    .dataframe thead th {\n",
       "        text-align: right;\n",
       "    }\n",
       "</style>\n",
       "<table border=\"1\" class=\"dataframe\">\n",
       "  <thead>\n",
       "    <tr style=\"text-align: right;\">\n",
       "      <th></th>\n",
       "      <th>País</th>\n",
       "      <th>Taxa de Vacinação</th>\n",
       "      <th>Expectativa de Vida</th>\n",
       "    </tr>\n",
       "  </thead>\n",
       "  <tbody>\n",
       "    <tr>\n",
       "      <th>0</th>\n",
       "      <td>País 1</td>\n",
       "      <td>55.843268</td>\n",
       "      <td>82.0</td>\n",
       "    </tr>\n",
       "    <tr>\n",
       "      <th>1</th>\n",
       "      <td>País 2</td>\n",
       "      <td>95.599287</td>\n",
       "      <td>99.0</td>\n",
       "    </tr>\n",
       "    <tr>\n",
       "      <th>2</th>\n",
       "      <td>País 3</td>\n",
       "      <td>80.507582</td>\n",
       "      <td>90.0</td>\n",
       "    </tr>\n",
       "    <tr>\n",
       "      <th>3</th>\n",
       "      <td>País 4</td>\n",
       "      <td>71.307435</td>\n",
       "      <td>84.0</td>\n",
       "    </tr>\n",
       "    <tr>\n",
       "      <th>4</th>\n",
       "      <td>País 5</td>\n",
       "      <td>40.765286</td>\n",
       "      <td>63.0</td>\n",
       "    </tr>\n",
       "  </tbody>\n",
       "</table>\n",
       "</div>"
      ],
      "text/plain": [
       "     País  Taxa de Vacinação  Expectativa de Vida\n",
       "0  País 1          55.843268                 82.0\n",
       "1  País 2          95.599287                 99.0\n",
       "2  País 3          80.507582                 90.0\n",
       "3  País 4          71.307435                 84.0\n",
       "4  País 5          40.765286                 63.0"
      ]
     },
     "execution_count": 7,
     "metadata": {},
     "output_type": "execute_result"
    }
   ],
   "source": [
    "dados.head()"
   ]
  },
  {
   "cell_type": "code",
   "execution_count": 8,
   "metadata": {},
   "outputs": [
    {
     "data": {
      "image/png": "[encoded data removed]",
      "text/plain": [
       "<Figure size 640x480 with 1 Axes>"
      ]
     },
     "metadata": {},
     "output_type": "display_data"
    }
   ],
   "source": [
    "plt.scatter(dados[\"Taxa de Vacinação\"], dados[\"Expectativa de Vida\"], alpha=0.5)\n",
    "plt.xlabel(\"Taxa de Vacinação (%)\")\n",
    "plt.ylabel(\"Expectativa de Vida (Anos)\")\n",
    "plt.title(\"Expectativa de Vida x Taxa de Vacinação\")\n",
    "plt.show()"
   ]
  },
  {
   "cell_type": "code",
   "execution_count": 10,
   "metadata": {},
   "outputs": [],
   "source": [
    "# Calcula o coeficiente e o valor-p\n",
    "coeficiente, p_valor = spearmanr(dados[\"Taxa de Vacinação\"], dados[\"Expectativa de Vida\"])"
   ]
  },
  {
   "cell_type": "code",
   "execution_count": 11,
   "metadata": {},
   "outputs": [
    {
     "name": "stdout",
     "output_type": "stream",
     "text": [
      "Coeficiente de correlação de Spearman: 0.9073171587661424\n",
      "Valor-p: 1.0904009305640101e-19\n"
     ]
    }
   ],
   "source": [
    "print(\"Coeficiente de correlação de Spearman:\", coeficiente)\n",
    "print(\"Valor-p:\", p_valor)"
   ]
  },
  {
   "cell_type": "markdown",
   "metadata": {},
   "source": [
    "Como o valor-p for menor que 0,05, podemos concluir que existe uma correlação significativa entre a taxa de vacinação e a expectativa de vida."
   ]
  },
  {
   "cell_type": "markdown",
   "metadata": {},
   "source": [
    "Nota: Neste exemplo, utilizamos dados fictícios para ilustrar como realizar uma análise estatística do impacto da vacinação na expectativa de vida usando o teste de correlação de Spearman. Em um caso real, você deve obter dados de fontes confiáveis e aplicar análises estatísticas semelhantes para investigar a relação entre a vacinação e a expectativa de vida."
   ]
  },
  {
   "cell_type": "markdown",
   "metadata": {},
   "source": [
    "# Fim"
   ]
  }
 ],
 "metadata": {
  "colab": {
   "collapsed_sections": [
    "Km-PPppD6ecu"
   ],
   "name": "Analyze_ab_test_results_notebook.ipynb",
   "provenance": []
  },
  "kernelspec": {
   "display_name": "Python 3 (ipykernel)",
   "language": "python",
   "name": "python3"
  },
  "language_info": {
   "codemirror_mode": {
    "name": "ipython",
    "version": 3
   },
   "file_extension": ".py",
   "mimetype": "text/x-python",
   "name": "python",
   "nbconvert_exporter": "python",
   "pygments_lexer": "ipython3",
   "version": "3.9.18"
  },
  "vscode": {
   "interpreter": {
    "hash": "495ea94611aaceeb69760baf3d5aae885e1a594ff5e369c87eccf4be1e364dd3"
   }
  }
 },
 "nbformat": 4,
 "nbformat_minor": 1
}
