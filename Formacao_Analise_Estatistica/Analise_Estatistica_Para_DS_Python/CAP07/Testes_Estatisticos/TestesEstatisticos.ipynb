{
 "cells": [
  {
   "cell_type": "markdown",
   "metadata": {},
   "source": [
    "# <font color='blue'>Data Science Academy</font>\n",
    "# <font color='blue'>Análise Estatística Para Data Science com Linguagem Python</font>\n",
    "\n",
    "## <font color='blue'>Testes Estatísticos</font>"
   ]
  },
  {
   "cell_type": "markdown",
   "metadata": {},
   "source": [
    "## Instalando e Carregando os Pacotes"
   ]
  },
  {
   "cell_type": "code",
   "execution_count": 1,
   "metadata": {},
   "outputs": [
    {
     "name": "stdout",
     "output_type": "stream",
     "text": [
      "Versão da Linguagem Python Usada Neste Jupyter Notebook: 3.9.18\n"
     ]
    }
   ],
   "source": [
    "# Versão da Linguagem Python\n",
    "from platform import python_version\n",
    "print('Versão da Linguagem Python Usada Neste Jupyter Notebook:', python_version())"
   ]
  },
  {
   "cell_type": "code",
   "execution_count": null,
   "metadata": {},
   "outputs": [],
   "source": [
    "# Para atualizar um pacote, execute o comando abaixo no terminal ou prompt de comando:\n",
    "# pip install -U nome_pacote\n",
    "\n",
    "# Para instalar a versão exata de um pacote, execute o comando abaixo no terminal ou prompt de comando:\n",
    "# !pip install nome_pacote==versão_desejada\n",
    "\n",
    "# Depois de instalar ou atualizar o pacote, reinicie o jupyter notebook.\n",
    "\n",
    "# Instala o pacote watermark. \n",
    "# Esse pacote é usado para gravar as versões de outros pacotes usados neste jupyter notebook.\n",
    "# !pip install -q -U watermark"
   ]
  },
  {
   "cell_type": "markdown",
   "metadata": {},
   "source": [
    "## Teste Mann-Whitney\n",
    "\n",
    "O Teste Mann-Whitney, também conhecido como Teste U de Mann-Whitney, é um teste estatístico  não  paramétrico  que  é  utilizado  para  comparar  duas  amostras  independentes."
   ]
  },
  {
   "cell_type": "markdown",
   "metadata": {},
   "source": [
    "### Exemplo 1\n",
    "\n",
    "Neste exemplo, geramos duas amostras hipotéticas (amostra1 e amostra2) e aplicamos o Teste Mann-Whitney utilizando a função mannwhitneyu da biblioteca SciPy. O resultado inclui a estatística U e o valor-p. O valor-p é utilizado para determinar se há diferença significativa entre as distribuições das duas amostras. \n",
    "\n",
    "Se o valor-p for menor que o nível de significância estabelecido (geralmente 0,05), rejeita-se a hipótese nula e conclui-se que as distribuições das duas amostras são significativamente diferentes. Caso contrário, não se pode rejeitar a hipótese nula."
   ]
  },
  {
   "cell_type": "code",
   "execution_count": 2,
   "metadata": {},
   "outputs": [
    {
     "name": "stdout",
     "output_type": "stream",
     "text": [
      "Estatística U: 38.0\n",
      "Valor-p: 0.5737373737373737\n"
     ]
    }
   ],
   "source": [
    "# Imports\n",
    "import numpy as np\n",
    "from scipy.stats import mannwhitneyu\n",
    "\n",
    "# Exemplo de duas amostras independentes\n",
    "amostra1 = np.array([3, 5, 7, 9, 11, 15, 18, 21])\n",
    "amostra2 = np.array([1, 4, 6, 8, 10, 12, 14, 16])\n",
    "\n",
    "# H0: As distribuições das amostras são iguais\n",
    "# H1: As distribuições das amostras são significativamente diferentes\n",
    "\n",
    "# Realiza o Teste Mann-Whitney\n",
    "resultado = mannwhitneyu(amostra1, amostra2)\n",
    "\n",
    "# Exibe o resultado\n",
    "print(\"Estatística U:\", resultado.statistic)\n",
    "print(\"Valor-p:\", resultado.pvalue)"
   ]
  },
  {
   "cell_type": "markdown",
   "metadata": {},
   "source": [
    "**Conclusão do Exemplo 1:** O valor-p é maior que o nível de significância, logo não podemos rejeitar a H0. As distribuições das amostras, provavelmente, são iguais."
   ]
  },
  {
   "cell_type": "markdown",
   "metadata": {},
   "source": [
    "### Exemplo 2\n",
    "\n",
    "Neste exemplo, geramos duas amostras com distribuições normais distintas: amostra1 possui média 10 e desvio padrão 3, enquanto amostra2 possui média 14 e desvio padrão 2. Em seguida, aplicamos o Teste Mann-Whitney utilizando a função mannwhitneyu e exibimos os resultados.\n",
    "\n",
    "Além disso, usamos a biblioteca Matplotlib para criar um histograma das duas amostras, a fim de visualizar as distribuições e verificar se são distintas.\n",
    "\n",
    "O valor-p resultante do Teste Mann-Whitney pode ser usado para avaliar se as duas amostras têm distribuições significativamente diferentes, considerando um nível de significância preestabelecido (como 0,05). Se o valor-p for menor que o nível de significância, rejeita-se a hipótese nula e conclui-se que as distribuições são significativamente diferentes."
   ]
  },
  {
   "cell_type": "code",
   "execution_count": 3,
   "metadata": {},
   "outputs": [
    {
     "name": "stdout",
     "output_type": "stream",
     "text": [
      "Estatística U: 243.0\n",
      "Valor-p: 4.6008399005444884e-14\n"
     ]
    },
    {
     "data": {
      "image/png": "[encoded data removed]",
      "text/plain": [
       "<Figure size 640x480 with 1 Axes>"
      ]
     },
     "metadata": {},
     "output_type": "display_data"
    }
   ],
   "source": [
    "# Imports\n",
    "import numpy as np\n",
    "from scipy.stats import mannwhitneyu\n",
    "import matplotlib.pyplot as plt\n",
    "\n",
    "# Gera duas amostras com distribuições diferentes\n",
    "np.random.seed(42)\n",
    "amostra1 = np.random.normal(loc = 10, scale = 3, size = 50)\n",
    "amostra2 = np.random.normal(loc = 14, scale = 2, size = 60)\n",
    "\n",
    "# H0: As distribuições das amostras são iguais\n",
    "# H1: As distribuições das amostras são significativamente diferentes\n",
    "\n",
    "# Realiza o Teste Mann-Whitney\n",
    "resultado = mannwhitneyu(amostra1, amostra2)\n",
    "\n",
    "# Exibe o resultado\n",
    "print(\"Estatística U:\", resultado.statistic)\n",
    "print(\"Valor-p:\", resultado.pvalue)\n",
    "\n",
    "# Visualiza as distribuições das amostras\n",
    "plt.hist(amostra1, bins=10, alpha=0.5, label=\"Amostra 1\")\n",
    "plt.hist(amostra2, bins=10, alpha=0.5, label=\"Amostra 2\")\n",
    "plt.xlabel(\"Valores\")\n",
    "plt.ylabel(\"Frequência\")\n",
    "plt.legend(loc=\"upper right\")\n",
    "plt.show()"
   ]
  },
  {
   "cell_type": "markdown",
   "metadata": {},
   "source": [
    "**Conclusão do Exemplo 2:** O valor-p é menor que o nível de significância, logo podemos rejeitar a H0. As distribuições das amostras, provavelmente, são diferentes."
   ]
  },
  {
   "cell_type": "markdown",
   "metadata": {},
   "source": [
    "## Teste Kruskal-Wallis\n",
    "\n",
    "O teste de Kruskal-Wallis é um exemplo de teste não paramétrico usado como alternativa à ANOVA. Ele compara as distribuições de três ou mais grupos independentes, semelhante ao teste de Mann-Whitney. O teste de Kruskal-Wallis não assume normalidade dos dados nem homocedasticidade, tornando-se uma opção mais robusta em comparação à ANOVA quando os pressupostos não são atendidos."
   ]
  },
  {
   "cell_type": "markdown",
   "metadata": {},
   "source": [
    "### Exemplo 1\n",
    "\n",
    "Neste exemplo, utilizamos três amostras hipotéticas e aplicamos o Teste de Kruskal-Wallis usando a função kruskal da biblioteca SciPy. O resultado inclui a estatística H e o valor-p. O valor-p é utilizado para determinar se há diferença significativa entre as distribuições das amostras. Se o valor-p for menor que o nível de significância estabelecido (geralmente 0,05), rejeita-se a hipótese nula e conclui-se que as distribuições das amostras são significativamente diferentes. Caso contrário, não se pode rejeitar a hipótese nula."
   ]
  },
  {
   "cell_type": "code",
   "execution_count": 4,
   "metadata": {},
   "outputs": [
    {
     "name": "stdout",
     "output_type": "stream",
     "text": [
      "Estátistica H: 0.48584494773519105\n",
      "Valor-p: 0.784332317665689\n"
     ]
    }
   ],
   "source": [
    "# Imports\n",
    "import numpy as np\n",
    "from scipy.stats import kruskal\n",
    "\n",
    "# Exemplo de três amostras independentes\n",
    "amostra1 = np.array([3, 5, 7, 9, 11, 15, 18, 21])\n",
    "amostra2 = np.array([1, 4, 6, 8, 10, 12, 14, 16])\n",
    "amostra3 = np.array([2, 3, 5, 7, 11, 13, 17, 19])\n",
    "\n",
    "# H0: As distribuições das amostras são iguais\n",
    "# H1: As distribuições das amostras são significativamente diferentes\n",
    "\n",
    "# Realiza o Teste de Kruskal-Wallis\n",
    "resultado = kruskal(amostra1, amostra2, amostra3)\n",
    "\n",
    "# Exibe o resultado\n",
    "print(\"Estátistica H:\", resultado.statistic)\n",
    "print(\"Valor-p:\", resultado.pvalue)"
   ]
  },
  {
   "cell_type": "markdown",
   "metadata": {},
   "source": [
    "**Conclusão do Exemplo 1:** O valor-p é maior que o nível de significância, logo não podemos rejeitar a H0. Não há diferença significativa entre as distribuições das amostras."
   ]
  },
  {
   "cell_type": "markdown",
   "metadata": {},
   "source": [
    "### Exemplo 2\n",
    "\n",
    "Neste exemplo, geramos três amostras com distribuições normais distintas: amostra1 possui média 10 e desvio padrão 3, amostra2 possui média 15 e desvio padrão 2, e amostra3 possui média 18 e desvio padrão 4. Em seguida, aplicamos o Teste de Kruskal-Wallis utilizando a função kruskal e exibimos os resultados.\n",
    "\n",
    "Além disso, usamos a biblioteca Matplotlib para criar um histograma das três amostras, a fim de visualizar as distribuições e verificar se são distintas.\n",
    "\n",
    "O valor-p resultante do Teste de Kruskal-Wallis pode ser usado para avaliar se as três amostras têm distribuições significativamente diferentes, considerando um nível de significância preestabelecido (como 0,05). Se o valor-p for menor que o nível de significância, rejeita-se a hipótese nula e conclui-se que as distribuições são significativamente diferentes."
   ]
  },
  {
   "cell_type": "code",
   "execution_count": 5,
   "metadata": {},
   "outputs": [
    {
     "name": "stdout",
     "output_type": "stream",
     "text": [
      "Estatística H: 64.19345911949694\n",
      "Valor-p: 1.1496548215758738e-14\n"
     ]
    },
    {
     "data": {
      "image/png": "[encoded data removed]",
      "text/plain": [
       "<Figure size 640x480 with 1 Axes>"
      ]
     },
     "metadata": {},
     "output_type": "display_data"
    }
   ],
   "source": [
    "# Imports\n",
    "import numpy as np\n",
    "from scipy.stats import kruskal\n",
    "import matplotlib.pyplot as plt\n",
    "\n",
    "# Gera três amostras com distribuições diferentes\n",
    "np.random.seed(42)\n",
    "amostra1 = np.random.normal(loc=10, scale=3, size=30)\n",
    "amostra2 = np.random.normal(loc=15, scale=2, size=35)\n",
    "amostra3 = np.random.normal(loc=18, scale=4, size=40)\n",
    "\n",
    "# H0: As distribuições das amostras não são significativamente diferentes\n",
    "# H1: As distribuições das amostras são significativamente diferentes\n",
    "\n",
    "# Realiza o Teste de Kruskal-Wallis\n",
    "resultado = kruskal(amostra1, amostra2, amostra3)\n",
    "\n",
    "# Exibe o resultado\n",
    "print(\"Estatística H:\", resultado.statistic)\n",
    "print(\"Valor-p:\", resultado.pvalue)\n",
    "\n",
    "# Visualiza as distribuições das amostras\n",
    "plt.hist(amostra1, bins=10, alpha=0.5, label=\"Amostra 1\")\n",
    "plt.hist(amostra2, bins=10, alpha=0.5, label=\"Amostra 2\")\n",
    "plt.hist(amostra3, bins=10, alpha=0.5, label=\"Amostra 3\")\n",
    "plt.xlabel(\"Valores\")\n",
    "plt.ylabel(\"Frequência\")\n",
    "plt.legend(loc=\"upper right\")\n",
    "plt.show()"
   ]
  },
  {
   "cell_type": "code",
   "execution_count": 6,
   "metadata": {},
   "outputs": [
    {
     "name": "stdout",
     "output_type": "stream",
     "text": [
      "\u001b[31mERROR: pip's dependency resolver does not currently take into account all the packages that are installed. This behaviour is the source of the following dependency conflicts.\n",
      "gluonts 0.13.2 requires pydantic~=1.7, but you have pydantic 2.5.3 which is incompatible.\n",
      "pymc3 3.11.5 requires numpy<1.22.2,>=1.15.0, but you have numpy 1.26.4 which is incompatible.\n",
      "pymc3 3.11.5 requires scipy<1.8.0,>=1.7.3, but you have scipy 1.12.0 which is incompatible.\u001b[0m\u001b[31m\n",
      "\u001b[0m\n",
      "\u001b[1m[\u001b[0m\u001b[34;49mnotice\u001b[0m\u001b[1;39;49m]\u001b[0m\u001b[39;49m A new release of pip is available: \u001b[0m\u001b[31;49m23.3.2\u001b[0m\u001b[39;49m -> \u001b[0m\u001b[32;49m24.0\u001b[0m\n",
      "\u001b[1m[\u001b[0m\u001b[34;49mnotice\u001b[0m\u001b[1;39;49m]\u001b[0m\u001b[39;49m To update, run: \u001b[0m\u001b[32;49mpip install --upgrade pip\u001b[0m\n"
     ]
    }
   ],
   "source": [
    "!pip install -q scikit-posthocs"
   ]
  },
  {
   "cell_type": "markdown",
   "metadata": {},
   "source": [
    "**Conclusão do Exemplo 2:** O valor-p é menor que o nível de significância, logo podemos rejeitar a H0. As distribuições das amostras, provavelmente, são diferentes."
   ]
  },
  {
   "cell_type": "markdown",
   "metadata": {},
   "source": [
    "## Dunn’s Test"
   ]
  },
  {
   "cell_type": "markdown",
   "metadata": {},
   "source": [
    "O teste de Dunn é um teste estatístico não paramétrico usado para análise post-hoc após um teste de Kruskal-Wallis. Quando o teste de Kruskal-Wallis rejeita a hipótese nula, indicando diferenças significativas entre três ou mais grupos, o teste de Dunn é usado para identificar quais pares de grupos têm diferenças significativas. O teste de Dunn é uma alternativa ao teste de comparações múltiplas de Tukey (HSD) usado na análise post-hoc após ANOVA."
   ]
  },
  {
   "cell_type": "markdown",
   "metadata": {},
   "source": [
    "Neste exemplo, geramos três amostras com distribuições normais distintas e realizamos o Teste de Kruskal-Wallis. Se o resultado do Teste de Kruskal-Wallis rejeitar a hipótese nula (valor-p < 0,05), prosseguimos com o Teste de Dunn usando a função posthoc_dunn da biblioteca scikit-posthocs.\n",
    "\n",
    "O resultado do teste de Dunn é uma matriz que mostra os valores-p corrigidos para cada par de comparações entre os grupos. A correção de Bonferroni é aplicada para ajustar os valores-p, levando em consideração o problema das comparações múltiplas. Se o valor-p corrigido para uma comparação específica for menor que o nível de significância estabelecido (geralmente 0,05), conclui-se que há uma diferença."
   ]
  },
  {
   "cell_type": "code",
   "execution_count": 7,
   "metadata": {},
   "outputs": [
    {
     "name": "stdout",
     "output_type": "stream",
     "text": [
      "\n",
      "\u001b[1m[\u001b[0m\u001b[34;49mnotice\u001b[0m\u001b[1;39;49m]\u001b[0m\u001b[39;49m A new release of pip is available: \u001b[0m\u001b[31;49m23.3.2\u001b[0m\u001b[39;49m -> \u001b[0m\u001b[32;49m24.0\u001b[0m\n",
      "\u001b[1m[\u001b[0m\u001b[34;49mnotice\u001b[0m\u001b[1;39;49m]\u001b[0m\u001b[39;49m To update, run: \u001b[0m\u001b[32;49mpip install --upgrade pip\u001b[0m\n"
     ]
    }
   ],
   "source": [
    "!pip install -q scikit-posthocs"
   ]
  },
  {
   "cell_type": "code",
   "execution_count": 8,
   "metadata": {},
   "outputs": [
    {
     "name": "stdout",
     "output_type": "stream",
     "text": [
      "Estatítica H: 64.19345911949694\n",
      "Valor-p: 1.1496548215758738e-14\n",
      "              Amostra 1  Amostra 2     Amostra 3\n",
      "Amostra 1  1.000000e+00   0.000013  3.446265e-15\n",
      "Amostra 2  1.258889e-05   1.000000  1.935620e-03\n",
      "Amostra 3  3.446265e-15   0.001936  1.000000e+00\n"
     ]
    }
   ],
   "source": [
    "# Imports\n",
    "import numpy as np\n",
    "import pandas as pd\n",
    "from scipy.stats import kruskal\n",
    "import scikit_posthocs as sp\n",
    "\n",
    "# Gera três amostras com distribuições diferentes\n",
    "np.random.seed(42)\n",
    "amostra1 = np.random.normal(loc=10, scale=3, size=30)\n",
    "amostra2 = np.random.normal(loc=15, scale=2, size=35)\n",
    "amostra3 = np.random.normal(loc=18, scale=4, size=40)\n",
    "\n",
    "# Realiza o Teste de Kruskal-Wallis\n",
    "resultado = kruskal(amostra1, amostra2, amostra3)\n",
    "print(\"Estatítica H:\", resultado.statistic)\n",
    "print(\"Valor-p:\", resultado.pvalue)\n",
    "\n",
    "# Se o Teste de Kruskal-Wallis rejeitar a hipótese nula, realiza o Teste de Dunn\n",
    "if resultado.pvalue < 0.05:\n",
    "    \n",
    "    # Combina as amostras em um único DataFrame\n",
    "    df1 = pd.DataFrame({\"Valores\": amostra1, \"Grupo\": \"Amostra 1\"})\n",
    "    df2 = pd.DataFrame({\"Valores\": amostra2, \"Grupo\": \"Amostra 2\"})\n",
    "    df3 = pd.DataFrame({\"Valores\": amostra3, \"Grupo\": \"Amostra 3\"})\n",
    "    dados = pd.concat([df1, df2, df3])\n",
    "\n",
    "    # Realiza o Teste de Dunn\n",
    "    resultado_dunn = sp.posthoc_dunn(dados, val_col=\"Valores\", group_col=\"Grupo\", p_adjust=\"bonferroni\")\n",
    "    print(resultado_dunn)\n",
    "    "
   ]
  },
  {
   "cell_type": "markdown",
   "metadata": {},
   "source": [
    "## Estatística Spearman Rank"
   ]
  },
  {
   "cell_type": "markdown",
   "metadata": {},
   "source": [
    "### Exemplo 1\n",
    "\n",
    "Neste exemplo, criamos duas variáveis x e y, e utilizamos a função spearmanr da biblioteca SciPy para calcular o coeficiente de correlação de Spearman e o valor-p associado. O valor-p pode ser usado para testar a hipótese nula de que a correlação de Spearman entre as duas variáveis é zero. Se o valor-p for menor que o nível de significância estabelecido (geralmente 0,05), rejeita-se a hipótese nula e conclui-se que existe uma correlação significativa entre as variáveis."
   ]
  },
  {
   "cell_type": "code",
   "execution_count": 9,
   "metadata": {},
   "outputs": [
    {
     "name": "stdout",
     "output_type": "stream",
     "text": [
      "Coeficiente de correlação de Spearman: 1.0\n",
      "Valor-p: 0.0\n"
     ]
    }
   ],
   "source": [
    "# Imports\n",
    "import numpy as np\n",
    "from scipy.stats import spearmanr\n",
    "\n",
    "# Exemplo de dados\n",
    "x = np.array([1, 2, 3, 4, 5, 6, 7, 8, 9])\n",
    "y = np.array([2, 3, 4, 5, 6, 7, 8, 9, 10])\n",
    "\n",
    "# Calcula a correlação de Spearman\n",
    "coeficiente, p_valor = spearmanr(x, y)\n",
    "\n",
    "# Exibe o resultado\n",
    "print(\"Coeficiente de correlação de Spearman:\", coeficiente)\n",
    "print(\"Valor-p:\", p_valor)\n"
   ]
  },
  {
   "cell_type": "markdown",
   "metadata": {},
   "source": [
    "### Exemplo 2\n",
    "\n",
    "Neste exemplo, geramos duas variáveis x e y, onde y é uma função linear de x com ruído gaussiano adicionado. Além disso, adicionamos um ruído não linear usando a função seno para tornar a relação entre x e y menos linear.\n",
    "\n",
    "Calculamos a correlação de Spearman entre as variáveis usando a função spearmanr da biblioteca SciPy e exibimos o coeficiente de correlação e o valor-p. Em seguida, usamos a biblioteca Matplotlib para criar um gráfico de dispersão das variáveis, mostrando a relação entre elas.\n",
    "\n",
    "A correlação de Spearman neste exemplo será capaz de capturar a relação monotônica entre as variáveis, apesar da relação não ser estritamente linear."
   ]
  },
  {
   "cell_type": "code",
   "execution_count": 11,
   "metadata": {},
   "outputs": [
    {
     "name": "stdout",
     "output_type": "stream",
     "text": [
      "Coeficiente de correlação de Spearman: 0.30741074107410743\n",
      "Valor-p 0.0018635411537042527\n"
     ]
    },
    {
     "data": {
      "text/plain": [
       "Text(0.5, 1.0, 'Relação entre X e Y com correlação de Spearman 0.31')"
      ]
     },
     "execution_count": 11,
     "metadata": {},
     "output_type": "execute_result"
    },
    {
     "data": {
      "image/png": "[encoded data removed]",
      "text/plain": [
       "<Figure size 640x480 with 1 Axes>"
      ]
     },
     "metadata": {},
     "output_type": "display_data"
    }
   ],
   "source": [
    "# Imports\n",
    "import numpy as np\n",
    "import pandas as pd\n",
    "from scipy.stats import spearmanr\n",
    "import matplotlib.pyplot as plt\n",
    "\n",
    "# Gera dados aleatórios\n",
    "np.random.seed(42)\n",
    "x = np.random.normal(loc=10, scale=3, size=100)\n",
    "y = 2 * x + 3 + np.random.normal(loc=0, scale=5, size=100)\n",
    "\n",
    "# Adiciona ruído não linear para tornar a relação menos linear\n",
    "y = y + 10 * np.sin(x)\n",
    "\n",
    "# Calcula a correlação de Spearman\n",
    "coeficiente, p_valor = spearmanr(x, y)\n",
    "\n",
    "# Exibe o resultado\n",
    "print(\"Coeficiente de correlação de Spearman:\", coeficiente)\n",
    "print(\"Valor-p\", p_valor)\n",
    "\n",
    "# Visualiza a relação entre as variáveis\n",
    "plt.scatter(x, y, alpha=0.5)\n",
    "plt.xlabel(\"X\")\n",
    "plt.ylabel(\"Y\")\n",
    "plt.title(\"Relação entre X e Y com correlação de Spearman {:.2f}\".format(coeficiente))"
   ]
  },
  {
   "cell_type": "code",
   "execution_count": 12,
   "metadata": {},
   "outputs": [
    {
     "name": "stdout",
     "output_type": "stream",
     "text": [
      "Author: Data Science Academy\n",
      "\n",
      "matplotlib     : 3.8.2\n",
      "pandas         : 2.0.3\n",
      "scikit_posthocs: 0.9.0\n",
      "numpy          : 1.26.4\n",
      "\n"
     ]
    }
   ],
   "source": [
    "# Versões dos pacotes usados neste jupyter notebook\n",
    "%reload_ext watermark\n",
    "%watermark -a \"Data Science Academy\" --iversions"
   ]
  },
  {
   "cell_type": "markdown",
   "metadata": {},
   "source": [
    "# Fim"
   ]
  }
 ],
 "metadata": {
  "colab": {
   "collapsed_sections": [
    "Km-PPppD6ecu"
   ],
   "name": "Analyze_ab_test_results_notebook.ipynb",
   "provenance": []
  },
  "kernelspec": {
   "display_name": "Python 3 (ipykernel)",
   "language": "python",
   "name": "python3"
  },
  "language_info": {
   "codemirror_mode": {
    "name": "ipython",
    "version": 3
   },
   "file_extension": ".py",
   "mimetype": "text/x-python",
   "name": "python",
   "nbconvert_exporter": "python",
   "pygments_lexer": "ipython3",
   "version": "3.9.18"
  },
  "vscode": {
   "interpreter": {
    "hash": "495ea94611aaceeb69760baf3d5aae885e1a594ff5e369c87eccf4be1e364dd3"
   }
  }
 },
 "nbformat": 4,
 "nbformat_minor": 1
}
